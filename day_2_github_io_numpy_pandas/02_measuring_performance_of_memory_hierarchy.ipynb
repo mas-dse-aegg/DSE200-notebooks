{
 "cells": [
  {
   "cell_type": "code",
   "execution_count": null,
   "metadata": {
    "collapsed": false
   },
   "outputs": [],
   "source": [
    "%pylab inline"
   ]
  },
  {
   "cell_type": "code",
   "execution_count": null,
   "metadata": {
    "collapsed": false
   },
   "outputs": [],
   "source": [
    "import time\n",
    "def measureRandomAccess(size,filename='',k=100000):\n",
    "    \"\"\" Measure the distribution of random accesses in computer memory.\n",
    "    size=size of memory block.\n",
    "    filename= a file that is used as an external buffer. If filename=='' then everything is done in memory.\n",
    "    k = number of times that the experiment is repeated.\n",
    "    output:\n",
    "    mean = the mean of T\n",
    "    std = the std of T\n",
    "    T = a list the contains the times of all k experiments\n",
    "    \"\"\"\n",
    "    # Prepare buffer.\n",
    "    if filename == '':\n",
    "        inmem=True\n",
    "        A=bytearray(size)\n",
    "    else:\n",
    "        inmem=False\n",
    "        file=open(filename,'r+')\n",
    "        \n",
    "    # Read and write k times from/to buffer.\n",
    "    sum=0; sum2=0\n",
    "    T=np.zeros(k)\n",
    "    for i in range(k):\n",
    "        if (i%10000==0): print i,',',\n",
    "        t=time.time()\n",
    "        loc=int(rand()*size)\n",
    "        if inmem:\n",
    "            x=A[loc:loc+4]\n",
    "            A[loc]=(i % 256)\n",
    "        else:\n",
    "            file.seek(loc)\n",
    "            poke=file.read(1)\n",
    "            file.write(\"test\")\n",
    "        d=time.time()-t\n",
    "        T[i]=d\n",
    "        sum += d\n",
    "        sum2 += d*d\n",
    "    mean=sum/k; var=(sum2/k)-mean**2; std=sqrt(var)\n",
    "    return (mean,std,T)"
   ]
  },
  {
   "cell_type": "code",
   "execution_count": null,
   "metadata": {
    "collapsed": false
   },
   "outputs": [],
   "source": [
    "from matplotlib.backends.backend_pdf import PdfPages\n",
    "from scipy.special import erf,erfinv\n",
    "\n",
    "def PlotTime(Tsorted,Mean,Std,Color='b',LS='-',Legend=''):\n",
    "    \"\"\" plot distribution of times on a log-log scale\"\"\"\n",
    "    P=arange(1,0,-1.0/k)    # probability \n",
    "    loglog(Tsorted,P,color=Color,label=Legend,linestyle=LS)                 # plot log-log of 1-CDF \n",
    "    \n",
    "    grid()\n",
    "    loglog([Mean,Mean],[1,0.0001],color=Color,linestyle=LS)           # vert line at mean\n",
    "    Y=0.1**((m_i+1.)/2.)\n",
    "    loglog([Mean,min(Mean+Std,1)],[Y,Y],color=Color,linestyle=LS) # horiz line from mean to mean + std\n",
    "        \n",
    "    x=arange(Mean,Mean+Std*erfinv(1.0-1.0/len(Tsorted)),Std/100)  # normal distribution \n",
    "    loglog(x,1-erf((x-Mean)/Std),color=Color,linestyle=LS)"
   ]
  },
  {
   "cell_type": "code",
   "execution_count": null,
   "metadata": {
    "collapsed": false
   },
   "outputs": [],
   "source": [
    "n=1000000 # size of single block (1MB)\n",
    "m_list=[1,10,100,1000] #,10000] # size of file in blocks\n",
    "m=None\n",
    "k=100000;\n",
    "L=len(m_list)\n",
    "#print 'n=%d, m=%d,k=%d, m_list=' % (n,m,k),m_list\n",
    "\n",
    "from os.path import isfile,isdir\n",
    "from os import mkdir\n",
    "import os\n",
    "root=os.environ['HOME']\n",
    "log_root=root+'/logs'\n",
    "if not isdir(log_root): mkdir(log_root)\n",
    "TimeStamp=str(int(time.time()))\n",
    "log_dir=log_root+'/'+TimeStamp\n",
    "mkdir(log_dir)\n",
    "%cd $log_dir\n",
    "stat=open('stats.txt','w')\n",
    "\n",
    "def tee(line):\n",
    "    print line\n",
    "    stat.write(line+'\\n')"
   ]
  },
  {
   "cell_type": "code",
   "execution_count": null,
   "metadata": {
    "collapsed": false
   },
   "outputs": [],
   "source": [
    "!ls -lh"
   ]
  },
  {
   "cell_type": "code",
   "execution_count": null,
   "metadata": {
    "collapsed": false
   },
   "outputs": [],
   "source": [
    "def create_file(n,m,filename='DataBlock'):\n",
    "    t1=time.time()\n",
    "    A=bytearray(n)\n",
    "    t2=time.time()\n",
    "    file=open(filename,'w')\n",
    "    for i in range(m):\n",
    "        file.write(A)\n",
    "        if i % 100 == 0:\n",
    "            print i,\",\",\n",
    "    file.close()\n",
    "    t3=time.time()\n",
    "    tee('\\ncreating %d byte block: %f sec, writing %d blocks %f sec' % (n,t2-t1,m,t3-t2))\n",
    "    return (t2-t1,t3-t2)\n",
    "\n",
    "mean=zeros([2,L])   #0: using disk, 1: using memory\n",
    "std=zeros([2,L])\n",
    "T=zeros([2,L,k])\n",
    "\n",
    "for m_i in range(len(m_list)):\n",
    "    \n",
    "    m=m_list[m_i]\n",
    "    (t_mem,t_disk) = create_file(n,m,filename='BlockData'+str(m))\n",
    "\n",
    "    (mean[0,m_i],std[0,m_i],T[0,m_i]) = measureRandomAccess(n*m,filename='BlockData'+str(m),k=k)\n",
    "    tee('\\nFile pokes mean='+str(mean[0,m_i])+', file std='+str(std[0,m_i]))\n",
    "\n",
    "    (mean[1,m_i],std[1,m_i],T[1,m_i]) = measureRandomAccess(n*m,k=k)\n",
    "    tee('\\nMemory pokes mean='+str(mean[1,m_i])+', file std='+str(std[1,m_i]))\n",
    "\n",
    "pp = PdfPages('MemoryFigure.pdf')\n",
    "figure(figsize=(6,4))\n",
    "\n",
    "Colors='bgrcmyk'  # The colors for the plot\n",
    "LineStyles=['-',':']\n",
    "Legends=['F','M']\n",
    "\n",
    "fig = matplotlib.pyplot.gcf()\n",
    "fig.set_size_inches(18.5,10.5)\n",
    "\n",
    "for m_i in range(len(m_list)):\n",
    "    Color=Colors[m_i % len(Colors)]\n",
    "    for Type in [0,1]:\n",
    "        PlotTime(sort(T[Type,m_i]),mean[Type,m_i],std[Type,m_i],\n",
    "                 Color=Color,LS=LineStyles[Type],Legend=('%dMB-' % m_list[m_i])+Legends[Type])\n",
    "\n",
    "grid()\n",
    "legend(fontsize='medium')\n",
    "xlabel('delay (sec)')\n",
    "ylabel('1-CDF')\n",
    "pp.savefig()\n",
    "pp.close()"
   ]
  },
  {
   "cell_type": "code",
   "execution_count": null,
   "metadata": {
    "collapsed": false
   },
   "outputs": [],
   "source": [
    "import time\n",
    "\n",
    "Line='Consecutive Memory writes'\n",
    "print Line; stat.write(Line+'\\n')\n",
    "n=1000\n",
    "r=np.array(range(n))\n",
    "for m in [1,3,5,7,10,100,1000,10000,100000,1000000]:\n",
    "    t1=time.time()\n",
    "    A=np.repeat(r,m)\n",
    "    t2=time.time()\n",
    "    tee(\"array of length %d repeated %d times. total size=%6.3f MB, Time per element= %g\" % (n,m,float(n*m)/1000000,(t2-t1)/float(n*m)))\n",
    "A=[];r=[]\n",
    "stat.close()"
   ]
  },
  {
   "cell_type": "markdown",
   "metadata": {},
   "source": [
    "## Main Observations\n",
    "\n",
    "* If you write to consecutive locations, you have a per-byte time of around $10^{-8}$ if you jump around you can't do better than $10^{-6}$.\n",
    "* As you increase the size of the array/file random access speed decreases dramatically, while sequential access speed stays more or less constant.\n",
    "* The high latency tails are much bigger than what you'd expect from a normal distribution with the same mean and std.\n",
    "\n",
    "#### Impact on Big Data Analytics\n",
    "* Clock rate is stuck at around 3GHz, and is likely to be stuck there for the forseeable future.\n",
    "* **Faster** computers / disks / networks are **expensive** \n",
    "* The cost-effective solution is often a cluster of many cheap computers, each with many cores and break up the data so that each computer has a small fraction of the data.\n",
    "* Data-Centers and the \"Cloud\""
   ]
  },
  {
   "cell_type": "code",
   "execution_count": null,
   "metadata": {
    "collapsed": false
   },
   "outputs": [],
   "source": []
  }
 ],
 "metadata": {
  "kernelspec": {
   "display_name": "Python 2",
   "language": "python",
   "name": "python2"
  },
  "language_info": {
   "codemirror_mode": {
    "name": "ipython",
    "version": 2
   },
   "file_extension": ".py",
   "mimetype": "text/x-python",
   "name": "python",
   "nbconvert_exporter": "python",
   "pygments_lexer": "ipython2",
   "version": "2.7.9"
  }
 },
 "nbformat": 4,
 "nbformat_minor": 0
}
