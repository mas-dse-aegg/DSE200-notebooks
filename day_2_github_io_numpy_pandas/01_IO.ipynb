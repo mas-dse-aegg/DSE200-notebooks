{
 "cells": [
  {
   "cell_type": "code",
   "execution_count": 1,
   "metadata": {
    "collapsed": false
   },
   "outputs": [
    {
     "name": "stdout",
     "output_type": "stream",
     "text": [
      "Populating the interactive namespace from numpy and matplotlib\n"
     ]
    }
   ],
   "source": [
    "# This line loads into iPython the libraries needed to generate \n",
    "# graphics in-line\n",
    "%pylab inline"
   ]
  },
  {
   "cell_type": "markdown",
   "metadata": {},
   "source": [
    "# Using python packages\n",
    "Python code is organized in units called \"packages\". The central repository of public packages\n",
    "is [pypi](https://pypi.python.org/)\n",
    "\n",
    "Using a python library requires two steps:\n",
    "\n",
    "1. Installing the packages (and their dependencies)\n",
    "2. Importing the packages into the program"
   ]
  },
  {
   "cell_type": "markdown",
   "metadata": {},
   "source": [
    "## installing packages\n",
    "We use two package managers: pip and conda. Here we demonstrate the use pip. Conda is similar."
   ]
  },
  {
   "cell_type": "code",
   "execution_count": 2,
   "metadata": {
    "collapsed": false
   },
   "outputs": [
    {
     "name": "stdout",
     "output_type": "stream",
     "text": [
      "\r\n",
      "Usage:   \r\n",
      "  pip <command> [options]\r\n",
      "\r\n",
      "Commands:\r\n",
      "  install                     Install packages.\r\n",
      "  uninstall                   Uninstall packages.\r\n",
      "  freeze                      Output installed packages in requirements format.\r\n",
      "  list                        List installed packages.\r\n",
      "  show                        Show information about installed packages.\r\n",
      "  search                      Search PyPI for packages.\r\n",
      "  wheel                       Build wheels from your requirements.\r\n",
      "  help                        Show help for commands.\r\n",
      "\r\n",
      "General Options:\r\n",
      "  -h, --help                  Show help.\r\n",
      "  --isolated                  Run pip in an isolated mode, ignoring\r\n",
      "                              environment variables and user configuration.\r\n",
      "  -v, --verbose               Give more output. Option is additive, and can be\r\n",
      "                              used up to 3 times.\r\n",
      "  -V, --version               Show version and exit.\r\n",
      "  -q, --quiet                 Give less output.\r\n",
      "  --log <path>                Path to a verbose appending log.\r\n",
      "  --proxy <proxy>             Specify a proxy in the form\r\n",
      "                              [user:passwd@]proxy.server:port.\r\n",
      "  --retries <retries>         Maximum number of retries each connection should\r\n",
      "                              attempt (default 5 times).\r\n",
      "  --timeout <sec>             Set the socket timeout (default 15 seconds).\r\n",
      "  --exists-action <action>    Default action when a path already exists:\r\n",
      "                              (s)witch, (i)gnore, (w)ipe, (b)ackup.\r\n",
      "  --trusted-host <hostname>   Mark this host as trusted, even though it does\r\n",
      "                              not have valid or any HTTPS.\r\n",
      "  --cert <path>               Path to alternate CA bundle.\r\n",
      "  --client-cert <path>        Path to SSL client certificate, a single file\r\n",
      "                              containing the private key and the certificate\r\n",
      "                              in PEM format.\r\n",
      "  --cache-dir <dir>           Store the cache data in <dir>.\r\n",
      "  --no-cache-dir              Disable the cache.\r\n",
      "  --disable-pip-version-check\r\n",
      "                              Don't periodically check PyPI to determine\r\n",
      "                              whether a new version of pip is available for\r\n",
      "                              download. Implied with --no-index.\r\n"
     ]
    }
   ],
   "source": [
    "#get help on the pip command\n",
    "!pip -h"
   ]
  },
  {
   "cell_type": "code",
   "execution_count": 3,
   "metadata": {
    "collapsed": false
   },
   "outputs": [
    {
     "name": "stdout",
     "output_type": "stream",
     "text": [
      "appnope (0.1.0)\n",
      "backports.ssl-match-hostname (3.4.0.2)\n",
      "certifi (2015.9.6.2)\n",
      "decorator (4.0.2)\n",
      "funcsigs (0.4)\n",
      "functools32 (3.2.3.post2)\n",
      "gnureadline (6.3.3)\n",
      "ipykernel (4.0.3)\n",
      "ipython (4.0.0)\n",
      "ipython-genutils (0.1.0)\n",
      "ipywidgets (4.0.2)\n",
      "Jinja2 (2.8)\n",
      "jsonschema (2.5.1)\n",
      "jupyter (1.0.0)\n",
      "jupyter-client (4.0.0)\n",
      "jupyter-console (4.0.2)\n",
      "jupyter-core (4.0.4)\n",
      "MarkupSafe (0.23)\n",
      "matplotlib (1.4.3)\n",
      "mistune (0.7.1)\n",
      "mock (1.3.0)\n",
      "nbconvert (4.0.0)\n",
      "nbformat (4.0.0)\n",
      "nose (1.3.7)\n",
      "notebook (4.0.4)\n",
      "numpy (1.9.2)\n",
      "pandas (0.16.2)\n",
      "path.py (8.1.1)\n",
      "pbr (1.8.0)\n",
      "pexpect (3.3)\n",
      "pickleshare (0.5)\n",
      "pip (7.1.2)\n",
      "ptyprocess (0.5)\n",
      "Pygments (2.0.2)\n",
      "pyparsing (2.0.3)\n",
      "python-dateutil (2.4.2)\n",
      "pytz (2015.4)\n",
      "pyzmq (14.7.0)\n",
      "qtconsole (4.0.1)\n",
      "scikit-learn (0.16.1)\n",
      "scipy (0.16.0)\n",
      "setuptools (18.3.1)\n",
      "simplegeneric (0.8.1)\n",
      "six (1.9.0)\n",
      "terminado (0.5)\n",
      "tornado (4.2.1)\n",
      "traitlets (4.0.0)\n",
      "vboxapi (1.0)\n",
      "virtualenv (13.1.2)\n",
      "wheel (0.24.0)\n"
     ]
    }
   ],
   "source": [
    "# List the installed packages\n",
    "!pip list"
   ]
  },
  {
   "cell_type": "code",
   "execution_count": 5,
   "metadata": {
    "collapsed": false
   },
   "outputs": [],
   "source": [
    "# Show information regarding a specific package\n",
    "!pip show -v boto"
   ]
  },
  {
   "cell_type": "code",
   "execution_count": null,
   "metadata": {
    "collapsed": false
   },
   "outputs": [],
   "source": [
    "# Install a package\n",
    "!pip install boto"
   ]
  },
  {
   "cell_type": "code",
   "execution_count": null,
   "metadata": {
    "collapsed": false
   },
   "outputs": [],
   "source": [
    "# upgrade the package\n",
    "!pip install --upgrade boto"
   ]
  },
  {
   "cell_type": "markdown",
   "metadata": {},
   "source": [
    "**Note:** You would usually run the installation in a shell, rather than in iPython. This is for various reasons, one of which is that you often need root permission to install a package, which means that you need to use the command `sudo` in front of pip. i.e.\n",
    "\n",
    "  `sudo pip install --upgrade boto`\n",
    "\n",
    "Doing so requires entering a password, which is hard to do inside a notebook, and is not recommended because it leaves\n",
    "a trace of the password in an open file."
   ]
  },
  {
   "cell_type": "markdown",
   "metadata": {},
   "source": [
    "## Importing packages"
   ]
  },
  {
   "cell_type": "code",
   "execution_count": 6,
   "metadata": {
    "collapsed": false
   },
   "outputs": [],
   "source": [
    "import pylab"
   ]
  },
  {
   "cell_type": "markdown",
   "metadata": {},
   "source": [
    "To get the documentation about a package, put `\"?\"` after it"
   ]
  },
  {
   "cell_type": "code",
   "execution_count": 7,
   "metadata": {
    "collapsed": false
   },
   "outputs": [],
   "source": [
    "pylab?"
   ]
  },
  {
   "cell_type": "markdown",
   "metadata": {},
   "source": [
    "A package is a collection of objects (variables, classes, methods).\n",
    "\n",
    "To get a list of the objects defined in pylab, type `tab` after the `\".\"`"
   ]
  },
  {
   "cell_type": "code",
   "execution_count": 8,
   "metadata": {
    "collapsed": false
   },
   "outputs": [
    {
     "ename": "SyntaxError",
     "evalue": "invalid syntax (<ipython-input-8-99c9d24c421b>, line 1)",
     "output_type": "error",
     "traceback": [
      "\u001b[0;36m  File \u001b[0;32m\"<ipython-input-8-99c9d24c421b>\"\u001b[0;36m, line \u001b[0;32m1\u001b[0m\n\u001b[0;31m    pylab.\u001b[0m\n\u001b[0m          ^\u001b[0m\n\u001b[0;31mSyntaxError\u001b[0m\u001b[0;31m:\u001b[0m invalid syntax\n"
     ]
    }
   ],
   "source": [
    "pylab."
   ]
  },
  {
   "cell_type": "markdown",
   "metadata": {},
   "source": [
    "To get information about a particular method, put a question mark `\"?\"` after the full name of the method"
   ]
  },
  {
   "cell_type": "code",
   "execution_count": null,
   "metadata": {
    "collapsed": false
   },
   "outputs": [],
   "source": [
    "pylab.plot?"
   ]
  },
  {
   "cell_type": "code",
   "execution_count": 9,
   "metadata": {
    "collapsed": false
   },
   "outputs": [],
   "source": [
    "# to import pylab but use a shorter name\n",
    "import pylab as pl"
   ]
  },
  {
   "cell_type": "code",
   "execution_count": 10,
   "metadata": {
    "collapsed": false
   },
   "outputs": [
    {
     "data": {
      "text/plain": [
       "[<matplotlib.lines.Line2D at 0x10abcd890>]"
      ]
     },
     "execution_count": 10,
     "metadata": {},
     "output_type": "execute_result"
    },
    {
     "data": {
      "image/png": "[encoded data removed]",
      "text/plain": [
       "<matplotlib.figure.Figure at 0x10aaf6e50>"
      ]
     },
     "metadata": {},
     "output_type": "display_data"
    }
   ],
   "source": [
    " pl.plot([1,2,1,4])"
   ]
  },
  {
   "cell_type": "code",
   "execution_count": 11,
   "metadata": {
    "collapsed": false
   },
   "outputs": [
    {
     "data": {
      "text/plain": [
       "[<matplotlib.lines.Line2D at 0x10ad20090>]"
      ]
     },
     "execution_count": 11,
     "metadata": {},
     "output_type": "execute_result"
    },
    {
     "data": {
      "image/png": "[encoded data removed]",
      "text/plain": [
       "<matplotlib.figure.Figure at 0x10ab7db10>"
      ]
     },
     "metadata": {},
     "output_type": "display_data"
    }
   ],
   "source": [
    "# you can also import specific object directly into the current namespace\n",
    "from pylab import plot\n",
    "plot([1,3,1,3])"
   ]
  },
  {
   "cell_type": "code",
   "execution_count": null,
   "metadata": {
    "collapsed": false
   },
   "outputs": [],
   "source": [
    "# you can even import all objects into the current name space, \n",
    "# but beware of name colissions!\n",
    "from pylab import *"
   ]
  },
  {
   "cell_type": "markdown",
   "metadata": {},
   "source": [
    "# Data Input and Output"
   ]
  },
  {
   "cell_type": "code",
   "execution_count": null,
   "metadata": {
    "collapsed": false
   },
   "outputs": [],
   "source": [
    "%cd ../data/ThinkStatsData/\n",
    "!ls -F"
   ]
  },
  {
   "cell_type": "code",
   "execution_count": null,
   "metadata": {
    "collapsed": false
   },
   "outputs": [],
   "source": [
    "!cat survey.pl"
   ]
  },
  {
   "cell_type": "code",
   "execution_count": null,
   "metadata": {
    "collapsed": false
   },
   "outputs": [],
   "source": [
    "!cp survey.pl survey.tmp\n",
    "#To read or write to a file we need a file handle\n",
    "handle=open('survey.tmp','r+w')"
   ]
  },
  {
   "cell_type": "code",
   "execution_count": null,
   "metadata": {
    "collapsed": false
   },
   "outputs": [],
   "source": [
    "# 'r+w' means that the file is opened for both reading and writing. \n",
    "# For more information we check the documentation for \"open\"\n",
    "open?"
   ]
  },
  {
   "cell_type": "code",
   "execution_count": null,
   "metadata": {
    "collapsed": true
   },
   "outputs": [],
   "source": [
    "# Which leads us to documentation for \"file\"\n",
    "file?"
   ]
  },
  {
   "cell_type": "code",
   "execution_count": null,
   "metadata": {
    "collapsed": false
   },
   "outputs": [],
   "source": [
    "# read the file line by line and output the lines that contain the string 'class'\n",
    "\n",
    "i=0        # counts the detected lines\n",
    "for line in handle.readlines():\n",
    "    if 'class' in line:\n",
    "        print i,line,   # comma at the end because the line already contains <cr> at it's end.\n",
    "        i+=1\n",
    "handle.close()"
   ]
  },
  {
   "cell_type": "code",
   "execution_count": null,
   "metadata": {
    "collapsed": false
   },
   "outputs": [],
   "source": [
    "# read the file line by line and output the lines \n",
    "# that contain the string 'class'\n",
    "# and store the location of the beginning of such lines\n",
    "handle=open('survey.tmp','r+w')\n",
    "\n",
    "table=[]   # the locations of the start of the detected lines in the file\n",
    "i=0        # counts the detected lines\n",
    "c=0        # counts all the lines\n",
    "line='start'\n",
    "while line != '':\n",
    "    loc=handle.tell()\n",
    "    line=handle.readline()\n",
    "    if 'class' in line:\n",
    "        print i,line,   # comma at the end because the line already contains <cr> at it's end.\n",
    "        table.append((i,loc))\n",
    "        i=i+1\n",
    "handle.close()\n",
    "print table"
   ]
  },
  {
   "cell_type": "code",
   "execution_count": null,
   "metadata": {
    "collapsed": false
   },
   "outputs": [],
   "source": [
    "#we can jump from place to place in the file\n",
    "from string import strip\n",
    "handle=open('survey.tmp','r+w')\n",
    "for (i,loc) in table:\n",
    "    handle.seek(loc)\n",
    "    line=handle.readline()\n",
    "    print i,line,\n",
    "\n",
    "    #alter the line and write it back in.\n",
    "    line=line[:7]+'***'+line[10:]\n",
    "    handle.seek(loc)\n",
    "    handle.write(line)\n",
    "\n",
    "handle.close()"
   ]
  },
  {
   "cell_type": "markdown",
   "metadata": {},
   "source": [
    "### Random access vs. sequential access\n",
    "One can access file contents randomly, but there is a large penalty in terms of latency and latency variability.\n",
    "We will look into this later today."
   ]
  },
  {
   "cell_type": "markdown",
   "metadata": {},
   "source": [
    "# File formats\n",
    "The files we dealt with so far are plain text files. This is the format that is most portable, because you can always open\n",
    "a text file in a text editor or look at some lines using `head` or `tail`\n",
    "\n",
    "However, there are some important down sides to using text files:\n",
    "\n",
    "1. **Space inefficiency:** the number 12345678901234567890 requires 20 bytes of disk space to store in ascii, but only  8 bytes to store in binary format. Moreover, structured data such as digitized sound can be compressed by large factors with negligible error.\n",
    "1. **Self description vs. external description:** When we store data using ascii, we need to write two programs - an encoding program and a decoding program. This is a lot of additional work. By using **self-describing** data structures we can avoid this work altogether."
   ]
  },
  {
   "cell_type": "code",
   "execution_count": null,
   "metadata": {
    "collapsed": false
   },
   "outputs": [],
   "source": [
    "#the calculation of the number of bytes required \n",
    "from math import log\n",
    "(log(12345678901234567890)/log(2))/8"
   ]
  },
  {
   "cell_type": "markdown",
   "metadata": {},
   "source": [
    "## Binary file formats\n",
    "Binary files are written using the command `write` and read using the command `read`. Binary files lack the concept of **lines**, they only have positions. "
   ]
  },
  {
   "cell_type": "code",
   "execution_count": null,
   "metadata": {
    "collapsed": false
   },
   "outputs": [],
   "source": [
    "file=open('binaryFile','wb')\n",
    "buffer=bytearray(range(100,200))\n",
    "file.write(buffer)\n",
    "file.close()"
   ]
  },
  {
   "cell_type": "code",
   "execution_count": null,
   "metadata": {
    "collapsed": false
   },
   "outputs": [],
   "source": [
    "# printing the content of a binary file as text does not make much sense\n",
    "!head binaryFile"
   ]
  },
  {
   "cell_type": "code",
   "execution_count": null,
   "metadata": {
    "collapsed": false
   },
   "outputs": [],
   "source": [
    "file=open('binaryFile','rb')\n",
    "buffer2=bytearray(file.read())\n",
    "type(buffer2)\n",
    "S=','.join([str(i) for i in buffer2])\n",
    "print S\n",
    "print 'length as csv',len(S)\n",
    "file.close()\n",
    "print 'length of binary file=100 byte'\n",
    "!ls -l binaryFile"
   ]
  },
  {
   "cell_type": "markdown",
   "metadata": {},
   "source": [
    "## Self describing files\n",
    "We will cover two types of self-describing files:\n",
    "\n",
    "* The first are `pickle` files. This format is popular within the python environment and can store any python data structure. The encoded file is typically readable, but that is not the main feature.  \n",
    "* The second are `json`. This format came out of `javascript` and is used extensively over the web as a way to communicate complex data structure. It is a format that emphasizes readability and interoperability. It is now the de-facto standard for internet communication between programs."
   ]
  },
  {
   "cell_type": "code",
   "execution_count": null,
   "metadata": {
    "collapsed": false
   },
   "outputs": [],
   "source": [
    "# Lets define a complex data structure\n",
    "A={'first name':'Yoav',\n",
    "   'last name':'Freund',\n",
    "   'speaks':('English','Hebrew'),\n",
    "   'Research':{'Probability':7,\n",
    "               'bio-informatics':3,\n",
    "               'Data Science':2.1\n",
    "               },\n",
    "   'longList':numpy.zeros(10000)\n",
    "   }\n",
    "A"
   ]
  },
  {
   "cell_type": "code",
   "execution_count": null,
   "metadata": {
    "collapsed": false
   },
   "outputs": [],
   "source": [
    "# Lets store this data in a Pickle file\n",
    "import pickle\n",
    "pickle.dump(A,open('pickle.pkl','wb'))\n",
    "!ls -l pickle*"
   ]
  },
  {
   "cell_type": "markdown",
   "metadata": {},
   "source": [
    "### There are currently 3 different protocols which can be used for pickling.\n",
    "\n",
    "* Protocol version 0 is the original ASCII protocol and is backwards compatible with earlier versions of Python.\n",
    "* Protocol version 1 is the old binary format which is also compatible with earlier versions of Python.\n",
    "* Protocol version 2 was introduced in Python 2.3. It provides much more efficient pickling of new-style classes.\n"
   ]
  },
  {
   "cell_type": "code",
   "execution_count": null,
   "metadata": {
    "collapsed": false
   },
   "outputs": [],
   "source": [
    "pickle.dump(A,open('pickle0.pkl','wb'),0)\n",
    "pickle.dump(A,open('pickle1.pkl','wb'),1)\n",
    "pickle.dump(A,open('pickle2.pkl','wb'),2)\n",
    "!ls -l pickle*"
   ]
  },
  {
   "cell_type": "code",
   "execution_count": null,
   "metadata": {
    "collapsed": false
   },
   "outputs": [],
   "source": [
    "# only protocol 0 uses ascii, 1,2 generate smaller files\n",
    "!cat pickle.pkl"
   ]
  },
  {
   "cell_type": "markdown",
   "metadata": {},
   "source": [
    "## Pickling and compressing\n",
    "One useful combination is to use gzip to compress the pickled file. This way you get both the self description and the space reduction benefits. The main thing you lose is the readability of the stored file."
   ]
  },
  {
   "cell_type": "code",
   "execution_count": null,
   "metadata": {
    "collapsed": false
   },
   "outputs": [],
   "source": [
    "import gzip\n",
    "pickle.dump(A,gzip.open('picklez0.pkl','wb'),0)\n",
    "pickle.dump(A,gzip.open('picklez1.pkl','wb'),1)\n",
    "pickle.dump(A,gzip.open('picklez2.pkl','wb'),2)"
   ]
  },
  {
   "cell_type": "code",
   "execution_count": null,
   "metadata": {
    "collapsed": false
   },
   "outputs": [],
   "source": [
    "#loading the file back\n",
    "B=pickle.load(gzip.open('picklez2.pkl','rb'))\n",
    "B"
   ]
  },
  {
   "cell_type": "code",
   "execution_count": null,
   "metadata": {
    "collapsed": false
   },
   "outputs": [],
   "source": [
    "ls -l pickl*"
   ]
  },
  {
   "cell_type": "markdown",
   "metadata": {},
   "source": [
    "## JSON\n",
    "Using JSON is very similar to pickle, the results are more readable, but json cannot encode arbitrary python data types."
   ]
  },
  {
   "cell_type": "code",
   "execution_count": null,
   "metadata": {
    "collapsed": false
   },
   "outputs": [],
   "source": [
    "import json\n",
    "A['longList']='shortList'  # json cannot deal with numpy arrays\n",
    "json.dump(A,open('json.jsn','wb'))\n",
    "pickle.dump(A,open('json.pkl','wb'))"
   ]
  },
  {
   "cell_type": "code",
   "execution_count": null,
   "metadata": {
    "collapsed": false
   },
   "outputs": [],
   "source": [
    "!cat json.jsn"
   ]
  },
  {
   "cell_type": "code",
   "execution_count": null,
   "metadata": {
    "collapsed": false
   },
   "outputs": [],
   "source": [
    "#json is almost identical to the string generated by \"print\"\n",
    "print A"
   ]
  },
  {
   "cell_type": "code",
   "execution_count": null,
   "metadata": {
    "collapsed": false
   },
   "outputs": [],
   "source": [
    "B=json.load(open('json.jsn','rb'))\n",
    "B"
   ]
  },
  {
   "cell_type": "code",
   "execution_count": null,
   "metadata": {
    "collapsed": false
   },
   "outputs": [],
   "source": [
    "!ls -l json* pick*"
   ]
  },
  {
   "cell_type": "markdown",
   "metadata": {},
   "source": [
    "## Formatted printing\n",
    "Sometimes we want to print variables in a nicely formatted way. For this we use the command \"format-string'%(list of variables)"
   ]
  },
  {
   "cell_type": "code",
   "execution_count": null,
   "metadata": {
    "collapsed": false
   },
   "outputs": [],
   "source": [
    "A=[ (i,i*i) for i in range(10)]\n",
    "B=['even' if i%2==0 else 'odd' for i in range(10)]\n",
    "print A,B"
   ]
  },
  {
   "cell_type": "code",
   "execution_count": null,
   "metadata": {
    "collapsed": false
   },
   "outputs": [],
   "source": [
    "# To print this nicely, one line per number, we can use the following \n",
    "for i in range(10):\n",
    "    print \"%1d is %5s, and its square is %d\"%(A[i][0],B[i],A[i][1])\n",
    "#the %5s element pads the string to be of length 5, which guarantees that the columns will be aligned"
   ]
  },
  {
   "cell_type": "markdown",
   "metadata": {
    "collapsed": false
   },
   "source": [
    "For more information about formatting, see this page: https://docs.python.org/2/library/stdtypes.html#string-formatting"
   ]
  },
  {
   "cell_type": "code",
   "execution_count": null,
   "metadata": {
    "collapsed": true
   },
   "outputs": [],
   "source": []
  },
  {
   "cell_type": "code",
   "execution_count": null,
   "metadata": {
    "collapsed": true
   },
   "outputs": [],
   "source": []
  }
 ],
 "metadata": {
  "kernelspec": {
   "display_name": "Python 2",
   "language": "python",
   "name": "python2"
  },
  "language_info": {
   "codemirror_mode": {
    "name": "ipython",
    "version": 2
   },
   "file_extension": ".py",
   "mimetype": "text/x-python",
   "name": "python",
   "nbconvert_exporter": "python",
   "pygments_lexer": "ipython2",
   "version": "2.7.10"
  }
 },
 "nbformat": 4,
 "nbformat_minor": 0
}
