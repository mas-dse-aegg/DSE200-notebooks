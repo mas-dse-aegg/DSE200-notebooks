{
 "cells": [
  {
   "cell_type": "markdown",
   "metadata": {},
   "source": [
    "# Week 2 Exercises\n",
    "\n",
    "In this weeks exercises you will use Numpy/Scipy to impliment some numerical algorithms and then you will use Pandas to perform a rudamentary data analysis using the KDD 98 dataset.  Along the way you will use unix/basic python from the first week as well as git to save your work.\n",
    "\n",
    "As a first step we import the libraries we'll use later on.  This allows us to use numpy library calls by prefixing the call with np."
   ]
  },
  {
   "cell_type": "code",
   "execution_count": null,
   "metadata": {
    "collapsed": false
   },
   "outputs": [],
   "source": [
    "#Import the libraries \n",
    "import numpy as np\n",
    "import scipy as sp\n",
    "import pandas as pd"
   ]
  },
  {
   "cell_type": "markdown",
   "metadata": {},
   "source": [
    "## Matrix Manipulations\n",
    "Lets first create a matrix and perform some manipulations of it.\n",
    "\n",
    "Using numpy's matrix data structure, define the following matricies:\n",
    "\n",
    "$$A=\\left[ \\begin{array}{ccc} 3 & 5 & 9 \\\\ 3 & 3 & 4 \\\\ 5 & 9 & 17 \\end{array} \\right]$$\n",
    "\n",
    "$$B=\\left[ \\begin{array}{c} 2 \\\\ 1 \\\\ 4 \\end{array} \\right]$$\n",
    "\n",
    "After this solve the matrix equation:\n",
    "$$Ax = B$$"
   ]
  },
  {
   "cell_type": "markdown",
   "metadata": {},
   "source": [
    "Now write three functions for matrix multiply $C=AB$ in each of the following styles:\n",
    "\n",
    "1. By using nested for loops to impliment the naive algorithm ($C_{ij}=\\sum_{k=0}^{m-1}A_{ik}B_{kj}$)\n",
    "2. Using numpy's built in martrix multiplication  \n",
    "3. Using Cython\n",
    "\n",
    "The three methods should have the same answer"
   ]
  },
  {
   "cell_type": "code",
   "execution_count": null,
   "metadata": {
    "collapsed": false
   },
   "outputs": [],
   "source": [
    "#3 x 3 - 3 x 1\n",
    "# 3 x 1 \n",
    "\n",
    "# A = n x m = 3 x 3\n",
    "# B = m x p = 3 x 1\n",
    "# C = n x p = 3 x 1\n",
    "\n",
    "def product(A,B):\n",
    "    C=np.zeros((len(A), len(B[0])), dtype=int)\n",
    "    \n",
    "    for i in range(len(A[0])):\n",
    "        for j in range(len(B[0])):\n",
    "            _sum = 0\n",
    "            for k in range(len(B)):\n",
    "                _sum += A[i][k] * B[k][j]\n",
    "            C[i][j] = _sum\n",
    "    return C\n",
    "\n",
    "def dot_prod(A, B):\n",
    "    C=np.zeros((len(A), len(B[0])), dtype=int)\n",
    "    for i in range(len(A)):\n",
    "       # iterate through columns of Y\n",
    "       for j in range(len(B[0])):\n",
    "           # iterate through rows of Y\n",
    "           for k in range(len(B)):\n",
    "               C[i][j] += A[i][k] * B[k][j]\n",
    "    return C\n",
    "\n",
    "\n",
    "A = [[3,5,9],[3,3,4],[5,9,17]] #3x3\n",
    "B = [[2],[1],[4]] # 3x1\n",
    "\n",
    "product(A,B)"
   ]
  },
  {
   "cell_type": "code",
   "execution_count": null,
   "metadata": {
    "collapsed": false
   },
   "outputs": [],
   "source": [
    "import numpy as np\n",
    "A=np.array([[3,5,9],[3,3,4],[5,9,17]])\n",
    "B=np.array([[2],[1],[4]])\n",
    "A.dot(B)"
   ]
  },
  {
   "cell_type": "markdown",
   "metadata": {},
   "source": [
    "Now we wish to evaluate the performance of these three methods.  Write a method that given three dmiensions (a,b,c) makes a random a x b and b x c matrix and computes the product using your three functions and reports the speed of each method.\n",
    "\n",
    "After this measure performance of each method for all $a,b,c \\in \\{10,100,1000,10000\\}$ and plot the results.  Is one method always the fastest?  Discuss why this is or is not the case."
   ]
  },
  {
   "cell_type": "code",
   "execution_count": null,
   "metadata": {
    "collapsed": false
   },
   "outputs": [],
   "source": [
    "import time\n",
    "\n",
    "def factory(rows, cols):\n",
    "    return np.random.randint(0,99, (rows,cols))\n",
    "    \n",
    "\n",
    "\n",
    "\n",
    "time_alex = []\n",
    "time_np = []\n",
    "\n",
    "sizes = [ 10, 100, 1000, 10000]\n",
    "for size in sizes:\n",
    "    A = factory(10,size)\n",
    "    B = factory(size, 10)\n",
    "    \n",
    "\n",
    "    t0 = time.time()\n",
    "    C_alex = dot_prod(A,B)\n",
    "    t1 = time.time()\n",
    "    elapsed = t1-t0\n",
    "    time_alex.append(elapsed)\n",
    "    \n",
    "    t0 = time.time()\n",
    "    C_np = A.dot(B)\n",
    "    t1 = time.time()\n",
    "    elapsed = t1-t0\n",
    "    time_np.append(elapsed)\n",
    "    \n",
    "time_alex\n",
    "time_np\n",
    "\n",
    "import matplotlib.pyplot as plt\n",
    "%matplotlib inline\n",
    "\n",
    "green = plt.scatter(sizes, time_alex, color='green')\n",
    "red = plt.scatter(sizes, time_np, color='red')\n",
    "plt.legend( (green, red), ('Naive', 'Numpy'), loc='upper left' )"
   ]
  },
  {
   "cell_type": "markdown",
   "metadata": {},
   "source": [
    "As you can see from the plot above, my naieve solution grows at a n^3 complexity rate, while the numpy implemention is much more efficient and the growth rate remains mostly constant. "
   ]
  },
  {
   "cell_type": "markdown",
   "metadata": {},
   "source": [
    "**BONUS** Now repeat the past two problems but instead of computing the matrix product, compute a matrix's [determinant](http://en.wikipedia.org/wiki/Determinant).  Measure performance for matricies of various sizes and discuss the results.  Determinant may get impractical to calculate for not too huge of matricies, so no need to goto 1000x1000 matricies."
   ]
  },
  {
   "cell_type": "code",
   "execution_count": null,
   "metadata": {
    "collapsed": false
   },
   "outputs": [],
   "source": []
  },
  {
   "cell_type": "markdown",
   "metadata": {},
   "source": [
    "### IO Exercises\n",
    "\n",
    "Below is a map of various datatypes in python that you have come across and their corresponding JSON equivalents.\n",
    "\n",
    "$$Datatypes=\\left[ \\begin{array}{cc} JSON & Python3 \\\\ object & dictionary \\\\ array & list \\\\ string & string \\\\ integer\t& integer \\\\ real number & float \\\\ true & True \\\\ false & False \\\\ null & None  \\end{array} \\right]$$\n",
    "\n",
    "\n",
    "There are atleast two very important python datatypes missing in the above list. \n",
    "Can you find the same?  [list the two mising python datatypes in this markdown cell below]\n",
    "\n",
    "1. Touple\n",
    "2. None\n",
    "3. Sets\n",
    "\n",
    "Now We can save the above map as a dictionary with Key-value pairs \n",
    "1. create a python dictionary named dataypes, having the above map as the Key-value pairs with Python datatypes as values and JSON equivalents as keys.\n",
    "2. Save it as a pickle called datatypes and gzip the same.\n",
    "3. Reload this pickle, and read the file contents and output the data in the following formatted way as given in this example - \"The JSON equivalent for the Python datatype Dictionary is Object\". Output similarly for the rest of the key-value pairs.\n",
    "4. Save this data as a JSON but using Python datatypes as keys and JSON equivalent as values this time. "
   ]
  },
  {
   "cell_type": "code",
   "execution_count": null,
   "metadata": {
    "collapsed": false
   },
   "outputs": [],
   "source": [
    "Datatypes={\"object\": \"dictionary\", \"array\": \"list\", \"string\":\"string\", \"integer\":\"integer\", \"realnumber\":\"float\", \"true\":\"True\", \"false\":\"False\", \"null\":\"None\"}"
   ]
  },
  {
   "cell_type": "code",
   "execution_count": null,
   "metadata": {
    "collapsed": false
   },
   "outputs": [],
   "source": [
    "import pickle\n",
    "import gzip\n",
    "pickle.dump(Datatypes,gzip.open('picklez0.pk.gz','wb'),0)\n",
    "B=pickle.load(gzip.open('picklez0.pk.gz','rb'))\n",
    "B"
   ]
  },
  {
   "cell_type": "markdown",
   "metadata": {},
   "source": [
    "## Pandas Data Analysis\n",
    "Pandas gives us a nice set of tools to work with columnar data (similar to R's dataframe). \n",
    "To learn how to use this it makes the most sense to use a real data set.\n",
    "For this assignment we'll use the KDD Cup 1998 dataset, which can be sourced from http://kdd.ics.uci.edu/databases/kddcup98/kddcup98.html .\n",
    "\n",
    "\n",
    "### Acquiring Data\n",
    "First we pull the README file from the dataset into this notebook via the unix \"curl\" command.  Remember you can hide/minimize output cells via the button on the left of the output."
   ]
  },
  {
   "cell_type": "code",
   "execution_count": null,
   "metadata": {
    "collapsed": false,
    "scrolled": true
   },
   "outputs": [],
   "source": [
    "!curl http://kdd.ics.uci.edu/databases/kddcup98/epsilon_mirror/readme"
   ]
  },
  {
   "cell_type": "markdown",
   "metadata": {},
   "source": [
    "As you can see this README describes several files which may be of use.  In particular there are two more documentation files (DOC and DIC) we should read to get an idea of the data format.  Bring these files into the notebook."
   ]
  },
  {
   "cell_type": "code",
   "execution_count": null,
   "metadata": {
    "collapsed": false
   },
   "outputs": [],
   "source": [
    "!curl http://kdd.ics.uci.edu/databases/kddcup98/epsilon_mirror/cup98doc.txt"
   ]
  },
  {
   "cell_type": "code",
   "execution_count": null,
   "metadata": {
    "collapsed": false
   },
   "outputs": [],
   "source": [
    "!curl http://kdd.ics.uci.edu/databases/kddcup98/epsilon_mirror/cup98dic.txt"
   ]
  },
  {
   "cell_type": "markdown",
   "metadata": {},
   "source": [
    "Now we wish to download the cup98lrn.zip file and unzip it into a new subdirectory called \"data\".  \n",
    "However, since this file is pretty big we don't want to store it on github.  \n",
    "Luckily git provides the [.gitignore](http://git-scm.com/docs/gitignore) file which allows us to specify files we don't want to put into our git repository.\n",
    "\n",
    "Please do the following steps:\n",
    "\n",
    "1. Add the directory \"data\" to the .gitignore file\n",
    "2. Commit the new .gitignore file\n",
    "3. Create a new directory \"data\"\n",
    "4. Download http://kdd.ics.uci.edu/databases/kddcup98/epsilon_mirror/cup98lrn.zip into the data directory\n",
    "5. Unzip the cup98lrn.zip (we will only be using the unzipped version, so feel free to remove the zip file)\n",
    "6. Run \"git status\" to show that the data directory is not an untracked file (this indicates it is ignored)\n",
    "\n",
    "**NOTE:** These steps only need to be run once, it is advised you comment all the lines out by putting a # at the start of each line after they have run.  This will save you time in the future when you have to rerun all cells/don't want to spend a few minutes downloading the data file."
   ]
  },
  {
   "cell_type": "code",
   "execution_count": null,
   "metadata": {
    "collapsed": false
   },
   "outputs": [],
   "source": [
    "path=\"../data/cup98LRN.txt\"\n",
    "file=open(path, \"r\")\n",
    "import pandas as pd"
   ]
  },
  {
   "cell_type": "markdown",
   "metadata": {},
   "source": [
    "Now perform some basic sanity checks on the data.  Using a combination of unix/basic python answer the following questions:\n",
    "\n",
    "1. How many lines are there?  \n",
    "2. Is the file character seperated or fixed width format?\n",
    "3. Is there a header?  If so how many fields are in it?\n",
    "4. Do all rows have the same number of fields as the header?\n",
    "5. Does anyhting in 1-4 disagree with the readme file or indicate erroneous data?"
   ]
  },
  {
   "cell_type": "code",
   "execution_count": null,
   "metadata": {
    "collapsed": false
   },
   "outputs": [],
   "source": [
    "!wc -l ../data/cup98LRN.txt"
   ]
  },
  {
   "cell_type": "code",
   "execution_count": null,
   "metadata": {
    "collapsed": false
   },
   "outputs": [],
   "source": [
    "!head -n 1 ../data/cup98LRN.txt"
   ]
  },
  {
   "cell_type": "code",
   "execution_count": null,
   "metadata": {
    "collapsed": true
   },
   "outputs": [],
   "source": []
  },
  {
   "cell_type": "code",
   "execution_count": null,
   "metadata": {
    "collapsed": false,
    "scrolled": false
   },
   "outputs": [],
   "source": []
  },
  {
   "cell_type": "markdown",
   "metadata": {},
   "source": [
    "Give answers to questions 1-4 in this markdown cell:\n",
    "\n",
    "1. 95413\n",
    "2. CSV\n",
    "3. yes, \n",
    "4. 481\n",
    "\n",
    "Now load the data file into a pandas data frame called \"learn\".  To save some time, we've loaded the data dictionary into col_types.  \n",
    "\n",
    "Finally split learn into two data frames, learn_y: the targets (two columns described in the documentation) and learn_x: the predictors (everything but the targets)"
   ]
  },
  {
   "cell_type": "code",
   "execution_count": null,
   "metadata": {
    "collapsed": false,
    "scrolled": true
   },
   "outputs": [],
   "source": [
    "dict_file = open(\"dict.dat\")\n",
    "col_types = [ (x.split(\"\\t\")[0], x.strip().split(\"\\t\")[1]) for x in dict_file.readlines() ]\n",
    "col_types"
   ]
  },
  {
   "cell_type": "code",
   "execution_count": null,
   "metadata": {
    "collapsed": false,
    "scrolled": true
   },
   "outputs": [],
   "source": [
    "learn = pd.read_csv(path, error_bad_lines=False)"
   ]
  },
  {
   "cell_type": "code",
   "execution_count": null,
   "metadata": {
    "collapsed": false
   },
   "outputs": [],
   "source": [
    "\n",
    "learn_x = learn.drop([\"TARGET_B\", \"TARGET_D\"],axis=1)\n",
    "learn_y = learn[[\"TARGET_B\", \"TARGET_D\"]]"
   ]
  },
  {
   "cell_type": "code",
   "execution_count": null,
   "metadata": {
    "collapsed": true
   },
   "outputs": [],
   "source": []
  },
  {
   "cell_type": "markdown",
   "metadata": {},
   "source": [
    "### Summarizing Data\n",
    "Now that we have loaded data into the learn table, we wish to to summarize the data.  \n",
    "Write a function called summary which takes a pandas data frame and prints a summary of each column containing the following:\n",
    "\n",
    "If the column is numeric:\n",
    "\n",
    "1. Mean\n",
    "2. Standard Deviation\n",
    "3. Min/Max\n",
    "4. Number of missing values (NaN, Inf, NA)\n",
    "\n",
    "If the column is non alphabetical:\n",
    "\n",
    "1. Number of distinct values\n",
    "2. Number of missing values (NaN, INF, NA, blank/all spaces)\n",
    "3. The frequency of the 3 most common values and 3 least common values\n",
    "\n",
    "Format the output to be human readable.\n",
    "\n",
    "For example:\n",
    "> Field_1  \n",
    "> mean: 50  \n",
    "> std_dev: 25  \n",
    "> min: 0  \n",
    "> max: 100  \n",
    "> missing: 5\n",
    ">  \n",
    "> Field_2  \n",
    "> distinct_values: 100  \n",
    "> missing: 10  \n",
    ">  \n",
    "> 3 most common:  \n",
    ">   the: 1000  \n",
    ">   cat: 950  \n",
    ">   meows: 900  \n",
    ">  \n",
    "> 3 least common:  \n",
    ">   dogs: 5  \n",
    ">   lizards: 4  \n",
    ">   eggs: 1  "
   ]
  },
  {
   "cell_type": "code",
   "execution_count": null,
   "metadata": {
    "collapsed": false
   },
   "outputs": [],
   "source": [
    "# describe function here\n",
    "\n",
    "def describe(df):\n",
    "    for col_name in df:\n",
    "        col = df[col_name]\n",
    "        print col_name\n",
    "        if col.dtype == object :\n",
    "            print \"distinct_values: \", col.nunique()\n",
    "            print \"missing: \", col.isnull().sum().sum()\n",
    "            print \"\\n 3 most common: \"\n",
    "            print col.value_counts().iloc[0:3]\n",
    "            print \"\\n 3 least common: \"\n",
    "            print col.value_counts().iloc[-4:-1]\n",
    "        else:\n",
    "            print \"mean: \", col.mean()\n",
    "            print \"std_dev: \", col.std()\n",
    "            print \"min: \", col.min()\n",
    "            print \"max: \", col.max()\n",
    "            print \"missing: \", col.isnull().sum().sum()\n",
    "        print \"\"\n",
    "\n",
    "describe(learn)"
   ]
  },
  {
   "cell_type": "markdown",
   "metadata": {
    "collapsed": false
   },
   "source": [
    " ### Pandas analysis on Calit2 data \n",
    "\n",
    "Import data from http://archive.ics.uci.edu/ml/machine-learning-databases/event-detection/CalIt2.data using curl\n",
    "\n",
    "This data comes from the main door of the CalIt2 building at UCI. Observations come from 2 data streams (people flow in and out of the building), over 15 weeks, 48 time slices per day (half hour count aggregates).\n",
    "\n",
    "Attribute Information:\n",
    "1. Flow ID: 7 is out flow, 9 is in flow\n",
    "2. Date: MM/DD/YY\n",
    "3. Time: HH:MM:SS\n",
    "4. Count: Number of counts reported for the previous half hour\n"
   ]
  },
  {
   "cell_type": "code",
   "execution_count": null,
   "metadata": {
    "collapsed": false
   },
   "outputs": [],
   "source": [
    "path=\"../data/Calit2.data\"\n",
    "file=open(path, \"r\")\n",
    "import pandas as pd\n",
    "\n",
    "traffic = pd.read_csv(path, names=[\"flow_id\", \"date\", \"time\", \"count\"], parse_dates=[\"date\"])\n",
    "\n",
    "traffic.head(5)"
   ]
  },
  {
   "cell_type": "code",
   "execution_count": null,
   "metadata": {
    "collapsed": false
   },
   "outputs": [],
   "source": []
  },
  {
   "cell_type": "markdown",
   "metadata": {
    "collapsed": false
   },
   "source": [
    "#### Selecting Data ####\n",
    "1. Select all data for the date July 24 2005 having flow id=7. Also output the row count of results \n",
    "2. Select all rows whose count is greater than 5. Sort the result on count in descending order and output the top 10 rows"
   ]
  },
  {
   "cell_type": "code",
   "execution_count": null,
   "metadata": {
    "collapsed": false
   },
   "outputs": [],
   "source": [
    "import datetime\n",
    "out = traffic['flow_id']==7\n",
    "july_24 = traffic['date']==datetime.datetime(2005, 7, 24)\n",
    "rows = traffic[out & july_24]\n",
    "len(rows)"
   ]
  },
  {
   "cell_type": "code",
   "execution_count": null,
   "metadata": {
    "collapsed": false
   },
   "outputs": [],
   "source": [
    "print traffic[\"count\"].dtype\n",
    "selector = traffic[\"count\"] > 5\n",
    "_rows = traffic[selector].sort([\"count\"], ascending=False).iloc[0:10]\n",
    "_rows"
   ]
  },
  {
   "cell_type": "markdown",
   "metadata": {},
   "source": [
    "#### Apply function ####\n",
    "1. For the 10 rows outputted above, use Pandas Apply function to subtract lowest value of the 10 from all of them and then output the average value of the resulting counts\n",
    "2. On the entire data, use apply function to sum all counts with flow_id=9 and date is 07/24/05"
   ]
  },
  {
   "cell_type": "code",
   "execution_count": null,
   "metadata": {
    "collapsed": false
   },
   "outputs": [],
   "source": [
    "min = _rows.iloc[9][\"count\"]\n",
    "_rows[\"count\"] = _rows[\"count\"].apply(lambda val: val-10)\n",
    "_rows[\"count\"].mean()"
   ]
  },
  {
   "cell_type": "code",
   "execution_count": null,
   "metadata": {
    "collapsed": false
   },
   "outputs": [],
   "source": [
    "import numpy as np\n",
    "in_flow = traffic['flow_id']==9\n",
    "july_24 = traffic['date']==datetime.datetime(2005, 7, 24)\n",
    "_rows = traffic[in_flow & july_24 ]\n",
    "_rows = _rows[[\"flow_id\",\"count\"]]\n",
    "_rows.apply(np.sum)[\"count\"]\n"
   ]
  },
  {
   "cell_type": "markdown",
   "metadata": {},
   "source": [
    "#### Indexing an Selecting ####\n",
    "Exlain the following\n",
    "\n",
    "1. loc: Purely label-location based indexer for selection by label.\n",
    "2. iloc: Purely integer-location based indexing for selection by position.\n",
    "3. ix: A primarily label-location based indexer, with integer position\n",
    "fallback.\n",
    "4. at: Similarly to ``loc``, ``at`` provides **label** based scalar lookups.\n",
    "You can also set using these indexers.\n",
    "5. iat: Similarly to `iloc`, `iat` provides **integer** based lookups.\n",
    "You can also set using these indexers.\n",
    "\n",
    "Highlight the differences by providing usecases where one is more useful than the other\n",
    "\n",
    "> The selector `iloc` is usefull when you want to select your data using absolute position, similiar to matlab. For example: \"I want to select the very last row\" or \"I want to select the first 5 rows\". It's be harder to do this with the `loc` selector, which is useful when you want to select you data using an index name rather than a postion in the collection. The `loc` selector is especially usefull if your x & y axis are both labeled and then you can refrence a particular cell by the column names. The `ix` selector is exceptionally useful when dealing with mixed positional and label based hierachical indexes. Since indexing with [] must handle a lot of cases (single-label access, slicing, boolean indexing, etc.), it has a bit of overhead in order to figure out what you’re asking for. If you only want to access a scalar value, the fastest way is to use the `at` and `iat` methods, which are implemented on all of the data structures.\n",
    "\n",
    "\n",
    "Write a function to take two dates as input and return all flow ids and counts in that date range having both the dates inclusive. You can use pandas to_datetime function to convert the date to pandas datetime format "
   ]
  },
  {
   "cell_type": "code",
   "execution_count": null,
   "metadata": {
    "collapsed": false,
    "scrolled": true
   },
   "outputs": [],
   "source": [
    "def traffic_count(start, end):\n",
    "    start_selector = traffic[\"date\"] > start\n",
    "    end_selector = traffic[\"date\"] < end\n",
    "    selected = traffic[start_selector & end_selector]\n",
    "    return selected[[\"flow_id\", \"count\"]]\n",
    "\n",
    "start = datetime.datetime(2005, 7, 24)\n",
    "end = datetime.datetime(2005, 8, 5)\n",
    "\n",
    "traffic_count(start, end)"
   ]
  },
  {
   "cell_type": "markdown",
   "metadata": {},
   "source": [
    "#### Grouping ####\n",
    "1. Select data in the month of August 2005 having flow id=7\n",
    "2. Group the data based on date and get the max count per date"
   ]
  },
  {
   "cell_type": "code",
   "execution_count": null,
   "metadata": {
    "collapsed": false,
    "scrolled": true
   },
   "outputs": [],
   "source": [
    "start_selector = traffic[\"date\"] > datetime.datetime(2005, 7, 31)\n",
    "end_selector = traffic[\"date\"] < datetime.datetime(2005, 9, 1)\n",
    "flow_selector = traffic[\"flow_id\"]==7\n",
    "selected_range = traffic[start_selector & end_selector & flow_selector]\n",
    "selected_range.groupby(\"date\").sum()[[\"count\"]]"
   ]
  },
  {
   "cell_type": "markdown",
   "metadata": {},
   "source": [
    "#### Stacking, Unstacking ####\n",
    "1. Stack the data with count and flow_id as indexes\n",
    "2. Use reset_index to reset the stacked hierarchy by 1 level. The index then will just be the counts\n",
    "3. Unstack the data to get back original data"
   ]
  },
  {
   "cell_type": "code",
   "execution_count": null,
   "metadata": {
    "collapsed": false,
    "scrolled": true
   },
   "outputs": [],
   "source": [
    "l1 = traffic.set_index([\"count\", \"flow_id\"])\n",
    "l1.stack()\n"
   ]
  },
  {
   "cell_type": "code",
   "execution_count": null,
   "metadata": {
    "collapsed": true
   },
   "outputs": [],
   "source": [
    "stack = traffic.stack"
   ]
  },
  {
   "cell_type": "markdown",
   "metadata": {},
   "source": [
    "#### Pandas and Matplotlib\n",
    "\n",
    "Plot a histogram of date vs total counts for flow_id=7 and flow_id=9 for the month of July 2005"
   ]
  },
  {
   "cell_type": "code",
   "execution_count": null,
   "metadata": {
    "collapsed": false
   },
   "outputs": [],
   "source": [
    "import matplotlib\n",
    "import numpy as np\n",
    "import matplotlib.pyplot as plt\n",
    "%matplotlib inline\n",
    "\n",
    "# make a timestamp column\n",
    "traffic[\"TS\"] = traffic[\"date\"].map(str) + \" \" + traffic[\"time\"]\n",
    "traffic[\"TS\"] = pd.to_datetime(traffic[\"TS\"])\n",
    "traffic[\"date\"] = pd.to_datetime(traffic[\"date\"])\n",
    "\n",
    "#date range selection in July\n",
    "start_selector = traffic[\"date\"] > datetime.datetime(2005, 6, 30)\n",
    "end_selector = traffic[\"date\"] < datetime.datetime(2005, 8, 1)\n",
    "selected_range = traffic[start_selector & end_selector]\n",
    "\n",
    "#flow selection\n",
    "intrffic = selected_range[selected_range[\"flow_id\"]==7]\n",
    "outtraffic = selected_range[selected_range[\"flow_id\"]==9]\n",
    "\n",
    "#hour grouping\n",
    "in_by_day = intrffic.groupby(intrffic['TS'].map(lambda x: x.day)).sum()\n",
    "out_by_day = outtraffic.groupby(outtraffic['TS'].map(lambda x: x.day)).sum()\n",
    "\n",
    "#plotting\n",
    "p1 = plt.bar(in_by_day.index, in_by_day[\"count\"], color = 'b')\n",
    "p2 = plt.bar(out_by_day.index, out_by_day[\"count\"], color='r',bottom=in_by_day[\"count\"])\n",
    "\n",
    "plt.ylabel('Traffic')\n",
    "plt.title('July')\n",
    "plt.xlabel(\"Date\")\n",
    "plt.legend( (p1, p2), ('In', 'Out') )\n",
    "\n",
    "plt.show()"
   ]
  }
 ],
 "metadata": {
  "kernelspec": {
   "display_name": "Python 2",
   "language": "python",
   "name": "python2"
  },
  "language_info": {
   "codemirror_mode": {
    "name": "ipython",
    "version": 2
   },
   "file_extension": ".py",
   "mimetype": "text/x-python",
   "name": "python",
   "nbconvert_exporter": "python",
   "pygments_lexer": "ipython2",
   "version": "2.7.10"
  }
 },
 "nbformat": 4,
 "nbformat_minor": 0
}
