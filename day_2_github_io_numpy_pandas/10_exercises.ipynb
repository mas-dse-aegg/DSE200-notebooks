{
 "metadata": {
  "name": "",
  "signature": "sha256:3570170eba3205632c6c6eaa27d5a7a4465abae256ecf3efdf8396fedcefb11a"
 },
 "nbformat": 3,
 "nbformat_minor": 0,
 "worksheets": [
  {
   "cells": [
    {
     "cell_type": "markdown",
     "metadata": {},
     "source": [
      "#Week 2 Exercises\n",
      "\n",
      "In this weeks exercises you will use Numpy/Scipy to impliment some numerical algorithms and then you will use Pandas to perform a rudamentary data analysis using the KDD 98 dataset.  Along the way you will use unix/basic python from the first week as well as git to save your work.\n",
      "\n",
      "As a first step we import the libraries we'll use later on.  This allows us to use numpy library calls by prefixing the call with np."
     ]
    },
    {
     "cell_type": "code",
     "collapsed": false,
     "input": [
      "#Import the libraries \n",
      "import numpy as np\n",
      "import scipy as sp\n",
      "import pandas as pd"
     ],
     "language": "python",
     "metadata": {},
     "outputs": []
    },
    {
     "cell_type": "markdown",
     "metadata": {},
     "source": [
      "##Matrix Manipulations\n",
      "Lets first create a matrix and perform some manipulations of it.\n",
      "\n",
      "Using numpy's matrix data structure, define the following matricies:\n",
      "\n",
      "$$A=\\left[ \\begin{array}{ccc} 3 & 5 & 9 \\\\ 3 & 3 & 4 \\\\ 5 & 9 & 17 \\end{array} \\right]$$\n",
      "\n",
      "$$B=\\left[ \\begin{array}{c} 2 \\\\ 1 \\\\ 4 \\end{array} \\right]$$\n",
      "\n",
      "After this solve the matrix equation:\n",
      "$$Ax = B$$"
     ]
    },
    {
     "cell_type": "markdown",
     "metadata": {},
     "source": [
      "Now write three functions for matrix multiply $C=AB$ in each of the following styles:\n",
      "\n",
      "1. By using nested for loops to impliment the naive algorithm ($C_{ij}=\\sum_{k=0}^{m-1}A_{ik}B_{kj}$)\n",
      "2. Using numpy's built in martrix multiplication  \n",
      "3. Using Cython\n",
      "\n",
      "The three methods should have the same answer"
     ]
    },
    {
     "cell_type": "code",
     "collapsed": false,
     "input": [],
     "language": "python",
     "metadata": {},
     "outputs": []
    },
    {
     "cell_type": "markdown",
     "metadata": {},
     "source": [
      "Now we wish to evaluate the performance of these three methods.  Write a method that given three dmiensions (a,b,c) makes a random a x b and b x c matrix and computes the product using your three functions and reports the speed of each method.\n",
      "\n",
      "After this measure performance of each method for all $a,b,c \\in \\{10,100,1000,10000\\}$ and plot the results.  Is one method always the fastest?  Discuss why this is or is not the case."
     ]
    },
    {
     "cell_type": "code",
     "collapsed": false,
     "input": [],
     "language": "python",
     "metadata": {},
     "outputs": []
    },
    {
     "cell_type": "markdown",
     "metadata": {},
     "source": [
      "**BONUS** Now repeat the past two problems but instead of computing the matrix product, compute a matrix's [determinant](http://en.wikipedia.org/wiki/Determinant).  Measure performance for matricies of various sizes and discuss the results.  Determinant may get impractical to calculate for not too huge of matricies, so no need to goto 1000x1000 matricies."
     ]
    },
    {
     "cell_type": "code",
     "collapsed": false,
     "input": [],
     "language": "python",
     "metadata": {},
     "outputs": []
    },
    {
     "cell_type": "markdown",
     "metadata": {},
     "source": [
      "###IO Exercises\n",
      "\n",
      "Below is a map of various datatypes in python that you have come across and their corresponding JSON equivalents.\n",
      "\n",
      "$$Datatypes=\\left[ \\begin{array}{cc} JSON & Python3 \\\\ object & dictionary \\\\ array & list \\\\ string & string \\\\ integer\t& integer \\\\ real number & float \\\\ true & True \\\\ false & False \\\\ null & None  \\end{array} \\right]$$\n",
      "\n",
      "\n",
      "There are atleast two very important python datatypes missing in the above list. \n",
      "Can you find the same?  [list the two mising python datatypes in this markdown cell below]\n",
      "\n",
      "1. \n",
      "2. \n",
      "\n",
      "Now We can save the above map as a dictionary with Key-value pairs \n",
      "1. create a python dictionary named dataypes, having the above map as the Key-value pairs with Python datatypes as values and JSON equivalents as keys.\n",
      "2. Save it as a pickle called datatypes and gzip the same.\n",
      "3. Reload this pickle, and read the file contents and output the data in the following formatted way as given in this example - \"The JSON equivalent for the Python datatype Dictionary is Object\". Output similarly for the rest of the key-value pairs.\n",
      "4. Save this data as a JSON but using Python datatypes as keys and JSON equivalent as values this time. "
     ]
    },
    {
     "cell_type": "code",
     "collapsed": false,
     "input": [],
     "language": "python",
     "metadata": {},
     "outputs": []
    },
    {
     "cell_type": "markdown",
     "metadata": {},
     "source": [
      "###SQL Exercises\n",
      "1. Create a database \"Datatype\", having a table \"datatypes\"\n",
      "2. Save the above datatype pickle in the table datatypes\n",
      "3. Create another table named \"missing_datatypes\"\n",
      "4. Add the 2 missing datatypes that you just wrote in the above markdown cell in the new sql table\n",
      "5. Write a SQL query to merge table mising_datatypes into table datatypes\n",
      "6. Write a SQL query to sort the merged table based on the values in python column and output the sorted table\n"
     ]
    },
    {
     "cell_type": "code",
     "collapsed": false,
     "input": [],
     "language": "python",
     "metadata": {},
     "outputs": []
    },
    {
     "cell_type": "markdown",
     "metadata": {},
     "source": [
      "##Regular Expression\n",
      "We have a file regex_test which has number of lines, each line containing one data element of various kinds (dates, numbers, phone numbers, etc).  Your task is to construct a python array containing all instances of each of the specified data types via python regular expressions.\n",
      "\n",
      "Here are the data types:\n",
      "\n",
      "1. Dates of one of these formats: mm/dd/yyyy, yyyymmdd, yyyy-mm-dd\n",
      "2. US phone numbers: 10 digits, area code can be surounded by () or seperated by one dash and some spaces, prefix/line number can be seperated by one dash and some spaces.  Example valid numbers are 123-456-7890, (123)   456 -7890, 1234567890, 123- 4567890, etc\n",
      "3. Raw decimal numbers (IE somthing that \"float(x)\" would not crash on). \n",
      "4. US Dollar amounts (\\$ddd.cc)\n",
      "5. Basic email addresses.  Should conform to http://en.wikipedia.org/wiki/Email_address but with only aphanumeric usernames/domains, only com, co.uk, edu, and ru tlds are used\n",
      "\n",
      "Please create a list of the valid elements for each of these types and report the number of valid elements of each type in a markdown field."
     ]
    },
    {
     "cell_type": "code",
     "collapsed": false,
     "input": [],
     "language": "python",
     "metadata": {},
     "outputs": []
    },
    {
     "cell_type": "markdown",
     "metadata": {},
     "source": [
      "##Pandas Data Analysis\n",
      "Pandas gives us a nice set of tools to work with columnar data (similar to R's dataframe). \n",
      "To learn how to use this it makes the most sense to use a real data set.\n",
      "For this assignment we'll use the KDD Cup 1998 dataset, which can be sourced from http://kdd.ics.uci.edu/databases/kddcup98/kddcup98.html .\n",
      "\n",
      "\n",
      "###Acquiring Data\n",
      "First we pull the README file from the dataset into this notebook via the unix \"curl\" command.  Remember you can hide/minimize output cells via the button on the left of the output."
     ]
    },
    {
     "cell_type": "code",
     "collapsed": false,
     "input": [
      "!curl http://kdd.ics.uci.edu/databases/kddcup98/epsilon_mirror/readme"
     ],
     "language": "python",
     "metadata": {},
     "outputs": []
    },
    {
     "cell_type": "markdown",
     "metadata": {},
     "source": [
      "As you can see this README describes several files which may be of use.  In particular there are two more documentation files (DOC and DIC) we should read to get an idea of the data format.  Bring these files into the notebook."
     ]
    },
    {
     "cell_type": "code",
     "collapsed": false,
     "input": [],
     "language": "python",
     "metadata": {},
     "outputs": []
    },
    {
     "cell_type": "markdown",
     "metadata": {},
     "source": [
      "Now we wish to download the cup98lrn.zip file and unzip it into a new subdirectory called \"data\".  \n",
      "However, since this file is pretty big we don't want to store it on github.  \n",
      "Luckily git provides the [.gitignore](http://git-scm.com/docs/gitignore) file which allows us to specify files we don't want to put into our git repository.\n",
      "\n",
      "Please do the following steps:\n",
      "\n",
      "1. Add the directory \"data\" to the .gitignore file\n",
      "2. Commit the new .gitignore file\n",
      "3. Create a new directory \"data\"\n",
      "4. Download http://kdd.ics.uci.edu/databases/kddcup98/epsilon_mirror/cup98lrn.zip into the data directory\n",
      "5. Unzip the cup98lrn.zip (we will only be using the unzipped version, so feel free to remove the zip file)\n",
      "6. Run \"git status\" to show that the data directory is not an untracked file (this indicates it is ignored)\n",
      "\n",
      "**NOTE:** These steps only need to be run once, it is advised you comment all the lines out by putting a # at the start of each line after they have run.  This will save you time in the future when you have to rerun all cells/don't want to spend a few minutes downloading the data file."
     ]
    },
    {
     "cell_type": "code",
     "collapsed": false,
     "input": [],
     "language": "python",
     "metadata": {},
     "outputs": []
    },
    {
     "cell_type": "markdown",
     "metadata": {},
     "source": [
      "Now perform some basic sanity checks on the data.  Using a combination of unix/basic python answer the following questions:\n",
      "\n",
      "1. How many lines are there?  \n",
      "2. Is the file character seperated or fixed width format?\n",
      "3. Is there a header?  If so how many fields are in it?\n",
      "4. Do all rows have the same number of fields as the header?\n",
      "5. Does anyhting in 1-4 disagree with the readme file or indicate erroneous data?"
     ]
    },
    {
     "cell_type": "code",
     "collapsed": false,
     "input": [],
     "language": "python",
     "metadata": {},
     "outputs": []
    },
    {
     "cell_type": "markdown",
     "metadata": {},
     "source": [
      "Give answers to questions 1-4 in this markdown cell:\n",
      "\n",
      "1. \n",
      "2. \n",
      "3. \n",
      "4. \n",
      "\n",
      "Now load the data file into a pandas data frame called \"learn\".  To save some time, we've loaded the data dictionary into col_types.  \n",
      "\n",
      "Finally split learn into two data frames, learn_y: the targets (two columns described in the documentation) and learn_x: the predictors (everything but the targets)"
     ]
    },
    {
     "cell_type": "code",
     "collapsed": false,
     "input": [
      "dict_file = open(\"dict.dat\")\n",
      "col_types = [ (x.split(\"\\t\")[0], x.strip().split(\"\\t\")[1]) for x in dict_file.readlines() ]"
     ],
     "language": "python",
     "metadata": {},
     "outputs": []
    },
    {
     "cell_type": "code",
     "collapsed": false,
     "input": [],
     "language": "python",
     "metadata": {},
     "outputs": []
    },
    {
     "cell_type": "markdown",
     "metadata": {},
     "source": [
      "###Summarizing Data\n",
      "Now that we have loaded data into the learn table, we wish to to summarize the data.  \n",
      "Write a function called summary which takes a pandas data frame and prints a summary of each column containing the following:\n",
      "\n",
      "If the column is numeric:\n",
      "\n",
      "1. Mean\n",
      "2. Standard Deviation\n",
      "3. Min/Max\n",
      "4. Number of missing values (NaN, Inf, NA)\n",
      "\n",
      "If the column is non alphabetical:\n",
      "\n",
      "1. Number of distinct values\n",
      "2. Number of missing values (NaN, INF, NA, blank/all spaces)\n",
      "3. The frequency of the 3 most common values and 3 least common values\n",
      "\n",
      "Format the output to be human readable.\n",
      "\n",
      "For example:\n",
      "> Field_1  \n",
      "> mean: 50  \n",
      "> std_dev: 25  \n",
      "> min: 0  \n",
      "> max: 100  \n",
      "> missing: 5\n",
      ">  \n",
      "> Field_2  \n",
      "> distinct_values: 100  \n",
      "> missing: 10  \n",
      ">  \n",
      "> 3 most common:  \n",
      ">   the: 1000  \n",
      ">   cat: 950  \n",
      ">   meows: 900  \n",
      ">  \n",
      "> 3 least common:  \n",
      ">   dogs: 5  \n",
      ">   lizards: 4  \n",
      ">   eggs: 1  "
     ]
    },
    {
     "cell_type": "code",
     "collapsed": false,
     "input": [
      " "
     ],
     "language": "python",
     "metadata": {},
     "outputs": []
    },
    {
     "cell_type": "markdown",
     "metadata": {},
     "source": [
      "###Feature Engineering\n",
      "\n",
      "As you should have seen, there are a number of columns which are encoded as text.  To perform modeling we must convert these to somthing more numeric or throw them away.  There are a number of ways to do this which are useful in different situations.  For each of the following methods described, write a function that will take a data frame, the column you want to process, any other needed arguements and will return a data frame with the target column removed and new columns added for the described features.\n",
      "\n",
      "1. Hot 1 encoding: takes a column \"Field\" with n unique values and adds n new columns \"Field_x\" with x being each unique value of the field.  A record will have Field_x = 1 if Field = x in the original record.\n",
      "2. Risk table: If a record contains x in Field, replace x with the percent of all records containing x that are taged as positive.  IE if there are 100 records with the zip code 92110 10 of which are positive, replace 92110 in the zip field with 0.1.\n",
      "3. Regex contains: similar to hot one, but instead allow the user to specify some regex patterns x and set Field_x to 1 if the regex pattern x matches the value in Field.  An example usage might be to standardize occupations to student/employed/unemployed.\n",
      "4. Erase feature: remove the feature and don't add any features\n",
      "5. **BONUS:** One unique featureization idea of your choosing.  \n",
      "\n",
      "After this, apply one of your featurizers for each of the 75 non numeric columns.  Since there are so many columns you should use the summary statisitics to choose hot 1, risk table, or erase for most of them.  Come up with a basic heuristic to choose one of them (*Hint: you don't want to generate a ton of mostly constant features*).  Use the regex contains featureizer on at least 2 columns to extract some interesting meaning.  "
     ]
    },
    {
     "cell_type": "code",
     "collapsed": false,
     "input": [],
     "language": "python",
     "metadata": {},
     "outputs": []
    },
    {
     "cell_type": "markdown",
     "metadata": {},
     "source": [
      "Now that learn_y contains *only* numeric columns, we wish to normalize all features so that they all have similar ranges of values.  To do this we apply the [Z-transform](http://en.wikipedia.org/wiki/Standard_score).  Apply this independently to all columns in the data set.  This is the whitening transofrm used by the PCA model in the iris notebook."
     ]
    },
    {
     "cell_type": "code",
     "collapsed": false,
     "input": [],
     "language": "python",
     "metadata": {},
     "outputs": []
    },
    {
     "cell_type": "markdown",
     "metadata": {},
     "source": [
      "###Modeling\n",
      "\n",
      "Note that there are two labeles for this dataset: weather a person donated or not and how much they donated if they donated.  To accurately model this we would need more complicated techniques you will learn in later coursework.  However, for now we can do some exploratory analysis similar to the housing/iris notebooks we saw in class friday.\n",
      "\n",
      "Do the following steps:\n",
      "\n",
      "**Unsupervised Modeling**\n",
      "1. Use PCA to project the features onto a 2 dimensional subspace, join with the labels and plot each point using the doner/non doner to color points.  Do the labels look cleanly seperated in this 2 dimensional subspace?\n",
      "2. Cluster the raw features into 2 clusters.  Compute the percentage of donors in each cluster.  Do one of the clusters have a higher donor rate than the other?  Plot the two features which seem to seperate the clusters the most, coloring the points by the labels.\n",
      "\n",
      "**Supervised Modeling**\n",
      "1. Build a regression model on the set of known donors to predict the donation amount from all features.\n",
      "2. Compute the mean error and plot the true donation size vs predicted donation size.\n",
      "3. Print a list of features/weights for hte linear regression model sorted by absolute weight.  Do the highest weight features seem like things that would affect donation size?"
     ]
    }
   ],
   "metadata": {}
  }
 ]
}