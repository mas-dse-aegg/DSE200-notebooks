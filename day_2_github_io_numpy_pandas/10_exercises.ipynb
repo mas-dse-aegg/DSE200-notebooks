{
 "cells": [
  {
   "cell_type": "markdown",
   "metadata": {},
   "source": [
    "# Week 2 Exercises\n",
    "\n",
    "In this weeks exercises you will use Numpy/Scipy to impliment some numerical algorithms and then you will use Pandas to perform a rudamentary data analysis using the KDD 98 dataset.  Along the way you will use unix/basic python from the first week as well as git to save your work.\n",
    "\n",
    "As a first step we import the libraries we'll use later on.  This allows us to use numpy library calls by prefixing the call with np."
   ]
  },
  {
   "cell_type": "code",
   "execution_count": null,
   "metadata": {
    "collapsed": false
   },
   "outputs": [],
   "source": [
    "#Import the libraries \n",
    "import numpy as np\n",
    "import scipy as sp\n",
    "import pandas as pd"
   ]
  },
  {
   "cell_type": "markdown",
   "metadata": {},
   "source": [
    "## Matrix Manipulations\n",
    "Lets first create a matrix and perform some manipulations of it.\n",
    "\n",
    "Using numpy's matrix data structure, define the following matricies:\n",
    "\n",
    "$$A=\\left[ \\begin{array}{ccc} 3 & 5 & 9 \\\\ 3 & 3 & 4 \\\\ 5 & 9 & 17 \\end{array} \\right]$$\n",
    "\n",
    "$$B=\\left[ \\begin{array}{c} 2 \\\\ 1 \\\\ 4 \\end{array} \\right]$$\n",
    "\n",
    "After this solve the matrix equation:\n",
    "$$Ax = B$$"
   ]
  },
  {
   "cell_type": "markdown",
   "metadata": {},
   "source": [
    "Now write three functions for matrix multiply $C=AB$ in each of the following styles:\n",
    "\n",
    "1. By using nested for loops to impliment the naive algorithm ($C_{ij}=\\sum_{k=0}^{m-1}A_{ik}B_{kj}$)\n",
    "2. Using numpy's built in martrix multiplication  \n",
    "3. Using Cython\n",
    "\n",
    "The three methods should have the same answer"
   ]
  },
  {
   "cell_type": "code",
   "execution_count": null,
   "metadata": {
    "collapsed": false
   },
   "outputs": [],
   "source": [
    "#3 x 3 - 3 x 1\n",
    "# 3 x 1 \n",
    "\n",
    "# A = n x m = 3 x 3\n",
    "# B = m x p = 3 x 1\n",
    "# C = n x p = 3 x 1\n",
    "\n",
    "def product(A,B):\n",
    "    C=[[0],[0],[0]]\n",
    "    C=np.empty((len(A), len(B[0])))\n",
    "    \n",
    "    for i in range(len(A[0])):\n",
    "        for j in range(len(B[0])):\n",
    "            _sum = 0\n",
    "            for k in range(len(B)):\n",
    "                _sum += A[i][k] * B[k][j]\n",
    "            C[i][j] = _sum\n",
    "    return C\n",
    "\n",
    "A = [[3,5,9],[3,3,4],[5,9,17]]\n",
    "B = [[2],[1],[4]]\n",
    "\n",
    "product(A,B)"
   ]
  },
  {
   "cell_type": "code",
   "execution_count": null,
   "metadata": {
    "collapsed": false
   },
   "outputs": [],
   "source": [
    "import numpy as np\n",
    "A=np.array([[3,5,9],[3,3,4],[5,9,17]])\n",
    "B=np.array([[2],[1],[4]])\n",
    "A.dot(B)"
   ]
  },
  {
   "cell_type": "markdown",
   "metadata": {},
   "source": [
    "Now we wish to evaluate the performance of these three methods.  Write a method that given three dmiensions (a,b,c) makes a random a x b and b x c matrix and computes the product using your three functions and reports the speed of each method.\n",
    "\n",
    "After this measure performance of each method for all $a,b,c \\in \\{10,100,1000,10000\\}$ and plot the results.  Is one method always the fastest?  Discuss why this is or is not the case."
   ]
  },
  {
   "cell_type": "code",
   "execution_count": null,
   "metadata": {
    "collapsed": false
   },
   "outputs": [],
   "source": [
    "import time\n",
    "\n",
    "def factory(rows, cols):\n",
    "    return np.random.rand(rows,cols)\n",
    "    \n",
    "A = factory(3,3)\n",
    "B = factory(3,1)\n",
    "\n",
    "\n",
    "product(A,B)\n",
    "\n",
    "sizes = [ 10, 100, 200, 300, 400]\n",
    "\n",
    "time_alex = []\n",
    "time_np = []\n",
    "\n",
    "for size in sizes:\n",
    "    A = factory(size,size)\n",
    "    B = factory(size, size)\n",
    "\n",
    "    t0 = time.time()\n",
    "    C_alex = product(A,B)\n",
    "    t1 = time.time()\n",
    "    elapsed = t1-t0\n",
    "    time_alex.append(elapsed)\n",
    "    \n",
    "    t0 = time.time()\n",
    "    C_np = A.dot(B)\n",
    "    t1 = time.time()\n",
    "    elapsed = t1-t0\n",
    "    time_np.append(elapsed)\n",
    "    \n",
    "time_alex\n",
    "time_np\n",
    "\n",
    "import matplotlib.pyplot as plt\n",
    "%matplotlib inline\n",
    "\n",
    "plt.scatter(sizes, time_alex, color='green')\n",
    "plt.scatter(sizes, time_np, color='red')"
   ]
  },
  {
   "cell_type": "markdown",
   "metadata": {},
   "source": [
    "As you can see from the plot above, my naieve solution grows at a n^3 complexity rate, while the numpy implemention is much more efficient and the growth rate remains mostly constant. "
   ]
  },
  {
   "cell_type": "markdown",
   "metadata": {},
   "source": [
    "**BONUS** Now repeat the past two problems but instead of computing the matrix product, compute a matrix's [determinant](http://en.wikipedia.org/wiki/Determinant).  Measure performance for matricies of various sizes and discuss the results.  Determinant may get impractical to calculate for not too huge of matricies, so no need to goto 1000x1000 matricies."
   ]
  },
  {
   "cell_type": "code",
   "execution_count": null,
   "metadata": {
    "collapsed": false
   },
   "outputs": [],
   "source": [
    "from __future__ import division\n",
    "from copy import deepcopy\n",
    "import math\n",
    "\n",
    "def recursive_determinant(X):\n",
    "    \"\"\"\n",
    "    Find the determinant in a recursive fashion.  Very inefficient\n",
    "    X - Matrix object\n",
    "    \"\"\"\n",
    "    #Must be a square matrix\n",
    "    assert X.rows == X.cols\n",
    "    #Must be at least 2x2\n",
    "    assert X.rows > 1\n",
    "\n",
    "    term_list = []\n",
    "    #If more than 2 rows, reduce and solve in a piecewise fashion\n",
    "    if X.cols>2:\n",
    "        for j in xrange(0,X.cols):\n",
    "            #Remove i and j columns\n",
    "            new_x = deepcopy(X)\n",
    "            del new_x[0]\n",
    "            new_x.del_column(j)\n",
    "            #Find the multiplier\n",
    "            multiplier = X[0][j] * math.pow(-1,(2+j))\n",
    "            #Recurse to find the determinant\n",
    "            det = recursive_determinant(new_x)\n",
    "            term_list.append(multiplier*det)\n",
    "        return sum(term_list)\n",
    "    else:\n",
    "        return(X[0][0]*X[1][1] - X[0][1]*X[1][0])\n",
    "    \n",
    "class Matrix(object):\n",
    "    \"\"\"\n",
    "    Represent a matrix and allow for basic matrix operations to be done.\n",
    "    \"\"\"\n",
    "    def __init__(self, X):\n",
    "        \"\"\"\n",
    "        X - a list of lists, ie [[1],[1]]\n",
    "        \"\"\"\n",
    "        #Validate that the input is ok\n",
    "        self.validate(X)\n",
    "        self.X = X\n",
    "\n",
    "    def validate(self, X):\n",
    "        \"\"\"\n",
    "        Validate that a given list of lists is a proper matrix\n",
    "        X - a list of lists\n",
    "        \"\"\"\n",
    "        list_error = \"X must be a list of lists corresponding to a matrix, with each sub-list being a row.\"\n",
    "        #Input must be a list\n",
    "        if not isinstance(X, list):\n",
    "            raise Exception(list_error)\n",
    "        #All list elements must also be lists\n",
    "        for i in xrange(0,len(X)):\n",
    "            if not isinstance(X[i], list):\n",
    "                raise Exception(list_error)\n",
    "\n",
    "        #All rows must have equal length\n",
    "        first_row_len = len(X[0])\n",
    "        for i in xrange(0,len(X)):\n",
    "            if len(X[i])!=first_row_len:\n",
    "                raise Exception(\"All rows in X must be the same length.\")\n",
    "\n",
    "    def invert(self):\n",
    "        \"\"\"\n",
    "        Invert the matrix in place.\n",
    "        \"\"\"\n",
    "        self.X = invert(self.X)\n",
    "        return self\n",
    "    \n",
    "    @property\n",
    "    def rows(self):\n",
    "        \"\"\"\n",
    "        Number of rows in the matrix\n",
    "        \"\"\"\n",
    "        return len(self.X)\n",
    "    \n",
    "    @property\n",
    "    def cols(self):\n",
    "        \"\"\"\n",
    "        Number of columns in the matrix\n",
    "        \"\"\"\n",
    "        return len(self.X[0])\n",
    "    \n",
    "    def transpose(self):\n",
    "        \"\"\"\n",
    "        Transpose the matrix in place.\n",
    "        \"\"\"\n",
    "        trans = []\n",
    "        for j in xrange(0,self.cols):\n",
    "            row = []\n",
    "            for i in xrange(0,self.rows):\n",
    "                row.append(self.X[i][j])\n",
    "            trans.append(row)\n",
    "        self.X = trans\n",
    "        return self\n",
    "\n",
    "    def __getitem__(self, key):\n",
    "        \"\"\"\n",
    "        Get a row of the matrix, ie m=Matrix([[1],[1]]); m[0]\n",
    "        \"\"\"\n",
    "        return self.X[key]\n",
    "\n",
    "    def __setitem__(self, key, value):\n",
    "        \"\"\"\n",
    "        Set a row of the matrix, ie m=Matrix([[1],[1]]); m[0] = [2]\n",
    "        \"\"\"\n",
    "        assert self.cols == len(value)\n",
    "        self.X[key] = value\n",
    "\n",
    "    def set_column(self, key, value):\n",
    "        \"\"\"\n",
    "        Set a column to a specific value\n",
    "        \"\"\"\n",
    "        assert self.rows == len(value)\n",
    "        for i in xrange(0,self.rows):\n",
    "            self.X[i][key] = value[i]\n",
    "\n",
    "    def __delitem__(self, key):\n",
    "        \"\"\"\n",
    "        Delete a row of the matrix\n",
    "        \"\"\"\n",
    "        del self.X[key]\n",
    "\n",
    "    def del_column(self, key):\n",
    "        \"\"\"\n",
    "        Delete a specified column\n",
    "        \"\"\"\n",
    "        for i in xrange(0,self.rows):\n",
    "            del self.X[i][key]\n",
    "\n",
    "    def __len__(self):\n",
    "        \"\"\"\n",
    "        Get the length of the matrix\n",
    "        \"\"\"\n",
    "        return self.rows\n",
    "\n",
    "    def __rmul__(self, Z):\n",
    "        \"\"\"\n",
    "        Right hand multiplication, ie other_matrix * matrix\n",
    "        \"\"\"\n",
    "        #Only 2 Matrix objects can be multiplied\n",
    "        assert(isinstance(Z, Matrix))\n",
    "\n",
    "        #Number of columns in other matrix must match number of rows in this matrix\n",
    "        assert Z.cols==self.rows\n",
    "\n",
    "        product = []\n",
    "        for i in xrange(0,Z.rows):\n",
    "            row = []\n",
    "            for j in xrange(0,self.cols):\n",
    "                row.append(row_multiply(Z.X[i], [self.X[m][j] for m in xrange(0,self.rows)]))\n",
    "            product.append(row)\n",
    "        return Matrix(product)\n",
    "\n",
    "    def __mul__(self, Z):\n",
    "        \"\"\"\n",
    "        Left hand multiplication, ie matrix * other_matrix\n",
    "        \"\"\"\n",
    "        assert(isinstance(Z, Matrix))\n",
    "\n",
    "        assert Z.rows==self.cols\n",
    "\n",
    "        product = []\n",
    "        for i in xrange(0,self.rows):\n",
    "            row = []\n",
    "            for j in xrange(0,Z.cols):\n",
    "                row.append(row_multiply(self.X[i], [Z[m][j] for m in xrange(0,Z.rows)]))\n",
    "            product.append(row)\n",
    "        return Matrix(product)\n",
    "\n",
    "    def __str__(self):\n",
    "        \"\"\"\n",
    "        String representation of matrix.\n",
    "        \"\"\"\n",
    "        return str(self.X)\n",
    "\n",
    "    def __repr__(self):\n",
    "        \"\"\"\n",
    "        Representation of the matrix\n",
    "        \"\"\"\n",
    "        return str(self.X)\n",
    "\n",
    "    @property\n",
    "    def determinant(self):\n",
    "        return recursive_determinant(self)\n",
    "    \n",
    "A = [[3,5,9],[3,3,4],[5,9,17]]\n",
    "A=Matrix(A)\n",
    "recursive_determinant(A)\n",
    "\n",
    "\n"
   ]
  },
  {
   "cell_type": "markdown",
   "metadata": {},
   "source": [
    "### IO Exercises\n",
    "\n",
    "Below is a map of various datatypes in python that you have come across and their corresponding JSON equivalents.\n",
    "\n",
    "$$Datatypes=\\left[ \\begin{array}{cc} JSON & Python3 \\\\ object & dictionary \\\\ array & list \\\\ string & string \\\\ integer\t& integer \\\\ real number & float \\\\ true & True \\\\ false & False \\\\ null & None  \\end{array} \\right]$$\n",
    "\n",
    "\n",
    "There are atleast two very important python datatypes missing in the above list. \n",
    "Can you find the same?  [list the two mising python datatypes in this markdown cell below]\n",
    "\n",
    "1. Touple\n",
    "2. None\n",
    "3. Sets\n",
    "\n",
    "Now We can save the above map as a dictionary with Key-value pairs \n",
    "1. create a python dictionary named dataypes, having the above map as the Key-value pairs with Python datatypes as values and JSON equivalents as keys.\n",
    "2. Save it as a pickle called datatypes and gzip the same.\n",
    "3. Reload this pickle, and read the file contents and output the data in the following formatted way as given in this example - \"The JSON equivalent for the Python datatype Dictionary is Object\". Output similarly for the rest of the key-value pairs.\n",
    "4. Save this data as a JSON but using Python datatypes as keys and JSON equivalent as values this time. "
   ]
  },
  {
   "cell_type": "code",
   "execution_count": null,
   "metadata": {
    "collapsed": false
   },
   "outputs": [],
   "source": [
    "Datatypes={\"object\": \"dictionary\", \"array\": \"list\", \"string\":\"string\", \"integer\":\"integer\", \"realnumber\":\"float\", \"true\":\"True\", \"false\":\"False\", \"null\":\"None\"}"
   ]
  },
  {
   "cell_type": "code",
   "execution_count": null,
   "metadata": {
    "collapsed": false
   },
   "outputs": [],
   "source": [
    "import pickle\n",
    "import gzip\n",
    "pickle.dump(Datatypes,gzip.open('picklez0.pk.gz','wb'),0)\n",
    "B=pickle.load(gzip.open('picklez0.pk.gz','rb'))\n",
    "B"
   ]
  },
  {
   "cell_type": "markdown",
   "metadata": {},
   "source": [
    "## Pandas Data Analysis\n",
    "Pandas gives us a nice set of tools to work with columnar data (similar to R's dataframe). \n",
    "To learn how to use this it makes the most sense to use a real data set.\n",
    "For this assignment we'll use the KDD Cup 1998 dataset, which can be sourced from http://kdd.ics.uci.edu/databases/kddcup98/kddcup98.html .\n",
    "\n",
    "\n",
    "### Acquiring Data\n",
    "First we pull the README file from the dataset into this notebook via the unix \"curl\" command.  Remember you can hide/minimize output cells via the button on the left of the output."
   ]
  },
  {
   "cell_type": "code",
   "execution_count": null,
   "metadata": {
    "collapsed": false,
    "scrolled": true
   },
   "outputs": [],
   "source": [
    "!curl http://kdd.ics.uci.edu/databases/kddcup98/epsilon_mirror/readme"
   ]
  },
  {
   "cell_type": "markdown",
   "metadata": {},
   "source": [
    "As you can see this README describes several files which may be of use.  In particular there are two more documentation files (DOC and DIC) we should read to get an idea of the data format.  Bring these files into the notebook."
   ]
  },
  {
   "cell_type": "code",
   "execution_count": null,
   "metadata": {
    "collapsed": false
   },
   "outputs": [],
   "source": [
    "!curl http://kdd.ics.uci.edu/databases/kddcup98/epsilon_mirror/cup98doc.txt"
   ]
  },
  {
   "cell_type": "code",
   "execution_count": null,
   "metadata": {
    "collapsed": false
   },
   "outputs": [],
   "source": [
    "!curl http://kdd.ics.uci.edu/databases/kddcup98/epsilon_mirror/cup98dic.txt"
   ]
  },
  {
   "cell_type": "markdown",
   "metadata": {},
   "source": [
    "Now we wish to download the cup98lrn.zip file and unzip it into a new subdirectory called \"data\".  \n",
    "However, since this file is pretty big we don't want to store it on github.  \n",
    "Luckily git provides the [.gitignore](http://git-scm.com/docs/gitignore) file which allows us to specify files we don't want to put into our git repository.\n",
    "\n",
    "Please do the following steps:\n",
    "\n",
    "1. Add the directory \"data\" to the .gitignore file\n",
    "2. Commit the new .gitignore file\n",
    "3. Create a new directory \"data\"\n",
    "4. Download http://kdd.ics.uci.edu/databases/kddcup98/epsilon_mirror/cup98lrn.zip into the data directory\n",
    "5. Unzip the cup98lrn.zip (we will only be using the unzipped version, so feel free to remove the zip file)\n",
    "6. Run \"git status\" to show that the data directory is not an untracked file (this indicates it is ignored)\n",
    "\n",
    "**NOTE:** These steps only need to be run once, it is advised you comment all the lines out by putting a # at the start of each line after they have run.  This will save you time in the future when you have to rerun all cells/don't want to spend a few minutes downloading the data file."
   ]
  },
  {
   "cell_type": "code",
   "execution_count": null,
   "metadata": {
    "collapsed": false
   },
   "outputs": [],
   "source": [
    "path=\"../data/cup98LRN2.csv\"\n",
    "file=open(path, \"r\")\n",
    "import pandas as pd"
   ]
  },
  {
   "cell_type": "markdown",
   "metadata": {},
   "source": [
    "Now perform some basic sanity checks on the data.  Using a combination of unix/basic python answer the following questions:\n",
    "\n",
    "1. How many lines are there?  \n",
    "2. Is the file character seperated or fixed width format?\n",
    "3. Is there a header?  If so how many fields are in it?\n",
    "4. Do all rows have the same number of fields as the header?\n",
    "5. Does anyhting in 1-4 disagree with the readme file or indicate erroneous data?"
   ]
  },
  {
   "cell_type": "code",
   "execution_count": null,
   "metadata": {
    "collapsed": false
   },
   "outputs": [],
   "source": [
    "!wc -l ../data/cup98LRN.txt"
   ]
  },
  {
   "cell_type": "code",
   "execution_count": null,
   "metadata": {
    "collapsed": false
   },
   "outputs": [],
   "source": [
    "!head -n 1 ../data/cup98LRN2.csv"
   ]
  },
  {
   "cell_type": "code",
   "execution_count": null,
   "metadata": {
    "collapsed": true
   },
   "outputs": [],
   "source": []
  },
  {
   "cell_type": "code",
   "execution_count": null,
   "metadata": {
    "collapsed": false
   },
   "outputs": [],
   "source": [
    "col_names = [\"ODATEDW\", \"OSOURCE\", \"TCODE\"]\n",
    "kdd = pd.read_csv(path, error_bad_lines=False)\n",
    "kdd.describe()"
   ]
  },
  {
   "cell_type": "markdown",
   "metadata": {},
   "source": [
    "Give answers to questions 1-4 in this markdown cell:\n",
    "\n",
    "1. \n",
    "2. \n",
    "3. \n",
    "4. \n",
    "\n",
    "Now load the data file into a pandas data frame called \"learn\".  To save some time, we've loaded the data dictionary into col_types.  \n",
    "\n",
    "Finally split learn into two data frames, learn_y: the targets (two columns described in the documentation) and learn_x: the predictors (everything but the targets)"
   ]
  },
  {
   "cell_type": "code",
   "execution_count": null,
   "metadata": {
    "collapsed": false
   },
   "outputs": [],
   "source": [
    "dict_file = open(\"dict.dat\")\n",
    "col_types = [ (x.split(\"\\t\")[0], x.strip().split(\"\\t\")[1]) for x in dict_file.readlines() ]"
   ]
  },
  {
   "cell_type": "code",
   "execution_count": null,
   "metadata": {
    "collapsed": false
   },
   "outputs": [],
   "source": []
  },
  {
   "cell_type": "markdown",
   "metadata": {},
   "source": [
    "### Summarizing Data\n",
    "Now that we have loaded data into the learn table, we wish to to summarize the data.  \n",
    "Write a function called summary which takes a pandas data frame and prints a summary of each column containing the following:\n",
    "\n",
    "If the column is numeric:\n",
    "\n",
    "1. Mean\n",
    "2. Standard Deviation\n",
    "3. Min/Max\n",
    "4. Number of missing values (NaN, Inf, NA)\n",
    "\n",
    "If the column is non alphabetical:\n",
    "\n",
    "1. Number of distinct values\n",
    "2. Number of missing values (NaN, INF, NA, blank/all spaces)\n",
    "3. The frequency of the 3 most common values and 3 least common values\n",
    "\n",
    "Format the output to be human readable.\n",
    "\n",
    "For example:\n",
    "> Field_1  \n",
    "> mean: 50  \n",
    "> std_dev: 25  \n",
    "> min: 0  \n",
    "> max: 100  \n",
    "> missing: 5\n",
    ">  \n",
    "> Field_2  \n",
    "> distinct_values: 100  \n",
    "> missing: 10  \n",
    ">  \n",
    "> 3 most common:  \n",
    ">   the: 1000  \n",
    ">   cat: 950  \n",
    ">   meows: 900  \n",
    ">  \n",
    "> 3 least common:  \n",
    ">   dogs: 5  \n",
    ">   lizards: 4  \n",
    ">   eggs: 1  "
   ]
  },
  {
   "cell_type": "markdown",
   "metadata": {
    "collapsed": false
   },
   "source": [
    " ### Pandas analysis on Calit2 data \n",
    "\n",
    "Import data from http://archive.ics.uci.edu/ml/machine-learning-databases/event-detection/CalIt2.data using curl\n",
    "\n",
    "This data comes from the main door of the CalIt2 building at UCI. Observations come from 2 data streams (people flow in and out of the building), over 15 weeks, 48 time slices per day (half hour count aggregates).\n",
    "\n",
    "Attribute Information:\n",
    "1. Flow ID: 7 is out flow, 9 is in flow\n",
    "2. Date: MM/DD/YY\n",
    "3. Time: HH:MM:SS\n",
    "4. Count: Number of counts reported for the previous half hour\n"
   ]
  },
  {
   "cell_type": "code",
   "execution_count": null,
   "metadata": {
    "collapsed": true
   },
   "outputs": [],
   "source": []
  },
  {
   "cell_type": "markdown",
   "metadata": {
    "collapsed": false
   },
   "source": [
    "#### Selecting Data ####\n",
    "1. Select all data for the date July 24 2005 having flow id=7. Also output the row count of results \n",
    "2. Select all rows whose count is greater than 5. Sort the result on count in descending order and output the top 10 rows"
   ]
  },
  {
   "cell_type": "code",
   "execution_count": null,
   "metadata": {
    "collapsed": true
   },
   "outputs": [],
   "source": []
  },
  {
   "cell_type": "markdown",
   "metadata": {},
   "source": [
    "#### Apply function ####\n",
    "1. For the 10 rows outputted above, use Pandas Apply function to subtract lowest value of the 10 from all of them and then output the average value of the resulting counts\n",
    "2. On the entire data, use apply function to sum all counts with flow_id=9 and date is 07/24/05"
   ]
  },
  {
   "cell_type": "code",
   "execution_count": null,
   "metadata": {
    "collapsed": true
   },
   "outputs": [],
   "source": []
  },
  {
   "cell_type": "markdown",
   "metadata": {},
   "source": [
    "#### Indexing an Selecting ####\n",
    "Exlain the following\n",
    "\n",
    "1. loc: \n",
    "2. iloc:\n",
    "3. ix:\n",
    "4. at:\n",
    "5. iat:\n",
    "\n",
    "Highlight the differences by providing usecases where one is more useful than the other\n",
    "\n",
    "\n",
    "Write a function to take two dates as input and return all flow ids and counts in that date range having both the dates inclusive. You can use pandas to_datetime function to convert the date to pandas datetime format "
   ]
  },
  {
   "cell_type": "code",
   "execution_count": null,
   "metadata": {
    "collapsed": true
   },
   "outputs": [],
   "source": []
  },
  {
   "cell_type": "markdown",
   "metadata": {},
   "source": [
    "#### Grouping ####\n",
    "1. Select data in the month of August 2005 having flow id=7\n",
    "2. Group the data based on date and get the max count per date"
   ]
  },
  {
   "cell_type": "code",
   "execution_count": null,
   "metadata": {
    "collapsed": true
   },
   "outputs": [],
   "source": []
  },
  {
   "cell_type": "markdown",
   "metadata": {},
   "source": [
    "#### Stacking, Unstacking ####\n",
    "1. Stack the data with count and flow_id as indexes\n",
    "2. Use reset_index to reset the stacked hierarchy by 1 level. The index then will just be the counts\n",
    "3. Unstack the data to get back original data"
   ]
  },
  {
   "cell_type": "code",
   "execution_count": null,
   "metadata": {
    "collapsed": true
   },
   "outputs": [],
   "source": []
  },
  {
   "cell_type": "markdown",
   "metadata": {},
   "source": [
    "#### Pandas and Matplotlib\n",
    "\n",
    "Plot a histogram of date vs total counts for flow_id=7 and flow_id=9 for the month of July 2005"
   ]
  },
  {
   "cell_type": "code",
   "execution_count": null,
   "metadata": {
    "collapsed": true
   },
   "outputs": [],
   "source": []
  }
 ],
 "metadata": {
  "kernelspec": {
   "display_name": "Python 2",
   "language": "python",
   "name": "python2"
  },
  "language_info": {
   "codemirror_mode": {
    "name": "ipython",
    "version": 2
   },
   "file_extension": ".py",
   "mimetype": "text/x-python",
   "name": "python",
   "nbconvert_exporter": "python",
   "pygments_lexer": "ipython2",
   "version": "2.7.10"
  }
 },
 "nbformat": 4,
 "nbformat_minor": 0
}
