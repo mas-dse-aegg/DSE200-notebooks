{
 "cells": [
  {
   "cell_type": "markdown",
   "metadata": {},
   "source": [
    "# Week 2 Exercises\n",
    "\n",
    "In this weeks exercises you will use Numpy/Scipy to impliment some numerical algorithms and then you will use Pandas to perform a rudamentary data analysis using the KDD 98 dataset.  Along the way you will use unix/basic python from the first week as well as git to save your work.\n",
    "\n",
    "As a first step we import the libraries we'll use later on.  This allows us to use numpy library calls by prefixing the call with np."
   ]
  },
  {
   "cell_type": "code",
   "execution_count": 1,
   "metadata": {
    "collapsed": false
   },
   "outputs": [],
   "source": [
    "#Import the libraries \n",
    "import numpy as np\n",
    "import scipy as sp\n",
    "import pandas as pd"
   ]
  },
  {
   "cell_type": "markdown",
   "metadata": {},
   "source": [
    "## Matrix Manipulations\n",
    "Lets first create a matrix and perform some manipulations of it.\n",
    "\n",
    "Using numpy's matrix data structure, define the following matricies:\n",
    "\n",
    "$$A=\\left[ \\begin{array}{ccc} 3 & 5 & 9 \\\\ 3 & 3 & 4 \\\\ 5 & 9 & 17 \\end{array} \\right]$$\n",
    "\n",
    "$$B=\\left[ \\begin{array}{c} 2 \\\\ 1 \\\\ 4 \\end{array} \\right]$$\n",
    "\n",
    "After this solve the matrix equation:\n",
    "$$Ax = B$$"
   ]
  },
  {
   "cell_type": "markdown",
   "metadata": {},
   "source": [
    "Now write three functions for matrix multiply $C=AB$ in each of the following styles:\n",
    "\n",
    "1. By using nested for loops to impliment the naive algorithm ($C_{ij}=\\sum_{k=0}^{m-1}A_{ik}B_{kj}$)\n",
    "2. Using numpy's built in martrix multiplication  \n",
    "3. Using Cython\n",
    "\n",
    "The three methods should have the same answer"
   ]
  },
  {
   "cell_type": "code",
   "execution_count": null,
   "metadata": {
    "collapsed": false
   },
   "outputs": [],
   "source": []
  },
  {
   "cell_type": "markdown",
   "metadata": {},
   "source": [
    "Now we wish to evaluate the performance of these three methods.  Write a method that given three dmiensions (a,b,c) makes a random a x b and b x c matrix and computes the product using your three functions and reports the speed of each method.\n",
    "\n",
    "After this measure performance of each method for all $a,b,c \\in \\{10,100,1000,10000\\}$ and plot the results.  Is one method always the fastest?  Discuss why this is or is not the case."
   ]
  },
  {
   "cell_type": "code",
   "execution_count": null,
   "metadata": {
    "collapsed": false
   },
   "outputs": [],
   "source": []
  },
  {
   "cell_type": "markdown",
   "metadata": {},
   "source": [
    "**BONUS** Now repeat the past two problems but instead of computing the matrix product, compute a matrix's [determinant](http://en.wikipedia.org/wiki/Determinant).  Measure performance for matricies of various sizes and discuss the results.  Determinant may get impractical to calculate for not too huge of matricies, so no need to goto 1000x1000 matricies."
   ]
  },
  {
   "cell_type": "code",
   "execution_count": null,
   "metadata": {
    "collapsed": false
   },
   "outputs": [],
   "source": []
  },
  {
   "cell_type": "markdown",
   "metadata": {},
   "source": [
    "### IO Exercises\n",
    "\n",
    "Below is a map of various datatypes in python that you have come across and their corresponding JSON equivalents.\n",
    "\n",
    "$$Datatypes=\\left[ \\begin{array}{cc} JSON & Python3 \\\\ object & dictionary \\\\ array & list \\\\ string & string \\\\ integer\t& integer \\\\ real number & float \\\\ true & True \\\\ false & False \\\\ null & None  \\end{array} \\right]$$\n",
    "\n",
    "\n",
    "There are atleast two very important python datatypes missing in the above list. \n",
    "Can you find the same?  [list the two mising python datatypes in this markdown cell below]\n",
    "\n",
    "1. \n",
    "2. \n",
    "\n",
    "Now We can save the above map as a dictionary with Key-value pairs \n",
    "1. create a python dictionary named dataypes, having the above map as the Key-value pairs with Python datatypes as values and JSON equivalents as keys.\n",
    "2. Save it as a pickle called datatypes and gzip the same.\n",
    "3. Reload this pickle, and read the file contents and output the data in the following formatted way as given in this example - \"The JSON equivalent for the Python datatype Dictionary is Object\". Output similarly for the rest of the key-value pairs.\n",
    "4. Save this data as a JSON but using Python datatypes as keys and JSON equivalent as values this time. "
   ]
  },
  {
   "cell_type": "markdown",
   "metadata": {},
   "source": [
    "## Pandas Data Analysis\n",
    "Pandas gives us a nice set of tools to work with columnar data (similar to R's dataframe). \n",
    "To learn how to use this it makes the most sense to use a real data set.\n",
    "For this assignment we'll use the KDD Cup 1998 dataset, which can be sourced from http://kdd.ics.uci.edu/databases/kddcup98/kddcup98.html .\n",
    "\n",
    "\n",
    "### Acquiring Data\n",
    "First we pull the README file from the dataset into this notebook via the unix \"curl\" command.  Remember you can hide/minimize output cells via the button on the left of the output."
   ]
  },
  {
   "cell_type": "code",
   "execution_count": 2,
   "metadata": {
    "collapsed": false,
    "scrolled": true
   },
   "outputs": [
    {
     "name": "stdout",
     "output_type": "stream",
     "text": [
      "+--------------------------------------------------------------------+\r",
      "\r\n",
      "| NOTE TO ALL DOWN-LOADERS                                           |\r",
      "\r\n",
      "+--------------------------------------------------------------------+\r",
      "\r\n",
      "\r",
      "\r\n",
      "The KDD-CUP-98 data set and the accompanying documentation are now \r",
      "\r\n",
      "available for general use with the following restrictions: \r",
      "\r\n",
      "\r",
      "\r\n",
      "  (1) The users of the data must notify \r",
      "\r\n",
      "\r",
      "\r\n",
      "\tIsmail Parsa\t(iparsa@epsilon.com) and\r",
      "\r\n",
      "\tKen Howes\t(khowes@epsilon.com) \r",
      "\r\n",
      "\r",
      "\r\n",
      "  in the event they produce results, visuals or tables, etc. from the \r",
      "\r\n",
      "  data and send a note that includes a summary of the final result. \r",
      "\r\n",
      "\r",
      "\r\n",
      "  (2) The authors of published and/or unpublished articles that use \r",
      "\r\n",
      "  the KDD-Cup-98 data set must also notify the individuals listed \r",
      "\r\n",
      "  above and send a copy of their published and/or unpublished work. \r",
      "\r\n",
      "\r",
      "\r\n",
      "  (3) If you intend to use this data set for training or educational\r",
      "\r\n",
      "  purposes, you must not reveal the name of the sponsor PVA \r",
      "\r\n",
      "  (Paralyzed Veterans of America) to the trainees or students. You \r",
      "\r\n",
      "  are allowed to say \"a national veterans organization\"...\r",
      "\r\n",
      "\r",
      "\r\n",
      "\r",
      "\r\n",
      "For more information regarding the KDD-Cup (including the list of the \r",
      "\r\n",
      "participants and the results), please visit the KDD-Cup-98 web page at\r",
      "\r\n",
      "\r",
      "\r\n",
      "\thttp://www.epsilon.com/new\r",
      "\r\n",
      "\r",
      "\r\n",
      "While there, scroll down to Data Mining Presentations where you will \r",
      "\r\n",
      "find the KDD-Cup-98 web page. \r",
      "\r\n",
      "\r",
      "\r\n",
      "\r",
      "\r\n",
      "Ismail Parsa \r",
      "\r\n",
      "Epsilon \r",
      "\r\n",
      "50 Cambridge Street \r",
      "\r\n",
      "Burlington MA 01803 USA \r",
      "\r\n",
      "\r",
      "\r\n",
      "TEL: (781) 685-6734 \r",
      "\r\n",
      "FAX: (781) 685-0806 \r",
      "\r\n",
      "\r",
      "\r\n",
      "+--------------------------------------------------------------------+\r",
      "\r\n",
      "| LISTING of the FILES (README FILE)                                 |\r",
      "\r\n",
      "+--------------------------------------------------------------------+\r",
      "\r\n",
      "\r",
      "\r\n",
      "File Naming Conventions: \r",
      "\r\n",
      "\r",
      "\r\n",
      "o cup98               : KDD-CUP-98 \r",
      "\r\n",
      "o      QUE            : QUEstionnaire \r",
      "\r\n",
      "o      DOC            : DOCumentation\r",
      "\r\n",
      "o      DIC            : DICtionary\r",
      "\r\n",
      "o      LRN            : LeaRNing data set \r",
      "\r\n",
      "o      VAL            : VALidation data set \r",
      "\r\n",
      "o      VALtargt       : TARGeT fields for VALidation data set\r",
      "\r\n",
      "o              .txt   : plain ascii text files\r",
      "\r\n",
      "o              .zip   : PKZIP compressed files\r",
      "\r\n",
      "o              .txt.Z : UNIX COMPRESSED files\r",
      "\r\n",
      "\r",
      "\r\n",
      "FILE NAME       DESCRIPTION\r",
      "\r\n",
      "--------------- ------------------------------------------------------\r",
      "\r\n",
      "\r",
      "\r\n",
      "README          This list, listing the files in the FTP server and \r",
      "\r\n",
      "                their contents.\r",
      "\r\n",
      "\r",
      "\r\n",
      "cup98NDA.txt    The Non-Disclosure Agreement. MUST BE SIGNED BY ALL \r",
      "\r\n",
      "                PARTICIPANTS AND MAILED BACK TO ISMAIL PARSA \r",
      "\r\n",
      "                <iparsa@epsilon.com> BEFORE DOWNLOADING THE DATA SETS.\r",
      "\r\n",
      "\r",
      "\r\n",
      "cup98DOC.txt    This file, an overview and pointer to more detailed \r",
      "\r\n",
      "                information about the competition\r",
      "\r\n",
      "\r",
      "\r\n",
      "cup98DIC.txt    Data dictionary to accompany the analysis data set. \r",
      "\r\n",
      "\r",
      "\r\n",
      "cup98QUE.txt    KDD-CUP questionnaire. PARTICIPANTS ARE REQUIRED TO\r",
      "\r\n",
      "                FILL-OUT THE QUESTIONNAIRE and turned in\r",
      "\r\n",
      "                with the results. \r",
      "\r\n",
      "\r",
      "\r\n",
      "cup98LRN.zip    PKZIP compressed raw LEARNING data set. \r",
      "\r\n",
      "                Internal name: cup98LRN.txt \r",
      "\r\n",
      "                File size: 36,468,735 bytes zipped. 117,167,952 bytes \r",
      "\r\n",
      "                unzipped.\r",
      "\r\n",
      "                Number of Records: 95412.\r",
      "\r\n",
      "                Number of Fields: 481.\r",
      "\r\n",
      "\r",
      "\r\n",
      "cup98VAL.zip    PKZIP compressed raw VALIDATION data set. \r",
      "\r\n",
      "                Internal name: cup98VAL.txt \r",
      "\r\n",
      "                File size: 36,763,018 bytes zipped. 117,943,347 bytes \r",
      "\r\n",
      "                unzipped.\r",
      "\r\n",
      "                Number of Records: 96367.\r",
      "\r\n",
      "                Number of Fields: 479.\r",
      "\r\n",
      " \r",
      "\r\n",
      "cup98LRN.txt.Z  UNIX COMPRESSed raw LEARNING data set. \r",
      "\r\n",
      "                Internal name: cup98LRN.txt \r",
      "\r\n",
      "                File size: 36,579,127 bytes compressed. 117,167,952 \r",
      "\r\n",
      "                bytes uncompressed.\r",
      "\r\n",
      "                Number of Records: 95412.\r",
      "\r\n",
      "                Number of Fields: 481.\r",
      "\r\n",
      "\r",
      "\r\n",
      "cup98VAL.txt.Z  UNIX COMPRESSed raw VALIDATION data set. \r",
      "\r\n",
      "                Internal name: cup98VAL.txt \r",
      "\r\n",
      "                File size: 36,903,761 bytes compressed. 117,943,347 \r",
      "\r\n",
      "                bytes uncompressed.\r",
      "\r\n",
      "                Number of Records: 96367.\r",
      "\r\n",
      "                Number of Fields: 479.\r",
      "\r\n"
     ]
    }
   ],
   "source": [
    "!curl http://kdd.ics.uci.edu/databases/kddcup98/epsilon_mirror/readme"
   ]
  },
  {
   "cell_type": "markdown",
   "metadata": {},
   "source": [
    "As you can see this README describes several files which may be of use.  In particular there are two more documentation files (DOC and DIC) we should read to get an idea of the data format.  Bring these files into the notebook."
   ]
  },
  {
   "cell_type": "code",
   "execution_count": null,
   "metadata": {
    "collapsed": false
   },
   "outputs": [],
   "source": []
  },
  {
   "cell_type": "markdown",
   "metadata": {},
   "source": [
    "Now we wish to download the cup98lrn.zip file and unzip it into a new subdirectory called \"data\".  \n",
    "However, since this file is pretty big we don't want to store it on github.  \n",
    "Luckily git provides the [.gitignore](http://git-scm.com/docs/gitignore) file which allows us to specify files we don't want to put into our git repository.\n",
    "\n",
    "Please do the following steps:\n",
    "\n",
    "1. Add the directory \"data\" to the .gitignore file\n",
    "2. Commit the new .gitignore file\n",
    "3. Create a new directory \"data\"\n",
    "4. Download http://kdd.ics.uci.edu/databases/kddcup98/epsilon_mirror/cup98lrn.zip into the data directory\n",
    "5. Unzip the cup98lrn.zip (we will only be using the unzipped version, so feel free to remove the zip file)\n",
    "6. Run \"git status\" to show that the data directory is not an untracked file (this indicates it is ignored)\n",
    "\n",
    "**NOTE:** These steps only need to be run once, it is advised you comment all the lines out by putting a # at the start of each line after they have run.  This will save you time in the future when you have to rerun all cells/don't want to spend a few minutes downloading the data file."
   ]
  },
  {
   "cell_type": "code",
   "execution_count": null,
   "metadata": {
    "collapsed": false
   },
   "outputs": [],
   "source": []
  },
  {
   "cell_type": "markdown",
   "metadata": {},
   "source": [
    "Now perform some basic sanity checks on the data.  Using a combination of unix/basic python answer the following questions:\n",
    "\n",
    "1. How many lines are there?  \n",
    "2. Is the file character seperated or fixed width format?\n",
    "3. Is there a header?  If so how many fields are in it?\n",
    "4. Do all rows have the same number of fields as the header?\n",
    "5. Does anyhting in 1-4 disagree with the readme file or indicate erroneous data?"
   ]
  },
  {
   "cell_type": "code",
   "execution_count": null,
   "metadata": {
    "collapsed": false
   },
   "outputs": [],
   "source": []
  },
  {
   "cell_type": "markdown",
   "metadata": {},
   "source": [
    "Give answers to questions 1-4 in this markdown cell:\n",
    "\n",
    "1. \n",
    "2. \n",
    "3. \n",
    "4. \n",
    "\n",
    "Now load the data file into a pandas data frame called \"learn\".  To save some time, we've loaded the data dictionary into col_types.  \n",
    "\n",
    "Finally split learn into two data frames, learn_y: the targets (two columns described in the documentation) and learn_x: the predictors (everything but the targets)"
   ]
  },
  {
   "cell_type": "code",
   "execution_count": null,
   "metadata": {
    "collapsed": false
   },
   "outputs": [],
   "source": [
    "dict_file = open(\"dict.dat\")\n",
    "col_types = [ (x.split(\"\\t\")[0], x.strip().split(\"\\t\")[1]) for x in dict_file.readlines() ]"
   ]
  },
  {
   "cell_type": "code",
   "execution_count": null,
   "metadata": {
    "collapsed": false
   },
   "outputs": [],
   "source": []
  },
  {
   "cell_type": "markdown",
   "metadata": {},
   "source": [
    "### Summarizing Data\n",
    "Now that we have loaded data into the learn table, we wish to to summarize the data.  \n",
    "Write a function called summary which takes a pandas data frame and prints a summary of each column containing the following:\n",
    "\n",
    "If the column is numeric:\n",
    "\n",
    "1. Mean\n",
    "2. Standard Deviation\n",
    "3. Min/Max\n",
    "4. Number of missing values (NaN, Inf, NA)\n",
    "\n",
    "If the column is non alphabetical:\n",
    "\n",
    "1. Number of distinct values\n",
    "2. Number of missing values (NaN, INF, NA, blank/all spaces)\n",
    "3. The frequency of the 3 most common values and 3 least common values\n",
    "\n",
    "Format the output to be human readable.\n",
    "\n",
    "For example:\n",
    "> Field_1  \n",
    "> mean: 50  \n",
    "> std_dev: 25  \n",
    "> min: 0  \n",
    "> max: 100  \n",
    "> missing: 5\n",
    ">  \n",
    "> Field_2  \n",
    "> distinct_values: 100  \n",
    "> missing: 10  \n",
    ">  \n",
    "> 3 most common:  \n",
    ">   the: 1000  \n",
    ">   cat: 950  \n",
    ">   meows: 900  \n",
    ">  \n",
    "> 3 least common:  \n",
    ">   dogs: 5  \n",
    ">   lizards: 4  \n",
    ">   eggs: 1  "
   ]
  },
  {
   "cell_type": "markdown",
   "metadata": {
    "collapsed": false
   },
   "source": [
    " #### Pandas analysis on Calit2 data \n",
    "\n",
    "Import data from http://archive.ics.uci.edu/ml/machine-learning-databases/event-detection/CalIt2.data using curl\n",
    "\n",
    "This data comes from the main door of the CalIt2 building at UCI. Observations come from 2 data streams (people flow in and out of the building), over 15 weeks, 48 time slices per day (half hour count aggregates).\n",
    "\n",
    "Attribute Information:\n",
    "1. Flow ID: 7 is out flow, 9 is in flow\n",
    "2. Date: MM/DD/YY\n",
    "3. Time: HH:MM:SS\n",
    "4. Count: Number of counts reported for the previous half hour\n"
   ]
  },
  {
   "cell_type": "code",
   "execution_count": null,
   "metadata": {
    "collapsed": true
   },
   "outputs": [],
   "source": []
  },
  {
   "cell_type": "markdown",
   "metadata": {
    "collapsed": false
   },
   "source": [
    "#### Selecting Data ####\n",
    "1. Select all data forthe day July 24 2005 having flow id=7. Also output the row count of results \n",
    "2. Select all rows whose count is greater than 5. Sort the result on count in descending order and output the top 10 rows"
   ]
  },
  {
   "cell_type": "code",
   "execution_count": null,
   "metadata": {
    "collapsed": true
   },
   "outputs": [],
   "source": []
  },
  {
   "cell_type": "markdown",
   "metadata": {},
   "source": [
    "#### Apply function ####\n",
    "1. For the 10 rows outputted above, use Pandas Apply function to subtract lowest value of the 10 from all of them and then output the average value of the resulting counts\n",
    "2. On the entire data, use apply function to sum all counts with flow_id=9 and date is 07/24/05"
   ]
  },
  {
   "cell_type": "code",
   "execution_count": null,
   "metadata": {
    "collapsed": true
   },
   "outputs": [],
   "source": []
  },
  {
   "cell_type": "markdown",
   "metadata": {},
   "source": [
    "#### Cell Referencing ####\n",
    "1. Write a function to take date,time as input and return corresponding flow id and count using iLoc\n",
    "2. Rewrite the above function using ix instead of iLoc"
   ]
  },
  {
   "cell_type": "code",
   "execution_count": null,
   "metadata": {
    "collapsed": true
   },
   "outputs": [],
   "source": []
  },
  {
   "cell_type": "markdown",
   "metadata": {},
   "source": [
    "#### Grouping ####\n",
    "1. Select data in the month of August 2005 having flow id=7\n",
    "2. Group the data based on date and get the max count per date"
   ]
  },
  {
   "cell_type": "code",
   "execution_count": null,
   "metadata": {
    "collapsed": true
   },
   "outputs": [],
   "source": []
  },
  {
   "cell_type": "markdown",
   "metadata": {},
   "source": [
    "#### Stacking, Unstacking ####\n",
    "1. Stack the data with count and flow_id as indexes\n",
    "2. Use reset_index to reset the stacked hierarchy by 1 level. The index then will just be the counts"
   ]
  },
  {
   "cell_type": "code",
   "execution_count": null,
   "metadata": {
    "collapsed": true
   },
   "outputs": [],
   "source": []
  },
  {
   "cell_type": "markdown",
   "metadata": {},
   "source": [
    "#### Pandas and Matplotlib\n",
    "\n",
    "Plot a histogram of date vs total counts for flow_id=7 and flow_id=9 for the month of July 2005"
   ]
  },
  {
   "cell_type": "code",
   "execution_count": null,
   "metadata": {
    "collapsed": true
   },
   "outputs": [],
   "source": []
  }
 ],
 "metadata": {
  "kernelspec": {
   "display_name": "Python 2",
   "language": "python",
   "name": "python2"
  },
  "language_info": {
   "codemirror_mode": {
    "name": "ipython",
    "version": 2
   },
   "file_extension": ".py",
   "mimetype": "text/x-python",
   "name": "python",
   "nbconvert_exporter": "python",
   "pygments_lexer": "ipython2",
<<<<<<< HEAD
   "version": "2.7.10"
=======
   "version": "2.7.6"
>>>>>>> 62ed3b2dddfbf4b94f6adf77b4de9ef57fa5487a
  }
 },
 "nbformat": 4,
 "nbformat_minor": 0
}
