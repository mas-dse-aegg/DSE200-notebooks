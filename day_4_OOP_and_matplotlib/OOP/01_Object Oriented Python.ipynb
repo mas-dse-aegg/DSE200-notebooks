{
 "cells": [
  {
   "cell_type": "markdown",
   "metadata": {},
   "source": [
    "## Function ##\n",
    "We often want to take a piece of code and wrap it into a function. That way we can use the code in several places without \n",
    "repeating it.\n",
    "\n",
    "### Function Parameters ###"
   ]
  },
  {
   "cell_type": "code",
   "execution_count": 1,
   "metadata": {
    "collapsed": false
   },
   "outputs": [
    {
     "name": "stdout",
     "output_type": "stream",
     "text": [
      "37\n",
      "inout\n"
     ]
    }
   ],
   "source": [
    "def add(a,b):\n",
    "    return a+b\n",
    "print add(32,5)\n",
    "print add('in','out')"
   ]
  },
  {
   "cell_type": "markdown",
   "metadata": {},
   "source": [
    "Functions can have parameters with default value. This helps keep the interface the the function simple while at the same time allowing fine control when needed. It also help keep functions backward compatible with code that was  written before the new parameters were added."
   ]
  },
  {
   "cell_type": "code",
   "execution_count": 2,
   "metadata": {
    "collapsed": false
   },
   "outputs": [
    {
     "name": "stdout",
     "output_type": "stream",
     "text": [
      "(cat)\n",
      "[dog]\n",
      "(this and that)\n"
     ]
    }
   ],
   "source": [
    "def paren(String,left='(',right=')'):\n",
    "    print left+String+right\n",
    "paren('cat')\n",
    "paren('dog','[',']')\n",
    "paren('this',right=' and that)')\n"
   ]
  },
  {
   "cell_type": "markdown",
   "metadata": {},
   "source": [
    "Function can even have generic parameters, which allow functions to have an arbitrary number of parameters and an arbitrary set of keywards. \n",
    "\n",
    "(*Advanced topic*: Another cool thing that this allows is to define a generic \"wrapper\" function which can be wrapped around any function and change it's behaviour. For more on that pattern google `\"python decorators\"`)"
   ]
  },
  {
   "cell_type": "code",
   "execution_count": 3,
   "metadata": {
    "collapsed": false
   },
   "outputs": [
    {
     "name": "stdout",
     "output_type": "stream",
     "text": [
      "args=[ 1,2,3,4 ]\n",
      "kwargs={  }\n",
      "args=[ this,that ]\n",
      "kwargs={ (butnot=the other) }\n"
     ]
    }
   ],
   "source": [
    "def generic(*args,**kwargs):\n",
    "    print 'args=[',','.join([str(arg) for arg in args]),']'\n",
    "    print 'kwargs={',','.join(['(%s=%s)'%(str(k),str(kwargs[k])) for k in kwargs.keys()]),'}'\n",
    "generic(1,2,3,4)\n",
    "generic('this','that',butnot='the other')"
   ]
  },
  {
   "cell_type": "markdown",
   "metadata": {},
   "source": [
    "### Namespaces and scopes ###\n",
    "\n",
    "A namespace is a collection of names that are accessible to a program. As we saw when we discussed the import command,\n",
    "it is often better to import functions into a separate namespace as when we use \n",
    "\n",
    "`import pandas as pd`\n",
    "\n",
    "which creates names of the form `pd.DataFrame` rather than\n",
    "\n",
    "`from pandas import *`\n",
    "\n",
    "which creates names of the form `DataFrame`.\n",
    "\n",
    "An important property of good software design is that function not have **side effects**. In other words, the only effect that calling a function would have on the state of the variables in the caller is done via assignment of the returned value to\n",
    "a variable in the calling function. Any other kind of impact is called a \"side-effect\" and is undesirable because it breaks the logical modularization of the code.\n",
    "\n",
    "On common side-effect can occur when a function assigns a value to a variable that is defined in the calling program. To protect against this side effect the variables that are defined inside a function occupy a separate name space, called the **local** name space. As in python variables come into being when they are assigned to, a variable is declared local if it is assigned a value inside the program. In addition, the parameters to the function are part of the local namespace.\n",
    "\n",
    "The local namespace is deleted when the function returns.\n",
    "\n",
    "Note however that the function **can read** variables that are defined in the calling program. It just can't **write** to those variables. Reading external variables gives the function access to global variables without requiring that they are passed as parameters."
   ]
  },
  {
   "cell_type": "code",
   "execution_count": 4,
   "metadata": {
    "collapsed": false,
    "scrolled": true
   },
   "outputs": [
    {
     "name": "stdout",
     "output_type": "stream",
     "text": [
      "initially b= 10\n",
      "finally  a= 2  b= 10\n",
      "from caller a= 5  b= 10\n"
     ]
    }
   ],
   "source": [
    "# an example of local and global vaiables.\n",
    "def f():\n",
    "    print 'initially b=',b\n",
    "    a=2   # create a local variable 'a' that masks the global 'a'\n",
    "    print 'finally  a=',a,' b=',b\n",
    "a=5; b=10\n",
    "f()\n",
    "print \"from caller a=\",a,' b=',b"
   ]
  },
  {
   "cell_type": "markdown",
   "metadata": {},
   "source": [
    "#### Guess and check what happens if you add the variable 'a' to the command \"print 'initially b=',b\""
   ]
  },
  {
   "cell_type": "markdown",
   "metadata": {},
   "source": [
    "#### locals and globals are dictionaries\n",
    "All variables that are defined in the current context, either as global or as local variables, can be accessed through the dictionaries named `local` and `global`"
   ]
  },
  {
   "cell_type": "code",
   "execution_count": 5,
   "metadata": {
    "collapsed": false
   },
   "outputs": [
    {
     "name": "stdout",
     "output_type": "stream",
     "text": [
      "locals:\n",
      "('y', 1)\n",
      "('x', 5)\n",
      "globals:\n",
      "\t_dh:[u'/Users/yoavfreund/academic.papers/Courses/DSE200/DSE200-notebooks-2015/day_4_OOP_and_matplotlib/OOP']\n",
      "\t__:\n",
      "\t_i:# an example of local and global vaiables.\n",
      "def f():\n",
      "    print 'initially b=',b\n",
      "    a=2   # create a local variable 'a' that masks the global 'a'\n",
      "    print 'finally  a=',a,' b=',b\n",
      "a=5; b=10\n",
      "f()\n",
      "print \"from caller a=\",a,' b=',b\n",
      "\tquit:<IPython.core.autocall.ZMQExitAutocall object at 0x1056de250>\n",
      "\t__builtins__:<module '__builtin__' (built-in)>\n",
      "\t_ih:['', u\"def add(a,b):\\n    return a+b\\nprint add(32,5)\\nprint add('in','out')\", u\"def paren(String,left='(',right=')'):\\n    print left+String+right\\nparen('cat')\\nparen('dog','[',']')\\nparen('this',right=' and that)')\", u\"def generic(*args,**kwargs):\\n    print 'args=[',','.join([str(arg) for arg in args]),']'\\n    print 'kwargs={',','.join(['(%s=%s)'%(str(k),str(kwargs[k])) for k in kwargs.keys()]),'}'\\ngeneric(1,2,3,4)\\ngeneric('this','that',butnot='the other')\", u'# an example of local and global vaiables.\\ndef f():\\n    print \\'initially b=\\',b\\n    a=2   # create a local variable \\'a\\' that masks the global \\'a\\'\\n    print \\'finally  a=\\',a,\\' b=\\',b\\na=5; b=10\\nf()\\nprint \"from caller a=\",a,\\' b=\\',b', u\"def f(x,y=1):\\n    print 'locals:'\\n    print '\\\\n'.join([str(item) for item in locals().items()]);\\n    print 'globals:'\\n    print '\\\\n'.join(['\\\\t'+str(key)+':'+str(value) for key,value in globals().items()]);\\nf(5);\"]\n",
      "\t__builtin__:<module '__builtin__' (built-in)>\n",
      "\t_i2:def paren(String,left='(',right=')'):\n",
      "    print left+String+right\n",
      "paren('cat')\n",
      "paren('dog','[',']')\n",
      "paren('this',right=' and that)')\n",
      "\t__name__:__main__\n",
      "\t___:\n",
      "\t_:\n",
      "\ta:5\n",
      "\t_sh:<module 'IPython.core.shadowns' from '/anaconda/lib/python2.7/site-packages/IPython/core/shadowns.pyc'>\n",
      "\tb:10\n",
      "\tf:<function f at 0x10634d8c0>\n",
      "\tgeneric:<function generic at 0x10634d848>\n",
      "\t_i5:def f(x,y=1):\n",
      "    print 'locals:'\n",
      "    print '\\n'.join([str(item) for item in locals().items()]);\n",
      "    print 'globals:'\n",
      "    print '\\n'.join(['\\t'+str(key)+':'+str(value) for key,value in globals().items()]);\n",
      "f(5);\n",
      "\t_i4:# an example of local and global vaiables.\n",
      "def f():\n",
      "    print 'initially b=',b\n",
      "    a=2   # create a local variable 'a' that masks the global 'a'\n",
      "    print 'finally  a=',a,' b=',b\n",
      "a=5; b=10\n",
      "f()\n",
      "print \"from caller a=\",a,' b=',b\n",
      "\t_i3:def generic(*args,**kwargs):\n",
      "    print 'args=[',','.join([str(arg) for arg in args]),']'\n",
      "    print 'kwargs={',','.join(['(%s=%s)'%(str(k),str(kwargs[k])) for k in kwargs.keys()]),'}'\n",
      "generic(1,2,3,4)\n",
      "generic('this','that',butnot='the other')\n",
      "\t_iii:def paren(String,left='(',right=')'):\n",
      "    print left+String+right\n",
      "paren('cat')\n",
      "paren('dog','[',']')\n",
      "paren('this',right=' and that)')\n",
      "\t_i1:def add(a,b):\n",
      "    return a+b\n",
      "print add(32,5)\n",
      "print add('in','out')\n",
      "\t__doc__:Automatically created module for IPython interactive environment\n",
      "\tadd:<function add at 0x10634d5f0>\n",
      "\texit:<IPython.core.autocall.ZMQExitAutocall object at 0x1056de250>\n",
      "\tget_ipython:<bound method ZMQInteractiveShell.get_ipython of <IPython.kernel.zmq.zmqshell.ZMQInteractiveShell object at 0x1056c8490>>\n",
      "\t_ii:def generic(*args,**kwargs):\n",
      "    print 'args=[',','.join([str(arg) for arg in args]),']'\n",
      "    print 'kwargs={',','.join(['(%s=%s)'%(str(k),str(kwargs[k])) for k in kwargs.keys()]),'}'\n",
      "generic(1,2,3,4)\n",
      "generic('this','that',butnot='the other')\n",
      "\tIn:['', u\"def add(a,b):\\n    return a+b\\nprint add(32,5)\\nprint add('in','out')\", u\"def paren(String,left='(',right=')'):\\n    print left+String+right\\nparen('cat')\\nparen('dog','[',']')\\nparen('this',right=' and that)')\", u\"def generic(*args,**kwargs):\\n    print 'args=[',','.join([str(arg) for arg in args]),']'\\n    print 'kwargs={',','.join(['(%s=%s)'%(str(k),str(kwargs[k])) for k in kwargs.keys()]),'}'\\ngeneric(1,2,3,4)\\ngeneric('this','that',butnot='the other')\", u'# an example of local and global vaiables.\\ndef f():\\n    print \\'initially b=\\',b\\n    a=2   # create a local variable \\'a\\' that masks the global \\'a\\'\\n    print \\'finally  a=\\',a,\\' b=\\',b\\na=5; b=10\\nf()\\nprint \"from caller a=\",a,\\' b=\\',b', u\"def f(x,y=1):\\n    print 'locals:'\\n    print '\\\\n'.join([str(item) for item in locals().items()]);\\n    print 'globals:'\\n    print '\\\\n'.join(['\\\\t'+str(key)+':'+str(value) for key,value in globals().items()]);\\nf(5);\"]\n",
      "\tparen:<function paren at 0x10634d758>\n",
      "\t_oh:{}\n",
      "\tOut:{}\n"
     ]
    }
   ],
   "source": [
    "def f(x,y=1):\n",
    "    print 'locals:'\n",
    "    print '\\n'.join([str(item) for item in locals().items()]);\n",
    "    print 'globals:'\n",
    "    print '\\n'.join(['\\t'+str(key)+':'+str(value) for key,value in globals().items()]);\n",
    "f(5);"
   ]
  },
  {
   "cell_type": "markdown",
   "metadata": {},
   "source": [
    "### Lambda expressions ###\n",
    "\n",
    "Functions can be parameters to other functions. For examples the `sort` command has an optional parameter `key`\n",
    "which defines a function whose input is an item in the list to be sorted and whose output sortable element such as a number or a string.\n",
    "\n",
    "Such functions are often very simple. Writing these function explicitly can lead to bluky and confusing code.\n",
    "\n",
    "A better solution is to use what are called \"anonymous functions\" or \"lambda functions\". These are functions which do not have a name and whose definition is very short and can be included inside the call to the function. See the example below.\n",
    "\n"
   ]
  },
  {
   "cell_type": "code",
   "execution_count": 6,
   "metadata": {
    "collapsed": false
   },
   "outputs": [
    {
     "name": "stdout",
     "output_type": "stream",
     "text": [
      "[('dave', 'B', 10), ('jane', 'B', 12), ('john', 'A', 15)]\n",
      "[('dave', 'B', 10), ('jane', 'B', 12), ('john', 'A', 15)]\n"
     ]
    }
   ],
   "source": [
    "student_tuples = [\n",
    "        ('john', 'A', 15),\n",
    "        ('jane', 'B', 12),\n",
    "        ('dave', 'B', 10),\n",
    "]\n",
    "\n",
    "def keyfunction(student):\n",
    "    return student[2]\n",
    "print sorted(student_tuples, key=keyfunction)   # sort by age\n",
    "\n",
    "# is equivalent to \n",
    "print sorted(student_tuples, key=lambda student: student[2])   # sort by age\n",
    "\n"
   ]
  },
  {
   "cell_type": "markdown",
   "metadata": {},
   "source": [
    "## Object oriented programming ##\n",
    "\n",
    "The code in this notebook is associated with the book [\"Introduction to computation\n",
    "and programming using Python\" By John V. Guttag](http://mitpress.mit.edu/books/introduction-computation-and-programming-using-python-0) The code here is taken from Chapter 8\n",
    "\n",
    "While functions help modularize computer code they leave much to be desired. It is often desirable to create modules that combine several functions together with the data on which these functions operate. In python these modules are called **classes**. A class is a definition of a type of **object** which can be manipulated in a predefined set of ways."
   ]
  },
  {
   "cell_type": "markdown",
   "metadata": {},
   "source": [
    "### A new class: IntSet\n",
    "Below we define a class called `IntSet` which represents a set of integers. The commands to create two new empty sets \n",
    "of type `intSet` called `X` and `Y` are\n",
    "\n",
    "> X=IntSet(); Y=IntSet()\n",
    "\n",
    "An object is a collection of **attributes** and **methods**. The attributes store the data which defines the object while the methods are the functions that can operate on this data.\n",
    "\n",
    "The syntax for accessing the attribute `vals` in the variable `X` is `X.vals`. The syntax for calling the method `insert` to insert the number `7` into the intSet Y is `Y.insert(7)`\n",
    "\n",
    "By Convention, if the name of an attribute or a method start with an underscore `_` the attribute or method is considered **private**. This means that the methods and attributes should not be accessed directly by outside code.\n",
    "\n",
    "Two standard private methods are:\n",
    "\n",
    "* `__init__`  a method for initializing the object. This method is called automatically when the class name is called.\n",
    "* `__str__` a method that returns a representation of the object as a string. This method is called by the print command."
   ]
  },
  {
   "cell_type": "code",
   "execution_count": null,
   "metadata": {
    "collapsed": false
   },
   "outputs": [],
   "source": [
    "#Page 93, Figure 8.1\n",
    "class IntSet(object):\n",
    "    \"\"\"An intSet is a set of integers\"\"\"\n",
    "    #Information about the implementation (not the abstraction)\n",
    "    #The value of the set is represented by a list of ints, self.vals.\n",
    "    #Each int in the set occurs in self.vals exactly once.\n",
    "    \n",
    "    def __init__(self):\n",
    "        \"\"\"Create an empty set of integers\"\"\"\n",
    "        self.vals = []\n",
    "\n",
    "    def insert(self, e):\n",
    "        \"\"\"Assumes e is an integer and inserts e into self\"\"\"\n",
    "        if not e in self.vals:\n",
    "            self.vals.append(e)\n",
    "\n",
    "    def member(self, e):\n",
    "        \"\"\"Assumes e is an integer\n",
    "           Returns True if e is in self, and False otherwise\"\"\"\n",
    "        return e in self.vals\n",
    "\n",
    "    def remove(self, e):\n",
    "        \"\"\"Assumes e is an integer and removes e from self\n",
    "           Raises ValueError if e is not in self\"\"\"\n",
    "        try:\n",
    "            self.vals.remove(e)\n",
    "        except:\n",
    "            raise ValueError(str(e) + ' not found')\n",
    "\n",
    "    def getMembers(self):\n",
    "        \"\"\"Returns a list containing the elements of self.\n",
    "           Nothing can be assumed about the order of the elements\"\"\"\n",
    "        return self.vals[:]\n",
    "\n",
    "    def __str__(self):\n",
    "        \"\"\"Returns a string representation of self\"\"\"\n",
    "        self.vals.sort()\n",
    "        result = ''\n",
    "        for e in self.vals:\n",
    "            result = result + str(e) + ','\n",
    "        return '{' + result[:-1] + '}' #-1 omits trailing comma"
   ]
  },
  {
   "cell_type": "code",
   "execution_count": null,
   "metadata": {
    "collapsed": false
   },
   "outputs": [],
   "source": [
    "#Page 94\n",
    "s = IntSet()\n",
    "print 's=',s\n",
    "s.insert(3)\n",
    "print s.member(3)"
   ]
  },
  {
   "cell_type": "markdown",
   "metadata": {},
   "source": [
    "### An exisiting class: arrays\n",
    "The package **numpy** defines the type \"array\" which defines k-dimensional arrays and over-rides many of the operations for them. A special method name is associated with each operand, some of those are:\n",
    "\n",
    "|operator| method name |\n",
    "|--------|-------------|\n",
    "| `+`    |   `__add__` |  "
   ]
  },
  {
   "cell_type": "code",
   "execution_count": 7,
   "metadata": {
    "collapsed": false
   },
   "outputs": [
    {
     "name": "stdout",
     "output_type": "stream",
     "text": [
      "a1 = [1 2 4]\n",
      "a2 = [2 4 8]\n",
      "a1 + 3 = [4 5 7]\n",
      "3 - a1 = [ 2  1 -1]\n",
      "a1 - a2 = [-1 -2 -4]\n",
      "a1*a2 = [ 2  8 32]\n"
     ]
    }
   ],
   "source": [
    "import numpy\n",
    "#Page 148\n",
    "a1 = numpy.array([1, 2, 4])\n",
    "print 'a1 =', a1\n",
    "a2 = a1*2\n",
    "print 'a2 =', a2\n",
    "print 'a1 + 3 =', a1 + 3\n",
    "print '3 - a1 =', 3 - a1\n",
    "print 'a1 - a2 =', a1 - a2\n",
    "print 'a1*a2 =', a1*a2"
   ]
  },
  {
   "cell_type": "markdown",
   "metadata": {},
   "source": [
    "### Defining the \"Person\" class ###\n",
    "\n",
    "We define a base class which holds the methods (functions) and properties (data) commong to all persons."
   ]
  },
  {
   "cell_type": "code",
   "execution_count": null,
   "metadata": {
    "collapsed": false
   },
   "outputs": [],
   "source": [
    "#Page 97, Figure 8.2\n",
    "import datetime\n",
    "\n",
    "class Person(object):  # (object) is redundant, all classes inherit from \"object\".\n",
    "\n",
    "    def __init__(self, name):\n",
    "        \"\"\"Create a person\"\"\"\n",
    "        self.name = name\n",
    "        try:\n",
    "            lastBlank = name.rindex(' ')\n",
    "            self.lastName = name[lastBlank+1:]\n",
    "        except:  # exception occurs if cannot find a space and something following it.\n",
    "            self.lastName = name\n",
    "        self.birthday = None\n",
    " \n",
    "    def getName(self):\n",
    "        \"\"\"Returns self's full name\"\"\"\n",
    "        return self.name\n",
    "\n",
    "    def getLastName(self):\n",
    "        \"\"\"Returns self's last name\"\"\"\n",
    "        return self.lastName\n",
    "\n",
    "    def setBirthday(self, birthdate):\n",
    "        \"\"\"Assumes birthdate is of type datetime.date\n",
    "           Sets self's birthday to birthdate\"\"\"\n",
    "        self.birthday = birthdate\n",
    "\n",
    "    def getAge(self):\n",
    "        \"\"\"Returns self's current age in days\"\"\"\n",
    "        if self.birthday == None:\n",
    "            raise ValueError\n",
    "        return (datetime.date.today() - self.birthday).days\n",
    "\n",
    "    def __lt__(self, other):\n",
    "        \"\"\"Returns True if self's name is lexicographically\n",
    "           less than other's name, and False otherwise\"\"\"\n",
    "        if self.lastName == other.lastName:\n",
    "            return self.name < other.name\n",
    "        return self.lastName < other.lastName\n",
    "\n",
    "    def __str__(self):\n",
    "        \"\"\"Returns self's name\"\"\"\n",
    "        return self.name"
   ]
  },
  {
   "cell_type": "code",
   "execution_count": null,
   "metadata": {
    "collapsed": false
   },
   "outputs": [],
   "source": [
    "#Page 97\n",
    "me = Person('Michael Guttag')\n",
    "him = Person('Barack Hussein Obama')\n",
    "her = Person('Madonna')\n",
    "print him.getLastName()\n",
    "him.setBirthday(datetime.date(1961, 8, 4))\n",
    "her.setBirthday(datetime.date(1958, 8, 16))\n",
    "print him.getName(), 'is', him.getAge(), 'days old'"
   ]
  },
  {
   "cell_type": "markdown",
   "metadata": {},
   "source": [
    "### Objects of type Person can be used anywhere ###\n",
    "We can create a list of people. As we defined the order relationship between persons `__lt__`, we can sort the list.\n"
   ]
  },
  {
   "cell_type": "code",
   "execution_count": null,
   "metadata": {
    "collapsed": false
   },
   "outputs": [],
   "source": [
    "#Page 98\n",
    "print type(me)\n",
    "pList = [me, him, her]\n",
    "for p in pList:\n",
    "    print p\n",
    "pList.sort()\n",
    "for p in pList:\n",
    "    print p"
   ]
  },
  {
   "cell_type": "markdown",
   "metadata": {},
   "source": [
    "### Defining MITPerson as a sub-class of Person ###"
   ]
  },
  {
   "cell_type": "code",
   "execution_count": null,
   "metadata": {
    "collapsed": false
   },
   "outputs": [],
   "source": [
    "#Page 99, Figure 8.3\n",
    "class MITPerson(Person):\n",
    "    \n",
    "    nextIdNum = 0   #identification number - this is a class variable, \n",
    "                    # is attached to the whole class, not to each object.\n",
    "    \n",
    "    def __init__(self, name):\n",
    "        Person.__init__(self, name)  # call the parent class initializer.\n",
    "        self.idNum = MITPerson.nextIdNum\n",
    "        MITPerson.nextIdNum += 1\n",
    "        \n",
    "    def getIdNum(self):\n",
    "        return self.idNum\n",
    "    \n",
    "    def __lt__(self, other):\n",
    "        return self.idNum < other.idNum\n",
    "\n",
    "    def isStudent(self):\n",
    "        return isinstance(self, Student)"
   ]
  },
  {
   "cell_type": "code",
   "execution_count": null,
   "metadata": {
    "collapsed": true
   },
   "outputs": [],
   "source": [
    "#Page 100\n",
    "p1 = MITPerson('Barbara Beaver')\n",
    "print str(p1) + '\\'s id number is ' + str(p1.getIdNum())"
   ]
  },
  {
   "cell_type": "markdown",
   "metadata": {},
   "source": [
    "### Excercise:\n",
    "Over-ride the method `__str__` for `MITPerson` so that the default printout of an `MITPerson` includes the fact that they are from MIT and their ID number."
   ]
  },
  {
   "cell_type": "code",
   "execution_count": null,
   "metadata": {
    "collapsed": false
   },
   "outputs": [],
   "source": [
    "p1 = MITPerson('Mark Guttag')\n",
    "p2 = MITPerson('Billy Bob Beaver1')   # three different persons (person objects) called Billy Bob Beaver.\n",
    "p3 = MITPerson('Billy Bob Beaver2')\n",
    "p4 = Person('Billy Bob Beaver3')\n",
    "print 'variable type is MITPerson',[type(p) is MITPerson for p in [p1,p2,p3,p4]]\n",
    "\n",
    "print 'p1 < p2 =', p1 < p2\n",
    "print 'p3 < p2 =', p3 < p2\n",
    "print 'p4 < p1 =', p4 < p1\n",
    "\n",
    "print 'p1 < p4 =', p1 < p4"
   ]
  },
  {
   "cell_type": "markdown",
   "metadata": {},
   "source": [
    "### Fix this error ###\n",
    "1. What cased the error? Why is `p4<p1` ok, but `p1<p4` not ok?\n",
    "2. How would you fix the problem?\n",
    "\n",
    "### Next, we create Classes Student, UG and Grad ###"
   ]
  },
  {
   "cell_type": "code",
   "execution_count": null,
   "metadata": {
    "collapsed": false
   },
   "outputs": [],
   "source": [
    "#Page 101, Figure 8.4\n",
    "class Student(MITPerson):\n",
    "    pass\n",
    "\n",
    "class UG(Student):\n",
    "    def __init__(self, name, classYear):\n",
    "        MITPerson.__init__(self, name)\n",
    "        self.year = classYear\n",
    "    def getClass(self):\n",
    "        return self.year\n",
    "    \n",
    "class Grad(Student):\n",
    "    pass"
   ]
  },
  {
   "cell_type": "markdown",
   "metadata": {},
   "source": [
    "### Type vs. isinstance\n",
    "`Grad` and `UG` are subclasses of `Student`.\n",
    "If a an object is initialized as a `Grad` it's type is `Grad`. To check the ancestors of the type\n",
    "we use the command `issinstance`. Thus calling `isinstance` on an object of type `UG` will return **True** on the classes `UG,Student,MITPerson,Person` but will return false on the class `Grad`"
   ]
  },
  {
   "cell_type": "code",
   "execution_count": null,
   "metadata": {
    "collapsed": false
   },
   "outputs": [],
   "source": [
    "#Page 101\n",
    "p5 = Grad('Buzz Aldrin')\n",
    "print p5, 'is a graduate student is', type(p5) == Grad\n",
    "print p5, 'is an undergraduate student is', type(p5) == UG\n",
    "print p5, 'is a student is',type(p5)==Student"
   ]
  },
  {
   "cell_type": "code",
   "execution_count": null,
   "metadata": {
    "collapsed": false
   },
   "outputs": [],
   "source": [
    "#Page 102\n",
    "p6 = UG('Billy Beaver', 1984)\n",
    "p7 = Student('Eternal Student')\n",
    "def isStudent(self):\n",
    "    return isinstance(self, Student)\n",
    "print p5, 'is a type of student is', p5.isStudent()\n",
    "print p6, 'is a type of student is', p6.isStudent()\n",
    "print p3, 'is a type of student is', p3.isStudent()\n",
    "print p7, 'is a type of student is', p7.isStudent()"
   ]
  },
  {
   "cell_type": "code",
   "execution_count": null,
   "metadata": {
    "collapsed": false,
    "scrolled": true
   },
   "outputs": [],
   "source": [
    "# one more type of student.\n",
    "\n",
    "class TransferStudent(Student):\n",
    "\n",
    "    def __init__(self, name, fromSchool):\n",
    "        MITPerson.__init__(self, name)\n",
    "        self.fromSchool = fromSchool\n",
    "\n",
    "    def getOldSchool(self):\n",
    "        return self.fromSchool"
   ]
  },
  {
   "cell_type": "markdown",
   "metadata": {},
   "source": [
    "### Define the class `Grades` which defines a grade list"
   ]
  },
  {
   "cell_type": "code",
   "execution_count": null,
   "metadata": {
    "collapsed": false
   },
   "outputs": [],
   "source": [
    "#Page 103, Figure 8.5\n",
    "\n",
    "class Grades(object):\n",
    "    \"\"\"A mapping from students to a list of grades\"\"\"\n",
    "    def __init__(self):\n",
    "        \"\"\"Create empty grade book\"\"\"\n",
    "        self.students = []\n",
    "        self.grades = {}\n",
    "        self.isSorted = True\n",
    "\n",
    "    def addStudent(self, student):\n",
    "        \"\"\"Assumes: student is of type Student\n",
    "           Add student to the grade book\"\"\"\n",
    "        if student in self.students:\n",
    "            raise ValueError('Duplicate student')\n",
    "        self.students.append(student)\n",
    "        self.grades[student.getIdNum()] = []\n",
    "        self.isSorted = False\n",
    "\n",
    "    def addGrade(self, student, grade):\n",
    "        \"\"\"Assumes: grade is a float\n",
    "           Add grade to the list of grades for student\"\"\"\n",
    "        try:\n",
    "            self.grades[student.getIdNum()].append(grade)\n",
    "        except:\n",
    "            raise ValueError('Student not in mapping')\n",
    "\n",
    "    def getGrades(self, student):\n",
    "        \"\"\"Return a list of grades for student\"\"\"\n",
    "        try: #return copy of student's grades\n",
    "            return self.grades[student.getIdNum()][:]\n",
    "        except:\n",
    "            raise ValueError('Student not in mapping')\n",
    "\n",
    "    def getStudents(self):\n",
    "        \"\"\"Return a list of the students in the grade book\"\"\"\n",
    "        if not self.isSorted:\n",
    "            self.students.sort()\n",
    "            self.isSorted = True\n",
    "        return self.students[:] #return copy of list of students"
   ]
  },
  {
   "cell_type": "code",
   "execution_count": null,
   "metadata": {
    "collapsed": false
   },
   "outputs": [],
   "source": [
    "#Page 105, Figure 8.6\n",
    "\n",
    "# A function (not a method) that takes as input a \"Grades\" object and returns \n",
    "# the average grade of each student.\n",
    "def gradeReport(course):\n",
    "    \"\"\"Assumes course is of type Grades\"\"\"\n",
    "    report = ''\n",
    "    for s in course.getStudents():\n",
    "        tot = 0.0\n",
    "        numGrades = 0\n",
    "        for g in course.getGrades(s):\n",
    "            tot += g\n",
    "            numGrades += 1\n",
    "        try:\n",
    "            average = tot/numGrades\n",
    "            report = report + '\\n'\\\n",
    "                     + str(s) + '\\'s mean grade is ' + str(average)\n",
    "        except ZeroDivisionError:\n",
    "            report = report + '\\n'\\\n",
    "                     + str(s) + ' has no grades'\n",
    "    return report\n",
    "\n",
    "ug1 = UG('Jane Doe', 2014)\n",
    "ug2 = UG('John Doe', 2015)\n",
    "ug3 = UG('David Henry', 2003)\n",
    "g1 = Grad('Billy Buckner')\n",
    "g2 = Grad('Bucky F. Dent')\n",
    "sixHundred = Grades()\n",
    "sixHundred.addStudent(ug1)\n",
    "sixHundred.addStudent(ug2)\n",
    "sixHundred.addStudent(g1)\n",
    "sixHundred.addStudent(g2)\n",
    "for s in sixHundred.getStudents():\n",
    "    sixHundred.addGrade(s, 75)\n",
    "sixHundred.addGrade(g1, 25)\n",
    "sixHundred.addGrade(g2, 100)\n",
    "sixHundred.addStudent(ug3)\n",
    "print gradeReport(sixHundred)"
   ]
  },
  {
   "cell_type": "code",
   "execution_count": null,
   "metadata": {
    "collapsed": false
   },
   "outputs": [],
   "source": [
    "#Page 107, Figure 8,7\n",
    "# A generator function\n",
    "def getStudents(self):\n",
    "    \"\"\"Return the students in the grade book one at a time\"\"\"\n",
    "    if not self.isSorted:\n",
    "        self.students.sort()\n",
    "        self.isSorted = True\n",
    "    for s in self.students:\n",
    "        yield s"
   ]
  },
  {
   "cell_type": "code",
   "execution_count": null,
   "metadata": {
    "collapsed": false
   },
   "outputs": [],
   "source": [
    "#Page 107\n",
    "book = Grades()\n",
    "book.addStudent(Grad('Julie'))\n",
    "book.addStudent(Grad('Charlie'))\n",
    "for s in book.getStudents():\n",
    "    print s"
   ]
  }
 ],
 "metadata": {
  "kernelspec": {
   "display_name": "Python 2",
   "language": "python",
   "name": "python2"
  },
  "language_info": {
   "codemirror_mode": {
    "name": "ipython",
    "version": 2
   },
   "file_extension": ".py",
   "mimetype": "text/x-python",
   "name": "python",
   "nbconvert_exporter": "python",
   "pygments_lexer": "ipython2",
   "version": "2.7.9"
  }
 },
 "nbformat": 4,
 "nbformat_minor": 0
}
