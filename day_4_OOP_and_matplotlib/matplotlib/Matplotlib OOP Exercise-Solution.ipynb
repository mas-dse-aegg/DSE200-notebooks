{
 "cells": [
  {
   "cell_type": "markdown",
   "metadata": {},
   "source": [
    "### Matplotlib Exercises###"
   ]
  },
  {
   "cell_type": "markdown",
   "metadata": {},
   "source": [
    "In this exercise we will write a class which will take a pandas dataframe and output a set of plots describing the dataframe. For this we will use data from http://earthquake.usgs.gov/ which maintains csv files corresponding to data of earthquake occurrences sorted according to earthquakes magnitude, ranging from significant only down to all earthquakes, major or minor. The csv files are available here "
   ]
  },
  {
   "cell_type": "code",
   "execution_count": 1,
   "metadata": {
    "collapsed": true
   },
   "outputs": [],
   "source": [
    "feed=\"http://earthquake.usgs.gov/earthquakes/feed/v1.0/summary/\""
   ]
  },
  {
   "cell_type": "code",
   "execution_count": 2,
   "metadata": {
    "collapsed": false
   },
   "outputs": [],
   "source": [
    "import numpy as np\n",
    "import pandas as pd\n",
    "import urllib\n",
    "import matplotlib as mpl\n",
    "import matplotlib.pyplot as plt\n",
    "#%pylab inline"
   ]
  },
  {
   "cell_type": "markdown",
   "metadata": {},
   "source": [
    "Check if you have the updated version of Matplotlib i.e 1.5.0. If not you can udate it using linux command sudo pip install --upgrade matplotlib for unix boxes and corresponding brew command for mac"
   ]
  },
  {
   "cell_type": "code",
   "execution_count": 3,
   "metadata": {
    "collapsed": false,
    "scrolled": true
   },
   "outputs": [
    {
     "name": "stdout",
     "output_type": "stream",
     "text": [
      "1.5.0\n"
     ]
    }
   ],
   "source": [
    "print mpl.__version__"
   ]
  },
  {
   "cell_type": "markdown",
   "metadata": {},
   "source": [
    "### Acquiring Data ###\n",
    "\n",
    "For this assignment we will be working with the following csv files\n",
    "\n",
    "1. Significant earthquakes in the last 30 days : feed + \"significant_month.csv\"\n",
    "2. Magnitude > 4.5 : feed + \"4.5_month.csv\"\n",
    "3. Magnitude > 2.5 : feed + \"2.5_month.csv\"\n",
    "4. Magnitude > 1.0 : feed + \"1.0_month.csv\""
   ]
  },
  {
   "cell_type": "markdown",
   "metadata": {},
   "source": [
    "Q1) Write a function which takes an integer input from 1 to 4 and outputs a pandas dataframe corresponding to the csv file above. Note that the function should necessarily download the data from the website via internet."
   ]
  },
  {
   "cell_type": "code",
   "execution_count": 10,
   "metadata": {
    "collapsed": true
   },
   "outputs": [],
   "source": [
    "def download_data(i):\n",
    "    raise \"TODO\""
   ]
  },
  {
   "cell_type": "code",
   "execution_count": null,
   "metadata": {
    "collapsed": false
   },
   "outputs": [],
   "source": [
    "'''last_30 = download_data(1)\n",
    "data_45 = download_data(4)\n",
    "'''"
   ]
  },
  {
   "cell_type": "code",
   "execution_count": 3,
   "metadata": {
    "collapsed": false,
    "scrolled": true
   },
   "outputs": [
    {
     "name": "stdout",
     "output_type": "stream",
     "text": [
      "  % Total    % Received % Xferd  Average Speed   Time    Time     Time  Current\n",
      "                                 Dload  Upload   Total   Spent    Left  Speed\n",
      "100  868k    0  868k    0     0  2492k      0 --:--:-- --:--:-- --:--:-- 2494k\n"
     ]
    }
   ],
   "source": [
    "!curl http://earthquake.usgs.gov/earthquakes/feed/v1.0/summary/1.0_month.csv > earthquakes_1.csv\n",
    "data_45=pd.read_csv('earthquakes_45.csv')"
   ]
  },
  {
   "cell_type": "code",
   "execution_count": 4,
   "metadata": {
    "collapsed": false,
    "scrolled": true
   },
   "outputs": [
    {
     "data": {
      "text/html": [
       "<div style=\"max-height:1000px;max-width:1500px;overflow:auto;\">\n",
       "<table border=\"1\" class=\"dataframe\">\n",
       "  <thead>\n",
       "    <tr style=\"text-align: right;\">\n",
       "      <th></th>\n",
       "      <th>time</th>\n",
       "      <th>latitude</th>\n",
       "      <th>longitude</th>\n",
       "      <th>depth</th>\n",
       "      <th>mag</th>\n",
       "      <th>magType</th>\n",
       "      <th>nst</th>\n",
       "      <th>gap</th>\n",
       "      <th>dmin</th>\n",
       "      <th>rms</th>\n",
       "      <th>net</th>\n",
       "      <th>id</th>\n",
       "      <th>updated</th>\n",
       "      <th>place</th>\n",
       "      <th>type</th>\n",
       "    </tr>\n",
       "  </thead>\n",
       "  <tbody>\n",
       "    <tr>\n",
       "      <th>0</th>\n",
       "      <td> 2015-11-12T22:38:00.100Z</td>\n",
       "      <td>  1.3372</td>\n",
       "      <td> 126.5271</td>\n",
       "      <td>  59.65</td>\n",
       "      <td> 4.7</td>\n",
       "      <td> mb</td>\n",
       "      <td>NaN</td>\n",
       "      <td> 102</td>\n",
       "      <td> 1.010</td>\n",
       "      <td> 1.09</td>\n",
       "      <td> us</td>\n",
       "      <td> us10003xxz</td>\n",
       "      <td> 2015-11-12T22:54:41.205Z</td>\n",
       "      <td> 111km WNW of Kota Ternate, Indonesia</td>\n",
       "      <td> earthquake</td>\n",
       "    </tr>\n",
       "    <tr>\n",
       "      <th>1</th>\n",
       "      <td> 2015-11-12T19:49:21.630Z</td>\n",
       "      <td>-16.0471</td>\n",
       "      <td> -72.0223</td>\n",
       "      <td>  98.61</td>\n",
       "      <td> 4.5</td>\n",
       "      <td> mb</td>\n",
       "      <td>NaN</td>\n",
       "      <td> 141</td>\n",
       "      <td> 2.814</td>\n",
       "      <td> 0.71</td>\n",
       "      <td> us</td>\n",
       "      <td> us10003xwf</td>\n",
       "      <td> 2015-11-12T23:32:09.951Z</td>\n",
       "      <td>               3km SSW of Lluta, Peru</td>\n",
       "      <td> earthquake</td>\n",
       "    </tr>\n",
       "    <tr>\n",
       "      <th>2</th>\n",
       "      <td> 2015-11-12T18:28:45.650Z</td>\n",
       "      <td>-20.6731</td>\n",
       "      <td>-178.0383</td>\n",
       "      <td> 504.96</td>\n",
       "      <td> 4.6</td>\n",
       "      <td> mb</td>\n",
       "      <td>NaN</td>\n",
       "      <td>  85</td>\n",
       "      <td> 4.703</td>\n",
       "      <td> 0.94</td>\n",
       "      <td> us</td>\n",
       "      <td> us10003xu2</td>\n",
       "      <td> 2015-11-12T23:41:38.705Z</td>\n",
       "      <td>          68km E of Ndoi Island, Fiji</td>\n",
       "      <td> earthquake</td>\n",
       "    </tr>\n",
       "    <tr>\n",
       "      <th>3</th>\n",
       "      <td> 2015-11-12T17:50:37.790Z</td>\n",
       "      <td> -6.2967</td>\n",
       "      <td> 103.7759</td>\n",
       "      <td>  48.33</td>\n",
       "      <td> 4.7</td>\n",
       "      <td> mb</td>\n",
       "      <td>NaN</td>\n",
       "      <td> 195</td>\n",
       "      <td> 2.089</td>\n",
       "      <td> 0.47</td>\n",
       "      <td> us</td>\n",
       "      <td> us10003xtx</td>\n",
       "      <td> 2015-11-13T01:53:17.439Z</td>\n",
       "      <td>         110km SSW of Biha, Indonesia</td>\n",
       "      <td> earthquake</td>\n",
       "    </tr>\n",
       "    <tr>\n",
       "      <th>4</th>\n",
       "      <td> 2015-11-12T17:28:37.610Z</td>\n",
       "      <td> 51.4661</td>\n",
       "      <td>-175.0255</td>\n",
       "      <td>  27.65</td>\n",
       "      <td> 5.2</td>\n",
       "      <td> mb</td>\n",
       "      <td>NaN</td>\n",
       "      <td>  64</td>\n",
       "      <td> 0.899</td>\n",
       "      <td> 0.80</td>\n",
       "      <td> us</td>\n",
       "      <td> us10003xtq</td>\n",
       "      <td> 2015-11-13T01:31:07.969Z</td>\n",
       "      <td>              99km SW of Atka, Alaska</td>\n",
       "      <td> earthquake</td>\n",
       "    </tr>\n",
       "  </tbody>\n",
       "</table>\n",
       "</div>"
      ],
      "text/plain": [
       "                       time  latitude  longitude   depth  mag magType  nst  \\\n",
       "0  2015-11-12T22:38:00.100Z    1.3372   126.5271   59.65  4.7      mb  NaN   \n",
       "1  2015-11-12T19:49:21.630Z  -16.0471   -72.0223   98.61  4.5      mb  NaN   \n",
       "2  2015-11-12T18:28:45.650Z  -20.6731  -178.0383  504.96  4.6      mb  NaN   \n",
       "3  2015-11-12T17:50:37.790Z   -6.2967   103.7759   48.33  4.7      mb  NaN   \n",
       "4  2015-11-12T17:28:37.610Z   51.4661  -175.0255   27.65  5.2      mb  NaN   \n",
       "\n",
       "   gap   dmin   rms net          id                   updated  \\\n",
       "0  102  1.010  1.09  us  us10003xxz  2015-11-12T22:54:41.205Z   \n",
       "1  141  2.814  0.71  us  us10003xwf  2015-11-12T23:32:09.951Z   \n",
       "2   85  4.703  0.94  us  us10003xu2  2015-11-12T23:41:38.705Z   \n",
       "3  195  2.089  0.47  us  us10003xtx  2015-11-13T01:53:17.439Z   \n",
       "4   64  0.899  0.80  us  us10003xtq  2015-11-13T01:31:07.969Z   \n",
       "\n",
       "                                  place        type  \n",
       "0  111km WNW of Kota Ternate, Indonesia  earthquake  \n",
       "1                3km SSW of Lluta, Peru  earthquake  \n",
       "2           68km E of Ndoi Island, Fiji  earthquake  \n",
       "3          110km SSW of Biha, Indonesia  earthquake  \n",
       "4               99km SW of Atka, Alaska  earthquake  "
      ]
     },
     "execution_count": 4,
     "metadata": {},
     "output_type": "execute_result"
    }
   ],
   "source": [
    "data_45.head()"
   ]
  },
  {
   "cell_type": "markdown",
   "metadata": {},
   "source": [
    "### Q3) Plotting data on the map ###"
   ]
  },
  {
   "cell_type": "markdown",
   "metadata": {
    "collapsed": false,
    "scrolled": true
   },
   "source": [
    "In the last class we had used basemap to plot the weather data. Now we will use basemap to plot the earthquake data, and further enhance it with a rain animation to indicate the severity of the incident. First we will import necessary libraries. "
   ]
  },
  {
   "cell_type": "code",
   "execution_count": 5,
   "metadata": {
    "collapsed": true
   },
   "outputs": [],
   "source": [
    "from mpl_toolkits.basemap import Basemap\n",
    "import matplotlib.animation as anim"
   ]
  },
  {
   "cell_type": "markdown",
   "metadata": {},
   "source": [
    "Next we will generate a figure canvas with a basemap projection. We will use the 'mill' projection of Basemap for this assignment. "
   ]
  },
  {
   "cell_type": "code",
   "execution_count": 6,
   "metadata": {
    "collapsed": false
   },
   "outputs": [],
   "source": [
    "#General plot  initializations\n",
    "fig = plt.figure(figsize=(14,10))\n",
    "ax = plt.subplot(1,1,1)\n",
    "earth = Basemap(projection='mill')"
   ]
  },
  {
   "cell_type": "markdown",
   "metadata": {},
   "source": [
    "We will then draw coastlines and continents"
   ]
  },
  {
   "cell_type": "code",
   "execution_count": 7,
   "metadata": {
    "collapsed": false
   },
   "outputs": [
    {
     "data": {
      "text/plain": [
       "[<matplotlib.patches.Polygon at 0x7f540d5b3a50>,\n",
       " <matplotlib.patches.Polygon at 0x7f53fc642c10>,\n",
       " <matplotlib.patches.Polygon at 0x7f53fc657110>,\n",
       " <matplotlib.patches.Polygon at 0x7f53fc6575d0>,\n",
       " <matplotlib.patches.Polygon at 0x7f53fc657a90>,\n",
       " <matplotlib.patches.Polygon at 0x7f53fc657f50>,\n",
       " <matplotlib.patches.Polygon at 0x7f53fc5e2450>,\n",
       " <matplotlib.patches.Polygon at 0x7f53fc5e2910>,\n",
       " <matplotlib.patches.Polygon at 0x7f53fc5e2dd0>,\n",
       " <matplotlib.patches.Polygon at 0x7f53fc5ed2d0>,\n",
       " <matplotlib.patches.Polygon at 0x7f53fc5ed790>,\n",
       " <matplotlib.patches.Polygon at 0x7f53fc5edc50>,\n",
       " <matplotlib.patches.Polygon at 0x7f53fc5f9150>,\n",
       " <matplotlib.patches.Polygon at 0x7f53fc5f9610>,\n",
       " <matplotlib.patches.Polygon at 0x7f53fc5f9ad0>,\n",
       " <matplotlib.patches.Polygon at 0x7f53fc5f9f90>,\n",
       " <matplotlib.patches.Polygon at 0x7f53fc604490>,\n",
       " <matplotlib.patches.Polygon at 0x7f53fc604950>,\n",
       " <matplotlib.patches.Polygon at 0x7f53fc604e10>,\n",
       " <matplotlib.patches.Polygon at 0x7f53fc610310>,\n",
       " <matplotlib.patches.Polygon at 0x7f53fc6107d0>,\n",
       " <matplotlib.patches.Polygon at 0x7f53fc610c90>,\n",
       " <matplotlib.patches.Polygon at 0x7f53fc61a190>,\n",
       " <matplotlib.patches.Polygon at 0x7f53fc61a650>,\n",
       " <matplotlib.patches.Polygon at 0x7f53fc61ab10>,\n",
       " <matplotlib.patches.Polygon at 0x7f53fc61afd0>,\n",
       " <matplotlib.patches.Polygon at 0x7f53fc5a74d0>,\n",
       " <matplotlib.patches.Polygon at 0x7f53fc5a7990>,\n",
       " <matplotlib.patches.Polygon at 0x7f53fc5a7e50>,\n",
       " <matplotlib.patches.Polygon at 0x7f53fc5b1350>,\n",
       " <matplotlib.patches.Polygon at 0x7f53fc5b1810>,\n",
       " <matplotlib.patches.Polygon at 0x7f53fc5b1cd0>,\n",
       " <matplotlib.patches.Polygon at 0x7f53fc5bc1d0>,\n",
       " <matplotlib.patches.Polygon at 0x7f53fc5bc690>,\n",
       " <matplotlib.patches.Polygon at 0x7f53fc5bcb50>,\n",
       " <matplotlib.patches.Polygon at 0x7f53fc5bcf50>,\n",
       " <matplotlib.patches.Polygon at 0x7f53fc6dc690>,\n",
       " <matplotlib.patches.Polygon at 0x7f53fc6c0650>,\n",
       " <matplotlib.patches.Polygon at 0x7f53fc6cbc50>,\n",
       " <matplotlib.patches.Polygon at 0x7f53fc5c96d0>,\n",
       " <matplotlib.patches.Polygon at 0x7f53fc5c9b90>,\n",
       " <matplotlib.patches.Polygon at 0x7f53fc5c9f90>,\n",
       " <matplotlib.patches.Polygon at 0x7f53fc5d3550>,\n",
       " <matplotlib.patches.Polygon at 0x7f53fc5d3a10>,\n",
       " <matplotlib.patches.Polygon at 0x7f53fc5d3ed0>,\n",
       " <matplotlib.patches.Polygon at 0x7f53fc5dc3d0>,\n",
       " <matplotlib.patches.Polygon at 0x7f53fc5dc890>,\n",
       " <matplotlib.patches.Polygon at 0x7f53fc5dcd50>,\n",
       " <matplotlib.patches.Polygon at 0x7f53fc567250>,\n",
       " <matplotlib.patches.Polygon at 0x7f53fc567710>,\n",
       " <matplotlib.patches.Polygon at 0x7f53fc567bd0>,\n",
       " <matplotlib.patches.Polygon at 0x7f53fc567fd0>,\n",
       " <matplotlib.patches.Polygon at 0x7f53fc573590>,\n",
       " <matplotlib.patches.Polygon at 0x7f53fc573a50>,\n",
       " <matplotlib.patches.Polygon at 0x7f53fc573f10>,\n",
       " <matplotlib.patches.Polygon at 0x7f53fc57e410>,\n",
       " <matplotlib.patches.Polygon at 0x7f53fc57e8d0>,\n",
       " <matplotlib.patches.Polygon at 0x7f53fc57ed90>,\n",
       " <matplotlib.patches.Polygon at 0x7f53fc589290>,\n",
       " <matplotlib.patches.Polygon at 0x7f53fc589750>,\n",
       " <matplotlib.patches.Polygon at 0x7f53fc589c10>,\n",
       " <matplotlib.patches.Polygon at 0x7f53fc595110>,\n",
       " <matplotlib.patches.Polygon at 0x7f53fc5955d0>,\n",
       " <matplotlib.patches.Polygon at 0x7f53fc595a90>,\n",
       " <matplotlib.patches.Polygon at 0x7f53fc595f50>,\n",
       " <matplotlib.patches.Polygon at 0x7f53fc5a0450>,\n",
       " <matplotlib.patches.Polygon at 0x7f53fc5a0910>,\n",
       " <matplotlib.patches.Polygon at 0x7f53fc5a0dd0>,\n",
       " <matplotlib.patches.Polygon at 0x7f53fc52b2d0>,\n",
       " <matplotlib.patches.Polygon at 0x7f53fc52b790>,\n",
       " <matplotlib.patches.Polygon at 0x7f53fc52bc50>,\n",
       " <matplotlib.patches.Polygon at 0x7f53fc536150>,\n",
       " <matplotlib.patches.Polygon at 0x7f53fc536610>,\n",
       " <matplotlib.patches.Polygon at 0x7f53fc536ad0>,\n",
       " <matplotlib.patches.Polygon at 0x7f53fc536f90>,\n",
       " <matplotlib.patches.Polygon at 0x7f53fc542490>,\n",
       " <matplotlib.patches.Polygon at 0x7f53fc542950>,\n",
       " <matplotlib.patches.Polygon at 0x7f53fc542e10>,\n",
       " <matplotlib.patches.Polygon at 0x7f53fc54d310>,\n",
       " <matplotlib.patches.Polygon at 0x7f53fc54d7d0>,\n",
       " <matplotlib.patches.Polygon at 0x7f53fc54dc90>,\n",
       " <matplotlib.patches.Polygon at 0x7f53fc556190>,\n",
       " <matplotlib.patches.Polygon at 0x7f53fc556650>,\n",
       " <matplotlib.patches.Polygon at 0x7f53fc556b10>,\n",
       " <matplotlib.patches.Polygon at 0x7f53fc556fd0>,\n",
       " <matplotlib.patches.Polygon at 0x7f53fc4e24d0>,\n",
       " <matplotlib.patches.Polygon at 0x7f53fc4e2990>,\n",
       " <matplotlib.patches.Polygon at 0x7f53fc4e2e50>,\n",
       " <matplotlib.patches.Polygon at 0x7f53fc4ee350>,\n",
       " <matplotlib.patches.Polygon at 0x7f53fc4ee810>,\n",
       " <matplotlib.patches.Polygon at 0x7f53fc4eecd0>,\n",
       " <matplotlib.patches.Polygon at 0x7f53fc4f91d0>,\n",
       " <matplotlib.patches.Polygon at 0x7f53fc4f9690>,\n",
       " <matplotlib.patches.Polygon at 0x7f53fc4f9b50>,\n",
       " <matplotlib.patches.Polygon at 0x7f53fc4f9f50>,\n",
       " <matplotlib.patches.Polygon at 0x7f53fc505510>,\n",
       " <matplotlib.patches.Polygon at 0x7f53fc5059d0>,\n",
       " <matplotlib.patches.Polygon at 0x7f53fc505e90>,\n",
       " <matplotlib.patches.Polygon at 0x7f53fc510390>,\n",
       " <matplotlib.patches.Polygon at 0x7f53fc510850>,\n",
       " <matplotlib.patches.Polygon at 0x7f53fc510d10>,\n",
       " <matplotlib.patches.Polygon at 0x7f53fc51c210>,\n",
       " <matplotlib.patches.Polygon at 0x7f53fc51c6d0>,\n",
       " <matplotlib.patches.Polygon at 0x7f53fc51cb90>,\n",
       " <matplotlib.patches.Polygon at 0x7f53fc51cf90>,\n",
       " <matplotlib.patches.Polygon at 0x7f53fc4a6550>,\n",
       " <matplotlib.patches.Polygon at 0x7f53fc4a6a10>,\n",
       " <matplotlib.patches.Polygon at 0x7f53fc4a6ed0>,\n",
       " <matplotlib.patches.Polygon at 0x7f53fc4b13d0>,\n",
       " <matplotlib.patches.Polygon at 0x7f53fc4b1890>,\n",
       " <matplotlib.patches.Polygon at 0x7f53fc4b1d50>,\n",
       " <matplotlib.patches.Polygon at 0x7f53fc4bd250>,\n",
       " <matplotlib.patches.Polygon at 0x7f53fc4bd710>,\n",
       " <matplotlib.patches.Polygon at 0x7f53fc4bdbd0>,\n",
       " <matplotlib.patches.Polygon at 0x7f53fc4bdfd0>,\n",
       " <matplotlib.patches.Polygon at 0x7f53fc4c7590>,\n",
       " <matplotlib.patches.Polygon at 0x7f53fc4c7a50>,\n",
       " <matplotlib.patches.Polygon at 0x7f53fc4c7f10>,\n",
       " <matplotlib.patches.Polygon at 0x7f53fc4d2410>,\n",
       " <matplotlib.patches.Polygon at 0x7f53fc4d28d0>,\n",
       " <matplotlib.patches.Polygon at 0x7f53fc4d2d90>,\n",
       " <matplotlib.patches.Polygon at 0x7f53fc4dd290>,\n",
       " <matplotlib.patches.Polygon at 0x7f53fc4dd750>,\n",
       " <matplotlib.patches.Polygon at 0x7f53fc4ddc10>,\n",
       " <matplotlib.patches.Polygon at 0x7f53fc46a110>,\n",
       " <matplotlib.patches.Polygon at 0x7f53fc46a5d0>,\n",
       " <matplotlib.patches.Polygon at 0x7f53fc46aa90>]"
      ]
     },
     "execution_count": 7,
     "metadata": {},
     "output_type": "execute_result"
    }
   ],
   "source": [
    "earth.drawcoastlines(color='0.50', linewidth=0.25)\n",
    "earth.fillcontinents(color='0.95')"
   ]
  },
  {
   "cell_type": "markdown",
   "metadata": {},
   "source": [
    "Now we will plot the magnitude of different earthquakes on the above plot according to the latitude and longitude of the origin and enhance it using Rain animation\n",
    "\n",
    "#### Rain animation ####\n",
    "A very simple rain effect can be obtained by having small growing rings randomly positioned over a figure. Of course, they won't grow forever since the wave is supposed to damp with time. To simulate that, we can use a more and more transparent color as the ring is growing, up to the point where it is no more visible. At this point, we remove the ring and create a new one.\n",
    "\n",
    "An example from rain animation can be loaded by running the next cell (source: http://matplotlib.org/examples/animation/rain.html)"
   ]
  },
  {
   "cell_type": "code",
   "execution_count": null,
   "metadata": {
    "collapsed": false
   },
   "outputs": [],
   "source": [
    "# %load rain.py\n",
    "\"\"\"Rain Simulation\n",
    "\n",
    "Simulates rain drops on a surface by animating the scale and opacity\n",
    "of 50 scatter points.\n",
    "\n",
    "Author: Nicolas P. Rougier\n",
    "\"\"\"\n",
    "import numpy as np\n",
    "import matplotlib.pyplot as plt\n",
    "from matplotlib.animation import FuncAnimation\n",
    "\n",
    "\n",
    "# Create new Figure and an Axes which fills it.\n",
    "fig = plt.figure(figsize=(7, 7))\n",
    "ax = fig.add_axes([0, 0, 1, 1], frameon=False)\n",
    "ax.set_xlim(0, 1), ax.set_xticks([])\n",
    "ax.set_ylim(0, 1), ax.set_yticks([])\n",
    "\n",
    "# Create rain data\n",
    "n_drops = 50\n",
    "rain_drops = np.zeros(n_drops, dtype=[('position', float, 2),\n",
    "                                      ('size',     float, 1),\n",
    "                                      ('growth',   float, 1),\n",
    "                                      ('color',    float, 4)])\n",
    "\n",
    "# Initialize the raindrops in random positions and with\n",
    "# random growth rates.\n",
    "rain_drops['position'] = np.random.uniform(0, 1, (n_drops, 2))\n",
    "rain_drops['growth'] = np.random.uniform(50, 200, n_drops)\n",
    "\n",
    "# Construct the scatter which we will update during animation\n",
    "# as the raindrops develop.\n",
    "scat = ax.scatter(rain_drops['position'][:, 0], rain_drops['position'][:, 1],\n",
    "                  s=rain_drops['size'], lw=0.5, edgecolors=rain_drops['color'],\n",
    "                  facecolors='none')\n",
    "\n",
    "\n",
    "def update(frame_number):\n",
    "    # Get an index which we can use to re-spawn the oldest raindrop.\n",
    "    current_index = frame_number % n_drops\n",
    "\n",
    "    # Make all colors more transparent as time progresses.\n",
    "    rain_drops['color'][:, 3] -= 1.0/len(rain_drops)\n",
    "    rain_drops['color'][:, 3] = np.clip(rain_drops['color'][:, 3], 0, 1)\n",
    "\n",
    "    # Make all circles bigger.\n",
    "    rain_drops['size'] += rain_drops['growth']\n",
    "\n",
    "    # Pick a new position for oldest rain drop, resetting its size,\n",
    "    # color and growth factor.\n",
    "    rain_drops['position'][current_index] = np.random.uniform(0, 1, 2)\n",
    "    rain_drops['size'][current_index] = 5\n",
    "    rain_drops['color'][current_index] = (0, 0, 0, 1)\n",
    "    rain_drops['growth'][current_index] = np.random.uniform(50, 200)\n",
    "\n",
    "    # Update the scatter collection, with the new colors, sizes and positions.\n",
    "    scat.set_edgecolors(rain_drops['color'])\n",
    "    scat.set_sizes(rain_drops['size'])\n",
    "    scat.set_offsets(rain_drops['position'])\n",
    "\n",
    "\n",
    "# Construct the animation, using the update function as the animation\n",
    "# director.\n",
    "animation = FuncAnimation(fig, update, interval=10)\n",
    "plt.show()\n",
    "\n"
   ]
  },
  {
   "cell_type": "markdown",
   "metadata": {},
   "source": [
    "As you can see from the above code, the animation can be called from matplotlib's animation function using FuncAnimation or in our case animation.FuncAnimation. This will require an update function, a canvas fig, and an interval)"
   ]
  },
  {
   "cell_type": "markdown",
   "metadata": {},
   "source": [
    "Q4) Now, based on the above rain animation, write an update function to plot the earthquake on earlier created fig. Set the interval as 10. i.e \n",
    "animation = animation.FuncAnimation(fig, update, interval=10)\n",
    "\n",
    "To do this, create two objects rain_drops and scat as shown in the code above. The rain_drops and scat should be of the type as follows."
   ]
  },
  {
   "cell_type": "code",
   "execution_count": 8,
   "metadata": {
    "collapsed": false
   },
   "outputs": [],
   "source": [
    "P = np.zeros(50, dtype=[('position', float, 2),\n",
    "                         ('size',     float, 1),\n",
    "                         ('growth',   float, 1),\n",
    "                         ('color',    float, 4)])\n",
    "scat = ax.scatter(P['position'][:,0], P['position'][:,1], P['size'], lw=0.5,\n",
    "                  edgecolors = P['color'], facecolors='None', zorder=10)"
   ]
  },
  {
   "cell_type": "markdown",
   "metadata": {},
   "source": [
    "Some of the key attributes for the plot should be set as follows\n",
    "1. number of drops is 50\n",
    "2. drop size is 5\n",
    "3. growth is exponential with respect to magnitude i.e np.exp(magnitude) * 0.1\n",
    "4. If magnitude less than 6 set color as 0,0,1,1 else set color as 1,0,0,1\n",
    "\n",
    "The functions \n",
    "1. set_edgecolors\n",
    "2. set_sizes\n",
    "3. set_offsets\n",
    "4. set_faceColors\n",
    "\n",
    "sets these valu"
   ]
  },
  {
   "cell_type": "code",
   "execution_count": 9,
   "metadata": {
    "collapsed": true
   },
   "outputs": [],
   "source": [
    "def update(frame):\n",
    "    current = frame % len(data_45)\n",
    "    i = frame % len(P)\n",
    "\n",
    "    P['color'][:,3] = np.maximum(0, P['color'][:,3] - 1.0/len(P))\n",
    "    P['size'] += P['growth']\n",
    "\n",
    "    magnitude = data_45['mag'][current]\n",
    "    P['position'][i] = earth(*(float(data_45['longitude'][current]),float(data_45['latitude'][current])))\n",
    "    P['size'][i] = 5\n",
    "    P['growth'][i]= np.exp(magnitude) * 0.1\n",
    "\n",
    "    if magnitude < 6:\n",
    "        P['color'][i]    = 0,0,1,1\n",
    "    else:\n",
    "        P['color'][i]    = 1,0,0,1\n",
    "    scat.set_edgecolors(P['color'])\n",
    "    scat.set_facecolors(P['color']*(1,1,1,0.25))\n",
    "    scat.set_sizes(P['size'])\n",
    "    scat.set_offsets(P['position'])\n",
    "    return scat"
   ]
  },
  {
   "cell_type": "code",
   "execution_count": null,
   "metadata": {
    "collapsed": false,
    "scrolled": false
   },
   "outputs": [],
   "source": [
    "animation = anim.FuncAnimation(fig, update, interval=10)\n",
    "plt.show()"
   ]
  },
  {
   "cell_type": "code",
   "execution_count": null,
   "metadata": {
    "collapsed": true
   },
   "outputs": [],
   "source": []
  }
 ],
 "metadata": {
  "kernelspec": {
   "display_name": "Python 2",
   "language": "python",
   "name": "python2"
  },
  "language_info": {
   "codemirror_mode": {
    "name": "ipython",
    "version": 2
   },
   "file_extension": ".py",
   "mimetype": "text/x-python",
   "name": "python",
   "nbconvert_exporter": "python",
   "pygments_lexer": "ipython2",
   "version": "2.7.6"
  }
 },
 "nbformat": 4,
 "nbformat_minor": 0
}
