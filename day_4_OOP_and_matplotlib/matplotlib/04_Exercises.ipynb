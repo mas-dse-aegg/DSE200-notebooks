{
 "cells": [
  {
   "cell_type": "markdown",
   "metadata": {},
   "source": [
    "# Lecture4 Exercises"
   ]
  },
  {
   "cell_type": "markdown",
   "metadata": {},
   "source": [
    "##Functional Programming\n",
    "\n",
    "Use the [map](https://docs.python.org/2/library/functions.html#map) and [filter](https://docs.python.org/2/library/functions.html#filter) functions to convert the list `l = [0,1,2,3,4,5,6,7,8,9,10]` into a list of the squares of the even numbers in `l`.\n",
    "\n",
    "Hints:\n",
    "\n",
    "1. Use map() to apply a function to each element in the list\n",
    "2. Use filter() to filter elements of a list\n",
    "3. Use lambda to define anonymous functions\n",
    "4. *Do not* use list comprehensions"
   ]
  },
  {
   "cell_type": "code",
   "execution_count": null,
   "metadata": {
    "collapsed": false
   },
   "outputs": [],
   "source": [
    "l = [0,1,2,3,4,5,6,7,8,9,10]\n",
    "#write code here\n",
    "\n",
    "map(lambda x: x**2, filter(lambda x: x%2==0, l))"
   ]
  },
  {
   "cell_type": "markdown",
   "metadata": {},
   "source": [
    "### Object Oriented Programming"
   ]
  },
  {
   "cell_type": "markdown",
   "metadata": {},
   "source": [
    "Implement a Python iterator which iterates over string characters (ASCII only) returning their ASCII code\n",
    "\n",
    "1. Define a new iterator class which contains two methods:\n",
    "    -init – a constructor taking the ASCII string as a argument,\n",
    "    -next – returns the ASCII code of the next character or raises a StopIteration exception if the string end was encountered.\n",
    "\n",
    "2. Define a new iterable class which wraps around a string and contains iter method which returns the iterator instance.\n",
    "3. Test your code using explicit calls of next method (see example in the lecture) and for loop."
   ]
  },
  {
   "cell_type": "code",
   "execution_count": null,
   "metadata": {
    "collapsed": false
   },
   "outputs": [],
   "source": [
    "class StringIterator:\n",
    "    def __init__(self, string):\n",
    "        self.s = string\n",
    "        self.i = 0\n",
    "        self.n = len(string)\n",
    "    \n",
    "    def next(self):\n",
    "        if self.i < self.n:\n",
    "            i = self.i\n",
    "            self.i += 1\n",
    "            return ord(self.s[i])\n",
    "        else:\n",
    "            raise StopIteration()\n",
    "\n",
    "        \n",
    "class StringIterable:\n",
    "    def __init__(self,string):\n",
    "        self._iterator = StringIterator(string)\n",
    "        \n",
    "    def __iter__(self):\n",
    "        return self._iterator"
   ]
  },
  {
   "cell_type": "code",
   "execution_count": null,
   "metadata": {
    "collapsed": false
   },
   "outputs": [],
   "source": [
    "itr = StringIterator(\"asdf\")\n",
    "print itr.next()\n",
    "print itr.next()\n",
    "print itr.next()\n",
    "print itr.next()"
   ]
  },
  {
   "cell_type": "code",
   "execution_count": null,
   "metadata": {
    "collapsed": false
   },
   "outputs": [],
   "source": [
    "#Test here\n",
    "\n",
    "\n",
    "string=StringIterable(\"asdf\")\n",
    "for char in string:\n",
    "    print char\n"
   ]
  },
  {
   "cell_type": "markdown",
   "metadata": {},
   "source": [
    "##Fibonacci Sequence\n",
    "\n",
    "write a class Fibonacci whose constructor takes two numbers; the class uses these two numbers as the first two numbers in the sequence. \n",
    "\n",
    "1. The class should have a method calculate(n) that returns the n-th number in the sequence.\n",
    "2. Add a method next(). The first call to next() returns the first number in the sequence, the second call returns the second number, and so on. You'll need instance variables to save state between calls. \n",
    "3. Finally, add a method writeToFile(n, filename), that writes the first n numbers in the sequence to the file named filename, one number per line.\n",
    "\n",
    "**HINT:** you should store previously computed fibonachi numbers instead of recomputing every one as they are needed"
   ]
  },
  {
   "cell_type": "code",
   "execution_count": null,
   "metadata": {
    "collapsed": false
   },
   "outputs": [],
   "source": [
    "# 0 1 1 2 3 5 8 13 ...\n",
    "#n = n-2 + n-1 \n",
    "class Fibonacci:\n",
    "    def __init__(self, n_2, n_1):\n",
    "        self._list = [ n_2, n_1]\n",
    "        self._i=0\n",
    "    \n",
    "    def _index(self):\n",
    "        \"\"\" Counter for # of generated fib numbers - 0 indexed \"\"\"\n",
    "        return len(self._list)\n",
    "\n",
    "    def __str__(self):\n",
    "        return str(self._list)\n",
    "    \n",
    "    def next(self):\n",
    "        n = self._list[self._i+1] + self._list[self._i]\n",
    "        self._i= self._i +1\n",
    "        self._list.append(n)\n",
    "        return self._list[self._i-1]\n",
    "        \n",
    "    def calculate(self, n):\n",
    "        if n == 0:\n",
    "            return 0\n",
    "        elif n <= 2:\n",
    "            return 1\n",
    "        else:\n",
    "            return self.calculate(n-2) + self.calculate(n-1)\n",
    "\n",
    "    def flist(self, n):\n",
    "        a = [ self._list[0], self._list[1]]\n",
    "        while len(a) < n:\n",
    "            v = a[-2] + a[-1]\n",
    "            a.append(v)\n",
    "        return a\n",
    "        \n",
    "    def writeToFile(self, n, filename):\n",
    "        _list = self.flist(n)\n",
    "        \n",
    "        f = open(filename, \"w\")\n",
    "        for i in _list:\n",
    "            f.write(str(i)+\"\\n\")\n",
    "            \n",
    "        f.close()\n",
    "        "
   ]
  },
  {
   "cell_type": "code",
   "execution_count": null,
   "metadata": {
    "collapsed": false
   },
   "outputs": [],
   "source": [
    "#Testing code, should all equal print true\n",
    "fib = Fibonacci(0, 1)\n",
    "\n",
    "print fib.calculate(0) == 0\n",
    "print fib.calculate(1) == 1\n",
    "print fib.calculate(2) == 1\n",
    "print fib.calculate(3) == 2\n",
    "print fib.calculate(20) == 6765 \n",
    "print fib.next() == fib.calculate(0)\n",
    "print fib.next() == fib.calculate(1)\n",
    "print fib.next() == fib.calculate(2)\n",
    "fib.writeToFile(30, \"fib.out\")"
   ]
  },
  {
   "cell_type": "markdown",
   "metadata": {},
   "source": [
    "Write a function solve(h,l) which solves the folowing classic puzzle: \n",
    "\n",
    "We count h heads and l legs among the chickens and rabbits in a farm. How many rabbits and how many chickens do we have? where h and l are the parameters passed to the function solve\n",
    "\n",
    "    >> numheads=35\n",
    "    >> numlegs=94\n",
    "    >> solutions=solve(numheads,numlegs)\n",
    "    >> print solutions\n",
    "\n"
   ]
  },
  {
   "cell_type": "code",
   "execution_count": null,
   "metadata": {
    "collapsed": false
   },
   "outputs": [],
   "source": [
    "def solve(numheads,numlegs):\n",
    "    ns='No solutions!'\n",
    "    for i in range(numheads+1):\n",
    "        j=numheads-i\n",
    "        if 2*i+4*j==numlegs:\n",
    "            return i,j\n",
    "    return ns,ns\n",
    "    \n",
    "numheads=35\n",
    "numlegs=94\n",
    "solutions=solve(numheads,numlegs)\n",
    "print solutions"
   ]
  },
  {
   "cell_type": "code",
   "execution_count": null,
   "metadata": {
    "collapsed": true
   },
   "outputs": [],
   "source": []
  }
 ],
 "metadata": {
  "kernelspec": {
   "display_name": "Python 2",
   "language": "python",
   "name": "python2"
  },
  "language_info": {
   "codemirror_mode": {
    "name": "ipython",
    "version": 2
   },
   "file_extension": ".py",
   "mimetype": "text/x-python",
   "name": "python",
   "nbconvert_exporter": "python",
   "pygments_lexer": "ipython2",
   "version": "2.7.10"
  }
 },
 "nbformat": 4,
 "nbformat_minor": 0
}
