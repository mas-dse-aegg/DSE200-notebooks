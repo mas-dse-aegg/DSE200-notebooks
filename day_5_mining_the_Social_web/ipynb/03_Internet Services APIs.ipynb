{
 "metadata": {
  "name": "",
  "signature": "sha256:8ab64bb709861844fa6a3ceed1f4054a8c317d0e323c630642e567db3cd0d04e"
 },
 "nbformat": 3,
 "nbformat_minor": 0,
 "worksheets": [
  {
   "cells": [
    {
     "cell_type": "markdown",
     "metadata": {},
     "source": [
      "# URLlib2"
     ]
    },
    {
     "cell_type": "markdown",
     "metadata": {},
     "source": [
      "# Scrapy\n",
      "\n",
      "* [Tutorial](http://doc.scrapy.org/en/0.24/intro/tutorial.html)\n",
      "* Also important are the section **selector** and **Scrapy shell**\n",
      "* I would like to write a scraper that extracts the tables of name information from iguana"
     ]
    },
    {
     "cell_type": "markdown",
     "metadata": {},
     "source": [
      "# Web APIs\n",
      "Extracting information from static web sites can be done using scraping software such as Scrapy. However, there are several disadvantages to web scraping:\n",
      "\n",
      "1. Significant programming effort is required to navigate the web site and extract the information.\n",
      "1. Any change in the structure of the web pages requires updating the scraper.\n",
      "1. Dynamic pages, based on *Javascript*, of the type used in most modern web sites, are very hard to  understand and to scrape.\n",
      "\n",
      "Most large internet companies provide an interface to their public information. That interface, called and **API** (Application Program Interface) or **SDK** (Software Development Kit), provide the programmer with a convenient and well documented interface for accessing the information provided by the company. \n",
      "\n",
      "A common architecture for web APIs consist of two levels:\n",
      "* An HTTP based [RESTful API](http://en.wikipedia.org/wiki/Representational_state_transfer) (REST is the acronim for Representational-State-Transfer). This protocol defines URLs for requesting information and the format of the response, which is usually a JSON or and XML packet. \n",
      "* A language specific library (for Python, Ruby, Java, PERL, C# or other languages) which provides a *Wrapper* around the RESTful API. Using the language wrapper is generally preferable because it insulates the application code from changes in the RESTful layer.\n",
      "\n",
      "The benefit to the company providing the API is that by making it easy to interface with it's databases it encourages third party software houses to build extensions and enhancement to the ccompanies basic offering. In that way increasing the size of the consumer market without taking on development risks.\n",
      "\n",
      "Most of the APIs defined below are for the Python wrapper. In some cases, such as Yelp, only a Restful API is available, and some example code using this API is given.\n",
      "\n",
      "## Some of the popular web APIs available today\n",
      "* [A collection of  more than 12,000 web APIs](http://www.programmableweb.com/category/all/apis?order=field_popularity) try searching for \"traffic\" or \"crime\"\n",
      "* Twitter API [Github](https://github.com/bear/python-twitter), [Doc](https://dev.twitter.com/overview/documentation)\n",
      "* Facebook API [Github](https://github.com/pythonforfacebook/facebook-sdk)\n",
      "  * [Doc for graph API](https://developers.facebook.com/docs/graph-api) This API is for retrieving and sending information to the Facebook social graph.\n",
      "  * [Doc for Javascript API](https://developers.facebook.com/docs/javascript) This API is for creating page plugins (i.e. like button) and for using \"login through facebook\"\n",
      "* Google APIs: Google supports a large number of APIs, including API for gmail, google calendars, google maps and  you-tube. In order to help find your way through this vast collection, google provides an [API discovery web page](https://developers.google.com/apis-explorer/#p/)\n",
      "* Amazon\n",
      "   * [Amazon Product Advertising API](https://pypi.python.org/pypi/python-amazon-product-api/), [Doc](http://python-amazon-product-api.readthedocs.org/en/latest/)\n",
      "   * [Boto](http://aws.amazon.com/sdk-for-python/) an API for controlling AWS.  LaunchNotebookServer.py uses Boto. AWS contains dozens of services, each of which is exposed to the API. [Github](https://github.com/boto/boto),[Doc](http://boto.readthedocs.org/en/latest/)\n",
      "* Yahoo, [a diverse set of APIs and services](https://developer.yahoo.com/everything.html). Unfortunately, it seems that while wrappers for some languages are provided, Python is not supported by Yahoo.  Here are three of the interesting API services provided by Yahoo.\n",
      "   * [OAuth:](https://developer.yahoo.com/oauth/) a popular protocol for delegating login authorization (\"Login Using Yahoo!\")\n",
      "   * World location database: [BOSS](https://developer.yahoo.com/boss/placefinder/)\n",
      "   * [Weather](https://developer.yahoo.com/weather/)\n",
      "* [Yelp](http://www.yelp.com/developers/documentation) Yelp only provides a RESTful API. [Here is a sample of python code using the RESTful API](https://github.com/Yelp/yelp-api/tree/master/v2/python)"
     ]
    },
    {
     "cell_type": "markdown",
     "metadata": {},
     "source": [
      "Other interesting services:\n",
      "* [QuandL](https://www.quandl.com/) is a company whose business model is to gather, clean and format data and provide the results through an API. They are especially strong with financial information.\n",
      "You can browse their vast collection of data [here](https://www.quandl.com/c/). Their Python API provides the data in a pandas dataframe, ready for perocessing. The Python API is documented [here](https://www.quandl.com/help/python)\n",
      "* [Decibel](https://developer.decibel.net/sample-code-rest-python) is a data service that provides extensive information about music, artists, and the music industry.\n",
      "* **Fantasy Sports** There are several sites that provide data feeds for *fantasy sports*. Mostly APIs consist of RESTfull API without language wrappers.\n",
      "   * [Yahoo!](https://developer.yahoo.com/fantasysports/)\n",
      "   * [CBSsports](http://developer.cbssports.com/documentation/api/files/sports)\n",
      "   * [FantasyData](http://fantasydata.com/products/real-time-sports-data-api.aspx)\n",
      "   * [FantasyFootballNerd](http://www.fantasyfootballnerd.com/fantasy-football-api)"
     ]
    },
    {
     "cell_type": "markdown",
     "metadata": {},
     "source": []
    },
    {
     "cell_type": "code",
     "collapsed": false,
     "input": [],
     "language": "python",
     "metadata": {},
     "outputs": []
    }
   ],
   "metadata": {}
  }
 ]
}