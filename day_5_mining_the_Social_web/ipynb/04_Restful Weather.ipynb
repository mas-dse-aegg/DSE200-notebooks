{
 "cells": [
  {
   "cell_type": "markdown",
   "metadata": {},
   "source": [
    "#Restful Open Weathermap API\n",
    "\n",
    "In this notebook, we retrieve the hourly temperatue of san diego over 2013 and plot it.  We use the restful API for openweathermap.org."
   ]
  },
  {
   "cell_type": "code",
   "execution_count": 4,
   "metadata": {
    "collapsed": false
   },
   "outputs": [
    {
     "name": "stdout",
     "output_type": "stream",
     "text": [
      "Populating the interactive namespace from numpy and matplotlib\n"
     ]
    }
   ],
   "source": [
    "%pylab inline\n",
    "import requests\n",
    "import datetime "
   ]
  },
  {
   "cell_type": "markdown",
   "metadata": {},
   "source": [
    "The [requests](http://docs.python-requests.org/en/latest/) library is a simple to use python library for executing http commands over the internet.  \n",
    "\n",
    "For example, we can create an http get command to download a website and then render it as html in our notebook."
   ]
  },
  {
   "cell_type": "code",
   "execution_count": 6,
   "metadata": {
    "collapsed": false
   },
   "outputs": [],
   "source": [
    "req = requests.get(\"http://m.xkcd.com/\")\n",
    "type(req)\n",
    "req.cookies?"
   ]
  },
  {
   "cell_type": "code",
   "execution_count": 7,
   "metadata": {
    "collapsed": false
   },
   "outputs": [
    {
     "data": {
      "text/html": [
       "<?xml version=\"1.0\" encoding=\"utf-8\" ?>\n",
       "<?xml-stylesheet href=\"/static/general.css\" type=\"text/css\" media=\"screen\" ?>\n",
       "<!DOCTYPE html PUBLIC \"-//WAPFORUM//DTD XHTML Mobile 1.2//EN\" \"http://www.openmobilealliance.org/tech/DTD/xhtml-mobile12.dtd\">\n",
       "<html xmlns=\"http://www.w3.org/1999/xhtml\">\n",
       " <head>\n",
       "  <title>xkcd: DNA</title>\n",
       "  <link rel=\"alternate\" type=\"application/atom+xml\" title=\"Atom 1.0\" href=\"http://m.xkcd.com/atom.xml\" />\n",
       "  <link rel=\"alternate\" type=\"application/rss+xml\" title=\"RSS 2.0\" href=\"http://m.xkcd.com/rss.xml\" />\n",
       "\n",
       "  <link rel=\"icon\" href=\"/static/favicon.ico\" type=\"image/x-icon\" />\n",
       "  <link rel=\"shortcut icon\" href=\"/static/favicon.ico\" type=\"image/x-icon\" />\n",
       "  \n",
       "  <link rel=\"stylesheet\" type=\"text/css\" href=\"/static/general.css\" media=\"screen\" title=\"Default\" />\n",
       "  <meta content=\"width=device-width, initial-scale=1.0\" name=\"viewport\" />\n",
       "  <script type=\"text/javascript\">\n",
       "  window.onload = function() {\n",
       "      updateFunction = function(){el = document.getElementById(\"altText\"); el.style.display = (el.style.display != \"none\" ? \"none\" : \"block\");}\n",
       "      document.getElementById(\"comic\").onclick = updateFunction;\n",
       "      document.getElementById(\"altTextLink\").onclick = updateFunction;\n",
       "      document.getElementById(\"altText\").style.display = \"none\";\n",
       "    }\n",
       "  </script>\n",
       "<script type=\"text/javascript\">\n",
       "  var _gaq = _gaq || [];\n",
       "  _gaq.push(['_setAccount', 'UA-25700708-7']);\n",
       "  _gaq.push(['_setDomainName', 'xkcd.com']);\n",
       "  _gaq.push(['_setAllowLinker', true]);\n",
       "  _gaq.push(['_trackPageview']);\n",
       "\n",
       "  (function() {\n",
       "    var ga = document.createElement('script'); ga.type = 'text/javascript'; ga.async = true;\n",
       "    ga.src = ('https:' == document.location.protocol ? 'https://ssl' : 'http://www') + '.google-analytics.com/ga.js';\n",
       "    var s = document.getElementsByTagName('script')[0]; s.parentNode.insertBefore(ga, s);\n",
       "  })();\n",
       "</script>\n",
       " \n",
       " </head>\n",
       " <body>\n",
       "\n",
       "<div id=\"comic\">\n",
       "<img id=\"comic\" src=\"http://imgs.xkcd.com/comics/dna.png\" title=\"Researchers just found the gene responsible for mistakenly thinking we&#39;ve found the gene for specific things. It&#39;s the region between the start and the end of every chromosome, plus a few segments in our mitochondria.\" alt=\"DNA\" /><br/><br />\n",
       "</div>\n",
       "<div id=\"titleHolder\"><h1 id=\"title\">DNA</h1><sup id=\"altTextLink\">(alt-text)</sup></div>\n",
       "<p id=\"altText\">Researchers just found the gene responsible for mistakenly thinking we&#39;ve found the gene for specific things. It&#39;s the region between the start and the end of every chromosome, plus a few segments in our mitochondria.</p>\n",
       "<ul id=\"navButtons\">\n",
       " <li><a href=\"/1/\">|&lt;</a></li>\n",
       " <li><a href=\"/1604/\" accesskey=\"p\">&lt;</a></li>\n",
       " <li><a href=\"http://c.xkcd.com/random/mobile_comic/\" id=\"rnd_btn_b\">?</a></li>\n",
       " <li><a href=\"#\" accesskey=\"n\">&gt;</a></li>\n",
       " <li><a href=\"/\">&gt;|</a></li>\n",
       "</ul>\n",
       "\n",
       "<div id=\"news\">We've <a href=\"http://www.slate.com/articles/health_and_science/medical_examiner/2015/08/no_new_polio_in_africa_for_one_year_gates_epidemiologist_on_vaccines_and.html\">almost eradicated polio</a>. For World Polio Day, I drew a comic <br />\n",
       "about the eradication efforts. You can see it on <a href=\"http://www.gatesnotes.com/Health/XKCD-Marks-the-Spot\">Bill Gates's blog</a>.\n",
       "<div align=\"left\" style=\"width: 450px\"><hr style=\"width:80%\"></div>\n",
       "My <a href=\"http://blog.xkcd.com/2015/05/13/new-book-thing-explainer/\">new book</a> of complex diagrams and simple words comes out Nov 24th.\n",
       "</div>\n",
       "<ul id=\"footerLinks\">\n",
       " <li><a href=\"/archive/\">Archive</a></li>\n",
       " <li><a href=\"http://store.xkcd.com/\">Store</a></li>\n",
       " <li><a href=\"http://what-if.xkcd.com/\">What If?</a></li>\n",
       " <li><a href=\"http://xkcd.com/about/\">About</a></li>\n",
       "</ul>\n",
       "</body>\n",
       "</html>\n",
       "\n"
      ],
      "text/plain": [
       "<IPython.core.display.HTML object>"
      ]
     },
     "execution_count": 7,
     "metadata": {},
     "output_type": "execute_result"
    }
   ],
   "source": [
    "from IPython.display import HTML\n",
    "HTML(req.text)"
   ]
  },
  {
   "cell_type": "markdown",
   "metadata": {},
   "source": [
    "Due to the prevelance of HTTP, many webservices now offer [Restful APIs](http://en.wikipedia.org/wiki/Representational_state_transfer) which are accessed via HTTP requests and return XML or JSON formatted data output.  A list of APIs is listed at [Programable Web](http://www.programmableweb.com/).  In additon, many developers of internal apps utilize the restful concept to ease integration of apps.\n",
    "\n",
    "One easy to understand Restful API is the [Open Weather Map](openweathermap.org) API.  We will use this API to download the daily temperature of San Diego from January 1, 2013 through December 31, 2013 to give an example of the usage of such an API."
   ]
  },
  {
   "cell_type": "markdown",
   "metadata": {},
   "source": [
    "##Open Weather Map\n",
    "\n",
    "As a first step we query the current weather in San Diego to see what the output looks like and get the city id for the historical lookup.  We use the request object's json method to convert the json output to a python Map which we can easily process.\n",
    "\n",
    "To do this we perform a http get on the URL **http://api.openweathermap.org/data/2.5/weather** which is the base url for the Open Weather Map's current weather resful API.  We pass the get parameter **q=San%20Diego,us** to specify our city.  %20 is used to encode space in the url\n"
   ]
  },
  {
   "cell_type": "code",
   "execution_count": null,
   "metadata": {
    "collapsed": false
   },
   "outputs": [],
   "source": [
    "req = requests.get(\"http://api.openweathermap.org/data/2.5/weather?q=San%20Diego,us\")\n",
    "output = req.json()\n",
    "output"
   ]
  },
  {
   "cell_type": "markdown",
   "metadata": {},
   "source": [
    "From here we can see that the city id for san diego (the \"id\" field) is 5391811.  We can now use open weather map's [Histrocial Data API](http://openweathermap.org/history) to download san diego data.  Lets try pulling the first entry for 2013.  Here are the parameters we pass:\n",
    "\n",
    "* Base URL: http://api.openweathermap.org/data/2.5/history/city\n",
    "* id - the city id - 5391811\n",
    "* start - the unix time stamp of our start period - 1357027200 (0:0:0 on Jan 1 2013)\n",
    "* cnt - the number of measures we want - 1\n",
    "* APPID - the *API Key* for david's account - dd9abf3c45c153e11a6e11f0d12391aa\n",
    "\n",
    "\n",
    "This gives us this URL: **http://api.openweathermap.org/data/2.5/history/city?id=5391811&type=day&start=1357027200&cnt=1&APPID=dd9abf3c45c153e11a6e11f0d12391aa&units=imperial**"
   ]
  },
  {
   "cell_type": "code",
   "execution_count": null,
   "metadata": {
    "collapsed": false
   },
   "outputs": [],
   "source": [
    "req = requests.get(\"http://api.openweathermap.org/data/2.5/history/city?id=5391811&type=day&start=1357027200&cnt=1&APPID=dd9abf3c45c153e11a6e11f0d12391aa\")\n",
    "req.json()"
   ]
  },
  {
   "cell_type": "markdown",
   "metadata": {},
   "source": [
    "From here we can see that the temperature is located at req.json[\"list\"][0][\"main\"][\"temp\"].  Interestingly, we also see the temperature is reported in kelvin, which can be converted to Fahrenheit using $F=(K - 273.15)* 1.8000+ 32.00$.\n",
    "\n",
    "\n",
    "Now we'll loop through from the start period to the end of the year, adding 86400 (the number of seconds in 24 hours) to the time stamp each time.  We'll append the temperature recieved to a list \"temp\" for us to plot later.\n",
    "\n",
    "Also note that some times there is no measurement for a day, to do this we check if [\"list\"] is not empty before extracting main/temp from it.  If it is empty we append None."
   ]
  },
  {
   "cell_type": "code",
   "execution_count": null,
   "metadata": {
    "collapsed": false
   },
   "outputs": [],
   "source": [
    "temp = []\n",
    "time = 1357027200\n",
    "for i in range(365):\n",
    "    if i%10 == 0:\n",
    "        print i\n",
    "    req = requests.get(\"http://api.openweathermap.org/data/2.5/history/city?id=5391811&type=day&start=\" + str(time) + \"&cnt=1&APPID=dd9abf3c45c153e11a6e11f0d12391aa&type=day\")\n",
    "    time = time + 86400\n",
    "    data = req.json()[\"list\"]\n",
    "    if len(data) > 0:\n",
    "        K = data[0][\"main\"][\"temp\"]\n",
    "        F = (K - 273.15)* 1.8000+ 32.00\n",
    "        temp.append(F)\n",
    "    else:\n",
    "        temp.append(None)"
   ]
  },
  {
   "cell_type": "code",
   "execution_count": null,
   "metadata": {
    "collapsed": false
   },
   "outputs": [],
   "source": [
    "plot(temp)"
   ]
  },
  {
   "cell_type": "markdown",
   "metadata": {},
   "source": [
    "There is obviously a lot more to learn about Restful API's, however this should provide a simple example of what they are and how to use them.  Explore the programmable web website to see the vast array of api's availible.\n",
    "\n",
    "**Exercise**\n",
    "Look at the programmable web website and find an API that interests you.  Use the restful API to query some data and extract a meaningful field.  If the API provides time series Data, plot the field over time."
   ]
  },
  {
   "cell_type": "code",
   "execution_count": null,
   "metadata": {
    "collapsed": false
   },
   "outputs": [],
   "source": []
  }
 ],
 "metadata": {
  "kernelspec": {
   "display_name": "Python 2",
   "language": "python",
   "name": "python2"
  },
  "language_info": {
   "codemirror_mode": {
    "name": "ipython",
    "version": 2
   },
   "file_extension": ".py",
   "mimetype": "text/x-python",
   "name": "python",
   "nbconvert_exporter": "python",
   "pygments_lexer": "ipython2",
   "version": "2.7.10"
  }
 },
 "nbformat": 4,
 "nbformat_minor": 0
}
