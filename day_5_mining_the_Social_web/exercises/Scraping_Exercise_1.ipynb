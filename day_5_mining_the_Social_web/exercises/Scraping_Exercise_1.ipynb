{
 "cells": [
  {
   "cell_type": "markdown",
   "metadata": {},
   "source": [
    "### Scraping MLB stats from ESPN go###"
   ]
  },
  {
   "cell_type": "markdown",
   "metadata": {},
   "source": [
    "In this homework we will try to analyze the batting performances of different teams in Major League Baseball using the data available in the following link http://espn.go.com/mlb/stats/team/_/stat/batting "
   ]
  },
  {
   "cell_type": "markdown",
   "metadata": {},
   "source": [
    "We will first scrape the page corresponding to the 2015 season "
   ]
  },
  {
   "cell_type": "code",
   "execution_count": null,
   "metadata": {
    "collapsed": false
   },
   "outputs": [],
   "source": [
    "url=\"http://espn.go.com/mlb/stats/team/_/stat/batting/year/2015\""
   ]
  },
  {
   "cell_type": "markdown",
   "metadata": {},
   "source": [
    "We will now scrape the table found in the above link. You can follow the class notebook to understand how to capture html table tags.\n",
    "\n",
    "Q1) Write a function which will take the above url and return a pandas dataframe corresponding to the table found in the given link. "
   ]
  },
  {
   "cell_type": "code",
   "execution_count": null,
   "metadata": {
    "collapsed": true
   },
   "outputs": [],
   "source": [
    "from bs4 import BeautifulSoup\n",
    "import urllib2\n",
    "import pandas as pd\n",
    "%matplotlib inline\n",
    "\n",
    "import matplotlib\n",
    "import numpy as np\n",
    "import matplotlib.pyplot as plt"
   ]
  },
  {
   "cell_type": "code",
   "execution_count": null,
   "metadata": {
    "collapsed": false
   },
   "outputs": [],
   "source": [
    "def SCRAPE_ESPN_MLB_STATS(url):\n",
    "    page = urllib2.urlopen(url).read()\n",
    "    soup = BeautifulSoup(page, 'html.parser')\n",
    "    rows = soup.table.findAll('tr',  { \"align\" : \"right\" })\n",
    "    header_row = rows[0]\n",
    "    team_rows = rows[1:-1] #exclude the last\n",
    "    \n",
    "    types=[int, str, int, int, int, int, int, int, int, int,int, float, float, float, float ]\n",
    "\n",
    "    \n",
    "    headers = [c.text for c in header_row.findAll(\"td\")]\n",
    "    t={}\n",
    "    for i,header in enumerate(headers):\n",
    "           t[header] = []\n",
    "    \n",
    "    for tr in team_rows:\n",
    "        cols = tr.findAll('td')\n",
    "        for i,header in enumerate(headers):\n",
    "           t[header].append(types[i](cols[i].text))\n",
    "       \n",
    "    df = pd.DataFrame(t)\n",
    "    df=df.set_index([\"TEAM\"])\n",
    "    return df\n",
    "        "
   ]
  },
  {
   "cell_type": "markdown",
   "metadata": {},
   "source": [
    "Run the above function to scrape season 2015 stats."
   ]
  },
  {
   "cell_type": "code",
   "execution_count": null,
   "metadata": {
    "collapsed": false
   },
   "outputs": [],
   "source": [
    "df_2015 = SCRAPE_ESPN_MLB_STATS(url)\n",
    "df_2015"
   ]
  },
  {
   "cell_type": "markdown",
   "metadata": {
    "collapsed": true
   },
   "source": [
    "We will now produce plots analyzing performance of different teams on different statistical parameters\n",
    "\n",
    "Q2) Write a function which will take the above dataframe and a list of column names as input and produces a set of plots corresponding to each of the column names provided"
   ]
  },
  {
   "cell_type": "code",
   "execution_count": null,
   "metadata": {
    "collapsed": false
   },
   "outputs": [],
   "source": [
    "def produce_plots(df, col_names):\n",
    "    for col_name in col_names:\n",
    "        ax = plt.subplots()\n",
    "        df[col_name].order().plot(kind=\"bar\", subplots=True)\n",
    "    \n"
   ]
  },
  {
   "cell_type": "markdown",
   "metadata": {},
   "source": [
    "Call the above function for the columns\n",
    "\n",
    "1. HR: Home Runs\n",
    "2. TB: Total Bases\n",
    "3. RBI: Runs Batted In\n",
    "\n",
    "Q3) We will now use the above functions to scrape for more seasons and analyze the performances over a period of 6 years from 2010-2015"
   ]
  },
  {
   "cell_type": "code",
   "execution_count": null,
   "metadata": {
    "collapsed": false
   },
   "outputs": [],
   "source": [
    "produce_plots(df_2015, [\"HR\", \"TB\", \"RBI\"])"
   ]
  },
  {
   "cell_type": "code",
   "execution_count": null,
   "metadata": {
    "collapsed": false
   },
   "outputs": [],
   "source": [
    "dfs={}\n",
    "for year in xrange(0,6):\n",
    "    link = 'http://espn.go.com/mlb/stats/team/_/stat/batting/year/201'+str(year)\n",
    "    dfs[year]=SCRAPE_ESPN_MLB_STATS(link)\n",
    "    \n"
   ]
  },
  {
   "cell_type": "markdown",
   "metadata": {},
   "source": [
    "Inorder to analyze performance of teams across seasons, we will need all the data in a single dataframe. \n",
    "\n",
    "Q4) Use appropriate pandas functions to combine the above dictionary of year:dataframe to produce one dataframe which has a new column corresponding to the year/season "
   ]
  },
  {
   "cell_type": "code",
   "execution_count": null,
   "metadata": {
    "collapsed": false
   },
   "outputs": [],
   "source": [
    "years=[]\n",
    "combined_df=None\n",
    "\n",
    "for y,df in dfs.iteritems():\n",
    "    season = \"200\"+str(y)\n",
    "    df[\"SEASON\"] = season\n",
    "    years.append(df)\n",
    "\n",
    "combined_df = pd.concat(years)\n",
    "combined_df"
   ]
  },
  {
   "cell_type": "code",
   "execution_count": null,
   "metadata": {
    "collapsed": false
   },
   "outputs": [],
   "source": []
  },
  {
   "cell_type": "markdown",
   "metadata": {},
   "source": [
    "Q5) Now write a function which will take the above dataframe and a list of column names and produces a set of plots corresponding to each of the columns provided. Each plot is a set of subplots, where every subplot is a line graph of the column values over the 6 years for each of the teams in the dataframe."
   ]
  },
  {
   "cell_type": "code",
   "execution_count": null,
   "metadata": {
    "collapsed": false
   },
   "outputs": [],
   "source": [
    "def produce_plots_over_seasons(combined_df, col_names):\n",
    "    import matplotlib.dates as mdates\n",
    "    myFmt = mdates.DateFormatter('%y')\n",
    "\n",
    "    for col_name in col_names:\n",
    "        fig = plt.figure()  # a new figure window\n",
    "\n",
    "        \n",
    "        for team in list(set(list(combined_df.index))):\n",
    "            fig, ax = plt.subplots()\n",
    "            fig.autofmt_xdate()\n",
    "            team_df = combined_df.ix[team]\n",
    "            df = team_df[[\"SEASON\", col_name]]\n",
    "            ax.plot(df[\"SEASON\"], df[col_name].values, label=col_name)\n",
    "            ax.set_title(team)\n",
    "            ax.legend(loc='best')\n",
    "            ax.xaxis.set_major_formatter(myFmt)"
   ]
  },
  {
   "cell_type": "markdown",
   "metadata": {},
   "source": [
    "Call the above function for the columns \n",
    "\n",
    "1. HR: Home Runs\n",
    "2. TB: Total Bases\n",
    "3. RBI: Runs Batted In"
   ]
  },
  {
   "cell_type": "code",
   "execution_count": null,
   "metadata": {
    "collapsed": false
   },
   "outputs": [],
   "source": [
    "produce_plots_over_seasons(combined_df, [\"HR\"])"
   ]
  },
  {
   "cell_type": "code",
   "execution_count": null,
   "metadata": {
    "collapsed": true
   },
   "outputs": [],
   "source": []
  },
  {
   "cell_type": "code",
   "execution_count": null,
   "metadata": {
    "collapsed": true
   },
   "outputs": [],
   "source": []
  }
 ],
 "metadata": {
  "kernelspec": {
   "display_name": "Python 2",
   "language": "python",
   "name": "python2"
  },
  "language_info": {
   "codemirror_mode": {
    "name": "ipython",
    "version": 2
   },
   "file_extension": ".py",
   "mimetype": "text/x-python",
   "name": "python",
   "nbconvert_exporter": "python",
   "pygments_lexer": "ipython2",
   "version": "2.7.10"
  }
 },
 "nbformat": 4,
 "nbformat_minor": 0
}
