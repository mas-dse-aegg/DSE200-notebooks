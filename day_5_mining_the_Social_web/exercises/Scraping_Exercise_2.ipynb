{
 "cells": [
  {
   "cell_type": "markdown",
   "metadata": {},
   "source": [
    "### Visualizing the history of the ebola Epidemic\n",
    "\n",
    "**Note** : \n",
    "This is last year's exercise analyzing the spread of Ebola. The outbreak has been contained now, nonetheless we will analyze the history of the spread for the 3 of the countries found below. (You can perform uptodate analysis as well, by changing the dates to 2015 and cutting down the csv content limit to 100 instead of 1000)\n",
    "\n",
    "\n",
    "The data is available in [this site](http://apps.who.int/gho/data/view.ebola-sitrep.ebola-summary-latest?lang=en) and they provie a restful api to download the data in csv formats. you can download up to date data about the ebola epidemic. We will download the numbers pertaining to cumulative cases and cumulative deaths for the dates as given in the question and generate graphs to visualize them."
   ]
  },
  {
   "cell_type": "code",
   "execution_count": null,
   "metadata": {
    "collapsed": false
   },
   "outputs": [],
   "source": [
    "# The URL through which the data can be gotten is the following\n",
    "# The %s indicates the place where the date should be inserted, in a format such as: \"2014-11-20\"\n",
    "\n",
    "base_url='http://apps.who.int/gho/athena/xmart/data-verbose.csv?'\\\n",
    "    'target=EBOLA_MEASURE/CASES,DEATHS&profile=verbose&'\\\n",
    "    'filter=COUNTRY:GIN;COUNTRY:UNSPECIFIED;COUNTRY:LBR;COUNTRY:UNSPECIFIED;'\\\n",
    "    'COUNTRY:SLE;COUNTRY:UNSPECIFIED;LOCATION:-;'\\\n",
    "    'DATAPACKAGEID:%s;INDICATOR_TYPE:SITREP_CUMULATIVE;'\\\n",
    "    'INDICATOR_TYPE:SITREP_CUMULATIVE_21_DAYS;'\n",
    "base_url"
   ]
  },
  {
   "cell_type": "code",
   "execution_count": null,
   "metadata": {
    "collapsed": false
   },
   "outputs": [],
   "source": [
    "# Use requests.get and pandas to create a list of dataframes, one for each date.\n",
    "# Dates for which the downloaded file is less than 1000 byte are ignored (because they contain no data)\n",
    "\n",
    "import pandas as pd\n",
    "import requests\n",
    "from datetime import date, timedelta as td\n",
    "%pylab inline\n",
    "import io\n",
    "\n",
    "d1 = date(2014,11,1)\n",
    "d2 = date(2014,12,5)\n",
    "delta = d2 - d1\n",
    "\n",
    "DF={}\n",
    "for i in range(delta.days + 1):\n",
    "    D=str(d1 + td(days=i))\n",
    "    url= base_url%D\n",
    "\n",
    "    csv= requests.get(url)\n",
    "    if len(csv.content) > 1000:\n",
    "        print '\"%s\"'%D,len(csv.content),\n",
    "        # read the content of csv.content into DF[D]\n",
    "        DF[D]=pd.read_csv(io.BytesIO(csv.content))\n",
    "        print shape(DF[D])\n"
   ]
  },
  {
   "cell_type": "code",
   "execution_count": null,
   "metadata": {
    "collapsed": false
   },
   "outputs": [],
   "source": [
    "# list the names of the columns for \"2014-11-12\"\n",
    "DF[\"2014-11-12\"].head()"
   ]
  },
  {
   "cell_type": "code",
   "execution_count": null,
   "metadata": {
    "collapsed": false
   },
   "outputs": [],
   "source": []
  },
  {
   "cell_type": "code",
   "execution_count": null,
   "metadata": {
    "collapsed": false
   },
   "outputs": [],
   "source": [
    "#rename date columns\n",
    "for k in DF.keys():\n",
    "    DF[k].rename(columns={'EPI_WEEK (DISPLAY)': 'EPI_DATE (DISPLAY)'}, inplace=True)\n"
   ]
  },
  {
   "cell_type": "code",
   "execution_count": null,
   "metadata": {
    "collapsed": false
   },
   "outputs": [],
   "source": []
  },
  {
   "cell_type": "code",
   "execution_count": null,
   "metadata": {
    "collapsed": false
   },
   "outputs": [],
   "source": [
    "# merge the dataframes in DF into a single dataframe called DF_combined\n",
    "# Find the names of the columns that are common to all of the dataframes.\n",
    "# Restrict the data frames to the rows where the measurements have been \n",
    "# cumulative (rather than for the last 21 days) and that the number is confirmed \n",
    "# (rather than estimated or probable)\n",
    "\n",
    "\n",
    "\n",
    "Cols = None\n",
    "DF_Combined=pd.DataFrame()\n",
    "for k in DF.keys():\n",
    "    C=set(DF[k].columns)\n",
    "    if Cols==None:\n",
    "        Cols=C\n",
    "    else:\n",
    "        Cols= C & Cols # complete    \n",
    "    df=DF[k]\n",
    "    df = df[list(Cols)]\n",
    "    df=df[df[\"INDICATOR_TYPE (CODE)\"]==\"SITREP_CUMULATIVE\"] # Finish to restrict to  cumulative\n",
    "    df=df[df[\"CASE_DEFINITION (CODE)\"]==\"CONFIRMED\"]        # Finish to restrict to confirmed\n",
    "    DF_Combined = pd.concat([DF_Combined, df]) # concatanate df to DF_Combined\n",
    "    print k, shape(DF_Combined)\n",
    "    \n",
    "\n",
    "   "
   ]
  },
  {
   "cell_type": "code",
   "execution_count": null,
   "metadata": {
    "collapsed": false
   },
   "outputs": [],
   "source": [
    "# As it turns out, some of the rows have a column called 'EPI_WEEK (DISPLAY)' and others have,\n",
    "# for apparently the same meaning, a column called 'EPI_DATE (DISPLAY)'\n",
    "\n",
    "# write a command to fill in the missing entries in EPI_DATE (DISPLAY) with the \n",
    "# corresponding values in 'EPI_DATE (DISPLAY)'\n",
    "\n",
    "dateparse = lambda x: pd.datetime.strptime(x[:-13], '%d %B %Y').date\n",
    "\n",
    "from datetime import datetime\n",
    "# transform the dates into python date objects so that they can be compared and plotted.\n",
    "dates = np.array(DF_Combined['EPI_DATE (DISPLAY)'])\n",
    "\n",
    "DF_Combined['date']=[datetime.strptime(date[:16], \"%d %B %Y\") for date in dates]"
   ]
  },
  {
   "cell_type": "code",
   "execution_count": null,
   "metadata": {
    "collapsed": false
   },
   "outputs": [],
   "source": [
    "# cols contains all of the columns we need in DF_Combined\n",
    "cols=['COUNTRY (DISPLAY)',\n",
    " 'EBOLA_MEASURE (DISPLAY)',\n",
    " 'date',\n",
    " 'Numeric']\n",
    "cols"
   ]
  },
  {
   "cell_type": "code",
   "execution_count": null,
   "metadata": {
    "collapsed": false
   },
   "outputs": [],
   "source": []
  },
  {
   "cell_type": "code",
   "execution_count": null,
   "metadata": {
    "collapsed": false
   },
   "outputs": [],
   "source": [
    "#Fill in the missing commands to create the plots given at the bottom.\n",
    "\n",
    "import matplotlib.dates as mdates\n",
    "myFmt = mdates.DateFormatter('%d %B')\n",
    "\n",
    "dff=DF_Combined[cols]\n",
    "dff=dff.sort(columns=['COUNTRY (DISPLAY)','EBOLA_MEASURE (DISPLAY)','date'])\n",
    "Countries=set(dff['COUNTRY (DISPLAY)'])\n",
    "types=set(dff['EBOLA_MEASURE (DISPLAY)'])\n",
    "\n",
    "fig, axarr = plt.subplots(3,sharex=True)\n",
    "fig.set_size_inches(10,15)  #there is a bug in this line\n",
    "fig.autofmt_xdate()\n",
    "\n",
    "i=0\n",
    "for C in Countries:\n",
    "    for t in types:\n",
    "        data=dff[(dff['COUNTRY (DISPLAY)']==C)&(dff['EBOLA_MEASURE (DISPLAY)']==t)]\n",
    "        axarr[i].plot(data['date'].values, data['Numeric'].values, label=t)\n",
    "        \n",
    "    axarr[i].xaxis.set_major_formatter(myFmt)\n",
    "    # Use the country name as the title\n",
    "    axarr[i].set_title(C)\n",
    "    axarr[i].legend(loc='best')\n",
    "    axarr[i].grid()\n",
    "    i+=1\n",
    "\n",
    "show()"
   ]
  },
  {
   "cell_type": "code",
   "execution_count": null,
   "metadata": {
    "collapsed": false
   },
   "outputs": [],
   "source": []
  }
 ],
 "metadata": {
  "kernelspec": {
   "display_name": "Python 2",
   "language": "python",
   "name": "python2"
  },
  "language_info": {
   "codemirror_mode": {
    "name": "ipython",
    "version": 2
   },
   "file_extension": ".py",
   "mimetype": "text/x-python",
   "name": "python",
   "nbconvert_exporter": "python",
   "pygments_lexer": "ipython2",
   "version": "2.7.10"
  }
 },
 "nbformat": 4,
 "nbformat_minor": 0
}
