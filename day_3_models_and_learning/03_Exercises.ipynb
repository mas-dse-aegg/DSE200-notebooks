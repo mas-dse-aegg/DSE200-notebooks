{
 "cells": [
  {
   "cell_type": "markdown",
   "metadata": {},
   "source": [
    "# Lecture3_Exercises\n",
    "\n",
    "## Economics dataset analysis\n",
    "\n",
    "The folder economics (~/DSE200/DSE200/data/economics/) has a set of small datasets corresponding to different economics topics. We will use Pandas to incorporate these datasets into our workflow, merge them and analyze the economic trends as a function of time.\n",
    "\n",
    "To achieve this, do the following\n",
    "\n",
    "1. Read each of the csv files iteratively\n",
    "2. Merge all of the data into a single dataframe by building a dictionary where the keys are the codes and the values are the Series from each downloaded file\n",
    "3. Construct the Term and Default premia series using basic math on the series, and mmerge the resulting series using JOIN operation. HINT: `term_premium = merged_data[’GS10’] - merged_data[’GS1’]` and `default_premium = merged_data[’BAA’] - merged_data[’AAA’]`\n",
    "4. Process the data\n",
    "5. Plot ’GDP_growth’,’IP_growth’ and 'Unemp_rate' a a function of time and draw inferences\n",
    "6. Use pandas function scatter_matrix to generate scatter plots of ’GDP_growth’,’IP_growth’ and 'Unemp_rate' in a mmatrix form with kernel density plots along the diagonals.\n",
    "\n",
    "Note: Processing the data is of utmost importance for better readability and understanding of the data. Process the above data by ensuring the following\n",
    "\n",
    "1. dropping the rows with null values\n",
    "2. Output data regularly to see if they are following regular format. Use pandas.series.pct_change wherever necessary\n",
    "\n",
    "**The codes and their corresponding series representation**\n",
    "\n",
    "                            Series                   Code           Frequency\n",
    "                            Real GDP                 GDPC1          Quarterly\n",
    "                            Industrial Production   INDPRO          Quarterly\n",
    "                            Core CPI               CPILFESL         Monthly\n",
    "                            Unemployment Rate       UNRATE          Monthly\n",
    "                            10 Year Yield            GS10           Monthly\n",
    "                            1 Year Yield             GS1            Monthly\n",
    "                            Baa Yield                BAA            Monthly\n",
    "                            Aaa Yield                AAA            Monthly\n",
    "                            \n",
    "** Variable Description **\n",
    "\n",
    "                            Series                        Description\n",
    "                            Treated                       Dummy indicating whether the candidate received the treatment\n",
    "                            Age                           Age in years\n",
    "                            Education (years)             Years of Education\n",
    "                            Black                         Dummy indicating African-American\n",
    "                            Hispanic                      Dummy indicating Hispanic\n",
    "                            Married                       Dummy indicating married\n",
    "                            Real income Before ($)        Income before program\n",
    "                        Real income After ($)         Income after program           \n"
   ]
  },
  {
   "cell_type": "code",
   "execution_count": 12,
   "metadata": {
    "collapsed": false
   },
   "outputs": [
    {
     "name": "stdout",
     "output_type": "stream",
     "text": [
      "Populating the interactive namespace from numpy and matplotlib\n"
     ]
    }
   ],
   "source": [
    "import pandas as pd\n",
    "%pylab inline\n",
    "import matplotlib.pyplot as plt\n",
    "%matplotlib inline"
   ]
  },
  {
   "cell_type": "code",
   "execution_count": 13,
   "metadata": {
    "collapsed": false
   },
   "outputs": [
    {
     "name": "stdout",
     "output_type": "stream",
     "text": [
      "(1149, 8)\n"
     ]
    },
    {
     "data": {
      "text/html": [
       "<div>\n",
       "<table border=\"1\" class=\"dataframe\">\n",
       "  <thead>\n",
       "    <tr style=\"text-align: right;\">\n",
       "      <th></th>\n",
       "      <th>AAA</th>\n",
       "      <th>BAA</th>\n",
       "      <th>CPILFESL</th>\n",
       "      <th>GDPC1</th>\n",
       "      <th>GS1</th>\n",
       "      <th>GS10</th>\n",
       "      <th>INDPRO</th>\n",
       "      <th>UNRATE</th>\n",
       "    </tr>\n",
       "    <tr>\n",
       "      <th>date</th>\n",
       "      <th></th>\n",
       "      <th></th>\n",
       "      <th></th>\n",
       "      <th></th>\n",
       "      <th></th>\n",
       "      <th></th>\n",
       "      <th></th>\n",
       "      <th></th>\n",
       "    </tr>\n",
       "  </thead>\n",
       "  <tbody>\n",
       "    <tr>\n",
       "      <th>1919-01-01</th>\n",
       "      <td>5.35</td>\n",
       "      <td>7.12</td>\n",
       "      <td>NaN</td>\n",
       "      <td>NaN</td>\n",
       "      <td>NaN</td>\n",
       "      <td>NaN</td>\n",
       "      <td>4.8582</td>\n",
       "      <td>NaN</td>\n",
       "    </tr>\n",
       "    <tr>\n",
       "      <th>1919-02-01</th>\n",
       "      <td>5.35</td>\n",
       "      <td>7.20</td>\n",
       "      <td>NaN</td>\n",
       "      <td>NaN</td>\n",
       "      <td>NaN</td>\n",
       "      <td>NaN</td>\n",
       "      <td>4.6435</td>\n",
       "      <td>NaN</td>\n",
       "    </tr>\n",
       "    <tr>\n",
       "      <th>1919-03-01</th>\n",
       "      <td>5.39</td>\n",
       "      <td>7.15</td>\n",
       "      <td>NaN</td>\n",
       "      <td>NaN</td>\n",
       "      <td>NaN</td>\n",
       "      <td>NaN</td>\n",
       "      <td>4.5092</td>\n",
       "      <td>NaN</td>\n",
       "    </tr>\n",
       "    <tr>\n",
       "      <th>1919-04-01</th>\n",
       "      <td>5.44</td>\n",
       "      <td>7.23</td>\n",
       "      <td>NaN</td>\n",
       "      <td>NaN</td>\n",
       "      <td>NaN</td>\n",
       "      <td>NaN</td>\n",
       "      <td>4.5898</td>\n",
       "      <td>NaN</td>\n",
       "    </tr>\n",
       "    <tr>\n",
       "      <th>1919-05-01</th>\n",
       "      <td>5.39</td>\n",
       "      <td>7.09</td>\n",
       "      <td>NaN</td>\n",
       "      <td>NaN</td>\n",
       "      <td>NaN</td>\n",
       "      <td>NaN</td>\n",
       "      <td>4.6166</td>\n",
       "      <td>NaN</td>\n",
       "    </tr>\n",
       "  </tbody>\n",
       "</table>\n",
       "</div>"
      ],
      "text/plain": [
       "             AAA   BAA  CPILFESL  GDPC1  GS1  GS10  INDPRO  UNRATE\n",
       "date                                                              \n",
       "1919-01-01  5.35  7.12       NaN    NaN  NaN   NaN  4.8582     NaN\n",
       "1919-02-01  5.35  7.20       NaN    NaN  NaN   NaN  4.6435     NaN\n",
       "1919-03-01  5.39  7.15       NaN    NaN  NaN   NaN  4.5092     NaN\n",
       "1919-04-01  5.44  7.23       NaN    NaN  NaN   NaN  4.5898     NaN\n",
       "1919-05-01  5.39  7.09       NaN    NaN  NaN   NaN  4.6166     NaN"
      ]
     },
     "execution_count": 13,
     "metadata": {},
     "output_type": "execute_result"
    }
   ],
   "source": [
    "codes = [\"AAA\", \"BAA\", \"CPILFESL\", \"GDPC1\", \"GS1\", \"GS10\", \"INDPRO\", \"UNRATE\"]\n",
    "\n",
    "merged_data = pd.DataFrame()\n",
    "\n",
    "dataframes=[]\n",
    "for code in codes: \n",
    "    df = pd.read_csv(\"../data/economics/\" + code + \".csv\", keep_date_col=True, header=0, names=[\"date\", code], parse_dates=[\"date\"], index_col=\"date\")\n",
    "    merged_data = merged_data.merge(df, how=\"outer\", left_index=True, right_index=True)\n",
    "\n",
    "#merged_data = pd.concat(data_indexed, axis = 1) this works too\n",
    "print shape(merged_data) #(1149, 8)\n",
    "merged_data.head()\n"
   ]
  },
  {
   "cell_type": "code",
   "execution_count": 14,
   "metadata": {
    "collapsed": false
   },
   "outputs": [
    {
     "data": {
      "text/plain": [
       "date\n",
       "1919-01-01   NaN\n",
       "1919-02-01   NaN\n",
       "1919-03-01   NaN\n",
       "1919-04-01   NaN\n",
       "1919-05-01   NaN\n",
       "dtype: float64"
      ]
     },
     "execution_count": 14,
     "metadata": {},
     "output_type": "execute_result"
    }
   ],
   "source": [
    "term_premium = merged_data[\"GS10\"] - merged_data[\"GS1\"]\n",
    "term_premium.head()"
   ]
  },
  {
   "cell_type": "code",
   "execution_count": 15,
   "metadata": {
    "collapsed": false
   },
   "outputs": [
    {
     "data": {
      "text/plain": [
       "date\n",
       "1919-01-01    1.77\n",
       "1919-02-01    1.85\n",
       "1919-03-01    1.76\n",
       "1919-04-01    1.79\n",
       "1919-05-01    1.70\n",
       "dtype: float64"
      ]
     },
     "execution_count": 15,
     "metadata": {},
     "output_type": "execute_result"
    }
   ],
   "source": [
    "default_premium = merged_data[\"BAA\"] - merged_data[\"AAA\"]\n",
    "default_premium.head()"
   ]
  },
  {
   "cell_type": "code",
   "execution_count": 16,
   "metadata": {
    "collapsed": false
   },
   "outputs": [
    {
     "name": "stdout",
     "output_type": "stream",
     "text": [
      "date\n",
      "2013-12-01    101.5572\n",
      "2014-01-01    101.3061\n",
      "2014-02-01    102.2567\n",
      "2014-03-01    103.1059\n",
      "2014-04-01    103.1885\n",
      "2014-05-01    103.6619\n",
      "2014-06-01    103.9503\n",
      "2014-07-01    104.1916\n",
      "2014-08-01    104.0187\n",
      "2014-09-01    105.0728\n",
      "Name: INDPRO, dtype: float64\n"
     ]
    },
    {
     "data": {
      "text/plain": [
       "[<matplotlib.lines.Line2D at 0x126c8e190>]"
      ]
     },
     "execution_count": 16,
     "metadata": {},
     "output_type": "execute_result"
    },
    {
     "data": {
      "image/png": "[encoded data removed]",
      "text/plain": [
       "<matplotlib.figure.Figure at 0x126c86c50>"
      ]
     },
     "metadata": {},
     "output_type": "display_data"
    }
   ],
   "source": [
    "# Plot ’GDP_growth’,’IP_growth’ and 'Unemp_rate' a a function of time and draw inferences\n",
    "\n",
    "gdp_y = merged_data.loc[\"1947-01-01\":][\"INDPRO\"].dropna() #all rows after 1947 and drop NaNs\n",
    "print gdp_y.tail(10)\n",
    "\n",
    "y = gdp_y\n",
    "plt.plot_date(gdp_y.index, gdp_y, \"-\")"
   ]
  },
  {
   "cell_type": "code",
   "execution_count": 17,
   "metadata": {
    "collapsed": false
   },
   "outputs": [
    {
     "name": "stdout",
     "output_type": "stream",
     "text": [
      "date\n",
      "2012-01-01    15275.0\n",
      "2012-04-01    15336.7\n",
      "2012-07-01    15431.3\n",
      "2012-10-01    15433.7\n",
      "2013-01-01    15538.4\n",
      "2013-04-01    15606.6\n",
      "2013-07-01    15779.9\n",
      "2013-10-01    15916.2\n",
      "2014-01-01    15831.7\n",
      "2014-04-01    16010.4\n",
      "Name: GDPC1, dtype: float64\n"
     ]
    },
    {
     "data": {
      "text/plain": [
       "[<matplotlib.lines.Line2D at 0x126d71b10>]"
      ]
     },
     "execution_count": 17,
     "metadata": {},
     "output_type": "execute_result"
    },
    {
     "data": {
      "image/png": "[encoded data removed]",
      "text/plain": [
       "<matplotlib.figure.Figure at 0x126d47410>"
      ]
     },
     "metadata": {},
     "output_type": "display_data"
    }
   ],
   "source": [
    "# Plot ’GDP_growth’,’IP_growth’ and 'Unemp_rate' a a function of time and draw inferences\n",
    "\n",
    "gdp_y = merged_data.loc[\"1947-01-01\":][\"GDPC1\"].dropna() #all rows after 1947 and drop NaNs\n",
    "print gdp_y.tail(10)\n",
    "\n",
    "y = gdp_y\n",
    "plt.plot_date(gdp_y.index, gdp_y, \"-\")"
   ]
  },
  {
   "cell_type": "markdown",
   "metadata": {},
   "source": [
    "### Infernaces\n",
    "\n",
    "It seems on average GDP always increases"
   ]
  },
  {
   "cell_type": "code",
   "execution_count": 18,
   "metadata": {
    "collapsed": false
   },
   "outputs": [
    {
     "name": "stdout",
     "output_type": "stream",
     "text": [
      "date\n",
      "2013-12-01    6.7\n",
      "2014-01-01    6.6\n",
      "2014-02-01    6.7\n",
      "2014-03-01    6.7\n",
      "2014-04-01    6.3\n",
      "2014-05-01    6.3\n",
      "2014-06-01    6.1\n",
      "2014-07-01    6.2\n",
      "2014-08-01    6.1\n",
      "2014-09-01    5.9\n",
      "Name: UNRATE, dtype: float64\n"
     ]
    },
    {
     "data": {
      "text/plain": [
       "[<matplotlib.lines.Line2D at 0x126ef1890>]"
      ]
     },
     "execution_count": 18,
     "metadata": {},
     "output_type": "execute_result"
    },
    {
     "data": {
      "image/png": "[encoded data removed]",
      "text/plain": [
       "<matplotlib.figure.Figure at 0x126ccaa90>"
      ]
     },
     "metadata": {},
     "output_type": "display_data"
    }
   ],
   "source": [
    "# Plot ’GDP_growth’,’IP_growth’ and 'Unemp_rate' a a function of time and draw inferences\n",
    "\n",
    "unrate = merged_data.loc[\"1948-01-01\":][\"UNRATE\"].dropna() #all rows after 1947 and drop NaNs\n",
    "print unrate.tail(10)\n",
    "\n",
    "plt.plot_date(unrate.index, unrate, \"-\")"
   ]
  },
  {
   "cell_type": "code",
   "execution_count": 19,
   "metadata": {
    "collapsed": false
   },
   "outputs": [
    {
     "data": {
      "text/plain": [
       "array([[<matplotlib.axes._subplots.AxesSubplot object at 0x126ee8210>,\n",
       "        <matplotlib.axes._subplots.AxesSubplot object at 0x127047e10>,\n",
       "        <matplotlib.axes._subplots.AxesSubplot object at 0x1270cbb50>],\n",
       "       [<matplotlib.axes._subplots.AxesSubplot object at 0x12712fed0>,\n",
       "        <matplotlib.axes._subplots.AxesSubplot object at 0x1271c2050>,\n",
       "        <matplotlib.axes._subplots.AxesSubplot object at 0x12715e850>],\n",
       "       [<matplotlib.axes._subplots.AxesSubplot object at 0x1272a6810>,\n",
       "        <matplotlib.axes._subplots.AxesSubplot object at 0x12732c450>,\n",
       "        <matplotlib.axes._subplots.AxesSubplot object at 0x12738fb50>]], dtype=object)"
      ]
     },
     "execution_count": 19,
     "metadata": {},
     "output_type": "execute_result"
    },
    {
     "data": {
      "image/png": "[encoded data removed]",
      "text/plain": [
       "<matplotlib.figure.Figure at 0x111c71b90>"
      ]
     },
     "metadata": {},
     "output_type": "display_data"
    }
   ],
   "source": [
    "pd.scatter_matrix(merged_data[[\"GDPC1\", \"INDPRO\", \"UNRATE\"]], alpha=0.2, figsize=(6, 6), diagonal='kde')"
   ]
  },
  {
   "cell_type": "markdown",
   "metadata": {},
   "source": [
    "### Infereneces\n",
    "\n",
    "The unemployment rate is very volitile, but opperates on a periodic cycle. The latest data suggestes we are approching the trough of a down cycle, therefore we should prepare of a perdiod on increased unemployment in the next year or two. "
   ]
  },
  {
   "cell_type": "markdown",
   "metadata": {},
   "source": [
    "## Nutrition dataset analysis\n",
    "\n",
    "Download the dataset from http://ashleyw.co.uk/files/foods-2011-10-03.json.zip\n",
    "This data set is a compilation of data provided by the US department of Agriculture. The data set contains data for 6,636 unique foods and 94 unique nutrients (with an average of 56.5 nutrients per food)\n",
    "\n",
    "Do the following\n",
    "\n",
    "Use the built in python json module to load the food data into a python list\n",
    "\n",
    "Your code should look like this\n",
    "\n",
    "```\n",
    "import json\n",
    "db = json.load(open('foods-2011-10-03.json'))\n",
    "```\n",
    "\n",
    "db will be a list of 6636 python dictionaries, each containing nutritional information for a different food item. Each dictionary will have the following keys:\n",
    "\n",
    "    1.portions\n",
    "    2.description\n",
    "    3.tags\n",
    "    4.nutrients\n",
    "    5.group\n",
    "    6.id\n",
    "    7.manufacture\n",
    "\n",
    "Now, create a DataFrame of meta_data using the description, group, id, and manufacturer items in each dictionary.\n",
    "\n",
    "Loop over db and construct a list of DataFrames containing the nutritional information for each record in db. Make sure to add a column to each of these DataFrames that contains the unique food id (id key in the dictionary)\n",
    "\n",
    "Finally, use the pandas combining techniques to create a nutrients DataFrame. After you have done this drop duplicate entries in this DataFrame. For example, if you had named the objects nuts you would do\n",
    "\n",
    "`nuts = nuts.drop_duplicates()`\n",
    "\n",
    "Use the rename method to make sure that the description and group columns are un-ambiguous for both the meta_data DataFrame and the nutrients DataFrame (These column names are duplicated because every food has a description and group and each nutrient also has those identifiers). \n",
    "\n",
    "Finally, use the data combining routines to come up with a foods DataFrame containing all the meta_data and nutritional information. Make sure to do an outer style merge on the correct columns.\n",
    "\n",
    "Using the foods DataFrame you have been building, compute the following things:\n",
    "\n",
    "1. The food item with the highest content of each nutrient.\n",
    "2. A function that accepts a nutrient name and a quantile value and generates a horizontal bar plot of the amount of that nutrient in each food group. Provide a plot title. HINT: You will need to use the quantile and sort (or order ) methods in order for this to work. "
   ]
  },
  {
   "cell_type": "code",
   "execution_count": 20,
   "metadata": {
    "collapsed": false
   },
   "outputs": [],
   "source": [
    "import json\n",
    "db = json.load(open('../data/foods-2011-10-03.json'))"
   ]
  },
  {
   "cell_type": "code",
   "execution_count": 21,
   "metadata": {
    "collapsed": false
   },
   "outputs": [
    {
     "data": {
      "text/plain": [
       "[u'portions',\n",
       " u'description',\n",
       " u'tags',\n",
       " u'nutrients',\n",
       " u'group',\n",
       " u'id',\n",
       " u'manufacturer']"
      ]
     },
     "execution_count": 21,
     "metadata": {},
     "output_type": "execute_result"
    }
   ],
   "source": [
    "db[0].keys()"
   ]
  },
  {
   "cell_type": "code",
   "execution_count": 22,
   "metadata": {
    "collapsed": false
   },
   "outputs": [
    {
     "data": {
      "text/plain": [
       "{u'description': u'Protein',\n",
       " u'group': u'Composition',\n",
       " u'units': u'g',\n",
       " u'value': 25.18}"
      ]
     },
     "execution_count": 22,
     "metadata": {},
     "output_type": "execute_result"
    }
   ],
   "source": [
    "db[0]['nutrients'][0]"
   ]
  },
  {
   "cell_type": "code",
   "execution_count": 23,
   "metadata": {
    "collapsed": false
   },
   "outputs": [
    {
     "data": {
      "text/html": [
       "<div>\n",
       "<table border=\"1\" class=\"dataframe\">\n",
       "  <thead>\n",
       "    <tr style=\"text-align: right;\">\n",
       "      <th></th>\n",
       "      <th>description</th>\n",
       "      <th>group</th>\n",
       "      <th>units</th>\n",
       "      <th>value</th>\n",
       "    </tr>\n",
       "  </thead>\n",
       "  <tbody>\n",
       "    <tr>\n",
       "      <th>0</th>\n",
       "      <td>Protein</td>\n",
       "      <td>Composition</td>\n",
       "      <td>g</td>\n",
       "      <td>25.18</td>\n",
       "    </tr>\n",
       "    <tr>\n",
       "      <th>1</th>\n",
       "      <td>Total lipid (fat)</td>\n",
       "      <td>Composition</td>\n",
       "      <td>g</td>\n",
       "      <td>29.20</td>\n",
       "    </tr>\n",
       "    <tr>\n",
       "      <th>2</th>\n",
       "      <td>Carbohydrate, by difference</td>\n",
       "      <td>Composition</td>\n",
       "      <td>g</td>\n",
       "      <td>3.06</td>\n",
       "    </tr>\n",
       "    <tr>\n",
       "      <th>3</th>\n",
       "      <td>Ash</td>\n",
       "      <td>Other</td>\n",
       "      <td>g</td>\n",
       "      <td>3.28</td>\n",
       "    </tr>\n",
       "    <tr>\n",
       "      <th>4</th>\n",
       "      <td>Energy</td>\n",
       "      <td>Energy</td>\n",
       "      <td>kcal</td>\n",
       "      <td>376.00</td>\n",
       "    </tr>\n",
       "    <tr>\n",
       "      <th>5</th>\n",
       "      <td>Water</td>\n",
       "      <td>Composition</td>\n",
       "      <td>g</td>\n",
       "      <td>39.28</td>\n",
       "    </tr>\n",
       "    <tr>\n",
       "      <th>6</th>\n",
       "      <td>Energy</td>\n",
       "      <td>Energy</td>\n",
       "      <td>kJ</td>\n",
       "      <td>1573.00</td>\n",
       "    </tr>\n",
       "  </tbody>\n",
       "</table>\n",
       "</div>"
      ],
      "text/plain": [
       "                   description        group units    value\n",
       "0                      Protein  Composition     g    25.18\n",
       "1            Total lipid (fat)  Composition     g    29.20\n",
       "2  Carbohydrate, by difference  Composition     g     3.06\n",
       "3                          Ash        Other     g     3.28\n",
       "4                       Energy       Energy  kcal   376.00\n",
       "5                        Water  Composition     g    39.28\n",
       "6                       Energy       Energy    kJ  1573.00"
      ]
     },
     "execution_count": 23,
     "metadata": {},
     "output_type": "execute_result"
    }
   ],
   "source": [
    "nutrients = pd.DataFrame(db[0]['nutrients'])\n",
    "nutrients[:7]"
   ]
  },
  {
   "cell_type": "code",
   "execution_count": 24,
   "metadata": {
    "collapsed": false
   },
   "outputs": [
    {
     "data": {
      "text/html": [
       "<div>\n",
       "<table border=\"1\" class=\"dataframe\">\n",
       "  <thead>\n",
       "    <tr style=\"text-align: right;\">\n",
       "      <th></th>\n",
       "      <th>description</th>\n",
       "      <th>group</th>\n",
       "      <th>id</th>\n",
       "      <th>manufacturer</th>\n",
       "    </tr>\n",
       "  </thead>\n",
       "  <tbody>\n",
       "    <tr>\n",
       "      <th>0</th>\n",
       "      <td>Cheese, caraway</td>\n",
       "      <td>Dairy and Egg Products</td>\n",
       "      <td>1008</td>\n",
       "      <td></td>\n",
       "    </tr>\n",
       "    <tr>\n",
       "      <th>1</th>\n",
       "      <td>Cheese, cheddar</td>\n",
       "      <td>Dairy and Egg Products</td>\n",
       "      <td>1009</td>\n",
       "      <td></td>\n",
       "    </tr>\n",
       "    <tr>\n",
       "      <th>2</th>\n",
       "      <td>Cheese, edam</td>\n",
       "      <td>Dairy and Egg Products</td>\n",
       "      <td>1018</td>\n",
       "      <td></td>\n",
       "    </tr>\n",
       "    <tr>\n",
       "      <th>3</th>\n",
       "      <td>Cheese, feta</td>\n",
       "      <td>Dairy and Egg Products</td>\n",
       "      <td>1019</td>\n",
       "      <td></td>\n",
       "    </tr>\n",
       "    <tr>\n",
       "      <th>4</th>\n",
       "      <td>Cheese, mozzarella, part skim milk</td>\n",
       "      <td>Dairy and Egg Products</td>\n",
       "      <td>1028</td>\n",
       "      <td></td>\n",
       "    </tr>\n",
       "  </tbody>\n",
       "</table>\n",
       "</div>"
      ],
      "text/plain": [
       "                          description                   group    id  \\\n",
       "0                     Cheese, caraway  Dairy and Egg Products  1008   \n",
       "1                     Cheese, cheddar  Dairy and Egg Products  1009   \n",
       "2                        Cheese, edam  Dairy and Egg Products  1018   \n",
       "3                        Cheese, feta  Dairy and Egg Products  1019   \n",
       "4  Cheese, mozzarella, part skim milk  Dairy and Egg Products  1028   \n",
       "\n",
       "  manufacturer  \n",
       "0               \n",
       "1               \n",
       "2               \n",
       "3               \n",
       "4               "
      ]
     },
     "execution_count": 24,
     "metadata": {},
     "output_type": "execute_result"
    }
   ],
   "source": [
    "info_keys = ['description', 'group', 'id', 'manufacturer']\n",
    "info = pd.DataFrame(db, columns=info_keys)\n",
    "info[:5]"
   ]
  },
  {
   "cell_type": "code",
   "execution_count": 25,
   "metadata": {
    "collapsed": false
   },
   "outputs": [
    {
     "data": {
      "text/plain": [
       "Vegetables and Vegetable Products    812\n",
       "Beef Products                        618\n",
       "Baked Products                       496\n",
       "Breakfast Cereals                    403\n",
       "Legumes and Legume Products          365\n",
       "Fast Foods                           365\n",
       "Lamb, Veal, and Game Products        345\n",
       "Sweets                               341\n",
       "Fruits and Fruit Juices              328\n",
       "Pork Products                        328\n",
       "dtype: int64"
      ]
     },
     "execution_count": 25,
     "metadata": {},
     "output_type": "execute_result"
    }
   ],
   "source": [
    "pd.value_counts(info.group)[:10]"
   ]
  },
  {
   "cell_type": "code",
   "execution_count": 26,
   "metadata": {
    "collapsed": false
   },
   "outputs": [
    {
     "data": {
      "text/html": [
       "<div>\n",
       "<table border=\"1\" class=\"dataframe\">\n",
       "  <thead>\n",
       "    <tr style=\"text-align: right;\">\n",
       "      <th></th>\n",
       "      <th>nutrient</th>\n",
       "      <th>nutgroup</th>\n",
       "      <th>units</th>\n",
       "      <th>value</th>\n",
       "      <th>id</th>\n",
       "    </tr>\n",
       "  </thead>\n",
       "  <tbody>\n",
       "    <tr>\n",
       "      <th>0</th>\n",
       "      <td>Protein</td>\n",
       "      <td>Composition</td>\n",
       "      <td>g</td>\n",
       "      <td>25.18</td>\n",
       "      <td>1008</td>\n",
       "    </tr>\n",
       "    <tr>\n",
       "      <th>1</th>\n",
       "      <td>Total lipid (fat)</td>\n",
       "      <td>Composition</td>\n",
       "      <td>g</td>\n",
       "      <td>29.20</td>\n",
       "      <td>1008</td>\n",
       "    </tr>\n",
       "    <tr>\n",
       "      <th>2</th>\n",
       "      <td>Carbohydrate, by difference</td>\n",
       "      <td>Composition</td>\n",
       "      <td>g</td>\n",
       "      <td>3.06</td>\n",
       "      <td>1008</td>\n",
       "    </tr>\n",
       "    <tr>\n",
       "      <th>3</th>\n",
       "      <td>Ash</td>\n",
       "      <td>Other</td>\n",
       "      <td>g</td>\n",
       "      <td>3.28</td>\n",
       "      <td>1008</td>\n",
       "    </tr>\n",
       "    <tr>\n",
       "      <th>4</th>\n",
       "      <td>Energy</td>\n",
       "      <td>Energy</td>\n",
       "      <td>kcal</td>\n",
       "      <td>376.00</td>\n",
       "      <td>1008</td>\n",
       "    </tr>\n",
       "  </tbody>\n",
       "</table>\n",
       "</div>"
      ],
      "text/plain": [
       "                      nutrient     nutgroup units   value    id\n",
       "0                      Protein  Composition     g   25.18  1008\n",
       "1            Total lipid (fat)  Composition     g   29.20  1008\n",
       "2  Carbohydrate, by difference  Composition     g    3.06  1008\n",
       "3                          Ash        Other     g    3.28  1008\n",
       "4                       Energy       Energy  kcal  376.00  1008"
      ]
     },
     "execution_count": 26,
     "metadata": {},
     "output_type": "execute_result"
    }
   ],
   "source": [
    "nutrients = []\n",
    "\n",
    "for rec in db:\n",
    "    fnuts = pd.DataFrame(rec['nutrients'])\n",
    "    fnuts['id'] = rec['id']\n",
    "    nutrients.append(fnuts)\n",
    "\n",
    "nutrients = pd.concat(nutrients, ignore_index=True)\n",
    "\n",
    "\n",
    "nutrients = nutrients.drop_duplicates()\n",
    "\n",
    "col_mapping = {'description' : 'nutrient',\n",
    "               'group' : 'nutgroup'}\n",
    "nutrients = nutrients.rename(columns=col_mapping, copy=False)\n",
    "nutrients.head()"
   ]
  },
  {
   "cell_type": "code",
   "execution_count": 27,
   "metadata": {
    "collapsed": false
   },
   "outputs": [
    {
     "data": {
      "text/html": [
       "<div>\n",
       "<table border=\"1\" class=\"dataframe\">\n",
       "  <thead>\n",
       "    <tr style=\"text-align: right;\">\n",
       "      <th></th>\n",
       "      <th>food</th>\n",
       "      <th>fgroup</th>\n",
       "      <th>id</th>\n",
       "      <th>manufacturer</th>\n",
       "    </tr>\n",
       "  </thead>\n",
       "  <tbody>\n",
       "    <tr>\n",
       "      <th>0</th>\n",
       "      <td>Cheese, caraway</td>\n",
       "      <td>Dairy and Egg Products</td>\n",
       "      <td>1008</td>\n",
       "      <td></td>\n",
       "    </tr>\n",
       "    <tr>\n",
       "      <th>1</th>\n",
       "      <td>Cheese, cheddar</td>\n",
       "      <td>Dairy and Egg Products</td>\n",
       "      <td>1009</td>\n",
       "      <td></td>\n",
       "    </tr>\n",
       "    <tr>\n",
       "      <th>2</th>\n",
       "      <td>Cheese, edam</td>\n",
       "      <td>Dairy and Egg Products</td>\n",
       "      <td>1018</td>\n",
       "      <td></td>\n",
       "    </tr>\n",
       "    <tr>\n",
       "      <th>3</th>\n",
       "      <td>Cheese, feta</td>\n",
       "      <td>Dairy and Egg Products</td>\n",
       "      <td>1019</td>\n",
       "      <td></td>\n",
       "    </tr>\n",
       "    <tr>\n",
       "      <th>4</th>\n",
       "      <td>Cheese, mozzarella, part skim milk</td>\n",
       "      <td>Dairy and Egg Products</td>\n",
       "      <td>1028</td>\n",
       "      <td></td>\n",
       "    </tr>\n",
       "  </tbody>\n",
       "</table>\n",
       "</div>"
      ],
      "text/plain": [
       "                                 food                  fgroup    id  \\\n",
       "0                     Cheese, caraway  Dairy and Egg Products  1008   \n",
       "1                     Cheese, cheddar  Dairy and Egg Products  1009   \n",
       "2                        Cheese, edam  Dairy and Egg Products  1018   \n",
       "3                        Cheese, feta  Dairy and Egg Products  1019   \n",
       "4  Cheese, mozzarella, part skim milk  Dairy and Egg Products  1028   \n",
       "\n",
       "  manufacturer  \n",
       "0               \n",
       "1               \n",
       "2               \n",
       "3               \n",
       "4               "
      ]
     },
     "execution_count": 27,
     "metadata": {},
     "output_type": "execute_result"
    }
   ],
   "source": [
    "col_mapping = {'description' : 'food',\n",
    "               'group'       : 'fgroup'}\n",
    "info = info.rename(columns=col_mapping, copy=False)\n",
    "info.head()"
   ]
  },
  {
   "cell_type": "code",
   "execution_count": null,
   "metadata": {
    "collapsed": false
   },
   "outputs": [],
   "source": []
  },
  {
   "cell_type": "code",
   "execution_count": 28,
   "metadata": {
    "collapsed": false,
    "scrolled": true
   },
   "outputs": [
    {
     "data": {
      "text/html": [
       "<div>\n",
       "<table border=\"1\" class=\"dataframe\">\n",
       "  <thead>\n",
       "    <tr style=\"text-align: right;\">\n",
       "      <th></th>\n",
       "      <th>nutrient</th>\n",
       "      <th>nutgroup</th>\n",
       "      <th>units</th>\n",
       "      <th>value</th>\n",
       "      <th>id</th>\n",
       "      <th>food</th>\n",
       "      <th>fgroup</th>\n",
       "      <th>manufacturer</th>\n",
       "    </tr>\n",
       "  </thead>\n",
       "  <tbody>\n",
       "    <tr>\n",
       "      <th>375171</th>\n",
       "      <td>Vitamin B-12, added</td>\n",
       "      <td>Vitamins</td>\n",
       "      <td>mcg</td>\n",
       "      <td>0.000</td>\n",
       "      <td>43546</td>\n",
       "      <td>Babyfood, banana no tapioca, strained</td>\n",
       "      <td>Baby Foods</td>\n",
       "      <td>None</td>\n",
       "    </tr>\n",
       "    <tr>\n",
       "      <th>375172</th>\n",
       "      <td>Cholesterol</td>\n",
       "      <td>Other</td>\n",
       "      <td>mg</td>\n",
       "      <td>0.000</td>\n",
       "      <td>43546</td>\n",
       "      <td>Babyfood, banana no tapioca, strained</td>\n",
       "      <td>Baby Foods</td>\n",
       "      <td>None</td>\n",
       "    </tr>\n",
       "    <tr>\n",
       "      <th>375173</th>\n",
       "      <td>Fatty acids, total saturated</td>\n",
       "      <td>Other</td>\n",
       "      <td>g</td>\n",
       "      <td>0.072</td>\n",
       "      <td>43546</td>\n",
       "      <td>Babyfood, banana no tapioca, strained</td>\n",
       "      <td>Baby Foods</td>\n",
       "      <td>None</td>\n",
       "    </tr>\n",
       "    <tr>\n",
       "      <th>375174</th>\n",
       "      <td>Fatty acids, total monounsaturated</td>\n",
       "      <td>Other</td>\n",
       "      <td>g</td>\n",
       "      <td>0.028</td>\n",
       "      <td>43546</td>\n",
       "      <td>Babyfood, banana no tapioca, strained</td>\n",
       "      <td>Baby Foods</td>\n",
       "      <td>None</td>\n",
       "    </tr>\n",
       "    <tr>\n",
       "      <th>375175</th>\n",
       "      <td>Fatty acids, total polyunsaturated</td>\n",
       "      <td>Other</td>\n",
       "      <td>g</td>\n",
       "      <td>0.041</td>\n",
       "      <td>43546</td>\n",
       "      <td>Babyfood, banana no tapioca, strained</td>\n",
       "      <td>Baby Foods</td>\n",
       "      <td>None</td>\n",
       "    </tr>\n",
       "  </tbody>\n",
       "</table>\n",
       "</div>"
      ],
      "text/plain": [
       "                                  nutrient  nutgroup units  value     id  \\\n",
       "375171                 Vitamin B-12, added  Vitamins   mcg  0.000  43546   \n",
       "375172                         Cholesterol     Other    mg  0.000  43546   \n",
       "375173        Fatty acids, total saturated     Other     g  0.072  43546   \n",
       "375174  Fatty acids, total monounsaturated     Other     g  0.028  43546   \n",
       "375175  Fatty acids, total polyunsaturated     Other     g  0.041  43546   \n",
       "\n",
       "                                         food      fgroup manufacturer  \n",
       "375171  Babyfood, banana no tapioca, strained  Baby Foods         None  \n",
       "375172  Babyfood, banana no tapioca, strained  Baby Foods         None  \n",
       "375173  Babyfood, banana no tapioca, strained  Baby Foods         None  \n",
       "375174  Babyfood, banana no tapioca, strained  Baby Foods         None  \n",
       "375175  Babyfood, banana no tapioca, strained  Baby Foods         None  "
      ]
     },
     "execution_count": 28,
     "metadata": {},
     "output_type": "execute_result"
    }
   ],
   "source": [
    "ndata = pd.merge(nutrients, info, on='id', how='outer')\n",
    "ndata.tail()"
   ]
  },
  {
   "cell_type": "code",
   "execution_count": 29,
   "metadata": {
    "collapsed": false
   },
   "outputs": [
    {
     "data": {
      "text/plain": [
       "nutrient                                       Glycine\n",
       "nutgroup                                   Amino Acids\n",
       "units                                                g\n",
       "value                                             0.04\n",
       "id                                                6158\n",
       "food            Soup, tomato bisque, canned, condensed\n",
       "fgroup                      Soups, Sauces, and Gravies\n",
       "manufacturer                                          \n",
       "Name: 30000, dtype: object"
      ]
     },
     "execution_count": 29,
     "metadata": {},
     "output_type": "execute_result"
    }
   ],
   "source": [
    "ndata[ndata[\"food\"]==\"Cheese, caraway\"]\n",
    "ndata.ix[30000]"
   ]
  },
  {
   "cell_type": "code",
   "execution_count": 30,
   "metadata": {
    "collapsed": false
   },
   "outputs": [
    {
     "data": {
      "text/html": [
       "<div>\n",
       "<table border=\"1\" class=\"dataframe\">\n",
       "  <thead>\n",
       "    <tr style=\"text-align: right;\">\n",
       "      <th></th>\n",
       "      <th>food</th>\n",
       "      <th>value</th>\n",
       "    </tr>\n",
       "    <tr>\n",
       "      <th>nutrient</th>\n",
       "      <th></th>\n",
       "      <th></th>\n",
       "    </tr>\n",
       "  </thead>\n",
       "  <tbody>\n",
       "    <tr>\n",
       "      <th>Adjusted Protein</th>\n",
       "      <td>Mushrooms, white, raw</td>\n",
       "      <td>12.900</td>\n",
       "    </tr>\n",
       "    <tr>\n",
       "      <th>Alanine</th>\n",
       "      <td>Yogurt, vanilla, low fat, 11 grams protein per...</td>\n",
       "      <td>8.009</td>\n",
       "    </tr>\n",
       "    <tr>\n",
       "      <th>Alcohol, ethyl</th>\n",
       "      <td>Yogurt, vanilla, low fat, 11 grams protein per...</td>\n",
       "      <td>42.500</td>\n",
       "    </tr>\n",
       "    <tr>\n",
       "      <th>Arginine</th>\n",
       "      <td>Yogurt, vanilla, low fat, 11 grams protein per...</td>\n",
       "      <td>7.436</td>\n",
       "    </tr>\n",
       "    <tr>\n",
       "      <th>Ash</th>\n",
       "      <td>Yogurt, vanilla, low fat, 11 grams protein per...</td>\n",
       "      <td>72.500</td>\n",
       "    </tr>\n",
       "  </tbody>\n",
       "</table>\n",
       "</div>"
      ],
      "text/plain": [
       "                                                               food   value\n",
       "nutrient                                                                   \n",
       "Adjusted Protein                              Mushrooms, white, raw  12.900\n",
       "Alanine           Yogurt, vanilla, low fat, 11 grams protein per...   8.009\n",
       "Alcohol, ethyl    Yogurt, vanilla, low fat, 11 grams protein per...  42.500\n",
       "Arginine          Yogurt, vanilla, low fat, 11 grams protein per...   7.436\n",
       "Ash               Yogurt, vanilla, low fat, 11 grams protein per...  72.500"
      ]
     },
     "execution_count": 30,
     "metadata": {},
     "output_type": "execute_result"
    }
   ],
   "source": [
    "max_by_nut = ndata.groupby([\"nutrient\"]).max()[[\"food\", \"value\"]]\n",
    "max_by_nut.head()"
   ]
  },
  {
   "cell_type": "code",
   "execution_count": 31,
   "metadata": {
    "collapsed": false
   },
   "outputs": [
    {
     "data": {
      "image/png": "[encoded data removed]",
      "text/plain": [
       "<matplotlib.figure.Figure at 0x1104d78d0>"
      ]
     },
     "metadata": {},
     "output_type": "display_data"
    }
   ],
   "source": [
    "# A function that accepts a nutrient name and a quantile value and generates a horizontal bar plot of\n",
    "# the amount of that nutrient in each food group. Provide a plot title. \n",
    "# HINT: You will need to use the quantile and sort (or order ) methods in order for this to work.\n",
    "\n",
    "\n",
    "\n",
    "def gen_bar(nutrient_name='Protein', quantile_val=0.5):\n",
    "    result = ndata.groupby(['nutrient', 'fgroup'])['value'].quantile(quantile_val)\n",
    "    result[nutrient_name].order().plot(kind='barh', title=\"Nutrients/Group\")\n",
    "    \n",
    "gen_bar()"
   ]
  },
  {
   "cell_type": "code",
   "execution_count": 32,
   "metadata": {
    "collapsed": false
   },
   "outputs": [
    {
     "data": {
      "text/html": [
       "<div>\n",
       "<table border=\"1\" class=\"dataframe\">\n",
       "  <thead>\n",
       "    <tr style=\"text-align: right;\">\n",
       "      <th></th>\n",
       "      <th></th>\n",
       "      <th>value</th>\n",
       "      <th>food</th>\n",
       "    </tr>\n",
       "    <tr>\n",
       "      <th>nutgroup</th>\n",
       "      <th>nutrient</th>\n",
       "      <th></th>\n",
       "      <th></th>\n",
       "    </tr>\n",
       "  </thead>\n",
       "  <tbody>\n",
       "    <tr>\n",
       "      <th rowspan=\"19\" valign=\"top\">Amino Acids</th>\n",
       "      <th>Alanine</th>\n",
       "      <td>8.009</td>\n",
       "      <td>Gelatins, dry powder, unsweetened</td>\n",
       "    </tr>\n",
       "    <tr>\n",
       "      <th>Arginine</th>\n",
       "      <td>7.436</td>\n",
       "      <td>Seeds, sesame flour, low-fat</td>\n",
       "    </tr>\n",
       "    <tr>\n",
       "      <th>Aspartic acid</th>\n",
       "      <td>10.203</td>\n",
       "      <td>Soy protein isolate</td>\n",
       "    </tr>\n",
       "    <tr>\n",
       "      <th>Cystine</th>\n",
       "      <td>1.307</td>\n",
       "      <td>Seeds, cottonseed flour, low fat (glandless)</td>\n",
       "    </tr>\n",
       "    <tr>\n",
       "      <th>Glutamic acid</th>\n",
       "      <td>17.452</td>\n",
       "      <td>Soy protein isolate</td>\n",
       "    </tr>\n",
       "    <tr>\n",
       "      <th>Glycine</th>\n",
       "      <td>19.049</td>\n",
       "      <td>Gelatins, dry powder, unsweetened</td>\n",
       "    </tr>\n",
       "    <tr>\n",
       "      <th>Histidine</th>\n",
       "      <td>2.999</td>\n",
       "      <td>Whale, beluga, meat, dried (Alaska Native)</td>\n",
       "    </tr>\n",
       "    <tr>\n",
       "      <th>Hydroxyproline</th>\n",
       "      <td>0.803</td>\n",
       "      <td>KENTUCKY FRIED CHICKEN, Fried Chicken, ORIGINA...</td>\n",
       "    </tr>\n",
       "    <tr>\n",
       "      <th>Isoleucine</th>\n",
       "      <td>4.300</td>\n",
       "      <td>Soy protein isolate, PROTEIN TECHNOLOGIES INTE...</td>\n",
       "    </tr>\n",
       "    <tr>\n",
       "      <th>Leucine</th>\n",
       "      <td>7.200</td>\n",
       "      <td>Soy protein isolate, PROTEIN TECHNOLOGIES INTE...</td>\n",
       "    </tr>\n",
       "    <tr>\n",
       "      <th>Lysine</th>\n",
       "      <td>6.690</td>\n",
       "      <td>Seal, bearded (Oogruk), meat, dried (Alaska Na...</td>\n",
       "    </tr>\n",
       "    <tr>\n",
       "      <th>Methionine</th>\n",
       "      <td>1.859</td>\n",
       "      <td>Fish, cod, Atlantic, dried and salted</td>\n",
       "    </tr>\n",
       "    <tr>\n",
       "      <th>Phenylalanine</th>\n",
       "      <td>4.600</td>\n",
       "      <td>Soy protein isolate, PROTEIN TECHNOLOGIES INTE...</td>\n",
       "    </tr>\n",
       "    <tr>\n",
       "      <th>Proline</th>\n",
       "      <td>12.295</td>\n",
       "      <td>Gelatins, dry powder, unsweetened</td>\n",
       "    </tr>\n",
       "    <tr>\n",
       "      <th>Serine</th>\n",
       "      <td>4.600</td>\n",
       "      <td>Soy protein isolate, PROTEIN TECHNOLOGIES INTE...</td>\n",
       "    </tr>\n",
       "    <tr>\n",
       "      <th>Threonine</th>\n",
       "      <td>3.300</td>\n",
       "      <td>Soy protein isolate, PROTEIN TECHNOLOGIES INTE...</td>\n",
       "    </tr>\n",
       "    <tr>\n",
       "      <th>Tryptophan</th>\n",
       "      <td>1.600</td>\n",
       "      <td>Sea lion, Steller, meat with fat (Alaska Native)</td>\n",
       "    </tr>\n",
       "    <tr>\n",
       "      <th>Tyrosine</th>\n",
       "      <td>3.300</td>\n",
       "      <td>Soy protein isolate, PROTEIN TECHNOLOGIES INTE...</td>\n",
       "    </tr>\n",
       "    <tr>\n",
       "      <th>Valine</th>\n",
       "      <td>4.500</td>\n",
       "      <td>Soy protein isolate, PROTEIN TECHNOLOGIES INTE...</td>\n",
       "    </tr>\n",
       "    <tr>\n",
       "      <th rowspan=\"7\" valign=\"top\">Composition</th>\n",
       "      <th>Adjusted Protein</th>\n",
       "      <td>12.900</td>\n",
       "      <td>Baking chocolate, unsweetened, squares</td>\n",
       "    </tr>\n",
       "    <tr>\n",
       "      <th>Carbohydrate, by difference</th>\n",
       "      <td>100.000</td>\n",
       "      <td>Sweeteners, tabletop, fructose, dry, powder</td>\n",
       "    </tr>\n",
       "    <tr>\n",
       "      <th>Fiber, total dietary</th>\n",
       "      <td>79.000</td>\n",
       "      <td>Corn bran, crude</td>\n",
       "    </tr>\n",
       "    <tr>\n",
       "      <th>Protein</th>\n",
       "      <td>88.320</td>\n",
       "      <td>Soy protein isolate, potassium type, crude pro...</td>\n",
       "    </tr>\n",
       "    <tr>\n",
       "      <th>Sugars, total</th>\n",
       "      <td>99.800</td>\n",
       "      <td>Sugars, granulated</td>\n",
       "    </tr>\n",
       "    <tr>\n",
       "      <th>Total lipid (fat)</th>\n",
       "      <td>100.000</td>\n",
       "      <td>Oil, wheat germ</td>\n",
       "    </tr>\n",
       "    <tr>\n",
       "      <th>Water</th>\n",
       "      <td>100.000</td>\n",
       "      <td>Water, bottled, POLAND SPRING</td>\n",
       "    </tr>\n",
       "    <tr>\n",
       "      <th rowspan=\"4\" valign=\"top\">Elements</th>\n",
       "      <th>Calcium, Ca</th>\n",
       "      <td>7364.000</td>\n",
       "      <td>Leavening agents, baking powder, double-acting...</td>\n",
       "    </tr>\n",
       "    <tr>\n",
       "      <th>Copper, Cu</th>\n",
       "      <td>15.050</td>\n",
       "      <td>Veal, variety meats and by-products, liver, co...</td>\n",
       "    </tr>\n",
       "    <tr>\n",
       "      <th>Fluoride, F</th>\n",
       "      <td>584.000</td>\n",
       "      <td>Tea, instant, sweetened with sugar, lemon-flav...</td>\n",
       "    </tr>\n",
       "    <tr>\n",
       "      <th>Iron, Fe</th>\n",
       "      <td>87.470</td>\n",
       "      <td>Salad dressing, russian dressing, low calorie</td>\n",
       "    </tr>\n",
       "    <tr>\n",
       "      <th>...</th>\n",
       "      <th>...</th>\n",
       "      <td>...</td>\n",
       "      <td>...</td>\n",
       "    </tr>\n",
       "    <tr>\n",
       "      <th rowspan=\"30\" valign=\"top\">Vitamins</th>\n",
       "      <th>Cryptoxanthin, beta</th>\n",
       "      <td>6186.000</td>\n",
       "      <td>Spices, paprika</td>\n",
       "    </tr>\n",
       "    <tr>\n",
       "      <th>Dihydrophylloquinone</th>\n",
       "      <td>103.800</td>\n",
       "      <td>Margarine, 80% fat, stick, includes regular an...</td>\n",
       "    </tr>\n",
       "    <tr>\n",
       "      <th>Folate, DFE</th>\n",
       "      <td>2630.000</td>\n",
       "      <td>Cereals ready-to-eat, QUAKER, CAP'N CRUNCH</td>\n",
       "    </tr>\n",
       "    <tr>\n",
       "      <th>Folate, food</th>\n",
       "      <td>2340.000</td>\n",
       "      <td>Leavening agents, yeast, baker's, active dry</td>\n",
       "    </tr>\n",
       "    <tr>\n",
       "      <th>Folate, total</th>\n",
       "      <td>2340.000</td>\n",
       "      <td>Leavening agents, yeast, baker's, active dry</td>\n",
       "    </tr>\n",
       "    <tr>\n",
       "      <th>Folic acid</th>\n",
       "      <td>1538.000</td>\n",
       "      <td>Cereals ready-to-eat, QUAKER, CAP'N CRUNCH</td>\n",
       "    </tr>\n",
       "    <tr>\n",
       "      <th>Lutein + zeaxanthin</th>\n",
       "      <td>39550.000</td>\n",
       "      <td>Kale, raw</td>\n",
       "    </tr>\n",
       "    <tr>\n",
       "      <th>Lycopene</th>\n",
       "      <td>46260.000</td>\n",
       "      <td>Tomato powder</td>\n",
       "    </tr>\n",
       "    <tr>\n",
       "      <th>Menaquinone-4</th>\n",
       "      <td>33.200</td>\n",
       "      <td>Chicken, broilers or fryers, drumstick, meat a...</td>\n",
       "    </tr>\n",
       "    <tr>\n",
       "      <th>Niacin</th>\n",
       "      <td>97.000</td>\n",
       "      <td>Yeast extract spread</td>\n",
       "    </tr>\n",
       "    <tr>\n",
       "      <th>Pantothenic acid</th>\n",
       "      <td>35.000</td>\n",
       "      <td>Cereals ready-to-eat, KELLOGG, KELLOGG'S Compl...</td>\n",
       "    </tr>\n",
       "    <tr>\n",
       "      <th>Retinol</th>\n",
       "      <td>30000.000</td>\n",
       "      <td>Fish oil, cod liver</td>\n",
       "    </tr>\n",
       "    <tr>\n",
       "      <th>Riboflavin</th>\n",
       "      <td>14.300</td>\n",
       "      <td>Yeast extract spread</td>\n",
       "    </tr>\n",
       "    <tr>\n",
       "      <th>Thiamin</th>\n",
       "      <td>20.000</td>\n",
       "      <td>MORNINGSTAR FARMS Hot and Spicy Veggie Sausage...</td>\n",
       "    </tr>\n",
       "    <tr>\n",
       "      <th>Tocopherol, beta</th>\n",
       "      <td>6.490</td>\n",
       "      <td>Yellow pond lily, Wocas, dried seeds (Pacific ...</td>\n",
       "    </tr>\n",
       "    <tr>\n",
       "      <th>Tocopherol, delta</th>\n",
       "      <td>30.880</td>\n",
       "      <td>Oil, cooking and salad, ENOVA, 80% diglycerides</td>\n",
       "    </tr>\n",
       "    <tr>\n",
       "      <th>Tocopherol, gamma</th>\n",
       "      <td>100.880</td>\n",
       "      <td>Oil, cooking and salad, ENOVA, 80% diglycerides</td>\n",
       "    </tr>\n",
       "    <tr>\n",
       "      <th>Vitamin A, IU</th>\n",
       "      <td>100000.000</td>\n",
       "      <td>Fish oil, cod liver</td>\n",
       "    </tr>\n",
       "    <tr>\n",
       "      <th>Vitamin A, RAE</th>\n",
       "      <td>30000.000</td>\n",
       "      <td>Fish oil, cod liver</td>\n",
       "    </tr>\n",
       "    <tr>\n",
       "      <th>Vitamin B-12</th>\n",
       "      <td>98.890</td>\n",
       "      <td>Mollusks, clam, mixed species, cooked, moist heat</td>\n",
       "    </tr>\n",
       "    <tr>\n",
       "      <th>Vitamin B-12, added</th>\n",
       "      <td>24.000</td>\n",
       "      <td>Cereals ready-to-eat, KELLOGG, KELLOGG'S ALL-B...</td>\n",
       "    </tr>\n",
       "    <tr>\n",
       "      <th>Vitamin B-6</th>\n",
       "      <td>12.000</td>\n",
       "      <td>Cereals ready-to-eat, KELLOGG, KELLOGG'S ALL-B...</td>\n",
       "    </tr>\n",
       "    <tr>\n",
       "      <th>Vitamin C, total ascorbic acid</th>\n",
       "      <td>2400.000</td>\n",
       "      <td>Orange-flavor drink, breakfast type, low calor...</td>\n",
       "    </tr>\n",
       "    <tr>\n",
       "      <th>Vitamin D</th>\n",
       "      <td>10000.000</td>\n",
       "      <td>Fish oil, cod liver</td>\n",
       "    </tr>\n",
       "    <tr>\n",
       "      <th>Vitamin D (D2 + D3)</th>\n",
       "      <td>250.000</td>\n",
       "      <td>Fish oil, cod liver</td>\n",
       "    </tr>\n",
       "    <tr>\n",
       "      <th>Vitamin D2 (ergocalciferol)</th>\n",
       "      <td>28.100</td>\n",
       "      <td>Mushrooms, maitake, raw</td>\n",
       "    </tr>\n",
       "    <tr>\n",
       "      <th>Vitamin D3 (cholecalciferol)</th>\n",
       "      <td>27.400</td>\n",
       "      <td>Fish, halibut, Greenland, raw</td>\n",
       "    </tr>\n",
       "    <tr>\n",
       "      <th>Vitamin E (alpha-tocopherol)</th>\n",
       "      <td>149.400</td>\n",
       "      <td>Oil, wheat germ</td>\n",
       "    </tr>\n",
       "    <tr>\n",
       "      <th>Vitamin E, added</th>\n",
       "      <td>46.550</td>\n",
       "      <td>Cereals ready-to-eat, GENERAL MILLS, Multi-Gra...</td>\n",
       "    </tr>\n",
       "    <tr>\n",
       "      <th>Vitamin K (phylloquinone)</th>\n",
       "      <td>1714.500</td>\n",
       "      <td>Spices, sage, ground</td>\n",
       "    </tr>\n",
       "  </tbody>\n",
       "</table>\n",
       "<p>94 rows × 2 columns</p>\n",
       "</div>"
      ],
      "text/plain": [
       "                                                 value  \\\n",
       "nutgroup    nutrient                                     \n",
       "Amino Acids Alanine                              8.009   \n",
       "            Arginine                             7.436   \n",
       "            Aspartic acid                       10.203   \n",
       "            Cystine                              1.307   \n",
       "            Glutamic acid                       17.452   \n",
       "            Glycine                             19.049   \n",
       "            Histidine                            2.999   \n",
       "            Hydroxyproline                       0.803   \n",
       "            Isoleucine                           4.300   \n",
       "            Leucine                              7.200   \n",
       "            Lysine                               6.690   \n",
       "            Methionine                           1.859   \n",
       "            Phenylalanine                        4.600   \n",
       "            Proline                             12.295   \n",
       "            Serine                               4.600   \n",
       "            Threonine                            3.300   \n",
       "            Tryptophan                           1.600   \n",
       "            Tyrosine                             3.300   \n",
       "            Valine                               4.500   \n",
       "Composition Adjusted Protein                    12.900   \n",
       "            Carbohydrate, by difference        100.000   \n",
       "            Fiber, total dietary                79.000   \n",
       "            Protein                             88.320   \n",
       "            Sugars, total                       99.800   \n",
       "            Total lipid (fat)                  100.000   \n",
       "            Water                              100.000   \n",
       "Elements    Calcium, Ca                       7364.000   \n",
       "            Copper, Cu                          15.050   \n",
       "            Fluoride, F                        584.000   \n",
       "            Iron, Fe                            87.470   \n",
       "...                                                ...   \n",
       "Vitamins    Cryptoxanthin, beta               6186.000   \n",
       "            Dihydrophylloquinone               103.800   \n",
       "            Folate, DFE                       2630.000   \n",
       "            Folate, food                      2340.000   \n",
       "            Folate, total                     2340.000   \n",
       "            Folic acid                        1538.000   \n",
       "            Lutein + zeaxanthin              39550.000   \n",
       "            Lycopene                         46260.000   \n",
       "            Menaquinone-4                       33.200   \n",
       "            Niacin                              97.000   \n",
       "            Pantothenic acid                    35.000   \n",
       "            Retinol                          30000.000   \n",
       "            Riboflavin                          14.300   \n",
       "            Thiamin                             20.000   \n",
       "            Tocopherol, beta                     6.490   \n",
       "            Tocopherol, delta                   30.880   \n",
       "            Tocopherol, gamma                  100.880   \n",
       "            Vitamin A, IU                   100000.000   \n",
       "            Vitamin A, RAE                   30000.000   \n",
       "            Vitamin B-12                        98.890   \n",
       "            Vitamin B-12, added                 24.000   \n",
       "            Vitamin B-6                         12.000   \n",
       "            Vitamin C, total ascorbic acid    2400.000   \n",
       "            Vitamin D                        10000.000   \n",
       "            Vitamin D (D2 + D3)                250.000   \n",
       "            Vitamin D2 (ergocalciferol)         28.100   \n",
       "            Vitamin D3 (cholecalciferol)        27.400   \n",
       "            Vitamin E (alpha-tocopherol)       149.400   \n",
       "            Vitamin E, added                    46.550   \n",
       "            Vitamin K (phylloquinone)         1714.500   \n",
       "\n",
       "                                                                                         food  \n",
       "nutgroup    nutrient                                                                           \n",
       "Amino Acids Alanine                                         Gelatins, dry powder, unsweetened  \n",
       "            Arginine                                             Seeds, sesame flour, low-fat  \n",
       "            Aspartic acid                                                 Soy protein isolate  \n",
       "            Cystine                              Seeds, cottonseed flour, low fat (glandless)  \n",
       "            Glutamic acid                                                 Soy protein isolate  \n",
       "            Glycine                                         Gelatins, dry powder, unsweetened  \n",
       "            Histidine                              Whale, beluga, meat, dried (Alaska Native)  \n",
       "            Hydroxyproline                  KENTUCKY FRIED CHICKEN, Fried Chicken, ORIGINA...  \n",
       "            Isoleucine                      Soy protein isolate, PROTEIN TECHNOLOGIES INTE...  \n",
       "            Leucine                         Soy protein isolate, PROTEIN TECHNOLOGIES INTE...  \n",
       "            Lysine                          Seal, bearded (Oogruk), meat, dried (Alaska Na...  \n",
       "            Methionine                                  Fish, cod, Atlantic, dried and salted  \n",
       "            Phenylalanine                   Soy protein isolate, PROTEIN TECHNOLOGIES INTE...  \n",
       "            Proline                                         Gelatins, dry powder, unsweetened  \n",
       "            Serine                          Soy protein isolate, PROTEIN TECHNOLOGIES INTE...  \n",
       "            Threonine                       Soy protein isolate, PROTEIN TECHNOLOGIES INTE...  \n",
       "            Tryptophan                       Sea lion, Steller, meat with fat (Alaska Native)  \n",
       "            Tyrosine                        Soy protein isolate, PROTEIN TECHNOLOGIES INTE...  \n",
       "            Valine                          Soy protein isolate, PROTEIN TECHNOLOGIES INTE...  \n",
       "Composition Adjusted Protein                           Baking chocolate, unsweetened, squares  \n",
       "            Carbohydrate, by difference           Sweeteners, tabletop, fructose, dry, powder  \n",
       "            Fiber, total dietary                                             Corn bran, crude  \n",
       "            Protein                         Soy protein isolate, potassium type, crude pro...  \n",
       "            Sugars, total                                                  Sugars, granulated  \n",
       "            Total lipid (fat)                                                 Oil, wheat germ  \n",
       "            Water                                               Water, bottled, POLAND SPRING  \n",
       "Elements    Calcium, Ca                     Leavening agents, baking powder, double-acting...  \n",
       "            Copper, Cu                      Veal, variety meats and by-products, liver, co...  \n",
       "            Fluoride, F                     Tea, instant, sweetened with sugar, lemon-flav...  \n",
       "            Iron, Fe                            Salad dressing, russian dressing, low calorie  \n",
       "...                                                                                       ...  \n",
       "Vitamins    Cryptoxanthin, beta                                               Spices, paprika  \n",
       "            Dihydrophylloquinone            Margarine, 80% fat, stick, includes regular an...  \n",
       "            Folate, DFE                            Cereals ready-to-eat, QUAKER, CAP'N CRUNCH  \n",
       "            Folate, food                         Leavening agents, yeast, baker's, active dry  \n",
       "            Folate, total                        Leavening agents, yeast, baker's, active dry  \n",
       "            Folic acid                             Cereals ready-to-eat, QUAKER, CAP'N CRUNCH  \n",
       "            Lutein + zeaxanthin                                                     Kale, raw  \n",
       "            Lycopene                                                            Tomato powder  \n",
       "            Menaquinone-4                   Chicken, broilers or fryers, drumstick, meat a...  \n",
       "            Niacin                                                       Yeast extract spread  \n",
       "            Pantothenic acid                Cereals ready-to-eat, KELLOGG, KELLOGG'S Compl...  \n",
       "            Retinol                                                       Fish oil, cod liver  \n",
       "            Riboflavin                                                   Yeast extract spread  \n",
       "            Thiamin                         MORNINGSTAR FARMS Hot and Spicy Veggie Sausage...  \n",
       "            Tocopherol, beta                Yellow pond lily, Wocas, dried seeds (Pacific ...  \n",
       "            Tocopherol, delta                 Oil, cooking and salad, ENOVA, 80% diglycerides  \n",
       "            Tocopherol, gamma                 Oil, cooking and salad, ENOVA, 80% diglycerides  \n",
       "            Vitamin A, IU                                                 Fish oil, cod liver  \n",
       "            Vitamin A, RAE                                                Fish oil, cod liver  \n",
       "            Vitamin B-12                    Mollusks, clam, mixed species, cooked, moist heat  \n",
       "            Vitamin B-12, added             Cereals ready-to-eat, KELLOGG, KELLOGG'S ALL-B...  \n",
       "            Vitamin B-6                     Cereals ready-to-eat, KELLOGG, KELLOGG'S ALL-B...  \n",
       "            Vitamin C, total ascorbic acid  Orange-flavor drink, breakfast type, low calor...  \n",
       "            Vitamin D                                                     Fish oil, cod liver  \n",
       "            Vitamin D (D2 + D3)                                           Fish oil, cod liver  \n",
       "            Vitamin D2 (ergocalciferol)                               Mushrooms, maitake, raw  \n",
       "            Vitamin D3 (cholecalciferol)                        Fish, halibut, Greenland, raw  \n",
       "            Vitamin E (alpha-tocopherol)                                      Oil, wheat germ  \n",
       "            Vitamin E, added                Cereals ready-to-eat, GENERAL MILLS, Multi-Gra...  \n",
       "            Vitamin K (phylloquinone)                                    Spices, sage, ground  \n",
       "\n",
       "[94 rows x 2 columns]"
      ]
     },
     "execution_count": 32,
     "metadata": {},
     "output_type": "execute_result"
    }
   ],
   "source": [
    "by_nutrient = ndata.groupby(['nutgroup', 'nutrient'])\n",
    "\n",
    "get_maximum = lambda x: x.xs(x.value.idxmax())\n",
    "get_minimum = lambda x: x.xs(x.value.idxmin())\n",
    "\n",
    "max_foods = by_nutrient.apply(get_maximum)[['value', 'food']]\n",
    "\n",
    "# make the food a little smaller\n",
    "max_foods.food = max_foods.food.str[:50]\n",
    "max_foods"
   ]
  },
  {
   "cell_type": "code",
   "execution_count": null,
   "metadata": {
    "collapsed": false
   },
   "outputs": [],
   "source": []
  },
  {
   "cell_type": "markdown",
   "metadata": {},
   "source": [
    "## Classifying Digits\n",
    "SKLearn has many intereting datasets pre-loaded in it, one of which is load_digits (sklearn.datasets.load_digits - http://scikit-learn.org/stable/modules/generated/sklearn.datasets.load_digits.html). Load_digits is a dataset of digits, with each datapoint being a 8x8 image of a digit. \n",
    "\n",
    "You can load this dataset as follows"
   ]
  },
  {
   "cell_type": "code",
   "execution_count": 33,
   "metadata": {
    "collapsed": true
   },
   "outputs": [],
   "source": [
    "from sklearn.datasets import load_digits\n",
    "digits = load_digits()"
   ]
  },
  {
   "cell_type": "markdown",
   "metadata": {},
   "source": [
    "And the images can be visualized as follows"
   ]
  },
  {
   "cell_type": "code",
   "execution_count": 34,
   "metadata": {
    "collapsed": false
   },
   "outputs": [
    {
     "data": {
      "text/plain": [
       "<matplotlib.figure.Figure at 0x112b8ca90>"
      ]
     },
     "metadata": {},
     "output_type": "display_data"
    },
    {
     "data": {
      "image/png": "[encoded data removed]",
      "text/plain": [
       "<matplotlib.figure.Figure at 0x111ba9c50>"
      ]
     },
     "metadata": {},
     "output_type": "display_data"
    }
   ],
   "source": [
    "import pylab as pl \n",
    "pl.gray() \n",
    "pl.matshow(digits.images[0]) \n",
    "pl.show() "
   ]
  },
  {
   "cell_type": "markdown",
   "metadata": {},
   "source": [
    "1. Visualize the first 15 digits to get a better understanding of the data\n",
    "2. With x as data and y as target, classify the above datasets into individual targets using a decision tree\n",
    "3. Perform this classification task with sklearn.svm.SVC. How does the choice of kernel affect the results?\n",
    "4. Perform this classification task with sklearn.ensemble.RandomForestClassifier. Write in the markdown below the impact each of the parammeter had on the result\n",
    "\n",
    "\n",
    "* max_depth: The default is none, meaning a very large number. The closer you set it to 0, the lower the accuracy goes. Most of the time, it is recommended to prune (limit the depth of) the trees if you are dealing with noisy data.\n",
    "* max_features: The size of the random subsets of features to consider when splitting a node. These are the maximum number of features Random Forest is allowed to try in individual tree. Increasing max_features generally improves the performance of the model as at each node now we have a higher number of options to be considered. However, this is not necessarily true as this decreases the diversity of individual tree which is the USP of random forest. But, for sure, you decrease the speed of algorithm by increasing the max_features. Hence, you need to strike the right balance and choose the optimal max_features.\n",
    "* n_estimators: Represents the # of trees in the forest. This is the number of trees you want to build before taking the maximum voting or averages of predictions. Higher number of trees give you better performance but makes your code slower. You should choose as high value as your processor can handle because this makes your predictions stronger and more stable.\n",
    "\n",
    "\n",
    "\n",
    "Try a few sets of parameters for each model and check the F1 score (sklearn.metrics.f1_score) on your results. Output the best F1 score that you achieve. \n",
    "\n"
   ]
  },
  {
   "cell_type": "code",
   "execution_count": 35,
   "metadata": {
    "collapsed": false
   },
   "outputs": [
    {
     "data": {
      "image/png": "[encoded data removed]",
      "text/plain": [
       "<matplotlib.figure.Figure at 0x112b8cad0>"
      ]
     },
     "metadata": {},
     "output_type": "display_data"
    }
   ],
   "source": [
    "fig, ax = plt.subplots(8, 12, subplot_kw={'xticks':[], 'yticks':[]})\n",
    "\n",
    "for i in range(ax.size):\n",
    "    ax.flat[i].imshow(digits.data[i].reshape(8, 8),\n",
    "                      cmap=plt.cm.binary)"
   ]
  },
  {
   "cell_type": "code",
   "execution_count": 36,
   "metadata": {
    "collapsed": false
   },
   "outputs": [],
   "source": [
    "from sklearn.cross_validation import train_test_split\n",
    "features_train, features_test, targets_train, targets_test = train_test_split(digits.data,digits.target, test_size=0.4, random_state=4)"
   ]
  },
  {
   "cell_type": "markdown",
   "metadata": {},
   "source": [
    "### Decision Tree"
   ]
  },
  {
   "cell_type": "code",
   "execution_count": 37,
   "metadata": {
    "collapsed": false
   },
   "outputs": [],
   "source": [
    "from sklearn import tree\n",
    "\n",
    "decision_tree = tree.DecisionTreeClassifier()\n",
    "decision_tree = decision_tree.fit(features_train, targets_train)"
   ]
  },
  {
   "cell_type": "code",
   "execution_count": 38,
   "metadata": {
    "collapsed": false
   },
   "outputs": [
    {
     "data": {
      "text/plain": [
       "9"
      ]
     },
     "execution_count": 38,
     "metadata": {},
     "output_type": "execute_result"
    }
   ],
   "source": [
    "zero_digit = digits.data[5]\n",
    "\n",
    "target_id = decision_tree.predict(zero_digit)\n",
    "digits.target[target_id][0]"
   ]
  },
  {
   "cell_type": "markdown",
   "metadata": {},
   "source": [
    "#### Score"
   ]
  },
  {
   "cell_type": "code",
   "execution_count": 39,
   "metadata": {
    "collapsed": false
   },
   "outputs": [
    {
     "data": {
      "text/plain": [
       "0.84144645340751045"
      ]
     },
     "execution_count": 39,
     "metadata": {},
     "output_type": "execute_result"
    }
   ],
   "source": [
    "decision_tree.score(features_test, targets_test)"
   ]
  },
  {
   "cell_type": "markdown",
   "metadata": {},
   "source": [
    "### SVC"
   ]
  },
  {
   "cell_type": "code",
   "execution_count": 40,
   "metadata": {
    "collapsed": true
   },
   "outputs": [],
   "source": [
    "from sklearn.svm import SVC\n",
    "\n",
    "svc_clf = SVC(kernel=\"poly\")\n",
    "svc_clf = svc_clf.fit(features_train, targets_train)"
   ]
  },
  {
   "cell_type": "code",
   "execution_count": 41,
   "metadata": {
    "collapsed": false
   },
   "outputs": [
    {
     "data": {
      "text/plain": [
       "9"
      ]
     },
     "execution_count": 41,
     "metadata": {},
     "output_type": "execute_result"
    }
   ],
   "source": [
    "zero_digit = digits.data[5]\n",
    "\n",
    "target_id = svc_clf.predict(zero_digit)\n",
    "digits.target[target_id][0]"
   ]
  },
  {
   "cell_type": "code",
   "execution_count": 42,
   "metadata": {
    "collapsed": false
   },
   "outputs": [
    {
     "data": {
      "text/plain": [
       "0.98609179415855353"
      ]
     },
     "execution_count": 42,
     "metadata": {},
     "output_type": "execute_result"
    }
   ],
   "source": [
    "svc_clf.score(features_test, targets_test)"
   ]
  },
  {
   "cell_type": "code",
   "execution_count": 43,
   "metadata": {
    "collapsed": false
   },
   "outputs": [
    {
     "name": "stdout",
     "output_type": "stream",
     "text": [
      "Automatically created module for IPython interactive environment\n"
     ]
    },
    {
     "data": {
      "image/png": "[encoded data removed]",
      "text/plain": [
       "<matplotlib.figure.Figure at 0x117c13310>"
      ]
     },
     "metadata": {},
     "output_type": "display_data"
    }
   ],
   "source": [
    "print(__doc__)\n",
    "\n",
    "import numpy as np\n",
    "import matplotlib.pyplot as plt\n",
    "from sklearn import svm, datasets\n",
    "\n",
    "# import some data to play with\n",
    "iris = datasets.load_iris()\n",
    "X = iris.data[:, :2]  # we only take the first two features. We could\n",
    "                      # avoid this ugly slicing by using a two-dim dataset\n",
    "y = iris.target\n",
    "\n",
    "h = .02  # step size in the mesh\n",
    "\n",
    "# we create an instance of SVM and fit out data. We do not scale our\n",
    "# data since we want to plot the support vectors\n",
    "C = 1.0  # SVM regularization parameter\n",
    "svc = svm.SVC(kernel='linear', C=C).fit(X, y)\n",
    "rbf_svc = svm.SVC(kernel='rbf', gamma=0.7, C=C).fit(X, y)\n",
    "poly_svc = svm.SVC(kernel='poly', degree=3, C=C).fit(X, y)\n",
    "lin_svc = svm.LinearSVC(C=C).fit(X, y)\n",
    "\n",
    "# create a mesh to plot in\n",
    "x_min, x_max = X[:, 0].min() - 1, X[:, 0].max() + 1\n",
    "y_min, y_max = X[:, 1].min() - 1, X[:, 1].max() + 1\n",
    "xx, yy = np.meshgrid(np.arange(x_min, x_max, h),\n",
    "                     np.arange(y_min, y_max, h))\n",
    "\n",
    "# title for the plots\n",
    "titles = ['SVC with linear kernel',\n",
    "          'LinearSVC (linear kernel)',\n",
    "          'SVC with RBF kernel',\n",
    "          'SVC with polynomial (degree 3) kernel']\n",
    "\n",
    "\n",
    "for i, clf in enumerate((svc, lin_svc, rbf_svc, poly_svc)):\n",
    "    # Plot the decision boundary. For that, we will assign a color to each\n",
    "    # point in the mesh [x_min, m_max]x[y_min, y_max].\n",
    "    plt.subplot(2, 2, i + 1)\n",
    "    plt.subplots_adjust(wspace=0.4, hspace=0.4)\n",
    "\n",
    "    Z = clf.predict(np.c_[xx.ravel(), yy.ravel()])\n",
    "\n",
    "    # Put the result into a color plot\n",
    "    Z = Z.reshape(xx.shape)\n",
    "    plt.contourf(xx, yy, Z, cmap=plt.cm.Paired, alpha=0.8)\n",
    "\n",
    "    # Plot also the training points\n",
    "    plt.scatter(X[:, 0], X[:, 1], c=y, cmap=plt.cm.Paired)\n",
    "    plt.xlabel('Sepal length')\n",
    "    plt.ylabel('Sepal width')\n",
    "    plt.xlim(xx.min(), xx.max())\n",
    "    plt.ylim(yy.min(), yy.max())\n",
    "    plt.xticks(())\n",
    "    plt.yticks(())\n",
    "    plt.title(titles[i])\n",
    "\n",
    "plt.show()"
   ]
  },
  {
   "cell_type": "markdown",
   "metadata": {},
   "source": [
    "#### How does the choice of kernel affect the results?\n",
    "\n",
    "Kernels are functions that take a low dimensional input space or feature space and map it to a very high dimensional input space so taht what used to be not linearly seperable and turns it into a seperable problem. In other words you try to find a linerly sperable solution in a higher dimensioanl space and then apply that function in the orignial input space often resulting in a non-linear decision boundary.\n",
    "\n",
    "Classes are not always separable by a hyperplane, so it would be desirable to have a decision function that is not linear but that may be for instance polynomial or exponential:\n",
    "\n",
    "SVC kernel choices are: ‘linear’, ‘poly’, ‘rbf’, ‘sigmoid’, ‘precomputed’.\n",
    "\n",
    "* A linear kernel will always give me a linear decision boundry.\n",
    "* Poly kernel has best results and gives a polynomial decision boundry"
   ]
  },
  {
   "cell_type": "markdown",
   "metadata": {},
   "source": [
    "### Random Forest"
   ]
  },
  {
   "cell_type": "code",
   "execution_count": 44,
   "metadata": {
    "collapsed": false
   },
   "outputs": [],
   "source": [
    "from sklearn.ensemble import RandomForestClassifier\n",
    "\n",
    "# param defaults\n",
    "# max_depth=None\n",
    "# max_features=\"auto\"\n",
    "# n_estimators=10\n",
    "rf_clf = RandomForestClassifier(n_estimators=100)\n",
    "rf_clf = rf_clf.fit(features_train, targets_train)"
   ]
  },
  {
   "cell_type": "code",
   "execution_count": 45,
   "metadata": {
    "collapsed": false
   },
   "outputs": [
    {
     "data": {
      "text/plain": [
       "9"
      ]
     },
     "execution_count": 45,
     "metadata": {},
     "output_type": "execute_result"
    }
   ],
   "source": [
    "zero_digit = digits.data[5]\n",
    "\n",
    "target_id = rf_clf.predict(zero_digit)\n",
    "digits.target[target_id][0]"
   ]
  },
  {
   "cell_type": "code",
   "execution_count": 46,
   "metadata": {
    "collapsed": false
   },
   "outputs": [
    {
     "data": {
      "text/plain": [
       "0.97079276773296241"
      ]
     },
     "execution_count": 46,
     "metadata": {},
     "output_type": "execute_result"
    }
   ],
   "source": [
    "rf_clf.score(features_test, targets_test)"
   ]
  },
  {
   "cell_type": "markdown",
   "metadata": {},
   "source": [
    "### F1 Scores"
   ]
  },
  {
   "cell_type": "code",
   "execution_count": 47,
   "metadata": {
    "collapsed": true
   },
   "outputs": [],
   "source": [
    "from sklearn.metrics import f1_score"
   ]
  },
  {
   "cell_type": "markdown",
   "metadata": {},
   "source": [
    "#### Decision Tree"
   ]
  },
  {
   "cell_type": "code",
   "execution_count": 48,
   "metadata": {
    "collapsed": false
   },
   "outputs": [
    {
     "data": {
      "text/plain": [
       "0.83990631680183936"
      ]
     },
     "execution_count": 48,
     "metadata": {},
     "output_type": "execute_result"
    }
   ],
   "source": [
    "y_pred =  decision_tree.predict(features_test)\n",
    "f1_score(targets_test, y_pred, average='macro') "
   ]
  },
  {
   "cell_type": "markdown",
   "metadata": {},
   "source": [
    "#### SVC"
   ]
  },
  {
   "cell_type": "code",
   "execution_count": 49,
   "metadata": {
    "collapsed": false
   },
   "outputs": [
    {
     "data": {
      "text/plain": [
       "0.98606135027225528"
      ]
     },
     "execution_count": 49,
     "metadata": {},
     "output_type": "execute_result"
    }
   ],
   "source": [
    "svc_pred =  svc_clf.predict(features_test)\n",
    "f1_score(targets_test, svc_pred, average='macro') "
   ]
  },
  {
   "cell_type": "markdown",
   "metadata": {},
   "source": [
    "#### Random Forest"
   ]
  },
  {
   "cell_type": "code",
   "execution_count": 50,
   "metadata": {
    "collapsed": false
   },
   "outputs": [
    {
     "data": {
      "text/plain": [
       "0.97036821948550056"
      ]
     },
     "execution_count": 50,
     "metadata": {},
     "output_type": "execute_result"
    }
   ],
   "source": [
    "rf_pred =  rf_clf.predict(features_test)\n",
    "f1_score(targets_test, rf_pred, average='macro') "
   ]
  },
  {
   "cell_type": "markdown",
   "metadata": {},
   "source": [
    "## Dimensionality Reduction - PCA\n",
    "\n",
    "Principal Component Analysis is a very powerful unsupervised method for dimensionality reduction in data. \n",
    "\n",
    "Apply dimensionality reduction technique PCA (Principle Component Analysis) on the prev dataset - load_digits(). \n",
    "Use the sklearn inbuilt tool sklearn.decomposition.PCA\n",
    "\n",
    "Print the shape of the matrix before and after the application of PCA on the dataset. Using variance, analyze the ammount of information thrown away and plot the variance(cumulative) against the number of components  \n",
    "\n",
    "Try other dimensionality reduction techniques - sklearn.decomposition.RandomizedPCA, sklearn.decomposition.FastICA  as well \n",
    "(this extended analysis need not be submitted as part of homework)\n"
   ]
  },
  {
   "cell_type": "code",
   "execution_count": 51,
   "metadata": {
    "collapsed": true
   },
   "outputs": [],
   "source": [
    "from sklearn.decomposition import PCA"
   ]
  },
  {
   "cell_type": "code",
   "execution_count": 55,
   "metadata": {
    "collapsed": false
   },
   "outputs": [
    {
     "name": "stdout",
     "output_type": "stream",
     "text": [
      "(1078, 64)\n"
     ]
    }
   ],
   "source": [
    "#shape before\n",
    "print shape(features_train)"
   ]
  },
  {
   "cell_type": "code",
   "execution_count": 53,
   "metadata": {
    "collapsed": false
   },
   "outputs": [
    {
     "data": {
      "text/plain": [
       "PCA(copy=True, n_components=None, whiten=False)"
      ]
     },
     "execution_count": 53,
     "metadata": {},
     "output_type": "execute_result"
    }
   ],
   "source": [
    "pca = PCA(n_components=None)\n",
    "pca.fit(features_train)"
   ]
  },
  {
   "cell_type": "code",
   "execution_count": null,
   "metadata": {
    "collapsed": false
   },
   "outputs": [],
   "source": []
  },
  {
   "cell_type": "code",
   "execution_count": 56,
   "metadata": {
    "collapsed": false
   },
   "outputs": [
    {
     "data": {
      "text/plain": [
       "array([[ -1.79167142e-18,   1.34969911e-02,   1.95749380e-01, ...,\n",
       "          1.39531275e-01,   4.71913307e-02,   1.05639820e-02],\n",
       "       [  3.01612323e-18,  -1.08700089e-02,  -9.89835658e-02, ...,\n",
       "          1.67714020e-01,   1.80375683e-02,  -7.87539990e-03],\n",
       "       [ -1.10259167e-18,  -1.63139346e-02,  -1.26594782e-01, ...,\n",
       "         -2.14948506e-01,  -1.50682102e-01,  -3.09692558e-02],\n",
       "       ..., \n",
       "       [  0.00000000e+00,  -1.45716772e-16,  -4.46735298e-17, ...,\n",
       "         -9.36750677e-17,   2.77555756e-17,   1.31838984e-16],\n",
       "       [  0.00000000e+00,   1.12323345e-16,   5.04820380e-17, ...,\n",
       "          1.68159757e-16,   1.56125113e-17,  -1.26201133e-16],\n",
       "       [  1.00000000e+00,   8.31799413e-18,  -1.52931010e-17, ...,\n",
       "         -8.38335201e-18,   1.33693789e-17,   2.94548150e-18]])"
      ]
     },
     "execution_count": 56,
     "metadata": {},
     "output_type": "execute_result"
    }
   ],
   "source": [
    "pca.components_"
   ]
  },
  {
   "cell_type": "code",
   "execution_count": 57,
   "metadata": {
    "collapsed": false
   },
   "outputs": [
    {
     "data": {
      "text/plain": [
       "array([  1.45503665e-01,   1.37957175e-01,   1.15923839e-01,\n",
       "         8.62544772e-02,   5.63299162e-02,   4.97902845e-02,\n",
       "         4.27436832e-02,   3.54890056e-02,   3.37004245e-02,\n",
       "         3.16640876e-02,   2.47577135e-02,   2.28108109e-02,\n",
       "         1.88051595e-02,   1.81625127e-02,   1.50249268e-02,\n",
       "         1.44173925e-02,   1.30230534e-02,   1.26017349e-02,\n",
       "         1.04263258e-02,   9.28939839e-03,   8.90700874e-03,\n",
       "         8.33537470e-03,   7.59241278e-03,   7.26764273e-03,\n",
       "         7.10974862e-03,   6.11948024e-03,   5.51968465e-03,\n",
       "         5.20508862e-03,   4.65137146e-03,   4.19554480e-03,\n",
       "         3.74697780e-03,   3.56235313e-03,   3.45468540e-03,\n",
       "         3.28487087e-03,   3.08747240e-03,   2.84478519e-03,\n",
       "         2.57364109e-03,   2.30821724e-03,   2.16769396e-03,\n",
       "         2.03016393e-03,   1.82866175e-03,   1.53606071e-03,\n",
       "         1.47901527e-03,   1.42041708e-03,   1.12714354e-03,\n",
       "         1.05310377e-03,   9.66250461e-04,   6.44858159e-04,\n",
       "         4.62297165e-04,   3.76807091e-04,   2.61274338e-04,\n",
       "         7.41630046e-05,   5.58333270e-05,   4.76615963e-05,\n",
       "         1.58253341e-05,   4.91448956e-06,   3.60347248e-06,\n",
       "         1.42302021e-06,   8.82481935e-07,   8.46515124e-34,\n",
       "         8.46515124e-34,   8.46515124e-34,   8.46515124e-34,\n",
       "         8.11276197e-34])"
      ]
     },
     "execution_count": 57,
     "metadata": {},
     "output_type": "execute_result"
    }
   ],
   "source": [
    "pca.explained_variance_ratio_"
   ]
  },
  {
   "cell_type": "markdown",
   "metadata": {},
   "source": [
    "So vector 1 counts for 14% of the variation and vector 2 counts for 13% and so on, with the last two vectors counting for almost 0 percent variation. So the cumulative chart below: "
   ]
  },
  {
   "cell_type": "code",
   "execution_count": 58,
   "metadata": {
    "collapsed": false
   },
   "outputs": [
    {
     "data": {
      "image/png": "[encoded data removed]",
      "text/plain": [
       "<matplotlib.figure.Figure at 0x117beb850>"
      ]
     },
     "metadata": {},
     "output_type": "display_data"
    }
   ],
   "source": [
    "cumulative_explained = cumsum(pca.explained_variance_ratio_) \n",
    "plot(cumulative_explained);\n",
    "grid()"
   ]
  },
  {
   "cell_type": "code",
   "execution_count": 59,
   "metadata": {
    "collapsed": false
   },
   "outputs": [
    {
     "data": {
      "text/plain": [
       "array([  1.74905570e+02,   1.65834162e+02,   1.39348552e+02,\n",
       "         1.03683907e+02,   6.77124945e+01,   5.98514003e+01,\n",
       "         5.13808932e+01,   4.26602640e+01,   4.05102645e+01,\n",
       "         3.80624454e+01,   2.97605013e+01,   2.74201882e+01,\n",
       "         2.26051155e+01,   2.18326091e+01,   1.80610116e+01,\n",
       "         1.73307130e+01,   1.56546199e+01,   1.51481657e+01,\n",
       "         1.25331720e+01,   1.11665058e+01,   1.07068468e+01,\n",
       "         1.00197027e+01,   9.12661057e+00,   8.73621428e+00,\n",
       "         8.54641452e+00,   7.35604276e+00,   6.63504656e+00,\n",
       "         6.25688014e+00,   5.59127344e+00,   5.04333795e+00,\n",
       "         4.50412908e+00,   4.28219733e+00,   4.15277319e+00,\n",
       "         3.94864426e+00,   3.71135752e+00,   3.41963053e+00,\n",
       "         3.09369639e+00,   2.77463838e+00,   2.60571958e+00,\n",
       "         2.44039887e+00,   2.19817918e+00,   1.84645228e+00,\n",
       "         1.77787968e+00,   1.70744056e+00,   1.35490528e+00,\n",
       "         1.26590431e+00,   1.16150056e+00,   7.75164556e-01,\n",
       "         5.55713488e-01,   4.52948447e-01,   3.14070006e-01,\n",
       "         8.91491126e-02,   6.71155595e-02,   5.72925684e-02,\n",
       "         1.90231572e-02,   5.90755978e-03,   4.33162566e-03,\n",
       "         1.71056970e-03,   1.06080494e-03,   1.01757032e-30,\n",
       "         1.01757032e-30,   1.01757032e-30,   1.01757032e-30,\n",
       "         9.75210664e-31])"
      ]
     },
     "execution_count": 59,
     "metadata": {},
     "output_type": "execute_result"
    }
   ],
   "source": [
    "pca.explained_variance_"
   ]
  },
  {
   "cell_type": "code",
   "execution_count": 60,
   "metadata": {
    "collapsed": false
   },
   "outputs": [
    {
     "data": {
      "image/png": "[encoded data removed]",
      "text/plain": [
       "<matplotlib.figure.Figure at 0x11a2062d0>"
      ]
     },
     "metadata": {},
     "output_type": "display_data"
    }
   ],
   "source": [
    "plt.figure(1, figsize=(4, 3))\n",
    "plt.clf()\n",
    "plt.axes([.2, .2, .7, .7])\n",
    "plt.plot(pca.explained_variance_, linewidth=2)\n",
    "plt.axis('tight')\n",
    "plt.xlabel('n_components')\n",
    "plt.ylabel('explained_variance_')\n",
    "grid()"
   ]
  },
  {
   "cell_type": "markdown",
   "metadata": {},
   "source": [
    "From the `explained_variance` data and the chart above, it is clear that at some point between 30 and 40 vectors our data looses any significance. Let's choose `35` vectors for our PCA reduction:"
   ]
  },
  {
   "cell_type": "code",
   "execution_count": 62,
   "metadata": {
    "collapsed": false
   },
   "outputs": [],
   "source": [
    "pca.n_components = 35\n",
    "features_train_reduced = pca.fit_transform(features_train)\n",
    "features_test_reduced = pca.fit_transform(features_test)"
   ]
  },
  {
   "cell_type": "code",
   "execution_count": 63,
   "metadata": {
    "collapsed": false
   },
   "outputs": [
    {
     "data": {
      "text/plain": [
       "(1078, 35)"
      ]
     },
     "execution_count": 63,
     "metadata": {},
     "output_type": "execute_result"
    }
   ],
   "source": [
    "#shape after\n",
    "features_train_reduced.shape"
   ]
  },
  {
   "cell_type": "markdown",
   "metadata": {},
   "source": [
    "We chose the first 35 vectors as our new, reduced feature set this accounts for roughly 97.6% of the data as shown below:"
   ]
  },
  {
   "cell_type": "code",
   "execution_count": null,
   "metadata": {
    "collapsed": false
   },
   "outputs": [],
   "source": [
    "pca.explained_variance_ratio_[:35].sum()"
   ]
  },
  {
   "cell_type": "markdown",
   "metadata": {},
   "source": [
    "And the disgarded vectors account for roughly %2 of the variance:"
   ]
  },
  {
   "cell_type": "code",
   "execution_count": null,
   "metadata": {
    "collapsed": false
   },
   "outputs": [],
   "source": [
    "pca.explained_variance_ratio_[35:].sum()"
   ]
  },
  {
   "cell_type": "markdown",
   "metadata": {},
   "source": [
    "Through PCA we were able to reduce the number of features in our training set to 35 from 64 resulting in 54% of the information thrown away. So we cut the data by over %50 but still maintained 97.6% of the information."
   ]
  }
 ],
 "metadata": {
  "kernelspec": {
   "display_name": "Python 2",
   "language": "python",
   "name": "python2"
  },
  "language_info": {
   "codemirror_mode": {
    "name": "ipython",
    "version": 2
   },
   "file_extension": ".py",
   "mimetype": "text/x-python",
   "name": "python",
   "nbconvert_exporter": "python",
   "pygments_lexer": "ipython2",
   "version": "2.7.10"
  }
 },
 "nbformat": 4,
 "nbformat_minor": 0
}
