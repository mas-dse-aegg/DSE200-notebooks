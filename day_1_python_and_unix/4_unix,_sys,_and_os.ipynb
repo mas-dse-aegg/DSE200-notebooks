{
 "cells": [
  {
   "cell_type": "markdown",
   "metadata": {},
   "source": [
    "## The unix system\n",
    "\n",
    "* Prepending commands with !\n",
    "* Files, directories and paths\n",
    "* AWS, virtual machines and AMI's\n",
    "* Bash scripts (just to know what they are)\n",
    "* grep, wc, sort\n",
    "* .bashrc, environmental variables, paths."
   ]
  },
  {
   "cell_type": "code",
   "execution_count": null,
   "metadata": {
    "collapsed": false
   },
   "outputs": [],
   "source": []
  },
  {
   "cell_type": "markdown",
   "metadata": {},
   "source": [
    "## listing files\n",
    "* The `ls` command lists the files in the current directory\n",
    "* `ls -F` identifies each files as directory, executable, text\n",
    "* `ls -lrta`: \n",
    "    * `l` (long) lists extensive information about each file\n",
    "    * `rt` (reverse time): list files in reverse order in time.\n",
    "    * `a` show hidden files (whose names start with .)"
   ]
  },
  {
   "cell_type": "code",
   "execution_count": 53,
   "metadata": {
    "collapsed": false
   },
   "outputs": [
    {
     "name": "stdout",
     "output_type": "stream",
     "text": [
      "/Users/alexegg\n",
      "\u001b[34mApplications\u001b[m\u001b[m   \u001b[34mDocuments\u001b[m\u001b[m      \u001b[34mLibrary\u001b[m\u001b[m        \u001b[34mPictures\u001b[m\u001b[m       cut55-56       \u001b[35mminced\u001b[m\u001b[m\r\n",
      "\u001b[34mDesktop\u001b[m\u001b[m        \u001b[34mDownloads\u001b[m\u001b[m      \u001b[34mMovies\u001b[m\u001b[m         \u001b[34mPublic\u001b[m\u001b[m         \u001b[34mexamples\u001b[m\u001b[m       mysql2psql.yml\r\n",
      "\u001b[34mDevelopment\u001b[m\u001b[m    \u001b[34mGoogle Drive\u001b[m\u001b[m   \u001b[34mMusic\u001b[m\u001b[m          \u001b[34mVirtualBox VMs\u001b[m\u001b[m mainframe.sql  pgadmin.log\r\n"
     ]
    }
   ],
   "source": [
    "%cd ~\n",
    "!ls"
   ]
  },
  {
   "cell_type": "code",
   "execution_count": 54,
   "metadata": {
    "collapsed": false
   },
   "outputs": [
    {
     "name": "stdout",
     "output_type": "stream",
     "text": [
      "\u001b[34mApplications\u001b[m\u001b[m/   \u001b[34mDocuments\u001b[m\u001b[m/      \u001b[34mLibrary\u001b[m\u001b[m/        \u001b[34mPictures\u001b[m\u001b[m/       cut55-56        \u001b[35mminced\u001b[m\u001b[m@\r\n",
      "\u001b[34mDesktop\u001b[m\u001b[m/        \u001b[34mDownloads\u001b[m\u001b[m/      \u001b[34mMovies\u001b[m\u001b[m/         \u001b[34mPublic\u001b[m\u001b[m/         \u001b[34mexamples\u001b[m\u001b[m/       mysql2psql.yml\r\n",
      "\u001b[34mDevelopment\u001b[m\u001b[m/    \u001b[34mGoogle Drive\u001b[m\u001b[m/   \u001b[34mMusic\u001b[m\u001b[m/          \u001b[34mVirtualBox VMs\u001b[m\u001b[m/ mainframe.sql   pgadmin.log\r\n"
     ]
    }
   ],
   "source": [
    "!ls -F"
   ]
  },
  {
   "cell_type": "code",
   "execution_count": 55,
   "metadata": {
    "collapsed": false
   },
   "outputs": [
    {
     "name": "stdout",
     "output_type": "stream",
     "text": [
      "total 272\r\n",
      "-r--------    1 alexegg  staff      7 Jul 28 21:51 .CFUserTextEncoding\r\n",
      "drwx------+   3 alexegg  staff    102 Jul 28 21:52 \u001b[34mPictures\u001b[m\u001b[m\r\n",
      "drwx------+   3 alexegg  staff    102 Jul 28 21:52 \u001b[34mMovies\u001b[m\u001b[m\r\n",
      "drwx------+   3 alexegg  staff    102 Jul 28 21:52 \u001b[34mDesktop\u001b[m\u001b[m\r\n",
      "drwxr-xr-x+   5 alexegg  staff    170 Jul 28 21:52 \u001b[34mPublic\u001b[m\u001b[m\r\n",
      "drwxr-xr-x    6 alexegg  staff    204 Jul 28 22:33 \u001b[34m.subversion\u001b[m\u001b[m\r\n",
      "drwxr-xr-x    5 alexegg  staff    170 Jul 30 15:52 \u001b[34m.rbenv\u001b[m\u001b[m\r\n",
      "-rw-r--r--    1 alexegg  staff     19 Jul 30 15:54 .gemrc\r\n",
      "drwxr-xr-x    3 alexegg  staff    102 Jul 30 15:55 \u001b[34m.gem\u001b[m\u001b[m\r\n",
      "-rw-r--r--@   1 alexegg  staff   1598 Jul 30 21:36 .bash_prompt\r\n",
      "drwx------+   4 alexegg  staff    136 Aug  4 07:52 \u001b[34mMusic\u001b[m\u001b[m\r\n",
      "-rw-r--r--    1 alexegg  staff    155 Aug  4 10:01 .gitconfig\r\n",
      "drwx------    3 alexegg  staff    102 Aug 13 14:01 \u001b[34mVirtualBox VMs\u001b[m\u001b[m\r\n",
      "drwxr-xr-x    6 alexegg  staff    204 Aug 18 08:49 \u001b[34m.asdm\u001b[m\u001b[m\r\n",
      "drwxr-xr-x    5 alexegg  staff    170 Aug 18 09:00 \u001b[34m.gradle\u001b[m\u001b[m\r\n",
      "drwxr-xr-x   10 alexegg  staff    340 Aug 18 09:01 \u001b[34m.android\u001b[m\u001b[m\r\n",
      "drwx------    5 alexegg  staff    170 Aug 18 15:44 \u001b[34mApplications\u001b[m\u001b[m\r\n",
      "drwx------+   6 alexegg  staff    204 Aug 21 12:59 \u001b[34mDocuments\u001b[m\u001b[m\r\n",
      "drwxr-xr-x    3 alexegg  staff    102 Aug 27 08:47 \u001b[34m.oracle_jre_usage\u001b[m\u001b[m\r\n",
      "-rw-------    1 root     staff   1024 Aug 28 12:02 .rnd\r\n",
      "-rw-------    1 alexegg  staff      4 Sep  1 15:29 .guard_history\r\n",
      "-rw-------    1 alexegg  staff    188 Sep  2 08:57 .netrc\r\n",
      "-rw-------    1 alexegg  staff    109 Sep  2 11:16 .mysql_history\r\n",
      "-rw-r--r--@   1 alexegg  staff   1306 Sep  2 14:50 .aliases\r\n",
      "-rw-r--r--    1 alexegg  staff      0 Sep  3 10:47 mainframe.sql\r\n",
      "drwxr-xr-x    5 alexegg  staff    170 Sep 14 08:39 \u001b[34m.ipython\u001b[m\u001b[m\r\n",
      "drwxr-xr-x    2 alexegg  staff     68 Sep 14 08:40 \u001b[34m.ipynb_checkpoints\u001b[m\u001b[m\r\n",
      "-rw-------    1 alexegg  staff     94 Sep 14 10:07 .lesshst\r\n",
      "drwxr-xr-x    4 alexegg  staff    136 Sep 15 16:18 \u001b[34m.config\u001b[m\u001b[m\r\n",
      "-rw-r--r--    1 alexegg  staff    302 Sep 15 16:19 .bash_profile.backup\r\n",
      "drwxr-xr-x    3 alexegg  staff    102 Sep 15 16:28 \u001b[34m.kube\u001b[m\u001b[m\r\n",
      "-rw-------    1 alexegg  staff   1284 Sep 15 17:04 .dockercfg\r\n",
      "-rw-r--r--    1 alexegg  staff    881 Sep 18 08:09 mysql2psql.yml\r\n",
      "-rw-------    1 alexegg  staff  13462 Sep 18 12:48 .psql_history\r\n",
      "drwxr-xr-x    5 root     admin    170 Sep 21 07:22 \u001b[34m..\u001b[m\u001b[m\r\n",
      "drwxr-xr-x    4 alexegg  staff    136 Sep 22 07:35 \u001b[34m.boot2docker\u001b[m\u001b[m\r\n",
      "-rw-r--r--    1 alexegg  staff    387 Sep 23 14:16 .rediscli_history\r\n",
      "drwxr-xr-x    3 alexegg  staff    102 Sep 23 20:14 \u001b[34m.jupyter\u001b[m\u001b[m\r\n",
      "drwxr-xr-x   13 alexegg  staff    442 Sep 24 07:28 \u001b[34mDevelopment\u001b[m\u001b[m\r\n",
      "-rw-------    1 alexegg  staff    184 Sep 24 08:38 .pgpass\r\n",
      "-rw-r--r--    1 alexegg  staff   3669 Sep 24 14:20 pgadmin.log\r\n",
      "-rw-r--r--    1 alexegg  staff   8293 Sep 24 15:42 .pgadmin_histoqueries\r\n",
      "drwx------@  54 alexegg  staff   1836 Sep 25 11:11 \u001b[34mLibrary\u001b[m\u001b[m\r\n",
      "drwx------   10 alexegg  staff    340 Sep 28 09:13 \u001b[34m.ssh\u001b[m\u001b[m\r\n",
      "-rw-r--r--@   1 alexegg  staff    686 Oct  1 07:23 .bash_profile\r\n",
      "-rw-r--r--    1 alexegg  staff      0 Oct  1 07:24 .autoenv_authorized.tmp\r\n",
      "-rw-r--r--    1 alexegg  staff     95 Oct  1 07:24 .autoenv_authorized\r\n",
      "drwxr-xr-x   12 alexegg  staff    408 Oct  1 12:55 \u001b[34m.heroku\u001b[m\u001b[m\r\n",
      "-rw-r--r--@   1 alexegg  staff  10244 Oct  1 13:00 .DS_Store\r\n",
      "drwx------+ 207 alexegg  staff   7038 Oct  1 15:38 \u001b[34mDownloads\u001b[m\u001b[m\r\n",
      "drwx------@   8 alexegg  staff    272 Oct  2 09:06 \u001b[34mGoogle Drive\u001b[m\u001b[m\r\n",
      "drwxr-xr-x    4 alexegg  staff    136 Oct  2 09:37 \u001b[34m.matplotlib\u001b[m\u001b[m\r\n",
      "-rw-------    1 alexegg  staff   8820 Oct  2 10:45 .bash_history\r\n",
      "drwx------  152 alexegg  staff   5168 Oct  2 10:58 \u001b[34m.Trash\u001b[m\u001b[m\r\n",
      "-rw-------    1 alexegg  staff   7414 Oct  2 11:01 .viminfo\r\n",
      "lrwxr-xr-x    1 alexegg  staff     24 Oct  2 13:47 \u001b[35mminced\u001b[m\u001b[m -> DSE200/data/NLTK/Chopped\r\n",
      "drwxr-xr-x    8 alexegg  staff    272 Oct  2 13:47 \u001b[34mexamples\u001b[m\u001b[m\r\n",
      "-rw-r--r--    1 alexegg  staff      0 Oct  2 13:47 cut55-56\r\n",
      "drwxr-xr-x+  59 alexegg  staff   2006 Oct  2 13:47 \u001b[34m.\u001b[m\u001b[m\r\n"
     ]
    }
   ],
   "source": [
    "!ls -lrta"
   ]
  },
  {
   "cell_type": "code",
   "execution_count": 56,
   "metadata": {
    "collapsed": false
   },
   "outputs": [
    {
     "name": "stdout",
     "output_type": "stream",
     "text": [
      "anaconda/bin/*: cannot open `anaconda/bin/*' (No such file or directory)\r\n"
     ]
    }
   ],
   "source": [
    "## Find out type of file\n",
    "!file anaconda/bin/*"
   ]
  },
  {
   "cell_type": "markdown",
   "metadata": {},
   "source": [
    "## Navigating file paths"
   ]
  },
  {
   "cell_type": "code",
   "execution_count": 57,
   "metadata": {
    "collapsed": false
   },
   "outputs": [
    {
     "name": "stdout",
     "output_type": "stream",
     "text": [
      "/Users/alexegg\r\n"
     ]
    }
   ],
   "source": [
    "# pwd identifies the current working directory\n",
    "!pwd"
   ]
  },
  {
   "cell_type": "code",
   "execution_count": 58,
   "metadata": {
    "collapsed": false
   },
   "outputs": [
    {
     "name": "stdout",
     "output_type": "stream",
     "text": [
      "ls: /home/ubuntu: No such file or directory\r\n"
     ]
    }
   ],
   "source": [
    "# /home/ubuntu is the home directory of the user \"ubuntu\" that is - you!\n",
    "!ls -lrt /home/ubuntu"
   ]
  },
  {
   "cell_type": "code",
   "execution_count": 59,
   "metadata": {
    "collapsed": false
   },
   "outputs": [
    {
     "name": "stdout",
     "output_type": "stream",
     "text": [
      "/Users/alexegg\n"
     ]
    }
   ],
   "source": [
    "# A shorthand for the home directory of the current user is \"~\"\n",
    "%cd ~"
   ]
  },
  {
   "cell_type": "code",
   "execution_count": 60,
   "metadata": {
    "collapsed": false
   },
   "outputs": [
    {
     "name": "stdout",
     "output_type": "stream",
     "text": [
      "/bin/sh: line 0: cd: /Users/alexegg/logs/: No such file or directory\n",
      "/Users/alexegg\n"
     ]
    }
   ],
   "source": [
    "# !cd causes unix to move to a different directory, but leaves python behind\n",
    "!cd ~/logs/\n",
    "!pwd"
   ]
  },
  {
   "cell_type": "code",
   "execution_count": 61,
   "metadata": {
    "collapsed": false
   },
   "outputs": [
    {
     "name": "stdout",
     "output_type": "stream",
     "text": [
      "[Errno 2] No such file or directory: '/Users/alexegg/logs/'\n",
      "/Users/alexegg\n"
     ]
    }
   ],
   "source": [
    "# To actually change the directory use the magic %cd, which actually moves us and reports where we landed\n",
    "%cd ~/logs/"
   ]
  },
  {
   "cell_type": "markdown",
   "metadata": {},
   "source": [
    "Some useful shorthands for navigating directories\n",
    "* **~** home directory of current user\n",
    "* **~john** home directory of the user \"john\"\n",
    "* **.** the current directory\n",
    "* **..** the parent directory of the current directory.\n"
   ]
  },
  {
   "cell_type": "code",
   "execution_count": 62,
   "metadata": {
    "collapsed": false
   },
   "outputs": [
    {
     "name": "stdout",
     "output_type": "stream",
     "text": [
      "[Errno 2] No such file or directory: '/Users/alexegg/data'\n",
      "/Users/alexegg\n",
      "!ls -F\n",
      "\u001b[34mApplications\u001b[m\u001b[m/   \u001b[34mDocuments\u001b[m\u001b[m/      \u001b[34mLibrary\u001b[m\u001b[m/        \u001b[34mPictures\u001b[m\u001b[m/       cut55-56        \u001b[35mminced\u001b[m\u001b[m@\n",
      "\u001b[34mDesktop\u001b[m\u001b[m/        \u001b[34mDownloads\u001b[m\u001b[m/      \u001b[34mMovies\u001b[m\u001b[m/         \u001b[34mPublic\u001b[m\u001b[m/         \u001b[34mexamples\u001b[m\u001b[m/       mysql2psql.yml\n",
      "\u001b[34mDevelopment\u001b[m\u001b[m/    \u001b[34mGoogle Drive\u001b[m\u001b[m/   \u001b[34mMusic\u001b[m\u001b[m/          \u001b[34mVirtualBox VMs\u001b[m\u001b[m/ mainframe.sql   pgadmin.log\n",
      "!ls ../\n",
      "\u001b[30m\u001b[42mShared\u001b[m\u001b[m  \u001b[34malexegg\u001b[m\u001b[m\n"
     ]
    }
   ],
   "source": [
    "%cd ~/data\n",
    "print \"!ls -F\"\n",
    "!ls -F\n",
    "print \"!ls ../\"\n",
    "!ls ../"
   ]
  },
  {
   "cell_type": "markdown",
   "metadata": {},
   "source": [
    "### Symbolic links"
   ]
  },
  {
   "cell_type": "code",
   "execution_count": 63,
   "metadata": {
    "collapsed": false
   },
   "outputs": [
    {
     "name": "stdout",
     "output_type": "stream",
     "text": [
      "[Errno 2] No such file or directory: '/Users/alexegg/data/'\n",
      "/Users/alexegg\n",
      "cut55-56       mainframe.sql  \u001b[35mminced\u001b[m\u001b[m         mysql2psql.yml pgadmin.log\r\n",
      "\r\n",
      "Applications:\r\n",
      "\u001b[34mChrome Apps.localized\u001b[m\u001b[m \u001b[35mpgAdmin3.app\u001b[m\u001b[m\r\n",
      "\r\n",
      "Desktop:\r\n",
      "\r\n",
      "Development:\r\n",
      "\u001b[34mAndroidStudioProjects\u001b[m\u001b[m \u001b[34mdataquest.io\u001b[m\u001b[m          \u001b[34mgoogle-cloud-sdk\u001b[m\u001b[m      \u001b[34mluckybolt\u001b[m\u001b[m             \u001b[34mtimepal\u001b[m\u001b[m\r\n",
      "\u001b[34mDSE\u001b[m\u001b[m                   \u001b[34mdiscourse\u001b[m\u001b[m             \u001b[34mjmj\u001b[m\u001b[m                   \u001b[34mtemp\u001b[m\u001b[m                  \u001b[34mtriplebyte\u001b[m\u001b[m\r\n",
      "\r\n",
      "Documents:\r\n",
      "20150630_BANK_bonus_savings_1399.png punchlog.txt\r\n",
      "\r\n",
      "Downloads:\r\n",
      "0.jpeg\r\n",
      "01 Harry Potter and the Order of the Phoenix_ chapter 1 excerpt.mp3\r\n",
      "19e9347.jpg\r\n",
      "2010-05-1110-law-of-chastity-720p-eng.mp4\r\n",
      "20150630_BANK_bonus_savings_1399.pdf\r\n",
      "20150630_BANK_bonus_savings_1399.png\r\n",
      "20150811_remote_deposit_capture_agreement_8975.pdf\r\n",
      "62560859.pdf\r\n",
      "AAPL_2014-08-07_2014-08-07.csv\r\n",
      "Absence request form.dotx\r\n",
      "Absencerequestform.dotx.docx\r\n",
      "All Notes 2015-09-30 21-29-58 Full.csv\r\n",
      "All Notes 2015-09-30 21-30-39 Full.csv\r\n",
      "All Notes 2015-09-30 21-32-05 Full.csv\r\n",
      "All Notes 2015-09-30 21-32-16 Full.csv\r\n",
      "All Notes 2015-09-30 21-32-38 Full.csv\r\n",
      "All Notes 2015-09-30 21-36-29 Full.csv\r\n",
      "All Notes 2015-09-30 21-37-33 Full.csv\r\n",
      "All Notes 2015-09-30 21-38-15 Full.csv\r\n",
      "All Notes 2015-09-30 21-40-12 Full.csv\r\n",
      "All Notes 2015-09-30 21-40-58 Full.csv\r\n",
      "All Notes 2015-09-30 21-41-48 Full.csv\r\n",
      "All Notes 2015-09-30 21-42-25 Full.csv\r\n",
      "All Notes 2015-09-30 21-43-41 Full.csv\r\n",
      "All Notes 2015-09-30 21-44-19 Full.csv\r\n",
      "All Notes 2015-09-30 21-45-53 Full.csv\r\n",
      "All Notes 2015-09-30 21-48-45 Full.csv\r\n",
      "All Notes 2015-09-30 21-49-20 Full.csv\r\n",
      "All Notes 2015-09-30 21-50-17 Full.csv\r\n",
      "All Notes 2015-09-30 21-50-46 Full.csv\r\n",
      "All Notes 2015-09-30 21-51-43 Full.csv\r\n",
      "All Notes 2015-09-30 21-59-12 Full.csv\r\n",
      "All Notes 2015-09-30 22-11-21 Full.csv\r\n",
      "All Notes 2015-09-30 22-13-41 Full.csv\r\n",
      "All Notes 2015-09-30 22-15-08 Full.csv\r\n",
      "All Notes 2015-09-30 22-37-33 Full.csv\r\n",
      "All Notes 2015-09-30 22-41-47 Full.csv\r\n",
      "All Notes 2015-09-30 22-45-10 Full.csv\r\n",
      "All Notes 2015-09-30 22-47-21 Full.csv\r\n",
      "All Notes 2015-09-30 22-58-14 Full.csv\r\n",
      "All Notes 2015-09-30 23-19-29 Full.csv\r\n",
      "All Notes 2015-09-30 23-19-54 Full.csv\r\n",
      "All Notes 2015-09-30 23-21-17 Full.csv\r\n",
      "All Notes 2015-09-30 23-28-33 Full.csv\r\n",
      "All Notes 2015-09-30 23-28-56 Full.csv\r\n",
      "All Notes 2015-09-30 23-29-37 Full.csv\r\n",
      "All Notes 2015-09-30 23-30-31 Full.csv\r\n",
      "All Notes 2015-09-30 23-31-17 Full.csv\r\n",
      "All Notes 2015-10-01 15-05-28 Full.csv\r\n",
      "All Notes 2015-10-01 15-05-51 Full.csv\r\n",
      "All Notes 2015-10-01 15-09-07 Full.csv\r\n",
      "All Notes 2015-10-01 15-12-22 Full.csv\r\n",
      "All Notes 2015-10-01 15-28-44 Full.csv\r\n",
      "All Notes 2015-10-01 15-29-16 Full.csv\r\n",
      "All Notes 2015-10-01 15-29-58 Full.csv\r\n",
      "All Notes 2015-10-01 16-49-13 Full.csv\r\n",
      "All Notes 2015-10-01 16-50-00.csv\r\n",
      "All Notes 2015-10-01 17-12-30 Full.csv\r\n",
      "All Notes 2015-10-01 17-13-08.csv\r\n",
      "All Notes 2015-10-01 19-41-59 Full.csv\r\n",
      "All Notes 2015-10-01 19-44-59.csv\r\n",
      "All Notes 2015-10-01 19-45-30 Full.csv\r\n",
      "All Notes 2015-10-01 19-45-48.csv\r\n",
      "All Notes 2015-10-01 19_59_25 Full.csv\r\n",
      "All Notes 2015-10-01 20_00_06.csv\r\n",
      "All Notes 2015-10-01 22-38-02 Full.csv\r\n",
      "Audio.Books.-.Book.4.-.Harry.Potter.and.the.Goblet.of.Fire.-.complete.mp3\r\n",
      "\u001b[34mAvengers\u001b[m\u001b[m\r\n",
      "\u001b[34mAvengers-2\u001b[m\u001b[m\r\n",
      "\u001b[34mAvengers-3\u001b[m\u001b[m\r\n",
      "\u001b[34mAvengers-4\u001b[m\u001b[m\r\n",
      "Bad Performing Notes 2015-10-01 16-56-46 Full.csv\r\n",
      "Bad Performing Notes 2015-10-01 16-58-09.csv\r\n",
      "Bad Performing Notes 2015-10-01 16_51_54.csv\r\n",
      "Bad Performing Notes 2015-10-01 17-00-36.csv\r\n",
      "Bad Performing Notes 2015-10-01 17-00-42 Full.csv\r\n",
      "Bad Performing Notes 2015-10-01 17-00-55 Full.csv\r\n",
      "Bad Performing Notes 2015-10-01 17-01-01.csv\r\n",
      "Bad Performing Notes 2015-10-01 17-13-29.csv\r\n",
      "Bad Performing Notes 2015-10-01 17-15-03.csv\r\n",
      "Bad Performing Notes 2015-10-01 17-17-44 Full.csv\r\n",
      "Bad Performing Notes 2015-10-01 17-21-53.csv\r\n",
      "Bad Performing Notes 2015-10-01 17-22-03 Full.csv\r\n",
      "Bad Performing Notes 2015-10-01 18-49-29 Full.csv\r\n",
      "Bad Performing Notes 2015-10-01 18-49-38.csv\r\n",
      "Bad Performing Notes 2015-10-01 18-55-44 Full.csv\r\n",
      "Bad Performing Notes 2015-10-01 18-56-09.csv\r\n",
      "Bad Performing Notes 2015-10-01 19-20-46 Full.csv\r\n",
      "Bad Performing Notes 2015-10-01 19-21-04.csv\r\n",
      "Bad Performing Notes 2015-10-01 19-26-34.csv\r\n",
      "Bad Performing Notes 2015-10-01 19-28-09.csv\r\n",
      "Bad Performing Notes 2015-10-01 19-28-17 Full.csv\r\n",
      "Bad Performing Notes 2015-10-01 19-33-29 Full.csv\r\n",
      "Bad Performing Notes 2015-10-01 19-33-51.csv\r\n",
      "Broken - Watchlist Notes 2015-10-01 20_00_38 Full.csv\r\n",
      "CRWG__1_-_JMJ_Mainframe_and_JMJ_Mainframe_and_1__ruby.png\r\n",
      "College Trends-2-2.md\r\n",
      "College Trends-2.md\r\n",
      "College Trends.html\r\n",
      "College Trends.md\r\n",
      "Command_Line_Tools_OS_X_10.10_for_Xcode_6.4.dmg\r\n",
      "Command_Line_Tools_OS_X_10.10_for_Xcode_7_beta_4.dmg\r\n",
      "CreditReferenceLetter.pdf\r\n",
      "DSE_Cohort_2_calendar_AY_2015-2017.pdf\r\n",
      "DisclosureStatement-2.pdf\r\n",
      "DisclosureStatement.pdf\r\n",
      "Doctible Eye Care Infographic.jpg\r\n",
      "EVTI Debt Sched.xlsx\r\n",
      "Edit_VKIN__1_-_JMJ_Mainframe_and_Manager_-_Pivotal_Tracker_and_Calendar.png\r\n",
      "\u001b[34mEggTranscript.pdf.download\u001b[m\u001b[m\r\n",
      "Egg_Alex_Roth_MM signed.pdf\r\n",
      "Envision Health Care - HR deparment - New Users - Sheet1.csv\r\n",
      "Envision Health Care - New User Accounts .csv\r\n",
      "Expense Report form.xlsx-2.xlsx\r\n",
      "Expense Report form.xlsx.xlsx\r\n",
      "FDTXJFS FDRP30E 15260030007140926.pdf\r\n",
      "Fixie.png\r\n",
      "Good Performing Notes 2015-08-05 23_21_31.csv\r\n",
      "Good Performing Notes 2015-08-10 20-51-36 Full.csv\r\n",
      "Good Performing Notes 2015-08-14 18-58-10.csv\r\n",
      "Good Performing Notes 2015-08-14 18-58-21.csv\r\n",
      "Good Performing Notes 2015-08-14 18-58-55.csv\r\n",
      "Good Performing Notes 2015-08-14 18-59-49.csv\r\n",
      "Good Performing Notes 2015-08-14 19-02-15 Full.csv\r\n",
      "Good Performing Notes 2015-08-14 19-03-10 Full.csv\r\n",
      "Good Performing Notes 2015-08-14 19_48_35.csv\r\n",
      "Good Performing Notes 2015-08-20 23_07_27.csv\r\n",
      "Good Performing Notes 2015-09-28 02-16-56.csv\r\n",
      "Good Performing Notes 2015-09-30 21_10_25 Full.csv\r\n",
      "Good Performing Notes 2015-09-30 22_09_59 Full.csv\r\n",
      "Good Performing Notes 2015-10-01 17-20-17 Full.csv\r\n",
      "Good Performing Notes 2015-10-01 17-21-23.csv\r\n",
      "\u001b[34mHP4 and the Goblet of Fire (SFry) CD2\u001b[m\u001b[m\r\n",
      "\u001b[34mHP5 and the Order of the Phoenix (SFry) CD01\u001b[m\u001b[m\r\n",
      "\u001b[34mHP5 and the Order of the Phoenix (SFry) CD02\u001b[m\u001b[m\r\n",
      "\u001b[34mHP5 and the Order of the Phoenix (SFry) CD03\u001b[m\u001b[m\r\n",
      "\u001b[34mHP5 and the Order of the Phoenix (SFry) CD05\u001b[m\u001b[m\r\n",
      "\u001b[34mHP7 and the Deathly Hallows (SFry) CD5\u001b[m\u001b[m\r\n",
      "ILIM__1_-_JMJ_Mainframe_and_mainframe.png\r\n",
      "IMG_5133.jpg\r\n",
      "JAMN Note  9-10-15.docx\r\n",
      "JMJ_Mainframe_and_Inbox_–_eggie5_gmail_com_and_Slack.png\r\n",
      "Key Equip Finance - Pilot names for LuckyBolt.xlsx - Sheet2.csv\r\n",
      "LORUCSD-AlexEgg.pdf\r\n",
      "LuckyBolt_brings_healthy_food_right_to_y_321907.mp4\r\n",
      "MAS_DSE_PaymentOptions_2015-17.pdf\r\n",
      "Master password list - Sheet1.tsv\r\n",
      "Menu Thursday 3rd December.pdf\r\n",
      "Newmont Mining Corporatioin - Master Employee List .csv\r\n",
      "OTCBB_20150731.csv.txt\r\n",
      "PlainLanguageDisclosure.pdf\r\n",
      "RapidSSL_Wildcard_Enrollment.png\r\n",
      "Resignation_letter.pdf\r\n",
      "Resume.pdf\r\n",
      "Safari Tab Switching-1.2.8.pkg\r\n",
      "SecureMessageAtt.html\r\n",
      "Sub-Unsub-MPN.pdf\r\n",
      "Symbols 2015-08-14 17-29-47.csv\r\n",
      "Symbols 2015-09-28 02-17-33.csv\r\n",
      "Symbols 2015-10-01 19-46-21.csv\r\n",
      "TextMate_2.0-beta.7.4.tbz\r\n",
      "TheCuckoosCallingUnabridged_ep6_eNcgpdCoa63k8shpE8uAdDeqhLGHm_oRrbZcfOmbzLDqWQYRiidfXZ9HdksB7w.aax\r\n",
      "Transmit 4.4.8.zip\r\n",
      "\u001b[34mTransmit.app\u001b[m\u001b[m\r\n",
      "UCSD____My_Application.png\r\n",
      "Unknown\r\n",
      "Unknown-2\r\n",
      "academichistoryreviewpdf.pdf\r\n",
      "android-studio-ide-141.2135290-mac.dmg\r\n",
      "avast_business_security_online.dmg\r\n",
      "bpsdki127eng.dmg\r\n",
      "\u001b[34mcsv-benchmarks\u001b[m\u001b[m\r\n",
      "csv-benchmarks.tar\r\n",
      "dm-launcher.dmg\r\n",
      "download\r\n",
      "download (1)\r\n",
      "googlechrome.dmg\r\n",
      "installgoogledrive.dmg\r\n",
      "interview.ics\r\n",
      "javaforosx.dmg\r\n",
      "jdk-8u51-macosx-x64.dmg\r\n",
      "map_lot502.pdf\r\n",
      "mysql-workbench-community-6.3.4-osx-x86_64.dmg\r\n",
      "mysql2psql-0.1.0.gem\r\n",
      "notes (1).csv\r\n",
      "notes (10).csv\r\n",
      "notes (11).csv\r\n",
      "notes (12).csv\r\n",
      "notes (2).csv\r\n",
      "notes (3).csv\r\n",
      "notes (4).csv\r\n",
      "notes (5).csv\r\n",
      "notes (6).csv\r\n",
      "notes (7).csv\r\n",
      "notes (8).csv\r\n",
      "notes (9).csv\r\n",
      "notes.csv\r\n",
      "rootkey.csv.txt\r\n",
      "screenshot-1.png\r\n",
      "\u001b[34msmsspamcollection\u001b[m\u001b[m\r\n",
      "\u001b[34msolarized\u001b[m\u001b[m\r\n",
      "statement_legal_residence.pdf\r\n",
      "view\r\n",
      "\r\n",
      "Google Drive:\r\n",
      "Absence request form.dotx       Expense Report form.xlsx        Icon?\r\n",
      "Absence request form.dotx.gdoc  Expense Report form.xlsx.gsheet\r\n",
      "\r\n",
      "Library:\r\n",
      "\u001b[34mAccounts\u001b[m\u001b[m                \u001b[34mCompositions\u001b[m\u001b[m            \u001b[34mInput Methods\u001b[m\u001b[m           \u001b[34mPreferencePanes\u001b[m\u001b[m         \u001b[34mSyncedPreferences\u001b[m\u001b[m\r\n",
      "\u001b[34mAndroid\u001b[m\u001b[m                 \u001b[34mContainers\u001b[m\u001b[m              \u001b[34mInternet Plug-Ins\u001b[m\u001b[m       \u001b[34mPreferences\u001b[m\u001b[m             \u001b[34mVirtualBox\u001b[m\u001b[m\r\n",
      "\u001b[34mApplication Scripts\u001b[m\u001b[m     \u001b[34mCookies\u001b[m\u001b[m                 \u001b[34mJupyter\u001b[m\u001b[m                 \u001b[34mPrinters\u001b[m\u001b[m                \u001b[34mVoices\u001b[m\u001b[m\r\n",
      "\u001b[34mApplication Support\u001b[m\u001b[m     \u001b[34mDictionaries\u001b[m\u001b[m            \u001b[34mKeyboard Layouts\u001b[m\u001b[m        \u001b[34mPubSub\u001b[m\u001b[m                  \u001b[34mWebKit\u001b[m\u001b[m\r\n",
      "\u001b[34mAssistants\u001b[m\u001b[m              \u001b[34mFavorites\u001b[m\u001b[m               \u001b[34mKeychains\u001b[m\u001b[m               \u001b[34mSafari\u001b[m\u001b[m                  \u001b[34mcom.apple.nsurlsessiond\u001b[m\u001b[m\r\n",
      "\u001b[34mAudio\u001b[m\u001b[m                   \u001b[34mFontCollections\u001b[m\u001b[m         \u001b[34mLanguageModeling\u001b[m\u001b[m        \u001b[34mSaved Application State\u001b[m\u001b[m \u001b[34miMovie\u001b[m\u001b[m\r\n",
      "\u001b[34mAutosave Information\u001b[m\u001b[m    \u001b[34mFonts\u001b[m\u001b[m                   \u001b[34mLaunchAgents\u001b[m\u001b[m            \u001b[34mScreen Savers\u001b[m\u001b[m           \u001b[34miTunes\u001b[m\u001b[m\r\n",
      "\u001b[34mCaches\u001b[m\u001b[m                  \u001b[34mGameKit\u001b[m\u001b[m                 \u001b[34mLogs\u001b[m\u001b[m                    \u001b[34mServices\u001b[m\u001b[m\r\n",
      "\u001b[34mCalendars\u001b[m\u001b[m               \u001b[34mGoogle\u001b[m\u001b[m                  \u001b[34mMail\u001b[m\u001b[m                    \u001b[34mSocial\u001b[m\u001b[m\r\n",
      "\u001b[34mColorPickers\u001b[m\u001b[m            \u001b[34mGroup Containers\u001b[m\u001b[m        \u001b[34mMessages\u001b[m\u001b[m                \u001b[34mSounds\u001b[m\u001b[m\r\n",
      "\u001b[34mColors\u001b[m\u001b[m                  \u001b[34mIdentityServices\u001b[m\u001b[m        \u001b[34mMobile Documents\u001b[m\u001b[m        \u001b[34mSpelling\u001b[m\u001b[m\r\n",
      "\r\n",
      "Movies:\r\n",
      "\r\n",
      "Music:\r\n",
      "\u001b[34miTunes\u001b[m\u001b[m\r\n",
      "\r\n",
      "Pictures:\r\n",
      "\r\n",
      "Public:\r\n",
      "\u001b[30m\u001b[43mDrop Box\u001b[m\u001b[m\r\n",
      "\r\n",
      "VirtualBox VMs:\r\n",
      "\u001b[34mboot2docker-vm\u001b[m\u001b[m\r\n",
      "\r\n",
      "examples:\r\n",
      "AllRead        \u001b[31mFullPermission\u001b[m\u001b[m \u001b[31mGroupOnly\u001b[m\u001b[m      NoPermissions  \u001b[31mOwnerOnly\u001b[m\u001b[m      \u001b[31mWorldOnly\u001b[m\u001b[m\r\n"
     ]
    }
   ],
   "source": [
    "# \"scripts\" and \"data\" are not actual directories, rather they are symbolic links to directories\n",
    "%cd ~/data/\n",
    "!ls *"
   ]
  },
  {
   "cell_type": "code",
   "execution_count": 64,
   "metadata": {
    "collapsed": false
   },
   "outputs": [
    {
     "name": "stdout",
     "output_type": "stream",
     "text": [
      "/Users/alexegg\n",
      "ln: minced: File exists\n",
      "lrwxr-xr-x  1 alexegg  staff  24 Oct  2 13:47 \u001b[35mminced\u001b[m\u001b[m -> DSE200/data/NLTK/Chopped\n",
      "cat: minced/F0: No such file or directory\n"
     ]
    }
   ],
   "source": [
    "# Symbolic links are created by the command \"ln -s\" \n",
    "# Here we create a link from the home directory to the directory DSE200/data/NLTK/Chopped\n",
    "%cd ~\n",
    "!ln -s DSE200/data/NLTK/Chopped minced\n",
    "!ls -l minced\n",
    "# the unix command \"cat\" prints out the contents of a file.\n",
    "!cat minced/F0"
   ]
  },
  {
   "cell_type": "markdown",
   "metadata": {},
   "source": [
    "### Creating files and directories"
   ]
  },
  {
   "cell_type": "code",
   "execution_count": 65,
   "metadata": {
    "collapsed": false
   },
   "outputs": [
    {
     "name": "stdout",
     "output_type": "stream",
     "text": [
      "/Users/alexegg/tmp\n"
     ]
    }
   ],
   "source": [
    "# to create a directory, use `mkdir`\n",
    "!mkdir ~/tmp\n",
    "%cd ~/tmp"
   ]
  },
  {
   "cell_type": "code",
   "execution_count": 66,
   "metadata": {
    "collapsed": false
   },
   "outputs": [
    {
     "name": "stdout",
     "output_type": "stream",
     "text": [
      "total 0\r\n",
      "-rw-r--r--  1 alexegg  staff  0 Oct  2 13:55 file0\r\n",
      "-rw-r--r--  1 alexegg  staff  0 Oct  2 13:55 file1\r\n",
      "-rw-r--r--  1 alexegg  staff  0 Oct  2 13:55 file2\r\n",
      "-rw-r--r--  1 alexegg  staff  0 Oct  2 13:55 file3\r\n",
      "-rw-r--r--  1 alexegg  staff  0 Oct  2 13:55 file4\r\n",
      "-rw-r--r--  1 alexegg  staff  0 Oct  2 13:55 file5\r\n",
      "-rw-r--r--  1 alexegg  staff  0 Oct  2 13:55 file6\r\n",
      "-rw-r--r--  1 alexegg  staff  0 Oct  2 13:55 file7\r\n",
      "-rw-r--r--  1 alexegg  staff  0 Oct  2 13:55 file8\r\n",
      "-rw-r--r--  1 alexegg  staff  0 Oct  2 13:55 file9\r\n"
     ]
    }
   ],
   "source": [
    "# to create a file or update the time-stamp of the file use `touch`\n",
    "for i in range(10):\n",
    "    !touch file$i\n",
    "!ls -l"
   ]
  },
  {
   "cell_type": "markdown",
   "metadata": {},
   "source": [
    "### Moving and copying files"
   ]
  },
  {
   "cell_type": "code",
   "execution_count": 67,
   "metadata": {
    "collapsed": false
   },
   "outputs": [
    {
     "name": "stdout",
     "output_type": "stream",
     "text": [
      "[Errno 2] No such file or directory: '/Users/alexegg/DSE200/data/NLTK/Chopped/'\n",
      "/Users/alexegg/tmp\n",
      "file0 file1 file2 file3 file4 file5 file6 file7 file8 file9\r\n"
     ]
    }
   ],
   "source": [
    "%cd ~/DSE200/data/NLTK/Chopped/\n",
    "!ls"
   ]
  },
  {
   "cell_type": "code",
   "execution_count": 68,
   "metadata": {
    "collapsed": false
   },
   "outputs": [
    {
     "name": "stdout",
     "output_type": "stream",
     "text": [
      "cp: F87: No such file or directory\n",
      "cp: F87: No such file or directory\n",
      "ls: F87: No such file or directory\n",
      "tmp:\n"
     ]
    }
   ],
   "source": [
    "# cp copies a file to a new location, maintaining the original copy\n",
    "!mkdir tmp\n",
    "!cp F87 tmp   # copy a file to a new location, maintaining the name\n",
    "!cp F87 tmp/newname # copy a file to a new location + name\n",
    "!ls -l F87 tmp"
   ]
  },
  {
   "cell_type": "code",
   "execution_count": 69,
   "metadata": {
    "collapsed": false
   },
   "outputs": [],
   "source": [
    "# you can also copy a whole directory and all it's subdirectories\n",
    "!cp -r tmp newtmp"
   ]
  },
  {
   "cell_type": "code",
   "execution_count": 70,
   "metadata": {
    "collapsed": false
   },
   "outputs": [],
   "source": [
    "# mv moves a file, or a whole directory, to a new location or a new name.\n",
    "# it just manipulates pointers, so it is much faster than copy. (similar to \n",
    "# the difference between deep and shallow copy in python)\n",
    "!mv newtmp tmp # move directory to a new location\n",
    "!ls tmp/*"
   ]
  },
  {
   "cell_type": "code",
   "execution_count": 71,
   "metadata": {
    "collapsed": false
   },
   "outputs": [
    {
     "name": "stdout",
     "output_type": "stream",
     "text": [
      "mv: rename tmp/newname to tmp/newername: No such file or directory\r\n"
     ]
    }
   ],
   "source": [
    "# mv file or directory to a new name (=rename)\n",
    "!mv tmp/newname tmp/newername\n",
    "!ls tmp/*"
   ]
  },
  {
   "cell_type": "code",
   "execution_count": 72,
   "metadata": {
    "collapsed": false
   },
   "outputs": [],
   "source": [
    "#cleanup\n",
    "!rm -r tmp"
   ]
  },
  {
   "cell_type": "markdown",
   "metadata": {},
   "source": [
    "### Removing files and directories"
   ]
  },
  {
   "cell_type": "code",
   "execution_count": 73,
   "metadata": {
    "collapsed": false
   },
   "outputs": [
    {
     "name": "stdout",
     "output_type": "stream",
     "text": [
      "total 0\r\n",
      "-rw-r--r--  1 alexegg  staff  0 Oct  2 13:55 file0\r\n",
      "-rw-r--r--  1 alexegg  staff  0 Oct  2 13:55 file2\r\n",
      "-rw-r--r--  1 alexegg  staff  0 Oct  2 13:55 file4\r\n",
      "-rw-r--r--  1 alexegg  staff  0 Oct  2 13:55 file6\r\n",
      "-rw-r--r--  1 alexegg  staff  0 Oct  2 13:55 file8\r\n"
     ]
    }
   ],
   "source": [
    "# to remove a file use the command `rm`\n",
    "for i in range(1,10,2):\n",
    "    !rm file$i\n",
    "!ls -l"
   ]
  },
  {
   "cell_type": "code",
   "execution_count": 74,
   "metadata": {
    "collapsed": false
   },
   "outputs": [
    {
     "name": "stdout",
     "output_type": "stream",
     "text": [
      "/Users/alexegg\n",
      "ls: tmp: No such file or directory\n"
     ]
    }
   ],
   "source": [
    "# to remove an empry directory, use 'rmdir'\n",
    "# If you want to remove a directory and everything that is in it use `rm -rf`. Note that this\n",
    "# is an irreversible action, it is NOT like moving a file to the trash bin.\n",
    "%cd ~\n",
    "!rm -rf tmp\n",
    "!ls -l tmp"
   ]
  },
  {
   "cell_type": "markdown",
   "metadata": {},
   "source": [
    "### Groups and Unix File Permissions\n",
    "\n",
    "It is often the case that a file should not be readable/writeable by all users of a machine (IE private data, system configuration).  \n",
    "To enforce this there are a number of file properties which UNIX enforces.\n",
    "\n",
    "Each user falls into one of three relationships with the file:\n",
    "\n",
    "* **Owner** - The user who created the file and is able to modify permissions\n",
    "* **Group** - The user is in a the user group assigned to the file (we won't talk about this much)\n",
    "* **World** - Everybody else\n",
    "\n",
    "Each file has three permissions for each of these user sets:\n",
    "\n",
    "* **Read**  - The ability to view the file's contents\n",
    "* **Write** - The ability to modify the file\n",
    "* **Excecute** - The ability to run the file (if it is a script or program).  \n",
    "\n",
    "Since there are three user sets and three permissions, there are 9 distinct true/false permissions which can be granted.  Thus each file has 9 bits to define these permissions.\n",
    "\n",
    "#### Viewing permissions\n",
    "\n",
    "To view permissions of a file use the -l option for ls"
   ]
  },
  {
   "cell_type": "code",
   "execution_count": 75,
   "metadata": {
    "collapsed": false
   },
   "outputs": [
    {
     "name": "stdout",
     "output_type": "stream",
     "text": [
      "mkdir: examples: File exists\n",
      "/Users/alexegg/examples\n",
      "total 0\n",
      "-r--r--r--  1 alexegg  staff  0 Oct  2 13:55 AllRead\n",
      "-rwxrwxrwx  1 alexegg  staff  0 Oct  2 13:55 \u001b[31mFullPermission\u001b[m\u001b[m\n",
      "----rwx---  1 alexegg  staff  0 Oct  2 13:55 \u001b[31mGroupOnly\u001b[m\u001b[m\n",
      "----------  1 alexegg  staff  0 Oct  2 13:55 NoPermissions\n",
      "-rwx------  1 alexegg  staff  0 Oct  2 13:55 \u001b[31mOwnerOnly\u001b[m\u001b[m\n",
      "-------rwx  1 alexegg  staff  0 Oct  2 13:55 \u001b[31mWorldOnly\u001b[m\u001b[m\n",
      "/Users/alexegg\n"
     ]
    }
   ],
   "source": [
    "#First we create some files:\n",
    "#Disregard the chmod command for now\n",
    "!mkdir examples\n",
    "%cd examples\n",
    "!touch NoPermissions\n",
    "!chmod 000 NoPermissions \n",
    "!touch AllRead\n",
    "!chmod 444 AllRead \n",
    "!touch FullPermission\n",
    "!chmod 777 FullPermission \n",
    "!touch OwnerOnly\n",
    "!chmod 700 OwnerOnly \n",
    "!touch GroupOnly\n",
    "!chmod 070 GroupOnly \n",
    "!touch WorldOnly\n",
    "!chmod 007 WorldOnly \n",
    "\n",
    "#Now we list the permissions of the files\n",
    "!ls -l\n",
    "\n",
    "#Return to old working directory\n",
    "%cd ../\n"
   ]
  },
  {
   "cell_type": "markdown",
   "metadata": {},
   "source": [
    "In the first column of the output you see dashes for ungranted permissions and letters (r, w, or x) for granted permissions.  \n",
    "\n",
    "Lets break this down:\n",
    "\n",
    "| Bit | Definition |\n",
    "|---|------------------|\n",
    "| 1 | Sticky Bit\\* |\n",
    "| 2 | Owner Read |\n",
    "| 3 | Owner Write |\n",
    "| 4 | Owner Execute |\n",
    "| 5 | Group Read |\n",
    "| 6 | Group Write |\n",
    "| 7 | Group Execute |\n",
    "| 8 | World Read |\n",
    "| 9 | World Write |\n",
    "| 10| World Execute |\n",
    "\n",
    "\\* The sticky bit is a special permission we won't be going into\n",
    "\n",
    "Since you have three groups of three binary permissions, a common way to refer to permissions is via the octal representation of bits 2-10.  This yields a 3 digit octal number with the left most digit being owner permissions, middle digit group permissions, and right most bit the world permissions.\n",
    "\n",
    "For example: -r--rw---x translates to 461 in octal\n",
    "\n",
    "#### Changing Permissions\n",
    "\n",
    "To change permissions, the owner of a file can use the command *chmod*.  The main use case is you specify the octal code of your desired permissions followed by the file name.  For examples of this look at the code we used to create the files above."
   ]
  },
  {
   "cell_type": "markdown",
   "metadata": {},
   "source": [
    "## manual pages"
   ]
  },
  {
   "cell_type": "code",
   "execution_count": 76,
   "metadata": {
    "collapsed": false
   },
   "outputs": [],
   "source": [
    "%man ls"
   ]
  },
  {
   "cell_type": "markdown",
   "metadata": {},
   "source": [
    "## Exploring the computer"
   ]
  },
  {
   "cell_type": "code",
   "execution_count": 77,
   "metadata": {
    "collapsed": false
   },
   "outputs": [
    {
     "name": "stdout",
     "output_type": "stream",
     "text": [
      "/bin/sh: lsb_release: command not found\r\n"
     ]
    }
   ],
   "source": [
    "# Find out which version of Ubuntu you are running \n",
    "!lsb_release -a"
   ]
  },
  {
   "cell_type": "code",
   "execution_count": 78,
   "metadata": {
    "collapsed": false
   },
   "outputs": [
    {
     "name": "stdout",
     "output_type": "stream",
     "text": [
      "cat: /proc/cpuinfo: No such file or directory\r\n"
     ]
    }
   ],
   "source": [
    "# find out about the hardware\n",
    "!cat /proc/cpuinfo"
   ]
  },
  {
   "cell_type": "code",
   "execution_count": 79,
   "metadata": {
    "collapsed": false
   },
   "outputs": [
    {
     "name": "stdout",
     "output_type": "stream",
     "text": [
      "/bin/sh: free: command not found\r\n"
     ]
    }
   ],
   "source": [
    "# find out how much memory you are using\n",
    "!free -m"
   ]
  },
  {
   "cell_type": "code",
   "execution_count": 80,
   "metadata": {
    "collapsed": false
   },
   "outputs": [
    {
     "name": "stdout",
     "output_type": "stream",
     "text": [
      "Filesystem    512-blocks     Used Available Capacity  iused     ifree %iused  Mounted on\r\n",
      "/dev/disk1     974716928 95670856 878534072    10% 12022855 109816759   10%   /\r\n",
      "devfs                367      367         0   100%      636         0  100%   /dev\r\n",
      "map -hosts             0        0         0   100%        0         0  100%   /net\r\n",
      "map auto_home          0        0         0   100%        0         0  100%   /home\r\n"
     ]
    }
   ],
   "source": [
    "# find out how much disk space you are using\n",
    "!df"
   ]
  },
  {
   "cell_type": "code",
   "execution_count": 81,
   "metadata": {
    "collapsed": false
   },
   "outputs": [
    {
     "name": "stdout",
     "output_type": "stream",
     "text": [
      "/Users/alexegg\n",
      "1480\tApplications\n",
      "0\tDesktop\n",
      "2577328\tDevelopment\n",
      "384\tDocuments\n",
      "6465432\tDownloads\n",
      "864\tGoogle Drive\n",
      "10335848\tLibrary\n",
      "0\tMovies\n",
      "2171576\tMusic\n",
      "0\tPictures\n",
      "0\tPublic\n",
      "10853192\tVirtualBox VMs\n",
      "0\tcut55-56\n",
      "0\texamples\n",
      "0\tmainframe.sql\n",
      "8\tminced\n",
      "8\tmysql2psql.yml\n",
      "8\tpgadmin.log\n"
     ]
    }
   ],
   "source": [
    "#find out which directories consume most of this disk space\n",
    "%cd ~\n",
    "!du -s *"
   ]
  },
  {
   "cell_type": "code",
   "execution_count": 82,
   "metadata": {
    "collapsed": false
   },
   "outputs": [
    {
     "name": "stdout",
     "output_type": "stream",
     "text": [
      "du: anaconda/*: No such file or directory\r\n"
     ]
    }
   ],
   "source": [
    "# based on what we see here, we check the directory anaconda\n",
    "!du -s anaconda/*"
   ]
  },
  {
   "cell_type": "markdown",
   "metadata": {},
   "source": [
    "## analyzing data\n",
    "head, tail, more, grep, wc, sort, cut (awk)"
   ]
  },
  {
   "cell_type": "code",
   "execution_count": 106,
   "metadata": {
    "collapsed": false
   },
   "outputs": [
    {
     "name": "stdout",
     "output_type": "stream",
     "text": [
      "/Users/alexegg/Development/DSE/DSE200-notebooks/data/ThinkStatsData\n",
      "2002FemPreg.dat 2002FemResp.dat 2002Male.dat    survey.pl\r\n"
     ]
    }
   ],
   "source": [
    "%cd ~/Development/DSE/DSE200-notebooks/data/ThinkStatsData/\n",
    "!ls"
   ]
  },
  {
   "cell_type": "code",
   "execution_count": 107,
   "metadata": {
    "collapsed": false
   },
   "outputs": [
    {
     "name": "stdout",
     "output_type": "stream",
     "text": [
      "   13593  475347 6089664 2002FemPreg.dat\n",
      "    7643 1708253 37664704 2002FemResp.dat\n",
      "    4928  548252 14719936 2002Male.dat\n",
      "     195     576    5658 survey.pl\n",
      "   26359 2732428 58479962 total\n"
     ]
    }
   ],
   "source": [
    "# print the number of lines, words and characters in each file\n",
    "!wc *"
   ]
  },
  {
   "cell_type": "code",
   "execution_count": 108,
   "metadata": {
    "collapsed": false
   },
   "outputs": [
    {
     "name": "stdout",
     "output_type": "stream",
     "text": [
      "           1 1     6 1     11093 1084     9 039 9   0  1 813             1093 13837                        1                5                                                                        116610931166 9201093                111             3    1   12  11         5391 110933316108432411211     2995 1212 69544441116122222 2 2224693215    000000000000000000000000000000000000003410.38939935294273869.3496019830486 6448.2711117047512 91231\r\n",
      "           1 2     6 1     11166 1157     9 039 9   0  2 714             1166  6542112  2  05 1 4  5       51               1   41  4  201 20                                                        1166109311661093116611661231        111             3    1   14  11         5391 211663925115738501211 2 432 8701414 69544441116122222 2 2224693215    000000000000000000000000000000000000003410.38939935294273869.3496019830486 6448.2711117047512 91231\r\n"
     ]
    }
   ],
   "source": [
    "# print the first 2 lines of a file\n",
    "!head -2 2002FemPreg.dat"
   ]
  },
  {
   "cell_type": "code",
   "execution_count": 109,
   "metadata": {
    "collapsed": false
   },
   "outputs": [],
   "source": [
    "## This list of tuples defines the names and locations of the elements.\n",
    "fields=[\n",
    "    ('caseid', 1, 12, int),\n",
    "    ('nbrnaliv', 22, 22, int),\n",
    "    ('babysex', 56, 56, int),\n",
    "    ('birthwgt_lb', 57, 58, int),\n",
    "    ('birthwgt_oz', 59, 60, int),\n",
    "    ('prglength', 275, 276, int),\n",
    "    ('outcome', 277, 277, int),\n",
    "    ('birthord', 278, 279, int),\n",
    "    ('agepreg', 284, 287, int),\n",
    "    ('finalwgt', 423, 440, float),\n",
    "]"
   ]
  },
  {
   "cell_type": "code",
   "execution_count": 112,
   "metadata": {
    "collapsed": false
   },
   "outputs": [
    {
     "data": {
      "text/plain": [
       "{'agepreg': (284, 287, int),\n",
       " 'babysex': (56, 56, int),\n",
       " 'birthord': (278, 279, int),\n",
       " 'birthwgt_lb': (57, 58, int),\n",
       " 'birthwgt_oz': (59, 60, int),\n",
       " 'caseid': (1, 12, int),\n",
       " 'finalwgt': (423, 440, float),\n",
       " 'nbrnaliv': (22, 22, int),\n",
       " 'outcome': (277, 277, int),\n",
       " 'prglength': (275, 276, int)}"
      ]
     },
     "execution_count": 112,
     "metadata": {},
     "output_type": "execute_result"
    }
   ],
   "source": [
    "## Lets transform it into a dictionary whose keys are the names of the field\n",
    "fields_dict={name:(f,t,typ) for (name,f,t,typ) in fields}\n",
    "fields_dict"
   ]
  },
  {
   "cell_type": "code",
   "execution_count": 113,
   "metadata": {
    "collapsed": false
   },
   "outputs": [
    {
     "name": "stdout",
     "output_type": "stream",
     "text": [
      "           1 1     6 1     11093 1084     9 039 9   0  1 813             1093 13837                        1                5                                                                        116610931166 9201093                111             3    1   12  11         5391 110933316108432411211     2995 1212 69544441116122222 2 2224693215    000000000000000000000000000000000000003410.38939935294273869.3496019830486 6448.2711117047512 91231\n",
      "           1 2     6 1     11166 1157     9 039 9   0  2 714             1166  6542112  2  05 1 4  5       51               1   41  4  201 20                                                        1166109311661093116611661231        111             3    1   14  11         5391 211663925115738501211 2 432 8701414 69544441116122222 2 2224693215    000000000000000000000000000000000000003410.38939935294273869.3496019830486 6448.2711117047512 91231\n",
      "          24 3     6 1     11163 1154     9 039 9   0  1 613             1163  6927                        1                5                                                                        1163107711631119116311631232        5          51   1  31 2  115511         5391 311632941115428662222     2995 3333 81035353412 92222 3 311 645315    000000000000000000000000000000000000003409.57325832688644068.6286451132046 7424.8404144670871271232\n",
      "          44 3     6 1     11165 1156     03939 9   0  1 7 2             1165  723911   9  35 1 9  151     51               1   61  6  251 25                                                        12221023122211231165                5          1    2    1   12  11         5391 111653158115630831211 9 92210822222 78637371113102112 4 2224697215    00000000000000000000000000000000000000 3879.6638791985784304.34624600888954656.01133430781652481237\n",
      "          49 4     6 1     11163 1154     9 039 9   0  1 8 6             1163  6524                        1                5                                                                        1163109111631150116311631228        15  4       5         4  5 5511         5391 211632341115422665165     2995 5555 88228283412 91232 4 212 781325    00000000000000000000000000000000000000 1805.9981518570752030.23824189603852737.37022154842861461228\n",
      "         118 2     6 1     11169 1160     9 039 9   0  212 0             1169  6232112  1  05 1 2  11 32 3251               1   12  0   12  0                                                        12191157121911571169                5          51   2    1   12  11         5391 211692333116022581211 1 232  112222 88928281112 92112 3 3111801211198800000000000000000000000000000000000000 4308.506680911345 6695.618021392024  7261.397744199652 71231\n",
      "         149 3     5 1     11172 1162     9 34210   0  1 7 2             1172  622413   8  05 120  5       1                1   81  8   81  8                                                        1172113711721148117211721234        111             2    1   12  11         5421 311721983116219001211 82042 3502222 93424241110 62112 3 341 143125    000000000000000000000000000000000000002335.4524449935348 2543.7148228987122856.59174611525351451234\n",
      "         230 1     5 1     11188 1179     9 140 9   0  1 714             1188  465711   4  15 1 4  11  6  61                1   61  6  241 24                                                        122811881228 9671188                111             2    1   12  11         5401 111883191117931161211 4 42210412222 80535351115122112 2 222 1422111996000000000000000000000000000000000000001806.6451254988565 1981.5639442132482143.45771845547051841234\n",
      "         277 3     6 1     11160 1150     0424210   0  1 8 6             1160  7234                        1                5                                                                        1160110511601138116011601232        15  3 4     5         2  5 11           5421 311602675115025915165     2995 5555 83932321112 92222 3 331 847315    00000000000000000000000000000000000000 7550.133272956672 8855.89318971902715364.9746841625131 51232\n",
      "         287 2     6 1     11160 1151     9 039 9   0  2 6 7             1160  7320                        1                5                                                                        12041143120411431160                15  3       1   1  12 1  11  11         5391 211602000115119251211     2995 3333 92026261110 62222 3 341 587335    00000000000000000000000000000000000000 3409.549178694968 3769.046838861306  6339.159878280832591233\n",
      "         324 5     6 1     11170 1161     04040 9   0  1 710             1170  6841112  2  05 1 2  11 20 2051               1   31  3   31  3                                                        1170109311701150117011701238        5          1    4     1  14  11         5401 211703191116131161211 2 232 1314444 78737371114112222 5 2224697325    00000000000000000000000000000000000000 3114.737294962433 3639.049630612148 6640.9016709041092571238\n",
      "         343 1     6 1     11033 1024     9 039 9   0  1 7 5             1033 19631                        551    11351021111   51  5  121 12                                                        11621033116210111033                           1    2    1   1211           5391 110331533102414585165     2 52 2222 849313156 9 52112 3 211 1853211995000000000000000000000000000000000000002080.56214000049433350.0378921787906 4251.5330889641031331229\n",
      "         343 2     3   10992109901097  36 2 110 2                                                                                                                                                    11621033116210331099                           55         2  121111         5102  10992083109720665165          5252 849313156 9 52112 3 211 1853211995000000000000000000000000000000000000002080.56214000049433350.0378921787906 4251.5330889641031331229\n",
      "         343 3     6 1     11162 1153     9 039 9   0  2 8 0             1162  6730                        1                1   51  5   61  6                                                        1162103311621099116211621229                   1    2    1   5 5511         5391 211622608115325335165     2 26 2525 849313156 9 52112 3 211 1853211995000000000000000000000000000000000000002080.56214000049433350.0378921787906 4251.5330889641031331229\n",
      "         356 1     5 1     11152 1143     03939 9   0  1 7 9             1152  7939                        1                1   42  1   41  4                                                        11861152118610131152                111             3    1   13  11         5391 111522908114328331211     2 17 1111 80335351119142222 2 2424691315    00000000000000000000000000000000000000 3613.3026516311723898.0246715528674 7113.5052231168272221231\n",
      "         356 2     5 1     11186 1177     03939 9   0  1 7 8             1186  4542112  7  05 1 7  11  6  61                1   12  0   42  1                                                        1186115211861152118611861231        111             1  61 2  12  11         5391 211863191117731161211 7 732  413232 80335351119142222 2 2424691315    00000000000000000000000000000000000000 3613.3026516311723898.0246715528674 7113.5052231168272221231\n",
      "         438 3     5 1     11160 1152     8 237 8   0  1 6 4             1160  6923                        1                5                                                                        11781108119111201160                115         1   1  32 1  1111           5371 311602458115223915155     2995 3333 865303052 9 52112 5 431 377111199700000000000000000000000000000000000000 4308.198462779456 6645.395531599141 8433.6714691524681581229\n",
      "         455 1     3   11652116501163  35 2 110 2                                                                                                                                                    12121165121210631165                15  3       61  7     3  111111         5102  11652483116324665165          4343 86730305616112222 2 1211221315    000000000000000001010000000000000000003409.5065576029883 4146.957427433089 7194.9711365964092371236\n",
      "         494 1     5 1     11161 1152     9 039 9   0  1 9 8             1161  7419                        51               1   71  7   71  7                                                        12031161120311051161                115         1   1  52 1  115511         5391 111612058115219835165     2 30 3333 91426265611 71231 3 2322371315    000000000000000000000000000000000000001806.74889730952991992.97936892575512687.13408312259571111235\n",
      "         494 2     5 1     11203 1194     9 039 9   0  1 8 4             1203  322311  16  25 116  153     51               1   31  3   31  3                                                        12031161120311611203                           51   1  32 2 75 11   6 4  3  1391 212032408119423335155161622 1343535 91426265611 71231 3 2322371315    000000000000000000000000000000000000001806.74889730952991992.97936892575512687.13408312259571111235\n",
      "         494 3 222         3     1233                                                                                                                                                                1203116112031203            12031235           51   1  72 4 15 1 1  0 0  5  5 96          12332658   5          3535 91426265611 71231 3 2322371315    000000000000000000000000000000000000001806.74889730952991992.97936892575512687.13408312259571111235\n",
      "         509 3     6 1     11168 1160     8 035 8   0  1 6 4             1168  692711   1  05 1 3  5       1                5                                                                        1168111711681157116811681237        5          51   1  22 2  1111           5351 311682400116023331215 1 32299503333 88029291110 92222 3 342 787325    00000000000000000000000000000000000000  2580.78233011173 5073.675152936751 8533.4142397243212571237\n",
      "         539 1     6 1     11152 1143     03737 9   0  1 6 5             1152  8332                        1                1   11  1   11  1                                                        1152115211521064115211521235        5          561  7     3  5 5511         5371 111523116114330415165     2  4 4545 77838385613101232 1 1222001311197700000000000000000101000000000000000000 2335.0254819346072653.74604570039044061.55832294444741391235\n",
      "         572 1     6 1     11124 1115     9 039 9   0  2 7 3             1124 11025                        1                1   41  4   61  6                                                        117511241175 9731124                111             2    1   12  11         5391 111243116111530411211     2 26 2222 75040401118122222 3 2212878225    00000000000000000000000000000000000000 4871.1817132539076016.428321887261510026.3777984251212151234\n",
      "         581 3     5 1     11171 1164     03232 7   0  2 3 0             1171  602213   3  05 1 3  11  0  01                5                                                                        12041102120411371171                15  3       1   2    1   12  11         5321 311712533116424751211 3 34199512222 86730301112 92112 4 411 377215    000000000000000000000000000000000000004160.6814030349105 4836.808944217631 6138.3942311065951551231\n",
      "         587 1     5 1     11179 1173     02424 6   0  2 110             1179  541913   4  05 1 4  5       1                1   21  2   21  2                                                        11931179119311691179                15  1       1   2    1   1211           5241 111791958117319085155 4 441  902222 94424241112 93242 2 2411281335    00000000000000000000000000000000000000 5317.158277280657 5812.840073686702 8176.9221316550852 11233\n",
      "         642 2     6 1     11162 1153     9 039 9   0  2 8 1             1162  6718                        1                5                                                                        12061133120611331162                115         5         4  5 555          5391 211621691115316165165     2995 5555 95922225612 91232 3 3311001325    00000000000000000000000000000000000000   1806.60551051681932.39320359604932932.02020781628562151229\n",
      "         653 3     4   11632116301161  35 2 0 9 2                                                                                                                                                    1096107911631096116311631233        5          1    2    1   5 1111         5 95  11633566116135501211          2525 73541413416112222 3 2225001215    00000000000000000000000000000000000000 3410.170626229423 3646.407396191513 6076.7379257531572491233\n",
      "         701 4     6 1     11152 1143     04040 9   0  1 6 7             1152  8231                        1                1   61  6  121 12                                                        12031097120311301152                111             2    1   12  11         5401 311523116114330411211     2 52 2222 77837371114112222 5 4221388215    00000000000000000000000000000000000000  4871.98485621849 7537.13289928909613754.5138279126712 91234\n",
      "         706 1     5 1     11198 1190     03434 8   0  2 411             1198  3419132  3  05 1 3  153     51               5                                                                        1198119811981187119811981232                   51   2    1  71211   1 5     1341 111982041119019751211 3 34199542222 95323231114102222 1 1311645315    00000000000000000000000000000000000000  2971.11771228208 3150.071273980009 4431.2052611076791311232\n",
      "         784 2     6 1     11174 1165     9 039 9   0  2 714             1174  542413   8  05 1 8  151     51               5                                                                        11921158119211581174                5          1    2    4   5 1511         5391 211742133116520582221 8 84299522525 91825253212 91232 3 341 308215    000000000000000000000000000000000000003032.37175024422143258.8239927184854 4393.8723893823342311228\n",
      "         830 3     6 21    11161 1152     03838 9   00 1 514 2 613       1161  7223                        551    1221 602 11   51  5   61  6551    1221 602 11  51 5  61 6                          1161109411611114116111611233        115         1   19992 3  5 5511         5381 311612600115225255165     2    3535 84932323414102222 3 4123891315    000000000000000000000000000000000010003455.7847268474866  4210.75938749285 7305.6675373000941561233\n",
      "         835 1     6 1     11175 1166     9 039 9   0  1 4 2             1175  602011   1  05 1 4  5       551    1225 502 11   61  6  241 24                                                        1175117511751141117511751235                   1    2    1   12  11         5391 111752083116620081211 1 42110402222 92525251116123242 1 11140074212002000000000000000000000000000000000000002168.4997964042245 2496.8619667976344199.47214195694052771235\n",
      "         844 3     6 1     11164 1155     9 039 9   0  2 7 6             1164  6521                        551    1159997151                                                                         12091107120911211164                115         5         4  5 5511         5391 311642175115521005155     2    5555 90327275610 61232 5 5312007325    000000000000000000000000000000000000001806.47714281805753429.8252460738013 4624.4333792813071381229\n",
      "         882 3     6 1     11193 1184     9 039 9   0  2 611             1193  452113   8  313116  5       1                5                                                                        12341156123411631193                15  4       1   1 102 1 41211   0 5  5  5391 211932191118421165155 8164299503232 93025255210 62222 5 341 997325    0000000000000000000000000000000000000011241.884250793737 20349.47734288385 34225.785942996341631238\n",
      "         884 1     6 1     11175 1166     9 039 9   0  2 613             1175  582113   6  4131 6  5       1                5                                                                        11931175119311671175                115         1   1  22 2  1211           5351 111751808116617331211 6 64299503232 95822221111 72222 2 212 991335    20000000002000000000000000000000000000 3774.891661281489 4489.752075185056 6315.7342441628192141233\n",
      "         967 2     3   11652116501163  21 1 3 7 2                                                                                                                                                    11541154120211541165                15  3       1   19999 2  5 5511         5 72  11652383116323665165          3535 87929295612 92222 5 1223341125    00000000000000000000000000000000000000 1914.754714195995 2215.0956726902273725.56941189769261531230\n",
      "        1007 1     1   11632116301161  20 2 0 9 2                                                                                                                                                    11981163120211131163                115         1   2    2   125511         5 94  11631991116119755165          2222 92426265210 63112 4 231 507115    00000000000000000000000000000000000000 3248.269321461241  5336.38289200769  5787.307246382342621236\n",
      "        1068 3     5 1     11145 1137     03636 8   0  1 7 4             1145  8631                        51               1   22  0   22  0                                                        1145107811451105114511451231        111             3    1   12  11         5361 311453183113731161211     2  2 1212 76339391114101232 3 3212348325    000000000000000000000000000000000000001820.85963953587182295.79766852060273513.71833167078241 91231\n",
      "        1134 1     5 1     11172 1162     0424210   0  1 9 9             1172  592313   7  05 1 8  153     51               1   23  0   31  3                                                        12191172121910631172                15  4       1   1  32 3  5 5511         5421 111722233116221501215 7 842 1343535 90427271112 91232 3 2312565315    00000000000000000000000000000000000000 2817.943288704256 5114.362327893354 6895.6947266986092 91231\n",
      "        1147 1     6 1     11168 1159     9 241 9   0  2 7 4             1168  6529112  4  05 111  151     1                1   31  3   71  7                                                        12071168120711231168                111             2    1   12  11         5411 111682900115928251211 41132 3022222 82034341119143242 2 2214691111199300000000000000000000000000000000000000 4872.122302399426 5819.79852893382610097.3504477001882411233\n",
      "        1176 1     6 1     11163 1154     04040 9   0  1 8 2             1163  6624                        1                5                                                                        12131163121311471163                15  3       1   2    1   1211           5401 111631833115417585155     2995 2222 94323235612 93242 3 341 505135    000000000000000000000000000000000000003409.5740197204204 3648.423654153355 5132.2375542975252701229\n",
      "        1176 2     6 1     11196 1187     04040 9   0  1 7 6             1196  333013  12  05 112  11  4  01                5                                                                        12131163121311631196                115         5         4 71211   0 02    5401 21196210811872033516512124299515252 94323235612 93242 3 341 505135    000000000000000000000000000000000000003409.5740197204204 3648.423654153355 5132.2375542975252701229\n",
      "        1176 3     6 1     11213 1203     0424210   0  1 7 4             1213  162113   8  05 1 8  152     1                5                                                                        1213116312131196121312131229            4       5         2 85 1511 0 02    1421 312132250120321665155 8 84299535555 94323235612 93242 3 341 505135    000000000000000000000000000000000000003409.5740197204204 3648.423654153355 5132.2375542975252701229\n",
      "        1185 2     4   11042110401102  35 0 7 7 2                                                                                                                                                    11231092112310921104                111             2    1   12  11         5 75  11043116110231001211          2222 73041411116122222 3 3224697315    000000000000000000000000000000000000003408.2694541839146 3897.639645942129 6495.4164699625582531227\n",
      "        1211 4     6 31    11167 1160     7 232 7   0002 4 2 1 5 0 2 2 2 1167  693013   5  35 1 5  153     1                5                1                5            5551167      0            11671083118511531167                15  4 7     1   1  22 1  1411           5321 211672666116026085155 5 541   43434 84732325616121232 6 4212561315    000000000000000000000000000000000000001807.19002841697922038.65251390960132650.45213333387261 91236\n",
      "        1241 2     6 1     11229 1220     9 039 9   0  2 6 2             1229   33613  16  313116  5       1                5                                                                        1229110212291102122912291232                   51   2    1 109   111010     5391 11229293312202858121116164299502622 877292911 9 52222 2 122 827135    00000000000000000000100000000000000000 4870.827950040632 9348.061927643492 15722.505356103592141232\n",
      "        1244 3     1   11622116201160  22 01010 2                                                                                                                                                    11761094117611181162                5          51   1  12 1  13  11         5104  11622333116023161211          3131 88229291113102222 4 2122135315    00000000000000000000000000000000000000 2580.794331868716 3124.501888935637 5255.0997270008471 21232\n",
      "        1264 2     5 21    11223 1214     03838 9   00 1 6 2 1 6 7       1223  1329112  2  05 1 2  11  8  81                1   13  01  61  61                1  13 01 71 7                          1223117912231179122312231236                   1    2    1 1012  111010     5381 212233116121430411211 2 232   12222 84932321116122222 2 3121321215    000000000000000000000000000000000000004874.4580565346605 7864.74323423496313645.3295113976621151236\n",
      "        1279 4     6 1     11163 1154     9 039 9   0  1 9 0             1163  6934                        51               1   41  4   91  9                                                        1163103711631132116311631232        5          1    2    1   12  11         5391 311633558115434831211     2 39 2222 73641411116132222 4 3223963315    00000000000000000000000000000000000000 4871.681412083594 5572.943691959878 9287.3106626511381711232\n",
      "        1292 1     6 1     11023 1014     04040 9   0  110 2             1023 21125                        551    11691461111   21  2   41  4                                                        107910231163 9131023                111             2    1   5   11         5401 110232616101425411211     2 17 2525 70943433415102222 4 3224261115    000000000000000000000000000000000000003613.0572649314927 4171.520476010024 6951.8388732707052471234\n",
      "        1292 2     6 1     11036 1026     0424210   0  2 8 6             1036 19826                        551    11691331111   61  6  121 12                                                        10791023116310231036                5          51   2    1   5   11         5421 210362725102626411211     2 52 2525 70943433415102222 4 3224261115    000000000000000000000000000000000000003613.0572649314927 4171.520476010024 6951.8388732707052471234\n",
      "        1292 3     6 1     11079 1070     04040 9   0  1 9 6             1079 15529                        551    1169 901111   61  6  121 12                                                        10791023116310361079                111             2    1   5   11         5401 310793083107030081211     2 52 2525 70943433415102222 4 3224261115    000000000000000000000000000000000000003613.0572649314927 4171.520476010024 6951.8388732707052471234\n",
      "        1292 4     3   11632116301162  28 0 4 4 1                                                                                                                                                    1079102311631079116311631234        15  4       5         4  5 5511         5 42  11633783116237752222          5555 70943433415102222 4 3224261115    000000000000000000000000000000000000003613.0572649314927 4171.520476010024 6951.8388732707052471234\n",
      "        1295 4     5 1     11154 1145     04141 9   0  1 9 3             1154  7634                        1                5                                                                        1154102911541110115411541230        111             2    1   1251           5411 411543191114531162222     2995 2222 77138383410 92222 4 431 741315    00000000000000000000000000000000000000 3409.200667141061 5102.589343162051 9311.7152923364272781230\n",
      "        1333 4     5 1     11161 1152     03838 9   0  2 7 8             1161  7046                        51               5                                                                        1161111111611136116111611231        111             2    1   12  11         5381 311613550115234751211     2995 2222 73541411118132222 4 3223962235    000000000000000000000000000000000000003409.61667769071033751.9161444095066 6252.5682546584431661231\n",
      "        1349 1     6 1     11075 1066     9 039 9   0  2 811             1075 15625                        1                1   41  4   61  6                                                        12241075122410621075                5          561  7     2  5 5511         5391 110752591106625165165     2 26 2525 764383811 9 52112 4 3311327221198100000000000000000101000000000000000000 4308.561709757481  5296.83116046333 5729.5822662731841811231\n",
      "        1349 2     3   11402114001138  20 2 0 9 2                                                                                                                                                    12241075122410751140                5          51   3    1   131111         5 92  11403133113831165165          1111 764383811 9 52112 4 3311327221198100000000000000000000000000000000000000 4308.561709757481  5296.83116046333 5729.5822662731841811231\n",
      "        1349 3     6 1     11148 1139     9 039 9   0  1 9 4             1148  8322                        1                1   41  4  241 24                                                        12241075122411401148                15  8       1   3    1   1311           5391 211483200113931255165     2104 1111 764383811 9 52112 4 3311327221198100000000000000000000000000000000000000 4308.561709757481  5296.83116046333 5729.5822662731841811231\n",
      "        1349 4     6 1     11224 1215     9 039 9   0  1 715             1224   72913   4  05 1 6  11  6  651               11  41  45                                                               1224107512241148122412241231                   1    3    1 1013  111010     5391 312243833121537581211 4 64299411111 764383811 9 52112 4 3311327221198100000000000000000000000000000000000000 4308.561709757481  5296.83116046333 5729.5822662731841811231\n",
      "        1411 3     6 1     11167 1158     9 039 9   0  2 8 0             1167  6529112  4  4141 4  5       1                5                                                                        12011130120111491167                15  3       5         2  5 11           5391 311671916115818415165 4 43299505555 937242434 9 52222 4 431 661115    000000000000000000000000000000000000003409.70259067865533785.7940321882184 5325.4764650791672271232\n",
      "        1494 3     6 1     11162 1153     9 039 9   0  2 6 0             1162  6826                        51               5                                                                        1162109511621152116211621230        5          1    2    2   125511         5391 311622566115324915165     2995 2222 85431315611 91232 3 342 781325    00000000000000000000000000000000000000 3408.8156084939823946.5378843903013 5130.8939034958312351230\n",
      "        1549 4     5 1     11168 1159     9 039 9   0  2 8 0             1168  713513   5  05 1 6  5       551    1171  33  5                                                                        1168 987116811051168                115         1   1  32 4  5 51           5391 311683333115932582222 5 64299503535 76839393412 92222 5 341 222315    000000000000000000000000000000020000004169.1903651504945 5119.090952409935  9341.829079052891511239\n",
      "        1572 3     5 1     11235 1226     03838 9   0  1 813             1235   23211   9  05 112  11  6  61                5                                                                        1235116712351214123512351237                   1    2    2  91211   5 6     1381 212353191122631162252 9122299512222 85232323216121232 3 2224694325    00000000000000000000000000000000000000 3081.2682995915794092.9376804206076 5321.2282783148322521237\n",
      "        1588 4     6 1     11235 1226     04040 9   0  1 612             1235   136112  2  3131 4  11 12  71                5                                                                        1235112312351194123512351236            7       1   2    1 1012  11 8 9     1401 312353116122630411211 2 43299512222 86131311115112222 4 3222164315    00000000000000000000000000000000000000 4504.723767299727 5667.125731633539  9832.463144384192291236\n",
      "        159712     5 1     11167 1158     04040 9   0  2 810             1167  663513   6  05 1 9  11 12  61                1   61  6   81  8                                                        1167 95411671145116711671233        15  7       5         2  125511         5401 311673383115833085155 6 942 3515252 7613939561310123212 331 641315    000000000000000000000000000000000000001806.30708316480921940.1277106648918 2969.3654611726171441233\n",
      "        1636 2     3   11682116801167  25 1 2 6 1                                                                                                                                                    12041162121511621168                           55         2  6 1111         5 62  11681933116719255165          5656 93624245610 61232 6 931 508221198700000000000000000000000000000000000000 2334.815154902261 2531.717727284549 3841.3753076088462391231\n",
      "        1638 1     1   10832108301081  22 0 8 8 2                                                                                                                                                        1083116610151083                111             2    1   12  11         5 84  10832358108123411211          2222 80036363413101232 2 0224261125    000000000000000000000000000000000000002335.3333062553147 2615.4788108406574002.99031999162531781234\n",
      "        1638 2     1   11662116601165  36 0 6 6 1                                       6  25 1 6                                                                                                        108311661083116611661234        111             2    1   121511         5 64  11663050116530412222 6 6      2222 80036363413101232 2 0224261125    000000000000000000000000000000000000002335.3333062553147 2615.4788108406574002.99031999162531781234\n",
      "        1649 1     6 1     11073 1064     9 039 9   0  2 913             1073 16133                        1                5                                                                        116910731169 9721073                111             2    1   1211           5391 110732566106424912222     2995 2222 76539391112 92112 3 21212872111985000000010110000000000000000000000000002418.1980786193676 3851.003789148867  4165.630798722331781234\n",
      "        1649 2     1   11502115001149  39 1 0 4 1                                                                                                                                                    11691073116910731150                5          1    2    1   12  11         5 44  11503208114932001211          2222 76539391112 92112 3 21212872111985000000000000000000000000000000000000002418.1980786193676 3851.003789148867  4165.630798722331781234\n",
      "        1649 3     5 1     11169 1160     9 039 9   0  1 9 7             1169  654011   4  25 1 4  5       1                5                                                                        1169107311691150116911691234        15  1       1   2    1   12  11         5391 211693366116032911211 4 42299502222 76539391112 92112 3 21212872111985000000000000000000000000000000000000002418.1980786193676 3851.003789148867  4165.630798722331781234\n",
      "        1658 1     6 1     11169 1160     04040 9   0  2 7 1             1169  632111   3  05 1 3  5       1                1  121 12  151 15                                                        1169116911691157116911691232        111             2    1   12  11         5401 111691783116017081211 3 322 6502222 955232311 9 52112 1 122 122211199900000000000000000000000000000000000000 6459.29621403956710007.57962612442311238.5119201377271801232\n",
      "        1668 2     5 1     11165 1156     04040 9   0  2 712             1165  662413   2  05 1 6  5       1                5                                                                        11911133119111331165                111             2    1   12  11         5401 211652100115620251211 2 64299502222 913262611 9 92222 3 3211087135    00000000000000000000000000000000000000 4870.723043047434 5687.050289299041 9565.0498815720571341231\n",
      "        1702 5     4   12202122001218  25 0 7 7 2                                       4  05 5                                                                                                      1191109012201191122012201234                   55         4 15 555  0 0  1  1 75  12203133121831164244 495      5555 84432324514102222 5 2223281115    000000010110000000000000000000000000001167.64851375936771342.01300040315192328.39255569946861771234\n",
      "        1707 3     6 1     11166 1157     9 039 9   0  1 6 9             1166  683113   2  05 1 4  5       1                1   41  4   41  4                                                        1166105911661112116611661234        111             2    1   12  11         5391 311663175115731001211 2 442 1702222 785373711 9 51112 3 311 6613211980000000000000000000000000000000000000003363.23108328181343671.14953871931043971.08245603267821811234\n",
      "        1724 1     6 1     11080 1071     9 039 9   0  2 7 6             1080 15634                        1                1  121 12  121 12                                                        11391080113910041080                111             2    1   1211           5391 110803191107131161211     2 52 2222 69744441117121232 3 2221282325    00000000200000000000000000000000000000 4601.917935741966 5295.084932820825 6460.0036180414062311236\n",
      "        1725 3     6 1     11172 1163     04040 9   0  2 712             1172  623211   4  05 1 4  5       51               1   51  5  241 24                                                        1172110211721110117211721234        111             2    1   1211           5401 211723133116330585165 4 42210402222 79636365212 92112 3 2213282211198600000000000000000000000000000000000000 1914.6188977250543520.0011085321066  3807.585199099182651234\n",
      "        1735 1     6 1     11151 1142     04040 9   0  2 810             1151  8730                        1                5                                                                        1151115111511054115111511238        115         1   3    1   1211           5401 111513116114230411215     2995 1212 77738381116122222 1 1225001235    000000000000000000000000000000000000005509.6676012302505 9063.59229448702516540.1495782093731161238\n",
      "        1751 1     6 1     11123 1114     9 140 9   0  2 6 3             1123 10818                        51               5                                                                        11681123116811111123                115         1   1  52 1  6 5511         5401 111231700111416255165     2995 3636 91926265612 91232 3 3311281415    000000000000000000000000000000000000001806.27558082097832027.47184035024222733.64028234423181711231\n",
      "        1751 2     6 1     11138 1129     9 039 9   0  2 613             1138  9321                        51               5                                                                        11681123116811231138                15  4 7     5         4  135511         5391 211381825112917505165     2995 5151 91926265612 91232 3 3311281415    000000000000000000000000000000000000001806.27558082097832027.47184035024222733.64028234423181711231\n",
      "        1751 3     6 1     11168 1159     9 039 9   0  2 613             1168  632113   8  05 1 6  5       51               1   11  1   11  1                                                        1168112311681138116811681231        5          55         2  5 5511         5391 311682075115920005165 6 642  405555 91926265612 91232 3 3311281415    000000000002000000000000000000000000001806.27558082097832027.47184035024222733.64028234423181711231\n",
      "        1894 4     3   116221162111612020 0 4 4 1                                                                                                                                                    11661109118111381162                5          51   4     2  6 5511         5 42  11622033116120255165          4646 91825251111 71232 6 232 321225    000000000000000000000000000000000000002474.2476798612533 2798.048902078417  3772.609334672331441228\n",
      "        1901 1     6 1     11085 1076     03939 9   0  1 612             1085 14930                        551    12191346 11   11  1   11  1                                                        11991085119910271085                5          51   1  22 4  5 5511         5391 110851700107616255165     2  4 3535 88129291113102222 4 2311641315    00000000000000000000000000000000000000 3409.963267114088 4214.569272890552  7088.484060074622731234\n",
      "        1901 2     1   11832118301179  49 4 017 4                                       2  4135                                                                                                      11991085119910851183                5          1    2    2   5 155          5174  11832516117924835165 295      2525 88129291113102222 4 2311641315    00000000000000000000000000000000000000 3409.963267114088 4214.569272890552  7088.484060074622731234\n",
      "        1901 3     1   11872118701186  49 0 3 3 1                                       1  3131 2                                                                                                    11991085119911831187                115         1   1  12 1  5 1111         5 34  11872550118625415165 1 2      3535 88129291113102222 4 2311641315    00000000000000000000000000000000000000 3409.963267114088 4214.569272890552  7088.484060074622731234\n",
      "        1901 4     6 1     11199 1190     04141 9   0  1 7 7             1199  354913   3  3131 4  11 28  01                5                                                                        1199108511991187119911991234                   1    2    1  91111   610     5411 211992650119025755165 3 44299512323 88129291113102222 4 2311641315    00000000000000000000000000000000000000 3409.963267114088 4214.569272890552  7088.484060074622731234\n",
      "        1910 1     5 1     11063 1054     999   9 5 0  299  1            1063 16824                        1                1   11  1   11  1                                                        11651063116510531063                5          1    2    1   1211           5381 110632283105422081211     2  4 2222 78936361112 92112 2 231 5173211993000000000000000000000000000000000000004308.3504202119275 4694.940860529072 5078.5175288342981811231\n",
      "        1910 2     6 1     11165 1156     8 338 9   0  2 6 4             1165  663413   2  05 1 2  5       1                1   41  4  181 18                                                        1165106311651063116511651231        15  4       1   3    1   13  11         5381 211653133115630581211 2 242 7801111 78936361112 92112 2 231 5173211993000000000000000000000000000000000000004308.3504202119275 4694.940860529072 5078.5175288342981811231\n",
      "        1986 4     6 1     11169 1160     03737 9   0  1 610             1169  6928112  5  05 1 8  5       1                1   13  0   62  1                                                        11991097119911361169                111             2    1   11  11         5371 311692933116028581211 5 832  602323 81735351115112222 5 4223517315    00000000000000000000000000000000000000 4168.677741201896 5913.60776845995110791.7428166625652521238\n",
      "        2000 1     1   10832108301080  32 3 013 3                                                                                                                                                    11631083116310721083                111             2    1   12  11         5134  10832200108021751211          2222 81934341112 92112 3 212 7822211989000000000000000000000000000000000000003300.94407274695373939.74050687045164999.92467726928952461238\n",
      "        2000 2     6 1     11099 1090     9 039 9   0  1 7 7             1099 13927                        1                1   11  1   11  1                                                        11631083116310831099                111             2    1   12  11         5391 110992333109022581211     2  4 2222 81934341112 92112 3 212 7822211989000000000000000000000000000000000000003300.94407274695373939.74050687045164999.92467726928952461238\n",
      "        2000 3     6 1     11163 1154     9 039 9   0  2 7 8             1163  7532                        1                1  101 10  101 10                                                        1163108311631099116311631238        111             2    1   12  11         5391 211632866115427911211     2 43 2222 81934341112 92112 3 212 7822211989000000000000000000000000000000000000003300.94407274695373939.74050687045164999.92467726928952461238\n",
      "        2017 2     6 1     11177 1168     03737 9   0  2 5 7             1177  552233   4  05 112  153     51               1   61  6  351 35                                                        11771160120211601177                15  711     1   1  12 4  5 5511         5371 111772283116822085165 4124115243535 90327271117122222 3 1311273425    00000000000000000000000000000000000000 4505.403773533741 5349.521751636187 8997.3606340769042231232\n",
      "        2019 1     5 1     11122 1113     9 039 9   0  1 8 2             1122 11530                        51               5                                                                        117611221176 9661122                111             2    1   12  11         5391 111223191111331161211     2995 2222 73941411113102222 2 242 997335    00000000000000000000000000000000000000 4505.564740015853 5020.419506348876 8366.5291073304022641237\n",
      "        2022 2     6 1     11175 1167     8 237 8   0  2 7 5             1175  563111  10  415112  11  6  01                5                                                                        1175109711751097117511751231        111             2    1   12  11         5371 21175293311672866121110122299512222 823333311 9 52112 2 2222567235    00000000000000000000000000000000000000  4870.911408426485205.3419743289605 6606.0994996208831641231\n",
      "        2051 1     4   11682116801167  38 0 6 6 1                                       3  05 5                                                                                                          116811681046116811681231        111             3    1   131111         5 65  11683433116734252221 395      1111 75639393417122222 1 0225001325    000000000000000000000000000000000000002493.57111511806033278.30861564269075982.58539268634651561231\n",
      "        2092 3     6 1     11167 1158     9 039 9   0  1 612             1167  683211   9  05 120  5       1                1   31  3  121 12                                                        1167110411671151116711671235        5          1    2    1   12  11         5391 311673225115831501211 92022 5202222 780373711 9 52112 3 3211567211199100000000000000000000000000000000000000 2080.360282400747 2539.4017545234252746.87087786798932771235\n",
      "        2157 2     6 1     11118 1108    10 04310   0  2 9 7             1118 11637                        51               5                                                                        1118 9791118 979111811181234        111             2    1   12  11         5431 111183200110831161211     2995 2222 734414111 9 52222 2 122 641125    000000000000000000000000000000000000001806.82703558591862736.4901535471254 4560.3608408862851571234\n",
      "        2190 2     6 1     11177 1168     9 039 9   0  2 712             1177  563013   3  05 1 4  5       1                1   22  0   22  0                                                        12161137121611371177                111             2    4   5 11           5391 211772583116825081211 3 442  202525 867303011 9 52112 3 332 5432211987000000000000000000000000000000000000002335.49352740431553629.1337516948906 4605.7336442759851801233\n",
      "        219510     3   11682116801166  25 0 8 8 2                                                                                                                                                    11921055120111631168                115         5         4  5 555          5 82  11682633116626165155          5555 85231315611 7123212 611 593325    00000000000000000000000000000000000000 1167.6778588840231245.28821928607391618.99921389382461751228\n",
      "        2222 3     2   12092120901202  30 7 030 7                                      16  413116                                                                                                    1159111912091159120912091234            3       5         2 7121111 0 01    1303  120925251202246622521616      5252 90627273414112222 3 2111001335    000000000000000000000000000000000000003613.0860900845364 4057.936521977151  6825.043436313372611234\n",
      "        2225 1     3   11632116301162  22 0 5 5 1                                                                                                                                                        116311631066116311631230        15  4       5         4  5 1511         5 52  11632241116222335165          5555 89428285614102222 1 0123701125    00000000000000000000000000000000000000 6815.431249536054 8018.84488412749213486.8952106140281601230\n",
      "        2263 1     6 1     11163 1154     9 039 9   0  1 8 9             1163  6931                        1                1   81  8   81  8                                                        12031163120310751163                15  3       1   3    1   13  11         5391 111632875115428001211     2 35 1111 81834341114112222 2 2223831315    00000000000000000000000000000000000000 5162.534414025574 7831.867097778017 13588.289414644862781232\n",
      "        2263 2     6 1     11203 1194     9 039 9   0  1 811             1203  2934112  3  05 1 3  11 10  91                1   81  8  121 12                                                        1203116312031163120312031232            3       1   2    1  912  111010     1391 212033208119431331211 3 332 5212222 81834341114112222 2 2223831315    00000000000000000000000000000000000000 5162.534414025574 7831.867097778017 13588.289414644862781232\n",
      "        2296 3     6 1     11169 1160     04040 9   0  110 2             1169  692711   6  05 1 8  5       1                1   41  4   81  8                                                        12221122122211461169                15 10       1   2    1   12  11         5401 311692791116027161211 6 822 3502222 83433331116102221 6 5222527315    00000000000000000000000000000000000000 5508.609872302506 7262.296226199792 12600.083952456642521238\n",
      "        2312 3     3   11662116601163  21 1 711 3                                                                                                                                                    12001119120011321166                15  3 7     1   1  22 2  111111         5112  11662233116322082222          3333 89828281111 92222 4 2224691315    00000000000000000000000000000000000000 20154.4627461239231422.241989569768 52849.068802257391371238\n",
      "        2396 3     6 1     11161 1152     03838 9   0  1 514             1161  7328                        1                1   41  4   91  9                                                        11831092118311221161                111             2    2   11  11         5381 311612625115225501211     2 39 2323 84632323414112222 4 4221561215    000000000000000000000000000000000000003409.5065576029883  4180.10748614748 7252.4864884658782371234\n",
      "        2396 4     5 1     11183 1174     04040 9   0  2 7 0             1183  5129112  6  05 1 6  5       1                1   41  4   91  9                                                        1183109211831161118311831234        5          51   1  12 2  11  11         5401 411832808117427331211 6 632 3903333 84632323414112222 4 4221561215    000000000000000000000000000000000000003409.5065576029883  4180.10748614748 7252.4864884658782371234\n",
      "        2412 3     6 1     11170 1161     03838 9   0  1 711             1170  642413   6  05 1 8  152     1                1   22  0   32  1                                                        11931115119311331170                15  4 7     1   2    2   5 5511         5381 311702383116123085165 6 842  332525 88429295613101232 5 411 301315    000000000000000000000000000000000000003613.54343178796443941.5801560318428 5314.4325243777341201234\n",
      "        2551 1     1   103321033110291726 4 017 4                                                                                                                                                    11601033116010191033                15  1       5         4  5 1511         5174  10331608102915755165          5555 84032325612 91232 3 2221641325    000000000000000000000000000000000000003613.20685639965133960.0865350133295  5148.508504170832421233\n",
      "        2551 2     6 1     11107 1098     04141 9   0  2 710             1107 12622                        1                1   81  8  111 11                                                        11601033116010331107                15  3       5         4  5 5511         5411 111072225109821505165     2 48 5555 84032325612 91232 3 2221641325    000000000000000000000000000000000000003613.20685639965133960.0865350133295  5148.508504170832421233\n",
      "        2551 3     6 1     11160 1152     03636 8   0  1 5 8             1160  7323                        1                1   21  2   31  3                                                        1160103311601107116011601233        5          51   1  32 2  1211           5361 211602666115226005155     2 13 3232 84032325612 91232 3 2221641325    000000000000000000000000000000000000003613.20685639965133960.0865350133295  5148.508504170832421233\n",
      "        2568 5     6 1     11175 1166     9 039 9   0  2 6 0             1175  573412   4  05 112  5       1                1   12  0   12  0                                                        1175104511751118117511751232        111             2    1   12  11         5391 411753233116631581211 41212  102222 78737371113102222 5 422 741235    00000000000000000000000000000000000000 4505.534543731616 4939.977379539507 9014.9647199216451661232\n",
      "        2604 1     5 1     11162 1153     9 039 9   0  1 912             1162  7022                        1                5                                                                        12231162122311081162                111             1  31 1  11  11         5391 111622108115320331211     2995 3333 90926261114112112 3 3211327335    00000000000000000000000000000000000000 3879.866401584089 7051.941636108275 7647.8307043594242141232\n",
      "        2604 2     5 1     11185 1176     03838 9   0  2 714             1185  4724112  4  05 1 6  11  6  61                1   41  4   41  4                                                        12231162122311621185                111             2    1   12  11         5381 211852300117622251211 4 632 1712222 90926261114112112 3 3211327335    00000000000000000000000000000000000000 3879.866401584089 7051.941636108275 7647.8307043594242141232\n",
      "        2604 3     5 1     11223 1215     8 035 8   0  2 7 0             1223   927112  2  05 1 6  5       1                11  23  01  31  3                                                        1223116212231185122312231232            3       1   2    1 1012  111010     1351 312232616121525501211 2 632 1302222 90926261114112112 3 3211327335    00000000000000000000000000000000000000 3879.866401584089 7051.941636108275 7647.8307043594242141232\n",
      "        2682 1     6 1     11170 1161     9 241 9   0  1 812             1170  6432112  3  05 112  153     1                1   31  3   41  4                                                        117011701170 990117011701234        111             2    1   1211           5411 111703183116131081255 31232 1742222 78837371117122222 1 1225002315    00000000000000000000000000000000000000 4774.758148995843 5268.375780616256 9614.2589620466042361234\n",
      "        2684 2     6 1     11164 1155     04141 9   0  2 7 9             1164  6930                        51               1   82  2  102  2                                                        11641133122611331164                111             2    1   121511         5411 111642475115524001211     2 10 2222 867303045 9 92222 3 1224891315    000000010110000000000000000000000000003409.5170549599543 4250.301910221504  7374.273814234312431233\n",
      "        2709 1     5 1     11167 1158     9 140 9   0  1 8 4             1167  693612   6  05 1 6  11 12  251               5                                                                        12031167120310541167                115         1   2    1   11  11         5401 111672641115825661211 6 61299512323 85032321117122222 2 2223838315    00000000000000000000000000000000000000 4774.418294975989 5897.37297007873410231.9421030866051221236\n",
      "        2709 2     5 1     11203 1194     9 039 9   0  1 910             1203  333911   4  05 1 5  11 12  651               5                                                                        1203116712031167120312031236         11             2    1 1012  11 810     1391 212032941119428661211 4 52299512222 85032321117122222 2 2223838315    00000000000000000000000000000000000000 4774.418294975989 5897.37297007873410231.9421030866051221236\n",
      "        2719 4     5 1     11193 1184     03939 9   0  2 815             1193  412911   6  05 1 8  11  8  751               1  102  2   31  3                                                        1193110111931165119311931234        115         5         4 21151   7 0  24 5391 311932900118428252252 6 822 1315353 84532323212 92112 4 3223961315    000000000000000000000000000000000000002668.2949141832883 2878.849756625587 3653.5482261335322101234\n",
      "        2730 4     6 1     11170 1161     9 039 9   0  2 6 7             1170  582413   4  05 1 4  151     1                1   13  0   13  0                                                        12211030122110981170                15  4       1   3    4   5 5511         5391 211702533116124585165 4 442  021515 86630305610 61232 5 332 127325    000000000000000000000000000000000000001806.7427843065511 2246.1181959169732920.17826651165661841228\n",
      "        2733 2     5 1     11194 1186     8 237 8   0  2 410             1194  344411  10  313116  5       51               5                                                                        1194112711941127119411941228        5          55         3106 11   0 0  2  5371 21194385011863783515510162199505656 73241415212 91232 2 221 141325    000000000000000000000000000000000000001807.05771545012451942.8155055193138 2370.2349167335632841228\n",
      "        2753 1     1   11682116801164  20 4 017 4                                       4  3121 5                                                                                                    12241168122411111168                115         5         2  5 1111         5174  11682033116420005155 4 5      5555 92425251112 92112 3 2222137325    0000000000000000000000000000000000000013699.06320293747218358.82439196409519910.1450530850631 21227\n",
      "        2806 1     3   11352113501133  32 0 7 7 2                                                                                                                                                    11781135118710861135                115         5         1  115511         5 72  11352275113322585165          5353 86230303414111232 3 1311641315    00000000000000000000000000000000000000 4624.074274496874 4992.901886009668 6491.2717420011692781232\n",
      "        2806 2     6 1     11178 1172     02424 6   0  2 1 5             1178  543613   4  05 1 4  5       51               1   21  2   51  5                                                        11781135118711351178                111             2    1   1211           5241 111782633117225835165 4 441 2202222 86230303414111232 3 1311641315    00000000000000000000000000000000000000 4624.074274496874 4992.901886009668 6491.2717420011692781232\n",
      "        2806 3     3   11872118701186  36 0 5 5 1                                                                                                                                                    1178113511871178118711871232        15  7       1   1  42 1  111111         5 52  11872708118627005165          3333 86230303414111232 3 1311641315    00000000000000000000000000000000000000 4624.074274496874 4992.901886009668 6491.2717420011692781232\n",
      "        2877 5     3   12262122601225  32 1 2 6 1                                                                                                                                                    1186107712261186122612261229                   55         3 15 1111 5 0  1  1 62  12263116122531085155          5555 85231315211 91232 5 3112161125    000000000000000000000000000000000000001821.02222113827662048.7587837780625 2663.5912947898591461229\n",
      "        2888 2     6 1     11176 1167     9 039 9   0  1 711             1176  582213   3  05 1 5  5       1                5                                                                        12211140122111401176                115         5         3  1411           5391 211762283116722085165 3 54299505454 90227271112 91232 3 331 381315    00000000000000000000000000000000000000 5592.3886444337546583.6311718771385 8876.7099090419471201234\n",
      "        2893 1     5 1     11140 1131     9 039 9   0  1 811             1140  9032                        1                1   51  5   91  9                                                        114011401140 966114011401230        111             2    1   12  11         5391 111403050113129751211     2 39 2222 77437371112 92222 1 1224002135    000000000000000000000000000000000000002580.97779083342042758.9749268681744 5034.8533440417311611230\n",
      "        2915 3     3   120421204112032938 1 0 4 1                                                                                                                                                    10861086999910861204                    1       1   1  81 11011  11 7 82    5 42  12043125120331161211          3333 82933331112 91232 4 1224001111199600000000000000000000000000000000000000 5318.710403875827 6618.049431595585  8604.126066017422411237\n",
      "        2941 2     5 1     11104 1095     03939 9   0  1 8 1             1104 12933                        1                1   72  2   72  2                                                        1104100111041001110411041233        111             2    1   12  11         5391 111043191109531161211     2  7 2222 72142423419122222 2 12250013111963000000000000000000000000000000000000001807.23963934364311937.35246486244553228.59788269326552351233\n",
      "        2975 3     6 1     11183 1174     04040 9   0  1 814             1183  513511   4  05 1 4  5       1                5                                                                        1183104111831165118311831234        5          1    2    1   12  11         5401 211833050117429751211 4 42299502222 81734341112 92222 3 2224697215    00000000000000000000000000000000000000  4871.67232318489 7397.61128587917212834.8555810003642491234\n",
      "        2982 5     6 1     11177 1168     9 039 9   0  2 613             1177  5648112  4  2111 4  11 10  651               1   12  0   12  0                                                        1177 94911771154117711771233        5          1    3    1   12  11         5391 211773783116837081211 4 432  111212 72342421116121232 5 2224911315    00000000000000000000000000000000000000 3614.408910518433 4253.015920409471 5188.6794228995541261233\n",
      "        3039 1     6 1     11169 1160     9 039 9   0  2 612             1169  683011   1  05 1 4  5       1                1   41  4  181 18                                                        12131169121311341169                115         1   1  52 1  12  11         5391 111692116116020411211 1 422 7803232 91526261112 93242 2 2311567311199600000000000000000000000000010000000010 5318.71040387582710439.14517105713817557.5982632010022411237\n",
      "        3039 2     6 1     11213 1204     9 039 9   0  2 6 6             1213  243211   1  05 1 3  5       1                5                                                                        1213116912131169121312131237                   51   1  52 1 55   11 5 5  5  5391 212132483120424081211 1 32299503535 91526261112 93242 2 2311567311199600000000000000000000000000010000000010 5318.71040387582710439.14517105713817557.5982632010022411237\n",
      "        3060 3     5621    11176 1167     9 039 9   00 2 510 2 6 0       1176  582413   4  05 120  11 12  61                1   42  1   42  11                1  42 1  42 1                          12131145121311611176                15  4       5         4  115511         5391 311762100116720255165 42042   15353 92425255612 91232 4 531 781325    00000000000000000000000000000000000000 3613.100749174027 4791.162343276428 6459.9241874396081371234\n",
      "        3075 1     6 1     11098 1091     03030 7   0  1 6 3             1098 13646                        1                1   31  3   31  3                                                        114310981143 9731098                111             2    1   12  11         5301 110983116109130581211     2 13 2222 72442421119132222 3 3223961215    000000000000000000000000000000000000003409.66230381483463659.1362699256733 6097.9505938311352211234\n",
      "        3084 1     6 1     11163 1154     03838 9   0  2 7 5             1163  7422                        1                5                                                                        11831163118311341163                15  3       1   1  22 1  1111           5381 111631966115418915155     2995 3333 92725255214101231 3 2122131315    00000000000000000000000000000000000000   1821.0923948679   2783.04174222453752.37518104129372 21237\n",
      "        3084 2     6 1     11183 1175     03636 8   0  1 612             1183  5424112  4  05 1 4  11 10  551               5                                                                        11831163118311631183                15  7       1   2    1   1211           5361 211832133117520665155 4 43299512222 92725255214101231 3 2122131315    00000000000000000000000000000000000000   1821.0923948679   2783.04174222453752.37518104129372 21237\n",
      "        3084 31213         3     1234                                                                                                                                                                1183116311831183            11831237           51   2    1 10111 1  3 0     5136          12342558   5          2323 92725255214101231 3 2122131315    00000000000000000000000000000000000000   1821.0923948679   2783.04174222453752.37518104129372 21237\n",
      "        3093 1     5 1     11169 1160     9 039 9   0  2 613             1169  683513   6  05 1 6  5       1                1   13  0   21  2                                                        12331169123399981169                5          1    2    1   12  11         5391 111692641116025661211 6 642  902222 852323211 9 52112 3 211 997231199400000000000000000000000000000000000000 4308.479923580549 6993.490629195223 8875.4389575116572161237\n",
      "        3093 2     1   12162121601213  38 3 013 3                                       5  05 5                                                                                                      12331169123311691216                           1    2    1 1012  111010     1134  12163033121330081211 595      2222 852323211 9 52112 3 211 997231199400000000000000000000000000000000000000 4308.479923580549 6993.490629195223 8875.4389575116572161237\n",
      "        3093 3     5 1     11233 1225     8 035 8   0  1 6 1             1233   44013   6  05 113  5       1                5                                                                        1233116912331216123312331237                   1    2    1 1012  111010     5351 212333175122531081211 6134299502222 852323211 9 52112 3 211 997231199400000000000000000000000000000000000000 4308.479923580549 6993.490629195223 8875.4389575116572161237\n",
      "        3116 1     3   12232122301220  23 01313 3                                                                                                                                                        122312231180122312231228                   51   1  52 2 7115511 0 0  2  1132  12231850122018255165          3333100118185612 91232 1 021 581325    00000000000000000000000000000000000000 4842.657014118876 5317.1034845021297078.65986891768351481228\n",
      "        3153 3     5 1     11168 1158     9 44310   0  2 8 0             1168  633211   4  05 1 6  151     1                1   41  4  301 30                                                        1168105611681086116811681231        15  3       1   1  12 2  1111           5431 311683483115834001212 4 62213023333 75040401112 92222 3 3223961115    00000000000000000000000000000000000000 4871.242564630268 6033.672502014768 10055.115224607611471231\n",
      "        3195 3     6 1     11203 1194     04040 9   0  2 711             1203  3335112  4  05 112  5       1                1   22  0   22  0                                                        1203111412031168120312031236                   1    2    1 1012  11 710     1401 212033508119434331211 41232  202222 78237371119152222 3 2224697415    000000000000000000000000000000000000004867.2439926712705 6360.41601465535211607.1231851445522461236\n",
      "        3251 5     6 21    11168 1160     03535 8   00 1 7 5 2 5 2       1168  692713  10  412110  5       551    1180 121111   11  11  11  1551    1180 121111  11 11 11 1                          12281120122811561168                5          55         2  1311           5351 311682275116022085155101042   05151 89528281111 92222 8 5111642325    0000000000000000000000000000000000000023513.885157204837 24919.69803822755 41912.440130494911281237\n",
      "        3259 1     6 1     11134 1125     9 039 9   0  1 6 9             1134 10016                        1                5                                                                        1134113411341124113411341234        5          55         1  1151           5391 111341783112517085155     2995 5353 92026265612 92222 1 1211001215    00000000000000000000000000000000000000 2418.7366745480862882.9633709807545 4848.8560936525311621234\n",
      "        3298 3     6 1     11223 1214     9 039 9   0  1 7 6             1223   83713   4  05 1 4  5       1                11  61  61  61  6                                                        1223115212231163122312231231                   1    3    1  813  11 6 7     1391 312233183121431081211 4 442 2601111 84132321112 93242 3 33110872111994000000000000000000000000000000000000003455.10032958383143680.3789423193266 6385.4574649240322511231\n",
      "        3300 3     6 1     11167 1158     8 338 9   0  1 5 9             1167  673213   3  4131 4  152     51               5                                                                        1167100011671063116711671234        111             4     1  6 5511         5381 211673250115831751211 3 44299534646 77738381112 92222 3 2412562115    00000001011000000000000000000000000000 4671.098990495009 8455.38176278006515430.2261788973411771234\n",
      "        3364 1     3   11622116201159  52 01212 3                                                                                                                                                    11841162119311641162                5          51   1  12 1  13555          5122  11622300115922755165          3131 88629295613101232 4 211 185125    00000000000000000000000000000000000000 3613.045422220687 4025.059190952801 5426.9873071616621391234\n",
      "        3364 2     6 1     11173 1164     9 039 9   0  2 513             1173  615311   4  05 1 4  11  1  11                1   41  4   51  5                                                        11841162119311621173                5          1    2    1   135511         5391 111732391116423165165 4 422 2212121 88629295613101232 4 211 185125    00000000000000000000000000000000000000 3613.045422220687 4025.059190952801 5426.9873071616621391234\n",
      "        3423 2     6 1     11176 1167     03737 9   0  1 713             1176  6130112  5  05 1 6  11  8  41                5                                                                        11881141118811411176                111             2    1   12  11         5371 211762433116723581211 5 63299512222 88429291116112222 3 3223241335    00000000000000000000000000000000000000 4624.273875552685 5361.608078604155 9017.6886274043281141237\n",
      "        3455 4     4   11602116001157  26 01212 3                                                                                                                                                    11661074116611331160                5          55         3  5   11         5125  11602566115725411211          5555 85231311112 92222 5 3212647325    00000000000000000000000000000000000000 6581.196188932581 7021.37385976607312182.0836466941381271234\n",
      "        3455 5     5 1     11166 1156     0424210   0  2 914             1166  682611   6  05 1 9  11 17  01                5                                                                        1166107411661160116611661234        15  9       5         3  5   11         5421 311662616115625331211 6 92299515555 85231311112 92222 5 3212647325    00000000000000000000000000000000000000 6581.196188932581 7021.37385976607312182.0836466941381271234\n",
      "        3463 4     6 1     11176 1167     9 039 9   0  1 7 5             1176  554811   4  05 1 5  11 12  851               1   12  0  121 12                                                        1176106811761131117611761231        111             2    1   12  11         5391 311763783116737081211 4 522 5212222 72242421118132222 4 3223961415    00000000000000000000000000000000000000 6814.394130128143 8019.93577051426713365.2229615620251 81231\n",
      "        3468 1     1   11682116801166  17 2 0 9 2                                       8  05 5                                                                                                      12331168123311671168                115         1   1 102 2  6 5512         5 54  11681533116615165165 595      3636 98421215613102222 2 132 568115    20000000000200000000000000000000000000 8339.010908313026 9322.22479923911713113.5736250896662631238\n",
      "        3468 2     6 1     11233 1224     9 241 9   0  2 9 0             1233   523113 17  05 117  153     1                11  33  01  22  0                                                        1233116812331168123312331238            7       1   1  42 1 81111   2 01    1411 112332075122420005155171742  243333 98421215613102222 2 132 568115    00000000000000000000000000000000000000 8339.010908313026 9322.22479923911713113.5736250896662631238\n",
      "        3610 3     6 1     11160 1151     03838 9   0  1 6 4             1160  7833                        1                1   42  1   42  1                                                        1160109011601138116011601238        15  3       1   1  22 1  11  11         5381 311602808115127331211     2  4 3333 82334341115101232 3 3223511125    00000000000000000000000000000000000000 4857.506971905699 7346.826871313441 9551.6096153946052571238\n",
      "        3623 1     6 1     11168 1159     03838 9   0  2 7 2             1168  6429112  6  05 1 9  11  5  51                1   52  1   52  1                                                        12221168122211431168                111             2    1   11  11         5381 111682441115923661211 6 932  512323 87529291115112222 3 3223962325    00000000000000000000000000000000000000 4956.651190653441 5337.514893000314 8977.1662985372281631232\n",
      "        3633 5     1   11712117101169  43 0 7 7 2                                       5  05 1 5                                                                                                    1138 94511711138117111711232        15  3       1   2    1   12  11         5 74  11713733116937161211 5 5      2222 72342421112 92222 5 222 781315    00000000000000000000000000000000000000 2418.2914229049542634.2049933077033 4389.9026213472881581232\n",
      "        3657 1     6 1     1 996  987     9 039 9   0  21312              996 23822                                                                                                                  1022 9961022 928 996                15  4       5         4  5 5511         5391 1 9961858 98717835165     2    5555 77338385610 61232 3 3311647335    00000000000000000000000000000000000000 6108.303803694589 7292.63268038723611161.3743173326662611234\n",
      "        3657 2     6 1     11008  999     9 039 9   0  1 7 6             1008 22626                        1                5                                                                        1022 9961022 9961008                15  4       1   1  31 3  1111           5391 210081958 99918835165     2995 3333 77338385610 61232 3 3311647335    00000000000000000000000000000000000000 6108.303803694589 7292.63268038723611161.3743173326662611234\n",
      "        3657 3     6 1     11022 1013     9 039 9   0  2 6 7             1022 21222                        1                5                                                                        1022 99610221008102210221234        5          55         4  5 5511         5391 310222075101320005165     2995 5555 77338385610 61232 3 3311647335    00000000000000000000000000000000000000 6108.303803694589 7292.63268038723611161.3743173326662611234\n",
      "        3691 3     5 1     11157 1148     9 039 9   0  1 812             1157  8031                        1                5                                                                        1157109811571134115711571237        111             2    1   12  11         5391 311573116114830411211     2995 2222 78337371119132222 3 3223243235    00000000000000000000000000000000000000 4870.800080774605   5646.348105809110304.0206582910271741237\n",
      "        3693 3     6 1     11163 1154     9 039 9   0  2 712             1163  7525                        51               5                                                                        12011102120111131163                19 99       1   2    1   12  11         5391 311632458115423831211     2995 2222 86830301111 92222 4 411 277235    00000000000000000000000000000000000000 4449.579059871524 5149.157068269202 8933.7875134470651171238\n",
      "        3704 3     6 1     11160 1151     9 039 9   0  1 6 2             1160  7328                        1                5                                                                        1160110411601140116011601233        111             2    1   1211           5391 311601966115118915155     2995 2222 92425255612 91232 3 311 502325    00000000000000000000000000000000000000 1167.642195783812 2216.916332100925 2989.0682905716772531233\n",
      "        3714 1     5 1     11066 1057     9 039 9   0  211 0             1066 17123                        1                1   31  3   31  3                                                        11481066114810551066                5          1    1  12 1  11  11         5391 110661966105718911211     2 13 3333 830333311 9 51112 2 212 847231198800000000000000000000000000000000000000 3363.370323960565 5412.357818612584  6868.823307601231161237\n",
      "        3714 2     5 1     11148 1139     9 039 9   0  1 9 0             1148  8932                        1                5                                                                        1148106611481066114811481237        111             2    1   12  11         5391 211482650113925751211     2995 2222 830333311 9 51112 2 212 847231198800000000000000000000000000000000000000 3363.370323960565 5412.357818612584  6868.823307601231161237\n",
      "        3772 2     5 1     11164 1155     04040 9   0  2 6 5             1164  7424                        1                1   51  5   51  5                                                        12321123123211231164                111             1  61 1  1111           5401 211642458115523831212     2 22 3333 86930303412 92222 5 411 661215    00000000000000000000000000000000000000 4169.311320462519 5818.42778942394610094.9722146505462431238\n",
      "        3808 2     1   11662116601164  23 1 3 7 2                                      99  411199 1                                                                                                  12091153120911531166                111             4     1  191111         5 74  11661650116416335165 610      4444 968212145 9 53241 9 1424008335    00000000000100000010100000000000000000 8726.63381385756510093.65875666354814198.7497729986132 11229\n",
      "        3862 3     6 1     11167 1158     9 039 9   0  2 615             1167  633111   1  05 1 1  11  1  41                1   12  0   11  1                                                        1167105611671105116711671230        115         5         4  5   11         5391 311673508115834331211 1 122  415555 746404011 9 52112 3 322 5772111990000000000000000000000000000000000010002080.01037339767533162.1913946532363 3993.8477314470372281230\n",
      "        3905 3     5 1     11162 1153     04141 9   0  110 2             1162  6935                        1                1   32  1   82  2                                                        1162108111621121116211621231        111             2    1   1211           5411 311623591115335164244     2  8 2222 73141414516122222 3 3224691325    000000010110000000000000000000000000003410.8277025570515 4026.872361269187   6710.78279005512521231\n",
      "        3956 3     6 1     11167 1158     9 241 9   0  1 7 9             1167  613511   6  05 1 6  5       1                1   61  6  361 36                                                        1167106011671123116711671228        111             2    1   12  11         5411 311672675115826001211 6 62215602222 84631311112 92112 3 3211567215    00000000000000000000000000000000000000 2751.5235690082362957.9777665223965 3753.9695834935732561228\n",
      "        3973 1     6 1     11165 1156     04040 9   0  1 712             1165  722511  11  05 111  5       1                1   51  5   61  6                                                        11831165123410011165                15  3       1   1  31 1  1151           5401 111653066115629911215111122 2603333 79736361118132222 4 2422567225    00000000000000000000000000000000000000  2580.782330111734085.1634084406896 7455.0147040634152571237\n",
      "        3973 2     6 1     11183 1174     03939 9   0  2 8 8             1183  542711   4  05 117  5       1                1   51  5   81  8                                                        11831165123411651183                5          1    1  61 1  12  11         5391 211833216117431411211 41722 3503232 79736361118132222 4 2422567225    00000000000000000000000000000000000000  2580.782330111734085.1634084406896 7455.0147040634152571237\n",
      "        3973 3     1   12222122201220  30 01010 2                                       2  05 111                                                                                                    11831165123411831222                 5 10       61  7     2 513  11 5 3     1104  12223541122035251211 211      2121 79736361118132222 4 2422567225    00000000000000000101000000000000000000  2580.782330111734085.1634084406896 7455.0147040634152571237\n",
      "        3973 4     1   12342123401232  31 01010 2                                       2  05 110                                                                                                    1183116512341222123412341237         5 10       1   1  61 1 712  11 5 612   1104  12343641123236251211 210      3232 79736361118132222 4 2422567225    00000000000000000000000000000000000000  2580.782330111734085.1634084406896 7455.0147040634152571237\n",
      "        4031 2     6 1     11175 1167     03636 8   0  1 9 5             1175  5726112  4  05 1 4  153     1                1   21  2  142  3                                                        12061150120611501175                111             2    1   12  11         5361 211752483116724161211 4 432 1442222 87729291112 92222 3 3212167325    00000000000000000000000000000000000000 4870.693838702568 5604.036562141388   9425.42909386562301232\n",
      "        4042 2     6 1     11176 1167     9 039 9   0  1 7 0             1176  5326112  4  05 1 6  5       1                1   41  4   41  4                                                        12191069121910691176                111             2    1   12  11         5391 211762983116729081211 4 632 1702222 81834341112 92222 3 322 977215    000000000000000000000000000000000010002735.15047268496263130.6764351522397 5431.7236149891361781229\n",
      "        4066 1     6 1     11172 1163     9 241 9   0  1 9 9             1172  652013   8  45 110  11 12  01                5                                                                        1172117211721106117211721237        115         1   1  32 4  5 5511         5411 111722233116321585165 8104299513535 90427275614112222 1 1122003315    000000000000000000000000000000000000001914.6848466638548 2099.219773531441 3530.6777371025311 21237\n",
      "        4079 1     6 1     11199 1190     9 241 9   0  2 6 8             1199  302013   8  05 1 8  5       51               1   31  3   31  3                                                        1199119911991183119911991229         5  4       5         1 55 51   0 01    1411 111991850119017755155 8 842 1305555 97721215212 92222 1 1311648215    000000000000000000000000000000000000001167.74870646951741253.09158067938141762.72392654168582451229\n",
      "        4154 6     3   116521165111632730 2 211 2                                                                                                                                                    11041038118911411165                5          55         4  5   11         5112  11652683116326661251          5555 84332323415113112 7 1322451221197800000000000000000000000000000000000000 1167.7980909612232122.55864708508622693.73917901568261441237\n",
      "        4156 2     6 1     11165 1156     9 039 9   0  2 7 4             1165  641911   8  35 1 8  5       551    1207 422 11   11  1   11  1                                                        12131123121311231165                111             2    1   12  11         5391 111651958115618831211 8 822  402222 93024243410 62222 3 211 991235    000000000000000000000000000000000000001806.48736077212222698.1592106682006 3795.5005616469581141229\n",
      "        4156 3     6 1     11213 1204     9 039 9   0  2 810             1213  162113   8  2111 8  5       551    1219  63  11  21  21  21  2                                                        1213112312131165121312131229            1       1   1  22 3 35 11   5 43    1391 212132358120422832222 8 842  903535 93024243410 62222 3 211 991235    000000000000000000000000000000000000001806.48736077212222698.1592106682006 3795.5005616469581141229\n",
      "        4168 3     5 1     11161 1154     03232 7   0  1 2 4             1161  7235                        551    1202 411915                                                                        11961129122311491161                5          51   1  22 4  1211           5321 311612058115420001211     1995 3232 91426264214113242 5 4311562315    00000001011000000000000000000000000000 4750.036825812655 5520.148384326409 9284.3375675985862431233\n",
      "        4168 4     6 1     11196 1189     03232 7   0  2 5 4             1196  372013  12  05 116  152     51               1   13  0   31  3                                                        11961129122311611196                           91   2    1 101111   7 7     5321 411962350118922911251121641 1332323 91426264214113242 5 4311562315    00000001001000000000000000000000000000 4750.036825812655 5520.148384326409 9284.3375675985862431233\n",
      "        4228 6     5 1     11162 1153     04040 9   0  1 615             1162  6926                        51               5                                                                        1162107111621123116211621231        5          55         2  6 5511         5401 411622183115321085165     2995 5656 900272756 9 51232 6 4311807325    000000000000000000000000000000000000001806.47714281805752118.92347749256672856.94452470322771381231\n",
      "        4231 1     3   10132101301012  23 1 2 6 1                                                                                                                                                    107710131163 9851013                115         5         4  5 1111         5 62  10131566101215585165          5555 82533335611 71232 7 331 999325    000000000000000000000000000000000000001167.6225006086815 2120.5853344593592756.97299333061261441230\n",
      "        4231 2     3   10182101801016  25 1 3 7 2                                                                                                                                                    10771013116310131018                115         5         4  5 5511         5 72  10181608101615915165          5555 82533335611 71232 7 331 999325    000000000000000000000000000000000000001167.6225006086815 2120.5853344593592756.97299333061261441230\n",
      "        4231 3     3   10222102201020  28 2 211 2                                                                                                                                                    10771013116310181022                5          55         4  5 5511         5112  10221641102016255155          5555 82533335611 71232 7 331 999325    000000000000000000000000000000000000001167.6225006086815 2120.5853344593592756.97299333061261441230\n",
      "        4231 4     6 21    11048 1040     7 333 8   00 1 5 6 1 6 0       1048 18234                        551    1105 572 55                551    1105 572 55                                      10771013116310221048                5          55         3  121511         5331 110481858104017915165     1    5252 82533335611 71232 7 331 999325    000000000000000000000000000000000000001167.6225006086815 2120.5853344593592756.97299333061261441230\n",
      "        4231 5     6 1     11077 1069     8 035 8   0  1 7 2             1077 15337                        551    1105 282 55                                                                        10771013116310481077                5          55         4  6 5511         5351 210772100106920335165     2995 5656 82533335611 71232 7 331 999325    000000000000000000000000000000000000001167.6225006086815 2120.5853344593592756.97299333061261441230\n",
      "        4231 6     3   11352113501132  33 2 312 3                                                                                                                                                    10771013116310771135                5          55         3  125511         5122  11352583113225585155          5252 82533335611 71232 7 331 999325    000000000000000000000000000000000000001167.6225006086815 2120.5853344593592756.97299333061261441230\n",
      "        4231 7     3   11632116301161  29 2 110 2                                                                                                                                                    1077101311631135116311631230        5          561  7     2  5 1111         5102  11632816116128005165          3535 82533335611 71232 7 331 999325    000000000000000001010000000000000000001167.6225006086815 2120.5853344593592756.97299333061261441230\n",
      "        4293 5     6 1     11178 1169     9 039 9   0  2 7 0             1178  552613   6  05 5    5       51               5                                                                        11781131123111701178                5          55         4  6 1511         5391 411782433116923585165 6954299505656 88628285610 62112 6 431 127211197400000000000000000000000000000000000000 2335.5324873316362718.1490931105163 2947.8326914783552621233\n",
      "        4365 3     6 1     11162 1153     9 039 9   0  2 8 0             1162  6741                        1                1   61  6  151 15                                                        12131120121311371162                111             2    1   12  11         5391 311622741115326661211     2 65 2222 83333331114112222 5 5221687215    00000000000000000000000000000000000000205.09632582035215215.98674660262378 374.73700535555232211229\n",
      "        4365 4     6 1     11186 1177     9 039 9   0  1 9 3             1186  434312   2  05 1 6  5       1                1   61  6  181 18                                                        12131120121311621186                111             2    1   12  11         5391 411862941117728661211 2 612 7802222 83333331114112222 5 5221687215    00000000000000000000000000000000000000205.09632582035215215.98674660262378 374.73700535555232211229\n",
      "        4400 2     5 1     11173 1164     9 039 9   0  2 6 3             1173  583113   8  05 1 8  152     51               5                                                                        1173111811731118117311731231        111             3    1   13  11         5391 211733483116434081211 8 84299531111 75539391114112222 2 2223831215    0000000000000000000000000000000000000011694.54514665997314450.512894803118 26370.740981726211 61231\n",
      "        4440 5     1   116521165111642342 1 0 4 1                                       3  5135                                                                                                      1133109711651133116511651230        15  8       5         4  121111         5 44  11652300116422913233 395      5252 88928282311 72222 5 2311001335    00000000000000000000000000000000000000 566.7930001409093 661.26675034629181112.18454740742821661230\n",
      "        4487 3     6 1     11171 1162     9 140 9   0  2 711             1171  6635112  2  05 112  11 13  31                1   31  3  121 12                                                        1171 99011711002117111711237        111             1  51 1  1111           5401 111713383116233081215 21232 5213333 765393911 9 92222 3 1223287315    00000000000000000000000000000000000000  4870.98923236057 5206.660798463122 9501.6352911153522311237\n",
      "        4514 3     6 1     11223 1214     9 039 9   0  2 7 3             1223   93013   4  05 5    5       1                11  41  45                                                               1223113612231169122312231232                   51   2    1 101211   010     5391 312232416121423415165 4954299402222 933242452 9 52112 3 3321957211999800000000000000000000000000000000001000 1914.723304420288 2249.9597499269722526.70479916798971351232\n",
      "        4555 2     1   11632116301161  38 0 7 7 2                                                                                                                                                    11431143120011431163                111             2    1   12  11         5 74  11633800116137831211          2222 70744441112 92222 4 1112302335    00000000000000000000000000000000001000 2580.755854725484  3072.74433912268 5120.7284411479461171237\n",
      "        4555 3     1   11682116801167  38 0 3 3 1                                       3  05 1 3                                                                                                    11431143120011631168                5          1    2    1   12  11         5 34  11683841116738331211 3 3      2222 70744441112 92222 4 1112302335    00000000000000000000000000000000001000 2580.755854725484  3072.74433912268 5120.7284411479461171237\n",
      "        4590 4     4   108721087110833532 4 017 4                                                                                                                                                    1060 99110871060108710871228        111             2    1   12  11         5175  10873150108331161211          2222 709434311 9 52112 4 3222161211197900000000000000000000000000000000000000 7812.675787956172 8762.52145567801611067.0645985213322651228\n",
      "        4646 2     6 1     11170 1161     04040 9   0  2 711             1170  6124121  5  05 1 5  11 14 121                1   41  4   41  4                                                        1170113711701137117011701231        111             2    1   12  11         5401 211702283116122081211 5 532 1712222 89627273412 92222 2 2221321125    00000000000000000000000000000000000000 3415.233244891315 4267.387756230096 7177.3194672033981101231\n",
      "        4689 1     6 1     11163 1154     9 039 9   0  1 6 8             1163  7024                        1                1   61  6  121 12                                                        1163116311639999116311631233                   55         1  12  11         5391 111632116115420411211     2 52 5252 909272711 9 51112 1 112 977228    00001010000000000000000000000000001000366.59726949502203 562.6560633189938 610.20050066944882111233\n",
      "        4829 3     1   111421114111123131 0 8 8 2                                                                                                                                                    1143 994114310141114                111             2    1   12  11         5 84  11143133111231161211          2222 73840403416122222 5 2225003315    00000000000000000000000000000000000000  3411.111667147583897.5615368748086 6495.2863012018691151228\n",
      "        4829 4     5 1     11121 1112     03838 9   0  2 7 5             1121 10732                        1                1  122  3  162  4                                                        1143 994114311141121                5          1    2    1   12  11         5381 111213191111231161211     2 16 2222 73840403416122222 5 2225003315    00000000000000000000000000000000000000  3411.111667147583897.5615368748086 6495.2863012018691151228\n",
      "        4837 2     6 1     11153 1144     04040 9   0  2 7 6             1153  7842                        51               5                                                                        1153110911531109115311531231        15  3       1   2    1   12  11         5401 211533191114431161211     2995 2222 77038381114112112 2 2221851225    000000000000000000000000000000000000003409.8847658631985 3914.614271306933  4234.438257272711651231\n",
      "        4884 2     6 1     11163 1154     04040 9   0  2 7 2             1163  7422                        1                5                                                                        1163113511631135116311631237        5          51   1  32 1  11  11         5401 211632025115419501211     2995 3333 92026263411 72222 2 2221561335    000000000000000000000000000000000000002418.29105937660462924.51698968732354918.74512495510951161237\n",
      "        4889 4     6 1     11185 1175     0424210   0  1 714             1185  453013   3  05 1 4  11 52  051               1   13  0   61  6                                                        1185109611851170118511851230        5          51   2    2   1211           5421 311853200117531165155 3 442 2612222 80135355212 93112 4 311 8453211989000000000000000000000000000000000000003411.5460001071688 4146.032912878332 4484.7638018604921281230\n",
      "        4913 1     6 1     11222 1213     8 338 9   0  2 7 0             1222  1223112  2  35 1 8  11  8  01                1   23  01  43  0                                                        1222122212221122122212221234                   1    2    1 105   11 5 7     1381 112222225121321501211 2 832  112525 95523231112 92222 1 1112007125    00000000000000000000000000000000000000 4343.117221800458 5136.725074307538 7225.8311620284151721234\n",
      "        4926 7     6 1     11121 1112     9 039 9   0  2 7 6             1121 10946                        1                1   12  0   12  0                                                        1121 97811211100112111211230        5          51   2    1   5 11           5391 411213116111230412222     2  1 2525 74740401110 62222 7 4222873315    00000000000000000000000000000000000000  4871.89360634022 7443.74893144399912405.0075942514252541230\n",
      "        4929 3     6 1     11160 1151     9 039 9   0  2 7 6             1160  6834                        1                5                                                                        1160 98111601032116011601228        111             2    1   1211           5391 311603083115130081211     2995 2222 79036361112 92222 3 3221591115    00000000000000000000000000000000001000 3455.0703961559593938.9042721052297 7188.1064061648331 21228\n",
      "        4960 1     1   11832118301181  18 2 0 9 2                                       3  05 1 6                                                                                                        118311831178118311831229        15  3       1   1 102 3  5 5511         5 94  11831783118117665165 3 6      3535 96921215215102222 1 0222382131198200000000000000000000000000000000001000 5317.120189309577 5804.842498838915 8165.6719431167022701229\n",
      "        4968 4     6 1     11161 1152     9 039 9   0  1 7 6             1161  7730                        551    1229 681515                                                                        1222 992122211121161                8          88         8  8 888          5391 311613233115231581215     2995 2323 77338383413102112 8 431 932215    00000001010000000111100000000000001000 2013.2126165966093822.9707363446564 4135.3074455040151821238\n",
      "        4984 1     3   11632116301160  19 3 013 3                                                                                                                                                    11931163119311051163                115         1   1  32 2  125511         5132  11631825116018005165          3232 94423231114101232 2 1114695315    000000000000000000000000000000000000001807.19002841697922029.3930955964006 3079.1981439484191 91232\n",
      "        4984 2     5 1     11193 1184     03838 9   0  2 5 6             1193  3927112 12  15 112  153     51               1   22  0   32  1                                                        1193116311931163119311931232        115         1   2    1  71351   5 5     5381 111932075118420001215121231  342121 94423231114101232 2 1114695315    000000000000000000000000000000000000001807.19002841697922029.3930955964006 3079.1981439484191 91232\n",
      "        5206 3     6 1     11168 1159     03838 9   0  1 813             1168  6428113  5  05 1 6  151     1                1   31  3   31  3                                                        1168103611681110116811681232        111             2    1   1211           5381 311683125115930502221 5 642 1322222 79336363412 92222 3 3211271335    00000000000000000000000000000000000000 3409.498279862978 3876.680913021889 7074.5549981736451591232\n",
      "        5295 3     6 1     11165 1156     9 039 9   0  1 6 0             1165  704111   1  05 1 8  5       51               1  181 18  181 18                                                        1165110711651133116511651235        115         1   2    2   12  11         5391 311653450115633751211 1 822 7802222 75140401115102222 3 3222167311198900000000000000000000000000000000000000 3410.470793324958 4437.590570038961 7395.2446849699292411235\n",
      "        5312 4     6 1     11170 1161     9 039 9   0  2 615             1170  582711   4  4131 6  11  6  61                5                                                                        1170110011701117117011701228        111             2    1   1211           5391 211703191116131162222 4 62299512222 78736363412 92222 4 2222371125    00000001011000000000000000000000000000 1167.6855792506481247.90222349899552277.29676766331662461228\n",
      "        5386 6     6 1     11160 1151     04040 9   0  2 6 3             1160  7527                        1                5                                                                        1160105611601134116011601235        15  4       1   2    1   125511         5401 311602608115125335165     2995 2222 84732325610 91232 6 331 991125    00000000000000000000000000000000000000 1805.9981518570751977.0497855291123 2570.3624261663991461235\n",
      "        5396 6     6 1     11206 1197     9 039 9   0  1 6 7             1206  263613   4  2121 4  5       1                5                                                                        1206103812061171120612061232                   55         4 1125511 0 0  2  1391 612063191119731165165 4 44299505252 82334345610 61232 6 631 581325    00000000000000000000000000000000000000 1167.6783708062231337.2229392289116 1738.5235432915081461232\n",
      "        5413 3     6 1     11203 1194     04141 9   0  1 8 9             1203  283111  10  05 110  153     1                1   31  3  142  3                                                        1203112812031179120312031231                   1    2    1 1012  11 8 7     1411 212033116119430411211101022 1442222 82933331114102222 3 2224697335    00000000000000000000000000000000000000 4870.877838379979 5694.897427173791 9880.6470361465271741231\n",
      "        5428 5     6 1     11162 1153     9 039 9   0  1 8 5             1162  7330                        1                1   81  8   81  8                                                        11621090123311531162                15  3       1   2    1   1111           5391 211622358115322831215     2 35 2323 87929293413101232 6 2222733225    000000010100000000000000000000000000001806.46991535712963278.61164509930274420.55208108738952541235\n",
      "        5428 6     3   12332123301232  28 0 4 4 1                                                                                                                                                    1162109012331162123312331235         15         5         4 15 5511 0 02    1 42  12332950123229412222          5555 87929293413101232 6 2222733225    000000010110000000000000000000000000001806.46991535712963278.61164509930274420.55208108738952541235\n",
      "        5495 3     5 1     11161 1152     9 140 9   0  1 7 2             1161  7637                        1                1   22  0   22  0                                                        1161107511611095116111611237        111             3    1   13  11         5401 311613108115230331211     2  2 1111 78837371112 92112 3 3121562225    000000000000000000000000000000000000003363.62564386486664029.0436529803983 4358.2165194288971751237\n",
      "        5506 3     3   11342113401133  17 0 5 5 1                                                                                                                                                    1204 8981204 9601134                115         5         4  111111         5 52  11343116113331081215          5353 760393911 9 52222 5 2121807215    00000000000000000000000000000000001000 3195.479319183059 3804.015486077069 6941.9478605420432431233\n",
      "        5507 3     6 1     11169 1159     0424210   0  2 9 7             1169  674513  16  05 116  5       1                1  142  3  121 12                                                        1169106611691093116911691236        111             2    1   12  11         5421 311692983115929001211161642 5202222 81135351112 92112 3 3221327325    000000000000000000000000000000000000002417.62812312256943035.09058151150983283.05748202100041181236\n",
      "        5509 1     6 1     11003  994     9 039 9   0  1 7 8             1003 23621                                                                                                                  116710031167 9931003                115         1   1  11 1  1111           5391 110031691 99416165155     2    3333 80036365612 93112 4 331 6472111976000000000000000000000000000000000000002013.1051413971363 5137.407024203326 5557.1331780807381651239\n",
      "        5509 2     1   10202102001019  22 1 2 6 1                                                                                                                                                    11671003116710031020                115         1   4     1  141111         5 64  10201833101918255155          4444 80036365612 93112 4 331 6472111976000000000000000000000000000000000000002013.1051413971363 5137.407024203326 5557.1331780807381651239\n",
      "        5509 3     6 1     11110 1101     9 039 9   0  2 7 8             1110 12930                        51               1   13  0   61  6                                                        11671003116710201110                15 10       1   2    1   125511         5391 211102583110125085155     2 26 2222 80036365612 93112 4 331 6472111976000000000000000000000000000000000000002013.1051413971363 5137.407024203326 5557.1331780807381651239\n",
      "        5509 4     6 1     11167 1158     9 241 9   0  1 8 0             1167  723513   5  05 1 6  5       1                5                                                                        1167100311671110116711671239        15  3 410   1   1  91 1  12555          5411 311673058115829835165 5 64299503232 80036365612 93112 4 331 6472111976000000000000000000000000000000000000002013.1051413971363 5137.407024203326 5557.1331780807381651239\n",
      "        5510 3     6 1     11172 1163     04040 9   0  2 810             1172  6633112  4  05 1 6  11 10 101                1   41  4   81  8                                                        12191075121910961172                111             2    1   1211           5401 211722633116325581211 4 632 3512222 85631311114112222 4 3223961235    00000000000000000000000000000000000000 5509.692068173283 6465.52818206183711217.6913958772882161238\n",
      "        5533 3     6 1     11164 1155     03838 9   0  2 713             1164  7040                        1                1   61  6  121 12                                                        1164101811641068116411641234        111             2    1   12  11         5381 311643741115536661211     2 52 2222 71543431114102222 3 3221801335    00000000000000000000000000000000000000 7226.72463028376911380.590941381324 18965.754803811981611234\n",
      "        5534 2     6 1     11190 1180     9 44310   0  1 713             1190  392311   5  05 112  11 10 101                1   61  6   61  6                                                        12041137120411371190                115         1   2    1 10121511 5 5     5431 111903116118030331212 51222 2612222 81634341114112222 3 2423121115    00000000000000000000000000000000000000 3454.3849909023743910.1319817247154 6784.0789882923822561229\n",
      "        5537 1     5 1     11173 1164     9 039 9   0  2 7 7             1173  612013   6  05 1 8  5       51               1   13  0   11  1                                                        11931173119311601173                111             2    1   1211           5391 111732125116420505155 6 842  402222 91826261112 92112 2 23218512111990000000000000000000000000000000000000003363.2569021124245 4166.734681837054 4518.8237624522852621234\n",
      "        5538 1     6 1     11163 1154     9 039 9   0  2 6 2             1163  6799                        51               5                                                                        1163116311631142116311631230        5          51   1  32 2  6 5511         5391 111631725115416505165     2995 3636 95622225212 91232 1 1311647225    000000000000000000000000000000000000001751.38917484425362034.13104604878643086.38703616982372441230\n",
      "        5597 1     1   11622116201159  38 3 013 3                                                                                                                                                    11711162117111231162                111             1  11 2  111111         5134  11622525115925005165          3333 85930305610 62112 2 12210012211992000000000000000000000000000000000000001167.60461019619721384.93746283133621757.62413407924871441229\n",
      "        5598 3     6 1     11162 1153     04040 9   0  2 913             1162  6725                        1                1   61  6   91  9                                                        11691100116911421162                5          51   1  22 1  1111           5401 311622300115322252222     2 39 3333 88628281112 92222 4 442 542325    00000001011000000000000000000000000000 4870.432118713142 5604.630729366683 9426.4284237218231501229\n",
      "        5660 3     6 1     11177 1168     9 140 9   0  1 6 9             1177  542612  10  05 110  6       51               1   12  0   12  0                                                        1177110211771141117711771231        115         1   1  22 1  1211           5401 211772683116826081211101012  103232 85531314515112222 3 231 187315    000000010110000000000000000000000000003409.70259067865533720.2657761287583 6454.6611215833962271231\n",
      "        5669 1     6 1     11161 1155     02727 6   0  1 4 3             1161  7429                        1                5                                                                        11741161118611291161                115         1   1  22 1  111511         5271 111612150115521005165     1995 3333 90327275613102222 4 2311641125    000000000000000000000000000000000000003409.90405592422673690.0765238540203 6206.3397054700761731235\n",
      "        5669 2     6 1     11174 1167     03232 7   0  1 6 2             1174  612513   6  05 1 8  5       1                5                                                                        11741161118611611174                5          55         2  6 5511         5321 211742258116722005165 6 84299505656 90327275613102222 4 2311641125    000000000000000000000000000000000000003409.90405592422673690.0765238540203 6206.3397054700761731235\n",
      "        5669 3     3   11802118001176  99 01616 4                                                                                                                                                    11741161118611741180                5          55         4  5 555          5162  11802308117622755165          5555 90327275613102222 4 2311641125    000000000000000000000000000000000000003409.90405592422673690.0765238540203 6206.3397054700761731235\n",
      "        5669 4     3   11862118601185  26 0 6 6 1                                                                                                                                                    1174116111861180118611861235        5          55         4  11555          5 62  11862358118523505165          5353 90327275613102222 4 2311641125    000000000000000000000000000000000000003409.90405592422673690.0765238540203 6206.3397054700761731235\n",
      "        5688 5     6 1     11183 1174     9 039 9   0  2 7 0             1183  492413  21  05 1992 5       1                1   61  6  121 12                                                        1183109911831160118311831232        5          1    2    1   13  11         5391 311832666117425911211181842 5202121 86330301115102112 5 341 301235    000000000002000000000000000000000000003551.41017568719053858.1457715539464 4896.3727986791132791232\n",
      "        5757 7     3   11702117001169  33 1 1 5 1                                                                                                                                                    1154 97111701154117011701235        5          55         4  5 5511         5 52  11703233116932253233          5555 78237371111 71232 7 512 997315    000000000000000000000000000000000000001806.2755808209783 2782.865746126478 4259.1760244465741711235\n",
      "        5800 1     5 1     11202 1193     03838 9   0  2 7 6             1202  2634112  2  35 1 3  153     51               1   21  2   31  3                                                        12231202122310371202                           1    1  11 1 112  11 5 8  3  1381 112023116119330411211 2 332 1343232 82833331117122222 2 2221857221196900000000000000000000000000000000000000 5809.829379209341 6224.17267325577210798.9395880987651571228\n",
      "        5824 6     5 1     11203 1194     9 039 9   0  2 6 2             1203  302813   1  05 1 3  5       51               5                                                                        1203108412031168120312031233            1       5         3 65 5511 4 52    1391 512032650119425755165 1 34299505555 88529295612 91232 6 511 461325    00000000000000000000000000000000000000 7225.901863320183  8362.6391901247111275.3464200451472201233\n",
      "        5832 6     6 1     11093 1084     9 039 9   0  2 7 6             1093 14233                        51               5                                                                        1093 91610931053109310931235        15 12       5         4  121511         5391 310933191108431165165     2995 5252 71043435612 91232 6 3121517325    000000000000000000000000000000000010001806.72025643055211970.3513922117352 2403.8286984983171111235\n",
      "        5879 1     6 1     11175 1166     03939 9   0  1 7 8             1175  5648212  6  05 1 8  11  8  01                5                                                                        11751175119710991175                15  4       5         4  125511         5391 111752375116623001211 6 83299515252 89028283416122221 3 1125002325    00000001011000000000000000000000000000 6939.311666914817 7418.75121479107912477.5976681571161631231\n",
      "        5879 2     1   11972119701193  42 01919 4                                       5  05 1 8                                                                                                    11751175119711751197                    4 3     5         3 3125111 2 212   1194  11972558119325251251 5 8      5252 89028283416122221 3 1125002325    00000001001000000000000000000000000000 6939.311666914817 7418.75121479107912477.5976681571161631231\n",
      "        5879 32015         3     1226                                                                                                                                                                1175117511971197            11971231    3       5         4 15 5 5  1 01    1226          12262800   2          5555 89028283416122221 3 1125002325    00000000001000000000000000000000000000 6939.311666914817 7418.75121479107912477.5976681571161631231\n",
      "        5890 1     3   11652116501164  23 0 6 6 1                                                                                                                                                        116511651146116511651231        5          51   1 102 4  115511         5 62  11651833116418255165          3333 94523231112 92222 1 0124001111199700000000000000000000000000000000000000  4376.23103041636 5075.369159262383 7139.5217963343942 91231\n",
      "        5936 2     3   11662116601164  25 0 8 8 2                                                                                                                                                    12051093120510931166                115         1   1  22 4  5 1111         5 82  11662908116428912252          3535 81734344516121232 4 2221561325    00000000000000000000000000000000000000 7656.215299467646 9199.20599213286611959.8877103719391391235\n",
      "        5956 3     1   11712117101169  32 01010 2                                       4  05 1 4                                                                                                    12261145122611491171                5          1    2    1   121111         5104  11712683116926661211 4 4      2222 84932321115102222 4 1222731315    00000000000000000000000000000000000000 4774.418294975989 5562.294170723711  9650.580386205641221236\n",
      "        5973 5     5 21    11168 1160     8 035 8   00 1 5 8 1 5 9       1168  603913   3  05 1 4  5       51               5                1                5                                      11681005116811131168                5          1    3    4   111511         5351 511683341116032755155 3 442   01313 76738385611 71232 6 641 967325    00000000000000000000000000000002000000 2557.783730485613 4102.486012693327 6278.8548424271382351228\n",
      "        5992 4     6 1     11171 1162     9 039 9   0  2 9 5             1171  622913   1  05 1 1  5       1                5                                                                        1171107811711111117111711233        111             2    1   1211           5391 311712633116225585155 1 14299502222 85531315613101232 4 341 591325    00000000000000000000000000000000000000 1167.740472538607 1459.5658887648861897.58161198322842651233\n",
      "        6029 1     3   103321033110311516 01010 2                                                                                                                                                    11621033116210271033                5          51   1  72 3  5 5511         5102  10331416103114005165          3535 86330301116121232 6 3212641315    000000000000000000000000000000000000003613.7740898179013 4216.425438375656  5481.774712432192781231\n",
      "        6029 2     6 1     11085 1076     04040 9   0  2 6 6             1085 14624                        1                5                                                                        11621033116210331085                15  4 3     1   1  72 3  5 5511         5401 110851850107617755165     2995 3535 86330301116121232 6 3212641315    000000000000000000000000000000000000003613.7740898179013 4216.425438375656  5481.774712432192781231\n",
      "        6029 3     3   111121111111092123 01010 2                                                                                                                                                    11621033116210851111                15  4 3     1   1  72 3  6 5511         5102  11112066110920505165          3636 86330301116121232 6 3212641315    000000000000000000000000000000000000003613.7740898179013 4216.425438375656  5481.774712432192781231\n",
      "        6029 4     6 1     11128 1119     04040 9   0  1 6 8             1128 10322                        1                5                                                                        11621033116211111128                111             2    1   125511         5401 211282208111921335165     2995 2222 86330301116121232 6 3212641315    000000000000000000000000000000000000003613.7740898179013 4216.425438375656  5481.774712432192781231\n",
      "        6029 5     1   11512115101148  27 01212 3                                                                                                                                                    11621033116211281151                15  4 3     1   2    1   121111         5124  11512400114823751211          2222 86330301116121232 6 3212641315    000000000000000000000000000000000000003613.7740898179013 4216.425438375656  5481.774712432192781231\n",
      "        6029 6     6 1     11162 1153     04040 9   0  2 7 6             1162  6928                        1                5                                                                        1162103311621151116211621231        5          51   2    1   12  11         5401 311622491115324161211     2995 2222 86330301116121232 6 3212641315    000000000000000000000000000000000000003613.7740898179013 4216.425438375656  5481.774712432192781231\n",
      "        6047 6     1   116521165111632741 0 8 8 2                                       8  2125                                                                                                      11851022118511581165                5          55         4  5   11         5 84  11652683116326661211 895      5555 84332321111 71232 8 631 267325    000000000000000000000000000000000110001914.5475621932333 2310.8131715715493004.28820436017082461230\n",
      "        6052 1     1   11642116401161  20 01313 3                                                                                                                                                    12211164122111131164                115         1   1  12 2  125511         5134  11641958116119335165          3232 92925251112 92222 3 2123835215    00000000000000000000000000000000000000 3888.659926320721  4234.04443297617  7121.239331822622531229\n",
      "        6140 1     6 1     11169 1160     04040 9   0  1 814             1169  623111   4  05 1 6  11  6  31                1   31  3   51  5                                                        1169116911691022116911691231        111             3    4   1311           5401 111692733116026581211 4 622 2211111 84132321116122222 1 1225007335    00000000000000000000000000000000000000 2418.1914688788422773.9289681588866 4812.7667597556681791231\n",
      "        6194 6     5 1     11173 1164     9 039 9   0  2 5 7             1173  563413   6  3131 6  5       51               5                                                                        1173 99111731162117311731229        5          1    2    1   1211           5391 311733483116434084254 6 64199502222 75539394513101232 6 331 563325    000000010010000000000000000000000000001806.74278430655111927.94356795245842950.71763075123731841229\n",
      "        6248 3     5 1     11179 1170     04040 9   0  2 7 3             1179  5434112  2  05 1 6  5       1                1   62  1   31  3                                                        1179111211791152117911791233        111             2    1   12  11         5401 311793191117031161211 2 632 1302222 79636361116122222 3 3223967315    00000000000000000000000000000000000000 4505.565693338122 5013.268393214921  9148.713490777912201233\n",
      "        629710     6 1     11165 1156     04141 9   0  1 813             1165  693813   4  05 1 4  5       1                1   31  3  121 12                                                        11921016119211531165                5          1    2    1   12  11         5411 511653108115630331211 4 442 5202222 7923636111410123211 621 591325    000000000000000000000000000000000000003641.7745906103264 5199.313539556177 7957.5493722907291251234\n",
      "        6331 3     6 1     11163 1154     9 039 9   0  2 811             1163  6937                        1                1   11  1   31  3                                                        1163101511631093116311631232        5          1    3    1   13  11         5391 211632916115428411211     2 13 1111 81334343412 92222 3 2225001215    00000000000000000000000000000000000000 3408.686886730644 4243.275339479715 7362.0827139973052801232\n",
      "        6386 3     6 1     11165 1157     8 237 8   0  2 7 8             1165  733711   2  05 1 6  5       1                1   21  2   21  2                                                        1165112511651142116511651238        111             2    2   12  11         5371 311653333115732661211 2 622  902222 76539391113102112 3 322 847225    000000000000000000000000000000000000003300.4770159892387 3524.9911369568533812.98291284622842351238\n",
      "        6438 2     6 1     11166 1160     6 026 6   0  1 3 1             1166  674811   6  35 1 7  5       51               1   81  8  241 24                                                        11751093117510931166                5          1    2    1   1211           5261 211662666116026165155 6 72110402222 84632325612 91232 3 3313281325    000000000000000000000000000000000000003613.06733497054764215.6008214950725 5480.7026280257441781233\n",
      "        6486 1     5 1     11164 1155     9 039 9   0  2 712             1164  7130                        1                1   82  2   51  5                                                        12181164121810131164                111             2    1   12  11         5391 111642741115526661211     2 22 2222 83533331112 92222 3 3221567315    00000000000000000000000000000000000000 1905.1441819213342026.28359258933233515.60203314249161311235\n",
      "        6486 3     5 1     11218 1209     9 039 9   0  1 8 6             1218  1734112  5  05 112  5       1                1   62  11  62  1                                                        1218116412181193121812181235                   1    1  12 1 712  11 3 3  2  1391 312183191120931161211 51232  603232 83533331112 92222 3 3221567315    00000000000000000000000000000000000000 1905.1441819213342026.28359258933233515.60203314249161311235\n",
      "        6511 3     6 1     11215 1206     9 039 9   0  2 7 8             1215  193411   6  05 1 8  151     1                1   52  11  21  2                                                        1215115812151181121512151234         5  310     5         2 85   11 2 22    1391 312153116120630411211 6 822  925555 84132321114113242 3 32121633211991000000000000000000000000000000000000002735.6395365524613 3330.735850927213 5778.8267013587152691234\n",
      "        6547 3     6 35    11165 1156     9 039 9   0  1 6 2 2 6 8 2 7 2 1165  663011  12  05 112  5       1                5                1                5            51               5        1165102211651022116511651231        115         5         4  181511         5391 31165289111562816516512122299505454 81834345212 91232 3 8314697325    000000000000000000101000000000000000005114.3570059763815 5564.426964434283 7234.3114964610112391231\n",
      "        6552 1     6 1     11169 1161     03636 8   0  2 6 0             1169  593712   8  05 112  153     51               1   12  0   12  0                                                        11691169116911511169                15  4 7     1   2    1   1211           5361 111692333116122661211 81212  142222 88928281114101231 2 1122735315    000000000000000000000000000000000000002735.15088796547932966.91550587078344000.29217656557742781228\n",
      "        6561 4     6 1     11169 1160     9 039 9   0  1 712             1169  692511   4  05 1 8  5       1                5                                                                        1169107811691128116911691238        5          1    2    1   125511         5391 311692458116023835165 4 82299502222 87430305612 91232 4 3321807315    000000000000000000000000000000000000002013.3401231969551 3822.5807677267384969.73725612153251451238\n",
      "        6716 3     4   11612116101159  29 0 8 8 2                                                                                                                                                    11331116118111331161                5          55         4  5 555          5 85  11612333115923165165          5555 88129291111 72112 4 231 365225    00000000000000000000000000000000000000 3668.8098321009523994.7620684184835 4332.3194631998462551233\n",
      "        6740 2     3   11672116701163  31 01616 4                                                                                                                                                    12011136120111361167                111             2    1   12  11         5162  11673133116331001211          2222 79137371115112222 3 2223832315    000000000000000000000000000000000000004874.4580565346605 7864.74323423496314352.3699281553841151236\n",
      "        6750 1     6 1     11174 1165     9 039 9   0  1 9 1             1174  6430121  4  05 1 6  11  8  21                1   62  1   62  1                                                        12331174123310451174                111             2    1   12  11         5391 111742533116524581211 4 632  612222 87030301114102222 2 2223832325    00000000000000000000000000000000000000 8398.58916078259814817.576296530211 25708.494874479922151238\n",
      "        6787 5     6 1     11163 1155     03535 8   0  211 2             1163  7233                        1                5                                                                        1163104211631148116311631235                   88         8  8 888          5351 511632608115525415165     2995 2525 85032325612 91232 5 5311917335    000000000000000001111000000000000000003957.4992792779112 4213.766866865985 5478.3183036124671611235\n",
      "        6799 1     6 1     11165 1156     03838 9   0  1 712             1165  6724112  8  05 1 8  11  2  0551    1194 291111   32  1   51  5                                                        11831165120011261165                15  3       1   1  22 1  1111           5381 111652083115620081215 8 832 2213333 91526263413103242 4 2111281325    00000001010000000000000000000000000000 3613.095506956235 4442.658859336793 7472.1079355185521371232\n",
      "        6799 2     6 1     11183 1174     03737 9   0  1 712             1183  4926112  5  05 1 5  5       551    1194 1111119                                                                       11831165120011651183                5          51   2    1   121511         5371 211832233117421582222 5 532 4302222 91526263413103242 4 2111281325    00000001011000010000000000000000000000 3613.095506956235 4442.658859336793 7472.1079355185521371232\n",
      "        6799 3     1   11972119701196  23 0 3 3 1                                       3  05 5                                                                                                      11831165120011831197                    6       1   4     110121111 810     1 34  11972350119623412252 395      4242 91526263413103242 4 2111281325    00000001001000000000000000000000000000 3613.095506956235 4442.658859336793 7472.1079355185521371232\n",
      "        6799 4     1   12002120001198  24 0 7 7 2                                       3  05 5                                                                                                      1183116512001197120012001232            6       1   3    1  7131119 9 8     1 74  12002375119823582252 395      1111 91526263413103242 4 2111281325    00000001001000000000000000000000000000 3613.095506956235 4442.658859336793 7472.1079355185521371232\n",
      "        6806 6     5 1     11143 1134     9 039 9   0  1 9 3             1143  9133                        1                5                                                                        1143 99511431106114311431234        15  8       5         4  5 11           5391 411433191113431161211     2995 5555 76039393415122112 6 4211271315    00000001011000000000000000000000000000 2418.2095081304212942.5231173604298 3182.9272560487772621234\n",
      "        6808 4     3   11072110701105  31 2 0 9 2                                                                                                                                                    1100 94011071100110711071233        15  4 710   5         3  115511         5 92  11073116110531005165          5353 73341415617102222 4 132 361215    00000000000000000000000000000000000000 3614.4089105184335677.4040818926205 9461.3939024740521261233\n",
      "        6815 1     3   11032110301101  21 0 7 7 2                                                                                                                                                    11651103116510741103                15  4       1   1  52 2  5 5511         5 72  11031925110119085165          3535 87229291116122222 4 2224691335    00000000000000000000000000000000000000 4870.970940590895 7400.67508492126312447.1954253290712321229\n",
      "        6815 2     6 1     11125 1116     04141 9   0  1 712             1125 10428                        1                5                                                                        11651103116511031125                15  4       1   1  42 2  6 5511         5411 111252108111620335165     2995 3636 87229291116122222 4 2224691335    00000000000000000000000000000000000000 4870.970940590895 7400.67508492126312447.1954253290712321229\n",
      "        6815 3     1   11512115101150  30 0 4 4 1                                                                                                                                                    11651103116511251151                111             2    1   121111         5 44  11512325115023161211          2222 87229291116122222 4 2224691335    00000000000000000000000000000000000000 4870.970940590895 7400.67508492126312447.1954253290712321229\n",
      "        6815 4     6 1     11165 1156     04040 9   0  1 8 8             1165  6432112  4  05 1 5  151     1                1   62  1   72  2                                                        1165110311651151116511651229        111             2    1   12  11         5401 211652441115623661211 4 532  722222 87229291116122222 4 2224691335    00000000000000000000000000000000000000 4870.970940590895 7400.67508492126312447.1954253290712321229\n",
      "        6828 1     5 1     11164 1155     9 039 9   0  1 6 7             1164  7140                        51               5                                                                        116411641164 943116411641235        111             2    1   121511         5391 111643716115536415165     2995 2222 71843435612 91232 1 142 452315    000000000000000000000000000000000000001167.57304155390351421.59262633086021734.34300412364932691235\n",
      "        6837 4     6 1     11162 1152     9 34210   0  1 8 1             1162  7329                        5551164      2   5                                                                        12081103120811291162                5          55         4  5 11           5421 311622408115223254241     2995 5555 873303045 9 52222 6 411 541115    00000001011000000000000000000000000000 5159.54503911968313167.06334934433722844.8549111124272 31235\n",
      "        6877 3     5 1     11123 1114     9 039 9   0  2 813             1123 10933                        51               5                                                                        1123 96311231110112311231232        5          1    1  22 1  11  11         5391 211233191111431161211     2995 3333 74040401112 92222 3 212 827315    000000000000000000000000000000000000002721.6345456019053  2944.64994157282 4907.2591276311051311232\n",
      "        6896 3     3   11712117101168  20 3 013 3                                                                                                                                                    12281151122811561171                5          55         4  135511         5132  11711983116819585165          5151 93324243412 92112 7 441 549325    000000000000000000000000000000000000002335.6581688831056 4224.758608222523 4744.4039170338941 71232\n",
      "        6910 1     1   116221162111613132 0 6 6 1                                                                                                                                                    119311621193 9911162                111             2    1   12  11         5 64  11623108116131001211          2222 78936361116122222 3 2223837215    00000000000000000000000000000000000000 4870.6341171054265193.5878882586985 9477.7785372832991211230\n",
      "        6910 2     6 1     11169 1161     8 136 8   0  1 6 5             1169  613311   4  05 1 6  11 10  71                1  112  3   71  7                                                        11931162119311621169                5          1    2    1   12  11         5361 111693166116131001211 4 622 3012222 78936361116122222 3 2223837215    00000000000000000000000000000000000000 4870.6341171054265193.5878882586985 9477.7785372832991211230\n",
      "        6910 3     6 1     11193 1186     7 131 7   0  1 5 4             1193  373511   6  05 1 6  11 12  61                1   81  8   81  8                                                        1193116211931169119311931230        111             2    1 1012  111010     5311 211933366118633081211 6 621 3512222 78936361116122222 3 2223837215    00000000000000000000000000000000000000 4870.6341171054265193.5878882586985 9477.7785372832991211230\n",
      "        6944 2     6 1     11171 1162     9 140 9   0  2 7 8             1171  583311   2  05 116  5       1                1   11  1   11  1                                                        1171114211711142117111711229        111             2    1   12  11         5401 211712983116229081211 21622  402222 81334341112 92222 2 22225672111989000000000000000000000000000000000000004870.9093186384935 5528.793885814177 9592.4573918875981241229\n",
      "        6972 5     6 1     11168 1159     04040 9   0  1 8 0             1168  673211   5  15 110  5       1                1   61  6  191 19                                                        1168108611681137116811681235        5          1    2    2   12  11         5401 311683475115934001211 51022 8202222 75140401116122222 5 3222642215    00000000000000000000000000000000000000 4506.808929835215 5431.595911818355 9051.7545870452891491235\n",
      "        7008 6     6 1     11169 1159     0424210   0  1 9 8             1169  683133   7  05 1 9  5       51               1   41  4  161 16                                                        1169103011691143116911691237        111             2    1   5 11           5421 511692858115927755155 7 942 6902525 82634345212 92112 6 511 517335    00000000000000000000000000000000000000 3363.3917429854223729.5462052956195  4733.167089140671 11237\n",
      "        7011 2     6 1     11189 1180     9 039 9   0  1 8 8             1189  443911   4  05 1 8  11  6  01                1   22  0   22  0                                                        11891105122411051189                111             2    1 1012  111010     5391 111893116118030411211 4 822  212222 81534341116122111 4 1224911225    00000000000000000000000000000000000000 3363.3552879041533782.0745489480646 4799.8308100699892831233\n",
      "        7032 3     5 1     11162 1153     9 039 9   0  2 810             1162  7524                        51               5                                                                        1162 9441162 995116211621237        111             2    1   12  11         5391 311623808115337331211     2995 2222 70544441112 92222 3 3224691235    0000000000000000000000000000000000000010594.03356127416216506.36615994318727507.8592055453232701237\n",
      "        7055 2     1   11652116501163  24 0 9 9 2                                       6  05 1 7                                                                                                    11991153119911531165                15  8       1   2    1   11  11         5 94  11652241116322251211 6 7      2323 89627271118122221 5 3412647325    00000000000000000000000000000000000000 3744.237272498134 4182.605938904065 7034.7249286427461301231\n",
      "        7080 1     3   10232102301021  19 2 0 9 2                                                                                                                                                    11371023113710221023                5          51   1  42 1  125511         5 52  10231408102113915165          3232 85431315612 91232 5 322 991325    20000000000000000000000000000000000000 1167.678370806223 1257.4929828031161634.86662694233131461232\n",
      "        7080 2     5 1     11063 1056     7 030 7   0  1 2 3             1063 16924                        1                5                                                                        11371023113710231063                111             1  61 2  115511         5301 110631741105616835165     1995 3333 85431315612 91232 5 322 991325    00000000000000000000000000000000000000 1167.678370806223 1257.4929828031161634.86662694233131461232\n",
      "        7080 3     3   10772107701074  23 3 013 3                                                                                                                                                    11371023113710631077                5          1    1  31 1  135511         5132  10771858107418335165          3131 85431315612 91232 5 322 991325    00000000000000000000000000000000000000 1167.678370806223 1257.4929828031161634.86662694233131461232\n",
      "        7080 4     5 1     11105 1096     9 039 9   0  1 6 7             1105 12723                        1                5                                                                        11371023113710771105                111             3    1   135511         5391 211052091109620165165     2995 1111 85431315612 91232 5 322 991325    00000000000000000000000000000000000000 1167.678370806223 1257.4929828031161634.86662694233131461232\n",
      "        7080 5     5 1     11137 1128     9 039 9   0  1 7 6             1137  9525                        1                1   71  7   81  8                                                        1137102311371105113711371232        111             3    4   5 11           5391 311372358112822835155     2 35 1515 85431315612 91232 5 322 991325    00000000000000000000000000000000000000 1167.678370806223 1257.4929828031161634.86662694233131461232\n",
      "        7109 3     6 1     11162 1153     9 039 9   0  1 9 7             1162  6724                        1                1   71  7  241 24                                                        1162111611621133116211621229        5          1    3    1   125511         5391 311622950115328751211     2104 1212 808353545 9 52112 3 312 5072212001000000010110000000000000000000000000001914.50221130110733021.21210123143063268.04512990203882331229\n",
      "        7111 1     1   10032100301000  17 3 013 3                                                                                                                                                    11641003116410021003                5          51   2    1   121111         5134  10031458100014331215          2222 82833333413101232 4 2221221315    00000001010000000000000000000000000000 1167.6618872227911321.37036410833821717.91361037725052 21235\n",
      "        7111 2     1   10552105501050  26 5 022 5                                                                                                                                                    11641003116410031055                115         1   3    1   131111         5224  10551891105018501211          1111 82833333413101232 4 2221221315    00000001011000000000000000000000000000 1167.6618872227911321.37036410833821717.91361037725052 21235\n",
      "        7111 3     5 1     11139 1132     03232 7   0  1 712             1139  9625                        1                1   91  9   91  9                                                        11641003116410551139                5          51   1  22 4  5 5511         5321 111392591113225331211     2 39 3535 82833333413101232 4 2221221315    00000001011000000000000000000000000000 1167.6618872227911321.37036410833821717.91361037725052 21235\n",
      "        7111 4     5 1     11164 1160     4 219 4   0  2 1 7             1164  7127                        5551164      0                                                                            1164100311641139116411641235        5          51   1  42 1  11555          5191 211642800116027661211     1    3333 82833333413101232 4 2221221315    00000001011000000000000000000000000000 1167.6618872227911321.37036410833821717.91361037725052 21235\n",
      "        7117 1     6 1     11167 1157     9 34210   0  2 6 5             1167  682811   3  05 1 8  11 10 1051               1   41  4  151 15                                                        12331167123310451167                111             3    1   5   11         5421 111672733115726501211 3 822 6511515 83933331119152222 3 3223964215    00000000000000000000000000000000000000  4870.43314570217  9347.3042216758216217.5728246075492721235\n",
      "        7117 2     6 1     11214 1205     9 140 9   0  2 6 2             1214  213211   4  05 1 8  11 12 121                1   41  41 121 12                                                        12331167123311671214                           1    4     1105   11 810     1401 212143125120530501211 4 822 5214545 83933331119152222 3 3223964215    00000000000000000000000000000000000000  4870.43314570217  9347.3042216758216217.5728246075492721235\n",
      "        7117 3     6 1     11233 1224     9 140 9   0  2 6 4             1233   23411   3  05 1 8  11 12 121                15                                                                       1233116712331214123312331235         5 10       5         3 45   11 2 12    1401 312333283122432081211 3 82299415555 83933331119152222 3 3223964215    00000000000000000000000000000000000000  4870.43314570217  9347.3042216758216217.5728246075492721235\n",
      "        7138 2     6 1     11178 1168    10 04310   0  2 712             1178  592513   6  05 1 6  5       1                1   13  0   11  1                                                        12131130121311301178                111             2    2   1211           5431 111782133116820505165 6 642  402222 922262642 9 52112 3 231 362215    00000000000000000000000000000000000000  1328.649393322111611.18389934136671747.32893883571231651237\n",
      "        7153 3     5 1     11166 1157     03838 9   0  2 612             1166  622911   1  2121 2  11  8  851               1   31  3   31  3                                                        1166 96011661091116611661228        15  718     1   1  12 1  12  11         5381 311663600115735251211 1 222 1313232 73441411114101232 3 3222161325    000000000000000000000000000000000000002613.33395024917852939.05654715459973585.64898752861151441228\n",
      "        7199 1     6 1     1 977  968     9 039 9   0  2 5 7              977 25732                                                                                                                  1079 9771079 968 977                115         1   3    2   1211           5391 1 9771875 96818005165     1    1212 75240405611 91232 2 221 841325    00000000000000000000000000000000000000 7655.527033290375 9525.95453137887311621.6645282822252311234\n",
      "        7199 2     6 1     11079 1070     9 039 9   0  11015             1079 15538                        1                5                                                                        1079 9771079 977107910791234        111             2    1   5 555          5391 210792725107026505165     2995 2525 75240405611 91232 2 221 841325    00000000000000000000000000000000000000 7655.527033290375 9525.95453137887311621.6645282822252311234\n",
      "        7222 5     6 1     11161 1152     04040 9   0  2 815             1161  7327                        51               1   32  1   32  1                                                        12251064122511471161                15  3       1   1  22 1  11  11         5401 311612391115223161211     2  3 3333 87430303412 92222 7 4221324115    00000000000000000000000000000000000000 1915.029194569004 2126.3146430522523689.15590569565761651234\n",
      "        7263 2     6 51    11128 1119     9 039 9   0002 6 5 1 6 7 2 6 9 1128  9930                        1                5                51               5            1                5        12051108120511081128                115         61  7     4  12555          5391 211283116111930415165     2    2222 75439395612 92112 52211 3873211980000000000000000001010000000000000000003503.3942728836687 4226.696372507011 4572.0174661408341441227\n",
      "        7263 3     6 35    11160 1151     9 039 9   0  2 6 9 1 6 7 2 6 9 1160  6744                        1                5                51               5            1                5        12051108120511281160                5          51   2    4   5 5511         5391 311603383115133085165     2995 2525 75439395612 92112 52211 3873211980000000000000000000000000000000000000003503.3942728836687 4226.696372507011 4572.0174661408341441227\n",
      "        7263 4     6 41    11174 1165     9 039 9   0002 6 5 1 6 7 2 6 9 1174  533813   8  313116  5       1                5                51               5            1                5        12051108120511601174                15  1       1   2    4   5 11           5391 411743500116534255155 81642   02525 75439395612 92112 52211 3873211980000000000000000000000000000000000000003503.3942728836687 4226.696372507011 4572.0174661408341441227\n",
      "        7275 1     6 1     11164 1154     0424210   0  1 6 3             1164  7139                        1                1   41  4   61  6                                                        12271164122710931164                           51   2    1   12  11         5421 111643883115438001211     2 26 2222 69844441118132222 4 2224692315    000000000000000000000000000000000000003409.1335542524607  4134.465818893716890.08728718636852251235\n",
      "        7283 3     6 1     11169 1160     9 241 9   0  1 810             1169  683211   4  05 1 4  5       1                5                                                                        1169104611691071116911691237        111             2    1   12  11         5411 311692875116028001211 4 42299502222 82434341111 73112 3 32221672111985000000000000000000000000000000000000003363.9900875898666 4498.561284988495 5709.1241267788981621237\n",
      "        7306 4     6 1     11085 1076     9 039 9   0  2 9 0             1085 14937                        1                1   11  1   11  1                                                        11711022117110661085                115         5         4  5   11         5391 410853116107630411211     2  4 5555 71143433414102112 5 521 741211199600000000000000000000000000000000000000 7977.819492421233 8554.46102320599310804.2842723091692631234\n",
      "        7306 5     5 1     11171 1162     9 039 9   0  1 9 0             1171  6345112  4  05 1 6  5       1                1   11  1   11  1                                                        1171102211711085117111711234        15  3       5         4  5   11         5391 511713833116237581211 4 632  405555 71143433414102112 5 521 741211199600000000000000000000000000000000000000 7977.819492421233 8554.46102320599310804.2842723091692631234\n",
      "        7331 1     6 1     11031 1022     03838 9   0  1 9 7             1031 19823                        551    12131822 15                                                                        103110311118 9401031                111             2    1   1211           5381 110312475102224005165     2995 2222 73441415614101232 3 121 991325    000000000000000000000000000000000000001167.63065436149281482.89153116835751809.12766802539612281229\n",
      "        7331 2     1   11042110401099  30 5 022 5                                                                                                                                                    10311031111810311104                111             2    1   121111         5224  11043083109930415155          2222 73441415614101232 3 121 991325    000000000000000000000000000000000000001167.63065436149281482.89153116835751809.12766802539612281229\n",
      "        7331 3     1   11182111801113  32 5 022 5                                                                                                                                                    1031103111181104111811181229        5          1    2    1   121111         5224  11183200111331585155          2222 73441415614101232 3 121 991325    000000000000000000000000000000000000001167.63065436149281482.89153116835751809.12766802539612281229\n",
      "        7367 1     5 1     11031 1022     9 039 9   0  1 8 8             1031 20816                        51               1   41  4  111 11                                                        11601031116010191031                15  1       1   4     1  1211           5391 110311641102215665155     2 48 4242 834333311 9 53112 3 3121562321198800000000000000000000000000000000000000 5901.07417356207115059.43196218879219111.9251032137951651239\n",
      "        7367 3     5 1     11160 1151     9 039 9   0  1 9 6             1160  7927                        1                1   31  3   81  8                                                        1160103111601065116011601239        111             2    1   1211           5391 311602716115126415165     2 35 2222 834333311 9 53112 3 3121562321198800000000000000000000000000000000000000 5901.07417356207115059.43196218879219111.9251032137951651239\n",
      "        7392 3     6 1     11168 1159     9 039 9   0  2 799             1168  642713  991 05 128  5       1                1  121 12  121 12                                                        11861126118611561168                15  72121   65        4  5 11           5391 311683183115931085165102842 5205555 78637371117113242 4 4122165325    00000000000000000000000000000000000000  9132.2205268084911144.96353777400520338.4439600837831311232\n",
      "        7406 2     4   11642116401162  23 2 0 9 2                                                                                                                                                        1161117311611164                15  7       5         4  5 5511         5 95  11641925116219085165          5555 93325255214101232 5 0222451325    00000000000000000000000000000000000000 4857.298007220526 5855.390213818607 7894.8226252916272541238\n",
      "        7406 3     3   11672116701165  23 2 0 9 2                                                                                                                                                        1161117311641167                15  7       5         4  5 5511         5 92  11671950116519335165          5555 93325255214101232 5 0222451325    00000000000000000000000000000000000000 4857.298007220526 5855.390213818607 7894.8226252916272541238\n",
      "        7406 4     3   11702117001168  23 2 0 9 2                                                                                                                                                        1161117311671170                15  7       5         4  5 5511         5 92  11701975116819585165          5555 93325255214101232 5 0222451325    00000000000000000000000000000000000000 4857.298007220526 5855.390213818607 7894.8226252916272541238\n",
      "        7511 1     6 1     11212 1202     9 34210   0  2 6 9             1212  262313  16  05 116  5       51               5                                                                        1212121212121202121212121238                   55 1       4 65 555  0 03    1421 112121658120215755165161642995055551013181852 9 92112 1 141 1871112000000000000000000000000000000000000000003824.8997686545586 5785.985740393743 6758.6099433539311651238\n",
      "        7540 1     1   12142121401213  26 0 3 3 1                                       1  05 5                                                                                                      12231214122311641214                    7       1   1  81 1 811  12 5 51    1 34  12142550121325411211 195      3333 90826261114102222 2 12232851112000000000000000000000000000000000000000003613.1120646162026   3848.1527777267 6472.2081568585371 21228\n",
      "        7619 3     3   11612116101160  33 0 6 6 1                                                                                                                                                        110011611103116111611234        15  4       5         4  5 1111         5 62  11612183116021755155          5555 89927275212 92112 3 01228992111982000000000000000000000000000000000000003364.4525506464743 3829.974656174957 4153.6075146217411391234\n",
      "        7620 3     5 1     11164 1157     7 030 7   0  2 2 9             1164  7324                        51               1   13  0   61  6                                                        11641123118711521164                15  4 7     5         4  5 5511         5301 311642083115720255165     1 26 5555 91426265610 91232 4 311 142115    00000000000000000000000000000000000000 3613.302651631172 4220.684811750998 5690.7493316838712221237\n",
      "        7643 5     5 1     11164 1155     04040 9   0  1 611             1164  6439                        51               1   23  0   23  0                                                        1164 98111641120116411641228        15  4       5         4  5 11           5401 311643475115534001215     2  0 5555 74740401113101232 5 3123963325    000000000000000000000000000000000000002905.2489127770123 3264.869000796438 3983.1401809716541441228\n",
      "        7668 2     6 1     11140 1131     03737 9   0  2 4 3             1140  9519                        1                1   61  6   81  8                                                        12141110121411101140                15  3       1   1  12 1  5 5511         5371 111401708113116335165     1 35 3535 93524245610 91232 4 331 505115    00000000000000000000000000000000000000 1167.6618872227911319.67339552800292002.34044303463882 21235\n",
      "        7672 1     1   11802118001179  18 0 6 6 1                                       4  4135                                                                                                      12231180122311611180                15  4       5         3  5 1112         5 64  11801825117918165155 495      5555 96122221111 92222 3 2222161135    000000000000000000000000000000000000003896.5785562071824 4739.3364978632136666.82465154418151741232\n",
      "        7678 3     3   12152121501214  32 0 6 6 1                                                                                                                                                    1128105112151128121512151229                   55         3 15 5511 5 5  4  1 62  12153125121431165165          5555 84032325613101232 3 231 821325    00000000000000000000000000000000000000   1806.60551051682025.96096381827062633.95184906013362151229\n",
      "        7703 3     1   11662116601164  20 0 7 7 2                                       7  2125                                                                                                      1164113811661164116611661235        111             2    1   121112         5 74  11661983116419665155 795      2222 92825255610 61232 3 131 567325    00000000000000000000000000000000000000 1167.798090961223 1377.8198796672291857.71454375532521441235\n",
      "        7741 3     3   11662116601163  28 01212 3                                                                                                                                                    12271107122711431166                15  4 7 8   5         4  111111         5122  11662750116327255155          5353 83633335212 91231 5 3221327315    00000000000000000000000000000000000000 3268.555674298226 3753.556726455725 4879.9991000650881441233\n",
      "        7752 1     5 1     1 983  974     9 039 9   0  1 713              983 25416                                                                                                                  1168 9831168 969 983                5          55         4  5 11           5391 1 9831850 97417755155     2    5555 76139394210 62112 5 312 462225    000000000000000000000000000000000000003829.0462761123536 4108.445640842205 4444.1056496990131651237\n",
      "        7752 2     3   105421054110522740 2 0 9 2                                                                                                                                                    1168 9831168 9831054                5          55         4  5 1111         5 92  10542441105224251251          5555 76139394210 62112 5 312 462225    000000010010000000000000000000000000003829.0462761123536 4108.445640842205 4444.1056496990131651237\n",
      "        7752 3     5 1     11066 1057     9 039 9   0  1 613             1066 17134                        51               5                                                                        1168 983116810541066                5          55         3  5 11           5391 210662541105724661251     2995 5555 76139394210 62112 5 312 462225    000000010010000000000000000000000000003829.0462761123536 4108.445640842205 4444.1056496990131651237\n",
      "        7752 4     3   112621126111253043 1 2 6 1                                                                                                                                                    1168 983116810661126                15  3       5         4  5 515          5 62  11263041112530331251          5555 76139394210 62112 5 312 462225    000000010010000000000000000000000000003829.0462761123536 4108.445640842205 4444.1056496990131651237\n",
      "        7752 5     5 1     11168 1159     9 039 9   0  2 612             1168  693513  12  413112  5       1                5                                                                        1168 98311681126116811681237        115         5         4  1211           5391 31168339111593316125112124299505252 76139394210 62112 5 312 462225    000000010010000000000000000000000000003829.0462761123536 4108.445640842205 4444.1056496990131651237\n",
      "        7817 1     3   11672116701165  39 0 8 8 2                                                                                                                                                        1167116710431167                115         1   1 102 2  5 555          5 82  11672541116525255155          3535 86230301118152221 2 0124891335    00000000000000000000000000000000000000 4870.970940590895  5527.47883153441 9590.1757727122022321228\n",
      "        7835 3     1   11682116801167  38 0 4 4 1                                       4  05 5                                                                                                      12001107120011461168                111             2    1   14  11         5 44  11683533116735251211 495      2424 74440401116122222 4 3223962315    00000000000000000000000000000000000000 4504.318135919659 4903.406667753023 8171.5272118104132131233\n",
      "        7867 1     1    9432 9431 9412020 0 8 8 2                                                                                                                                                    1169 9431169 925 943                15  4       1   1 102 4  115512         5 84   9431966 94119505165          3333 70744443412 92222 5 3221521315    000000000000000000000000000000000110003410.9090011091594  4394.46235057747 7323.3715072373531 61237\n",
      "        7867 2     3    9852 9851 9832430 01010 2                                                                                                                                                    1169 9431169 943 985                115         1   1  52 1  5 5511         5102   9852316 98323005155          3535 70744443412 92222 5 3221521315    000000000000000000000000000000000110003410.9090011091594  4394.46235057747 7323.3715072373531 61237\n",
      "        7867 3     6 1     11069 1060     9 039 9   0  2 8 2             1069 16827                        1                1   32  1   32  1                                                        1169 9431169 9851069                111             2    1   11  11         5391 110693016106029411211     2  3 2323 70744443412 92222 5 3221521315    000000000000000000000000000000000110003410.9090011091594  4394.46235057747 7323.3715072373531 61237\n",
      "        7867 4     6 1     11116 1107     9 039 9   0  2 7 3             1116 12130                        51               1   32  1   32  1                                                        1169 943116910691116                111             2    3   12  11         5391 211163408110733331211     2  3 2222 70744443412 92222 5 3221521315    000000000000000000000000000000000110003410.9090011091594  4394.46235057747 7323.3715072373531 61237\n",
      "        7867 5     6 1     11169 1160     9 039 9   0  2 810             1169  683511   6  05 112  11 12  651               1   32  1   32  1                                                        1169 94311691116116911691237        111             2    3   12  11         5391 311693850116037751211 61222  312222 70744443412 92222 5 3221521315    000000000000000000000000000000000110003410.9090011091594  4394.46235057747 7323.3715072373531 61237\n",
      "        7869 2     6 1     11162 1154     7 636 8   0  1 6 8             1162  7436                        1                1   11  1   11  1                                                        11621063120210631162                111             2    1   12  11         5361 111622375115423081211     2  4 2222 87729293412 92112 3 14228912111997000000000000000000000000000000000000002418.3489925054937 3150.502863230995 3416.7203551740141391236\n",
      "        7885 1     1   103321033110311734 2 0 9 2                                                                                                                                                    11281033112810111033                111             2    1   12  11         5 94  10331683103116661211          2222 831333311 9 52222 6 431 543335    00000000000000000000000000000000000000 3409.549178694968 5236.242731659765 9084.8811394296942591238\n",
      "        7904 3     1   116521165111653332 0 2 2 0                                       2  05 199 9                                                                                                  12361051123611531165                5          1    2    2   125511         5 24  11653025116530255165 2 2      2222 80236365612 91232 4 1221191325    00000000000010000000000000000000011000 2012.846616078121 5136.747272378878 7861.7917003758722331238\n",
      "        7963 2     6 1     11170 1161     04040 9   0  2 7 3             1170  633611   3  05 1 4  11 32 121                1   41  4  121 12                                                        1170114711701147117011701233        111             2    1   12  11         5401 211703183116131081211 3 422 5212222 78837371116122222 2 2224697215    00000000000000000000000000000000000000 4870.685438222537 5735.12251702347710466.0250813161422511233\n",
      "        7984 6     5 21    11169 1162     7 030 7   00 2 314 2 3 1       1169  682711   9  05 1 9  11 20  41                1   61  6  121 121                1  61 6 12112                          1169107811691145116911691237        111             2    1   12  11         5301 311692775116227161211 9 921   12222 83633334213102112 6 4221591235    00000000000000000000000000000000000000 4308.477026138351 4684.116065025525 5944.6116981238941 11237\n",
      "        8012 1     1   116221162111592733 3 215 3                                                                                                                                                    12261162122610631162                15  4 7     1   1  42 4  121111         5154  11622750115927255155          3232 83233331113102222 5 2223127135    00000000000000000000000000000000000000 4870.730991129464 9347.87584471974216218.5645905887521701234\n",
      "        8018 1     5 1     11003  994     9 039 9   0  1 813             1003 22943                                                                                                                  116710031167 9321003                5          51   1  22 3  125511         5391 110032291 99422165165     2    3232 72842425212 91232 6 4222871315    00000000000000000000000000000000000000 6110.0234294097866599.4459284149425  8051.324032666231 91232\n",
      "        8018 2     1   10192101901018  44 0 6 6 1                                                                                                                                                    11671003116710031019                5          51   1  32 2  111111         5 64  10192425101824165155          3333 72842425212 91232 6 4222871315    00000000000000000000000000000000000000 6110.0234294097866599.4459284149425  8051.324032666231 91232\n",
      "        8018 3     5 1     11048 1039     9 039 9   0  2 7 7             1048 18446                        1                5                                                                        11671003116710191048                5          1    2    1   1211           5391 210482666103925915155     2995 2222 72842425212 91232 6 4222871315    00000000000000000000000000000000000000 6110.0234294097866599.4459284149425  8051.324032666231 91232\n",
      "        8018 4     3   10732107301071  48 0 8 8 2                                                                                                                                                    11671003116710481073                5          51   1  42 1  5 1111         5 82  10732875107128585155          3535 72842425212 91232 6 4222871315    00000000000000000000000000000000000000 6110.0234294097866599.4459284149425  8051.324032666231 91232\n",
      "        8018 5     5 1     11098 1090     8 035 8   0  2 7 5             1098 13450                        1                5                                                                        11671003116710731098                5          1    2    1   5 11           5351 310983083109030165155     2995 2525 72842425212 91232 6 4222871315    00000000000000000000000000000000000000 6110.0234294097866599.4459284149425  8051.324032666231 91232\n",
      "        8018 6     5 1     11167 1158     9 039 9   0  1 6 0             1167  655711   4  45 112  11  8  81                5                                                                        1167100311671098116711671232        115         5         4  5 11           5391 411673658115835835155 4122299515555 72842425212 91232 6 4222871315    00000000000000000000000000000000000000 6110.0234294097866599.4459284149425  8051.324032666231 91232\n",
      "        8033 1     3   11922119201190  28 2 211 2                                                                                                                                                    12231192122311851192                    1       1   1  11 210125511 0 02    1112  11921791119017755165          3232 97720205611 91232 3 1311647325    000000000000000000000000000000000000001807.05771545012451938.85207010327352941.82024596769722841228\n",
      "        8033 2     3   12072120701205  27 2 0 9 2                                                                                                                                                    12231192122311921207                    1       1   1  11 2 5115511 0 42    1 92  12071916120519005165          3333 97720205611 91232 3 1311647325    000000000000000000000000000000000000001807.05771545012451938.85207010327352941.82024596769722841228\n",
      "        8033 3     6 1     11223 1214     9 241 9   0  1 7 6             1223   52913  12  05 124  5       51               5                                                                        1223119212231207122312231228         5  1       1   2    2 10125511 0 0     1411 11223205012141975516512244299502222 97720205611 91232 3 1311647325    000000000000000000000000000000000000001807.05771545012451938.85207010327352941.82024596769722841228\n",
      "        8054 1     6 1     11163 1156     7 030 7   0  2 2 0             1163  6817                        551    1219 562 15                                                                        11631163120111561163                115         1   1 102 3  6 5511         5301 111631425115613665165     1995 3636 99219195612 91231 3 11237313212001000000000000000000000000000000000010003504.9409260634957 4328.488761177859 5762.5170877560831281231\n",
      "        8054 2     3   12012120101200  20 1 0 4 1                                                                                                                                                    11631163120111631201                    1       1   1 102 2 16 155  0 02    1 42  12011741120017335165          3636 99219195612 91231 3 11237313212001000000000000000000000000000000000010003504.9409260634957 4328.488761177859 5762.5170877560831281231\n",
      "        8054 3 323         3     1228                                                                                                                                                                1163116312011201            12011231    1       1   1 102 3 1115 1  0 02    1136          12281966   5          3333 99219195612 91231 3 11237313212001000000000000000000000000000000000010003504.9409260634957 4328.488761177859 5762.5170877560831281231\n",
      "        8063 1     1   11432114301141  31 0 8 8 2                                                                                                                                                        1143116810621143                111             2    1   12  11         5 84  11433033114130161211          2222 77937371114112222 2 0225001135    00000000000000000000000000000000000000 4870.7845409928115574.620325280523510173.1246316044272591232\n",
      "        8063 2     4   11682116801166  33 0 9 9 2                                       2  05 1 3                                                                                                        114311681143116811681232        5          1    2    1   12  11         5 95  11683241116632251211 2 3      2222 77937371114112222 2 0225001135    00000000000000000000000000000000000000 4870.7845409928115574.620325280523510173.1246316044272591232\n",
      "        8081 1     1   11672116701164  19 01212 3                                       6  05 1 6                                                                                                    11901167119011221167                15  4       1   1  22 1  12  11         5124  11671983116419581211 6 6      3232 92925251110 62112 3 212 78111119820000000000000000000000000000000000000021524.47699448996725524.02031270043527680.8000291236241551238\n",
      "        8103 1     6 1     11168 1159     04040 9   0  2 713             1168  632313   2  05 5    153     1                1   12  0   12  0                                                        12131168121311441168                115         5         4  115511         5401 111681841115917665165 29542  145353 94723235613101232 2 2214001325    000000000000000000000000000000000000003612.9753220249804 4000.838194662099 6070.4717927608032221231\n",
      "        8103 2     6 1     11213 1204     04141 9   0  2 7 1             1213  182312   4  05 5    11 16  21                1   12  01  12  0                                                        1213116812131168121312131231                   51   1  22 2 7115511 0 1  2  1411 212132216120421415165 49512  113333 94723235613101232 2 2214001325    000000000000000000000000000000000000003612.9753220249804 4000.838194662099 6070.4717927608032221231\n",
      "        8117 3     6 1     11167 1158     9 039 9   0  1 613             1167  643511   1  05 1 6  11  6  051               1   81  8  121 12                                                        1167 990116710231167                15  7       1   2    1   12  11         5391 311673391115833161211 1 622 5212222 76039391116121231 4 32219173211989000000000000000000000000000000000000006192.4112846003445 7074.66998029241310827.7824048375392 81231\n",
      "        8178 2     5 1     11161 1152     9 039 9   0  2 7 6             1161  7028                        1                1   31  3  101 10                                                        12051133120511331161                111             1  21 1  13  11         5391 211612333115222581211     2 43 3131 88129291111 73112 3 411 965331198500000000000000000000000000000000000000 6074.422654877106 6986.840410485569   7577.22842517161231231\n",
      "        8239 1     6 1     11073 1065     8 035 8   0  2 514             1073 16222                        51               5                                                                        11691073116910451073                15  3       1   1  52 2  6 11           5351 110731925106518585155     2995 3636 84232321110 62222 5 2224692315    00000000000000000000000000000000000000 4869.4967802132526047.308985856504510492.0810904610351481235\n",
      "        8239 2     1   9999299992    2331 1 3 7 2                                                                                                                                                    11691073116910739999                111             2    1 101211111010     5 74  11322416113024002252          2222 84232321110 62222 5 2224692315    00011111211110000000000000000000000000 4869.4967802132526047.308985856504510492.0810904610351481235\n",
      "        8239 3     1   9999299992    99999999   2  1                                                                                                                                                 11691073116999999999                5          1    2    1 101211111010     5 84  11452525114325082252          2222 84232321110 62222 5 2224692315    00011111211110000000000000000000000000 4869.4967802132526047.308985856504510492.0810904610351481235\n",
      "        8239 4     1   9999299992    99999999   2  1                                                                                                                                                 11691073116999999999                5          1    2    1 101211111010     5 84  11562616115426001211          2222 84232321110 62222 5 2224692315    00011111211110000000000000000000000000 4869.4967802132526047.308985856504510492.0810904610351481235\n",
      "        8239 5     6 1     11169 1161     8 237 8   0  1 7 0             1169  663511   1  3121 1  153     51               1   62  1   31  3                                                        1169107311699999116911691235        5          1    2    1   12  11         5371 211692725116126581211 1 122 1342222 84232321110 62222 5 2224692315    00000000000000000000000000000000000000 4869.4967802132526047.308985856504510492.0810904610351481235\n",
      "        8319 1     3   11032110301102  17 0 6 6 1                                                                                                                                                    11701103122810981103                15  4       1   1  32 1  111111         5 62  11031666110216585155          3333 90327275613101232 6 2311646315    000000000000000000000000000000000000001167.67920168542471298.1614720878958  1750.311112816111451236\n",
      "        8319 2     6 1     11123 1114     03838 9   0  2 713             1123 11318                        51               1   32  1   32  1                                                        11701103122811031123                15  4 7     1   1  22 1  1111           5381 111231833111417585155     2  3 3333 90327275613101232 6 2311646315    000000000000000000000000000000000000001167.67920168542471298.1614720878958  1750.311112816111451236\n",
      "        8319 3     3   11602116001158  22 01010 2                                                                                                                                                    11701103122811231160                111             1  22 2  115511         5102  11602141115821255165          3333 90327275613101232 6 2311646315    000000000000000000000000000000000000001167.67920168542471298.1614720878958  1750.311112816111451236\n",
      "        8319 4     6 1     11170 1162     03636 8   0  2 6 3             1170  662613   6  05 110  5       51               1   32  1   32  1                                                        11701103122811601170                15  4       1   2    2   115511         5361 211702225116221585165 61042  302323 90327275613101232 6 2311646315    000000000000000000000000000000000000001167.67920168542471298.1614720878958  1750.311112816111451236\n",
      "        8319 5     1   12172121701215  29 0 7 7 2                                       5  05 5                                                                                                      11701103122811701217                    4       1   1  32 4 25 5511 1 02    1 74  12172616121526005165 595      3535 90327275613101232 6 2311646315    000000000000000000000000000000000000001167.67920168542471298.1614720878958  1750.311112816111451236\n",
      "        8319 6     1   12282122801227  25 0 6 6 1                                       6  05 5                                                                                                      1170110312281217122812281236            7       1   1  32 2 5125511 5 52    1 64  12282708122727005165 695      3232 90327275613101232 6 2311646315    000000000000000000000000000000000000001167.67920168542471298.1614720878958  1750.311112816111451236\n",
      "        8362 1     6 1     11163 1155     03636 8   0  1 510             1163  6532                        1                1   23  0   23  0                                                        12071163120710031163                111             3    1   1251           5361 111632991115529255165     2  0 1212 80435351113102222 2 2223832315    00000000000000000000000000000000000000 4871.5663345290385179.7406051541375 9452.5086303457852501228\n",
      "        8464 2     6 1     11171 1162     9 039 9   0  2 512             1171  653211   4  05 1 6  11  8  81                1   51  5  121 12                                                        12091024120910241171                111             2    1   12  11         5391 111713133116230581211 4 622 5212222 79536361112 92112 3 2224697225    000000000000000000000000000000000000002668.0776505554427 5412.482890509988 5854.6827426646542401236\n",
      "        8529 3     6 1     11168 1159     9 039 9   0  1 8 1             1168  602311   1  05 1 4  5       1                5                                                                        1168112811681155116811681228        115         5         4  1211           5391 311682033115919585155 1 42299505252 92425255212 91232 3 311 841325    000000000000000000000000000000000000001821.0222211382766 2088.193357410247 2815.5111037962361461228\n",
      "        8532 1     6 1     11167 1158     9 241 9   0  1 9 8             1167  661913   3  05 1 3  5       51               1   21  2   81  8                                                        12061167122411531167                115         61  7     1  1411           5411 111671841115817665155 3 342 3504444 946232356 9 92112 3 231 6412211995000000000000000001010000000000000000001167.62480375282331405.7733293965903 1578.6834489123711281233\n",
      "        8546 1     3   11722117201169  31 01111 3                                                                                                                                                    12291172122910151172                15  7 4     1   1  22 1  115511         5112  11723116116930915165          3333 79836361116122222 2 1224917225    00000000000000000000000000000000000000 4870.807308526872 5239.314450627437  9561.224940950012431231\n",
      "        8575 4     6 1     11164 1155     8 338 9   0  2 710             1164  6454                        1                1   61  6  241 24                                                        12001097120011341164                5          1    2    1   12  11         5381 311643150115530751211     2104 2222 78636361112 92111 6 431 585315    000000000000000000000000000000000000002418.54371179312973210.62407028510053472.93205682739342781228\n",
      "        8576 1     6 1     11143 1134     03737 9   0  2 6 4             1143  9226                        1                5                                                                        11611143116110441143                111             2    1   12  11         5371 111432600113425251211     2995 2222 83133331114112222 2 222 669315    00000000000000000000000000000000000000 4504.9351546469565186.4481904946315 8998.4876105081861781235\n",
      "        8576 2     6 1     11161 1152     03737 9   0  2 711             1161  7426                        1                1   11  1   11  1                                                        1161114311611143116111611235        111             2    1   12  11         5371 211612750115226751211     2  4 2222 83133331114112222 2 222 669315    00000000000000000000000000000000000000 4504.9351546469565186.4481904946315 8998.4876105081861781235\n",
      "        8577 1     6 1     11203 1194     9 039 9   0  1 512             1203  311613   3  3141 5  5       551    1204  12 5                                                                         12301203123011741203                    1       1   1  21 2 6111511 9 72    1391 112031583119415085165 3 542   033331013181856 9 53242 2 241 487335    00000000000000000000000000000000000000 7306.051596616229 8156.46880838047914346.4129870604231 11234\n",
      "        8620 3     6 1     11164 1155     03838 9   0  1 9 8             1164  7339                        1                1   41  4   81  8                                                        11941072119411311164                5          1    2    2   1211           5381 311643216115531412221     2 35 2222 77838383412 92112 4 4213241415    000000010110000000000000000000000000002418.27541692230264000.0372416051405 4326.8402842442812581237\n",
      "        8622 1     3   112621126111252425 0 6 6 1                                                                                                                                                    12171126121710321126                115         5         1  115511         5 62  11262383112523755165          5353 84032321114112112 3 1411801215    000000000000000000000000000000000000001914.9203615324195   2455.69442414663116.52179368444971691233\n",
      "        8622 2     3   11522115201150  27 0 8 8 2                                                                                                                                                    12171126121711261152                115         1   1  42 4  125511         5 82  11522600115025835165          3232 84032321114112112 3 1411801215    000000000000000000000000000000000000001914.9203615324195   2455.69442414663116.52179368444971691233\n",
      "        8622 3     5 1     11217 1208     9 039 9   0  2 611             1217  1628112  1  05 1 3  153     51               1   13  01  73  0                                                        1217112612171152121712171233                   1    3    1 1013  111010     1391 112173141120830661211 1 332  141111 84032321114112112 3 1411801215    000000000000000000000000000000000000001914.9203615324195   2455.69442414663116.52179368444971691233\n",
      "        8677 1     6 1     11139 1131     8 237 8   0  1 513             1139  9027                        1                5                                                                        12131139121311111139                15  3 414   1   2    2   121511         5371 111391758113116915155     2995 2222 92825251112 92222 5 311 841315    000000000000000000000000000000000000004003.4121847638544 4319.630206259049 7265.1860439070952 21229\n",
      "        8677 4     6 1     11182 1175     7 232 7   0  2 4 9             1182  47292123 2  4131 2  151     1                5                                                                        12131139121311671182                5          1    2    1   121511         5321 211822116117520585165 2 24199522222 92825251112 92222 5 311 841315    000000000000000000000000000000000000004003.4121847638544 4319.630206259049 7265.1860439070952 21229\n",
      "        8727 1     6 1     11169 1160     03939 9   0  1 715             1169  643011   6  05 1 9  153     1                5                                                                        12031169120310441169                111             4     1  12  11         5391 111693008116029331211 6 92299544242 80835351114112222 2 2223837225    000000000000000000000000000000000000002580.61650508009643140.8922427996686 5731.8142538851152381233\n",
      "        8727 2     6 1     11203 1194     03939 9   0  2 713             1203  303211   5  05 110  5       1                5                                                                        1203116912031169120312031233                   1    2    1 1012  11 910     1391 212033291119432161211 5102299502222 80835351114112222 2 2223837225    000000000000000000000000000000000000002580.61650508009643140.8922427996686 5731.8142538851152381233\n",
      "        8835 5     1   116221162111603434 0 7 7 2                                                                                                                                                    11971109119711531162                111             2    1   12  11         5 74  11623425116034081211          2222 75140401119132222 7 3223962215    00000000000000000000000000000000000000 4868.935387490173 6017.41262038113110028.0181318651561 61235\n",
      "        8839 4     6 1     11227 1218     9 039 9   0  1 611             1227   034112  6  05 1 8  5       1                11  33  05                                                               1227110412271197122712271227                   51   1  12 11011  11 0 5  2  1391 412273116121830411211 6 83299403333 85331311113102112 4 4211597315    00000000000000000000000000000000000000 2335.153424561654   2489.6985423884 3159.6764201451182561227\n",
      "        8841 1     3   11682116801166  26 2 211 2                                                                                                                                                    12131168123311611168                115         1   2    1   115511         5112  11682025116620085165          2323 92525255613101232 4 2311802321198400000000000000000000000000000000000000 733.1945389900441 839.31309659346771131.64584813697252111233\n",
      "        8841 2     6 1     11201 1193     03434 8   0  1 5 4             1201  322913   3  05 1 3  11 12  01                1   23  0   31  3                                                        12131168123311681201                    4 7     1   2    1  8115511 5 5     1341 112012300119322335165 3 341 1312323 92525255613101232 4 2311802321198400000000000000000000000000000000000000 733.1945389900441 839.31309659346771131.64584813697252111233\n",
      "        8841 3     6 1     11213 1206     03232 7   0  2 4 4             1213  202933   3  05 116  151     1                1   13  01  31  3                                                        12131168123312011213                           51   1  42 1 2115511 0 0  31 1321 212132400120623415165 31641 1323333 92525255613101232 4 2311802321198400000000000000000000000000000000000000 733.1945389900441 839.31309659346771131.64584813697252111233\n",
      "        8841 4     3   12332123301231  27 0 9 9 2                                                                                                                                                    1213116812331213123312331233            7 4     1   1  42 2 4115511 0 01    1 92  12332566123125505165          3333 92525255613101232 4 2311802321198400000000000000000000000000000000000000 733.1945389900441 839.31309659346771131.64584813697252111233\n",
      "        8857 1     6 1     11169 1160     9 241 9   0  2 715             1169  642013   4  35 1 4  5       1                5                                                                        1169116911691111116911691233        115         5         3  5 5511         5411 111691883116018085165 4 44299505555 94324245212 92222 1 1121641215    000000000000000000000000000000000000002188.2062178632195 2669.657986966755 3755.4078902661342781233\n",
      "        8931 1     1   10772107701076  25 1 2 6 1                                                                                                                                                    11101077111010721077                115         1   1 132 3  121111         5 64  10771550107615411211          3232 89128282312 93112 3 21212821211995000000000000000000000000000000000000002418.25639859493143795.9862354999827 4116.7470723997311631234\n",
      "        8931 2     6 1     11086 1077     9 039 9   0  2 5 0             1086 14825                        551    1148 622 11   31  3  181 18                                                        11101077111010771086                15  3       5         4  5 11           5391 110861625107715501211     1 78 5555 89128282312 93112 3 21212821211995000000000000000000000000000000000000002418.25639859493143795.9862354999827 4116.7470723997311631234\n",
      "        8931 3     6 1     11110 1101     9 039 9   0  2 6 0             1110 12427                        551    1148 382 11   31  3   31  3                                                        1110107711101086111011101234        15  3       5         4  5 11           5391 211101825110117501211     2 13 5555 89128282312 93112 3 21212821211995000000000000000000000000000000000000002418.25639859493143795.9862354999827 4116.7470723997311631234\n",
      "        8938 5     6 1     11135 1126     04040 9   0  2 812             1135  9931                        1                1   11  1  221 22                                                        1135 97911351081113511351234        15  310     5         4  13  11         5401 311353191112631161211     2 95 5151 75240401112 93112 5 3213831315    00000000000000000000000000000000000000 2080.3602824007472266.14429398980842862.14024330912752771234\n",
      "        8986 1     5 1     11176 1167     9 241 9   0  212 3             1176  522811   4  05 110  11 10 101                1   13  0   21  2                                                        12071176120711021176                111             3    1   13  11         5411 111763383116733081211 41022  911111 77038381114112222 2 222 647325    000000000000000000000000000000000000002580.8619579606157 3034.062579671763 5536.8608016430012271228\n",
      "        9001 3     6 1     11174 1166     8 237 8   0  2 7 1             1174  622113  24  05 124  153     51               1   11  1   11  1                                                        1174114111741158117411741236        15  8       1   1  42 1  1911           5371 211742083116620165155242442  443333 92425251111 73112 3 211 991215    000000012110000000101000000000000000003363.3504879880834 4015.990165144321 4355.3413340990162581236\n",
      "        9021 2     6 1     11176 1167     9 140 9   0  2 810             1176  563611   6  25 1 8  11  6  61                1   52  1   52  1                                                        1176113811761138117611761232        111             2    1   12  11         5401 211763083116730081211 6 822  512222 80635351116122112 2 2224691215    000000000000000000000000000000000000003879.6480505556233 4328.218851800176 4681.8343319922512461232\n",
      "        9037 1     5 1     11185 1176     9 039 9   0  1 612             1185  461913   3  05 1 3  5       51               5                                                                        12131185121311681185                15  4       5 1       2  125511         5391 111851483117614085165 3 342995052521007181856 9 91232 2 241 991325    00000000000000000000000000000000000000 5672.544033567314 6150.577830256829 8188.2642654209162721231\n",
      "        9062 1     6 1     11161 1152     9 039 9   0  2 9 0             1161  6918                        551    1167  66 115                                                                       12031161120311221161                5          55         3  5 11           5391 111611916115218415165     2994 5555 931242456 9 52112 3 33110012211997000000000000000000000000000000000000001167.62480375282331370.24378036064011538.78376534499881281230\n",
      "        9062 2     6 1     11186 1177     9 039 9   0  1 8 5             1186  442313   1  05 1 4  5       51               1  242  6   71  7                                                        12031161120311611186                5          55         3  5 11           5391 211862125117720505155 1 442 3005555 931242456 9 52112 3 33110012211997000000000000000000000000000000000000001167.62480375282331370.24378036064011538.78376534499881281230\n",
      "        9062 3     6 1     11203 1194     9 039 9   0  2 7 5             1203  272413   4  05 1 4  5       51               1  242  6   81  8                                                        1203116112031186120312031230           21       5         3 85 11   0 03    1391 312032266119421915165 4 442 3505555 931242456 9 52112 3 33110012211997000000000000000000000000000000000000001167.62480375282331370.24378036064011538.78376534499881281230\n",
      "        9070 1     6 1     11131 1121     9 34210   0  2 613             1131 10722                        1                1   32  1   32  1                                                        1131113111311106113111311238        115         1   4     1  145511         5421 111311641112115585165     2  3 4444 93425255618131232 1 1225001225    000000000000000000000000000000000000002013.60441498986353952.1438862027417 5328.6756017671571691238\n",
      "        9114 1     5 1     11170 1163     7 030 7   0  1 3 8             1170  582311   8  05 1 9  5       1                5                                                                        12041170122111471170                5          1    1  52 1  1211           5301 111701783116317255155 8 92199503232 95622221112 92112 4 231 305225    000000000000000000000000000000000000002012.48889948142912337.26470444401142624.74826309062472651228\n",
      "        9157 2     6 1     11062 1053     9 039 9   0  2 6 7             1062 17435                        551    12311692 11   13  0   12  0                                                        1178 9651178 9651062                115         1   2    1   5 5511         5391 210623016105329415165     2  1 2525 70044444210 92222 8 4211562215    000000000000000000000000000000020000002418.20056586826062675.9571581021114 4459.4826039771692431236\n",
      "        9157 7     6 1     11178 1169     9 039 9   0  1 611             1178  585011   4  413122  5       551    1231 531111   13  0   42  1                                                        1178 965117811691178                5          1    2    1   1211           5391 411783983116939084244 42222  402222 70044444210 92222 8 4211562215    000000010110000000000000000000020000002418.20056586826062675.9571581021114 4459.4826039771692431236\n",
      "        9203 31413         3     1233                                                                                                                                                                1071107112291229            12291236           1    2    1 1012  1 1010     5136          12333116   1          2222 85931311113102221 3 1224911315    00000000000000000000000000000000000000 4505.056197938102 5408.409354375621 9383.5902298417021361236\n",
      "        9229 2     6 1     11176 1167     9 039 9   0  2 610             1176  5631112 12  05 112  11 16  81                1   31  3   81  8                                                        12091100120911001176                15  4 7     5         4  5 5511         5391 211763083116730082222121232 3515555 80635351114102222 3 3212167215    0000000000000000000000000000000000000011685.631074085544 17731.4164569584532358.0618923034742451232\n",
      "        9244 2     5 1     11082 1073     9 039 9   0  1 7 4             1082 15634                        1                1   31  3  121 12                                                        1082 9061089 9061082                15  3       1   3    2   12  11         5391 210823116107330411211     2 52 1212 70844441112 91232 3 2424003315    000000000000000000000000000000000000002013.10514139713633822.1346250713545 4663.0042425870521651238\n",
      "        9288 3     6 1     11163 1154     9 140 9   0  110 4             1163  6835                        1                1   41  4  121 12                                                        1163106211631106116311631231        111             2    1   12  11         5401 311633508115434331211     2 52 2222 74240401116122112 3 3422642215    00000000000000000000000000000000000000 3881.140273638485 4502.251007687964 5686.3430227098992381231\n",
      "        9322 6     6 1     11166 1158     8 237 8   0  1 715             1166  6229123  2  05 112  5       1                1   31  3  241 24                                                        1166107011661145116611661228        111             2    1   1211           5371 311662925115828581215 2124210402222 81534341116121232 6 331 301125    000000000000000000000000000000000000001821.03080811747422077.21910486805432700.59255823895732351228\n",
      "        9388 3     1   11672116701165  28 0 9 9 2                                       2  05 1 6                                                                                                    11781090117811131167                111             2    1   121111         5 94  11673133116531161211 2 6      2222 79136363412 92222 4 2212001315    00000000000000000000000000000000000000 2418.1856666534752861.8220788613303 5222.5391117140421511235\n",
      "        9443 3     6 1     11167 1158     9 039 9   0  1 615             1167  633112   8  05 1 8  11  4  01                1   13  0   61  6                                                        1167105411671140116711671230        15  4       1   1  32 3  5 11           5391 311673208115831335155 8 812 2613535 782373752 9 52112 3 3111177221198200000000000000000000000000000000000000 2080.282072948171 3145.572808434375 3402.5661068834642531230\n",
      "        9473 3     6 1     11177 1168     9 039 9   0  1 6 0             1177  582213   2  05 112  5       51               1   61  6  121 12                                                        1177113311771156117711771235        115         1   1  22 1  11  11         5391 311772083116820081211 21242 5203333 927252511 9 52112 3 312 8492211992000000000000000000000000000000000000003363.0815604510913 4012.6976835548944351.77063781528252251235\n",
      "        9501 1     3   105721057110551618 2 0 9 2                                                                                                                                                    12191057121910481057                115         5         4  5 5511         5 92  10571541105515255165          5555 87229295612 92222 5 411 542315    000000000000000000000000000000000000001167.55950266940251334.8274169231918 2245.0462325231161781228\n",
      "        9501 2     3   107521075110731721 01010 2                                                                                                                                                    12191057121910571075                115         5         4  5 5511         5102  10751691107316755165          5555 87229295612 92222 5 411 542315    000000000000000000000000000000000000001167.55950266940251334.8274169231918 2245.0462325231161781228\n",
      "        9501 3     6 1     11164 1155     03939 9   0  1 714             1164  6429                        1                5                                                                        12191057121910751164                115         5         2  5 11           5391 111642433115523585155     2995 5555 87229295612 92222 5 411 542315    000000000000000000000000000000000000001167.55950266940251334.8274169231918 2245.0462325231161781228\n",
      "        9501 4     6 1     11199 1190     03838 9   0  1 8 4             1199  293112   8  413112  11  4  01                5                                                                        12191057121911641199                    3       1   2    2  81211   5 5     1381 211992725119026505155 8121299512222 87229295612 92222 5 411 542315    000000000000000000000000000000000000001167.55950266940251334.8274169231918 2245.0462325231161781228\n",
      "        9501 5     6 21    11219 1210     04141 9   00 1 5 4 1 514       1219   93213  10  45 119  11  8  01                5                1                5                                      1219105712191199121912191228                   51   1  12 2 55 11   5 5  2  1411 312192891121028165155101941   13535 87229295612 92222 5 411 542315    000000000000000000000000000000000000001167.55950266940251334.8274169231918 2245.0462325231161781228\n",
      "        9517 2     3   103321033110311719 0 8 8 2                                                                                                                                                    12091016122510161033                15  4       1   1 142 2  115511         5 82  10331691103116755165          3333 8303333111610123210 3223245115    000000000000000000000000000000000000001820.95901470209132095.8057973619107  2724.757117150221711229\n",
      "        9631 3     5 1     11164 1155     9 140 9   0  1 812             1164  6632                        1                1   11  1   71  7                                                        1164108711641140116411641230        111             2    1   12  11         5401 311642483115524081211     2 30 2222 866303011 9 52112 3 32210813111988000000000000000000000000000000000000002080.4253548149686 3499.330795769514  4441.000712911091561230\n",
      "        9682 3     6 1     11123 1114     9 039 9   0  1 8 0             1123 10825                        1                1   61  6   61  6                                                        11861068118610721123                           1    2    1   12  11         5391 211233116111430411211     2 26 2222 749404011 9 52112 4 311 547221199400000000000000000000000000000000000000 2418.3528570122592820.6847936064146 3562.5248943249012511231\n",
      "        9701 1     5 1     11073 1064     9 241 9   0  2 9 3             1073 15529                        51               5                                                                        11651073116510361073                111             2    1   1211           5411 110732316106422415155     2995 2222 79536361112 91232 2 2222561315    000000000000000000000000000000000000001821.11407810124572089.0416855169233 3197.2782996836511451228\n",
      "        9701 2     5 1     11165 1156     9 241 9   0  1 9 6             1165  633711   6  05 1 7  5       51               5                                                                        1165107311651073116511651228        111             2    1   13  11         5411 211653083115630081211 6 72299502121 79536361112 91232 2 2222561315    000000000000000000000000000000000000001821.11407810124572089.0416855169233 3197.2782996836511451228\n",
      "        9729 2     3   12032120301202  26 1 2 6 1                                                                                                                                                        116612031166120312031239                   51   1 102 2 2111111 1 1  2  1 62  12032400120223915155          3333 91526265612 92222 2 0224261315    000000000000000000000000000000000000004169.1903651504945 4808.212811301505 8086.9331273280011511239\n",
      "        9747 1     6 1     11169 1160     9 039 9   0  1 711             1169  602511   8  05 1 8  5       51               1  101 10  101 10                                                        1169116911691098116911691229        111             2    1   1211           5391 111692483116024081215 8 822 4302222 87129293414102112 1 111 185211198900000000000000000000000000000000000000 6920.498673566169 7384.456002614075 8008.4425348349652561229\n",
      "        9871 2     6 1     11169 1161     8 035 8   0  1 712             1169  673414  16  25 119  152     1                1   31  3  361 36                                                        1169110211691102116911691236        15  8       1   1  12 4  5 1511         5351 21169228311612216516516195215633535 895282856 9 53242 2 2411001235    00000000000000000000000000000000000000 3409.4907450875745279.2591889514015 8879.1860298973621 11236\n",
      "        9875 3     6 1     11164 1155     9 039 9   0  1 7 0             1164  6729                        1                1   21  2   21  2                                                        1164 97211641043116411641231        5          1    2    2   1211           5391 311643466115533911212     2  9 2222 748404011 9 93112 3 3111567221199500000000000000000000000000000000000000  7089.0857437414211526.13394345997614557.5071705899481621231\n",
      "        9878 2     6 1     11171 1162     8 338 9   0  1 7 5             1171  571913   4  05 1 8  5       1                1  153  0  153  0                                                        1171113711711137117111711228        115         5         4  5 51           5381 211712083116220085155 4 842  205555 92125255611 92112 2 21216411111993000000000000000000000000000000000000001806.5560323081013 2715.231117517821 2944.6681469480771 21228\n",
      "       10014 1     5 1     11203 1194     04141 9   0  1 910             1203  292513   6  45 1 5  11  8  01                5                                                                        12031203120311661203                 5  3       5         1 25 51   4 02    1411 112031958119418835155 5 54299515555 96822221112 92221 2 1214001115    00000000000200000000000000000000000000 3897.513236890355 4371.2161705989246148.98978718150651541232\n",
      "       10015 5     6 1     11214 1204     0424210   0  1 8 3             1214  2027112  2  05 1 4  5       1                5                                                                        1214106312141179121412141234            1       1   3    1 1012  11 510     1421 512143200120431161211 2 43299501212 83033331113102222 5 522 587435    00000000000000000000000000000000000000    2580.9676128472996.4233469646306 5198.7945069836342611234\n",
      "       10035 2     6 1     11163 1154     03838 9   0  2 6 5             1163  7121                        51               5                                                                        1163113411631134116311631234        115         1   2    1   6 5511         5381 211632016115419415165     2995 2626 92126265611 71232 2 2211271125    00000000000000000000000000000000000000 3613.1007491740274583.0507135681955 6179.3272771039981371234\n",
      "       10080 1     5 1     11173 1164     9 039 9   0  1 712             1173  642513   4  05 1 4  5       51               5                                                                        1173117311731164117311731237        5          1    2    1   1211           5391 111732608116425331211 4 44299502222 86031311112 92112 1 1222307231999800000000000000000000000000000000001000 2420.679294299231 6177.528711314884 7839.9016875297192161237\n",
      "       10117 4     5 1     11163 1155     8 237 8   0  2 6 2             1163  7432                        51               5                                                                        1163104911631084116311631237        15  3       5         2  1111           5371 311632525115524581211     2995 5353 86031314510 92112 4 3121281215    000000010110000000000000000000000000002418.5492773091714 2781.7156198268643530.27529312227261 21237\n",
      "       10132 5     1   9999299990    3227 5 022 5                                                                                                                                                    1148 977117710839999                           51   1  12 2 5121111 5 5  2  5224  11063158110131161211          3232 727414145 9 52112 7 512 422221197600011111211110000000000000000000000000 5391.053059322307  6229.49770974599 7867.8556074091842531231\n",
      "       10137 1     3   11692116901168  23 1 2 6 1                                                                                                                                                    12191169121911681169                5          1    1  52 4  115511         5 62  11691683116816755165          3333 96721215612 93112 3 122 711215    00000000000000000000000000000000000000 2335.201964020678 2785.6481258229723128.28284529919761651229\n",
      "       10159 2     6 1     19999          9 039 9   0  1 7 1             9999    2013                      1                5                                                                        99999999999999999999                5          55         3101211   0 02    5391 211983116118930412222 6134299505252 82434343411 72112 3 422 821325    000111112111100010000000000000000110001914.49761744600483008.43290260294453818.00219669339642841232\n",
      "       10175 2     3   103321033110311821 2 0 9 2                                                                                                                                                    12221030122210301033                15  3       1   1 102 4  125511         5 92  10331708103116915165          3232 82833331115101232 6 331 425325    000000000000000000000000000000000000001821.0222211382766 2088.193357410247 2714.8601839690621461228\n",
      "       10222 3     5 1     11163 1154     9 039 9   0  2 6 7             1163  6520                        1                5                                                                        11831128118311491163                5          55         3  5 1511         5391 311632050115419755155     2995 5555 917252556 9 51232 4 531 237125    00000000000000000000000000000000000000 1167.7040742621121348.30347592005051817.91757658300412 21228\n",
      "       10222 4     5 21    11183 1176     7 030 7   00 1 3 6 2 3 2       1183  452613  20  314124  5       1                5                1                5                                      1183112811831163118311831228        5          55         4  5 5511         5301 411832216117621585155202441   05555 917252556 9 51232 4 531 237125    00000000000000000000000000000000000000 1167.7040742621121348.30347592005051817.91757658300412 21228\n",
      "       10242 5     6 1     11168 1160     03535 8   0  1 511             1168  6926113  3  05 1 3  153     1                1   61  6  121 12                                                        11911056119111441168                15 12       5         3  5   11         5351 411682683116026161211 3 342 5245555 84632321112 92222 6 5422131325    000000002000000000000000000000000000002418.22591217436142863.9610605090984 4968.9724399832862 71237\n",
      "       10243 6     6 1     11168 1159     9 039 9   0  2 810             1168  703311   6  05 1 8  5       51               1   31  3  191 19                                                        1168 95011681136116811681238        5          1    2    1   1211           5391 311683708115936331212 6 822 8202222 72342421112 92222 6 3222161215    00000001010000000000000000000000000000 99707.83201430162 157143.6866871325 261879.95386410631261238\n",
      "       10275 5     6 1     11166 1157     9 039 9   0  2 8 7             1166  632313   6  05 1 6  5       1                5                                                                        12071071120711441166                5          51   1  22 2  11  11         5391 311662425115723501211 6 64299503333 875292911 9 52222 6 411 967335    000000000000000000000000000000000000002580.6962296744605 2967.4422385566314990.94110102839751141229\n",
      "       10292 2     6 1     11138 1129     03838 9   0  1 514             1138  9041                        1                1   13  0   81  8                                                        11731126117311261138                111             1  31 1  12  11         5381 211383116112930411211     2 35 3232 76438381116122112 3 32118513111975000000000000000000000000000000000000001914.4922954435629 2984.630729970585 3228.4750606091822691228\n",
      "       10297 1     5 1     11163 1154     9 039 9   0  2 811             1163  6923                        1                1   81  8  181 18                                                        1163116311631096116311631232        111             2    1   5   11         5391 111632433115423581211     2 78 2525 87130301118121112 1 1224001325    00000000000000000000000000000000000000 4160.651694960998 4806.421445036145 6099.8294558953712781232\n",
      "       10311 3     6 1     11160 1151     9 039 9   0  2 8 0             1160  7336                        1                1   91  9  121 12                                                        1160107711601101116011601233        111             2    1   11  11         5391 311602991115129161211     2 52 2323 80136361117122222 3 3222641315    00000000000000000000000000000000000000  4506.414778578565078.5344049920795 9267.8174356700462501233\n",
      "       10355 4     6 1     11166 1157     9 039 9   0  1 612             1166  672411   2  05 1 8  5       1                5                                                                        12011130120111531166                111             2    1   1211           5391 311661925115718505155 2 82299502222 935242452 9 53112 6 521 517121198000000000000000000000000000000000000000 4024.465537520329 4789.331888994551 5378.4197113408811251233\n",
      "       10405 2     6 1     11162 1153     9 039 9   0  1 7 3             1162  7221                        1                5                                                                        11951133119511331162                111             1  41 1  1211           5391 211621941115318665155     2995 3232 929252552 9 53242 3 3321802335    00000000000000000000000000000000000000 6142.561309578452 7117.07254939979511970.2043208355151121234\n",
      "       10431 6     5 1     11183 1174     9 039 9   0  1 714             1183  5129121  5  05 115  5       1                1   83  0   81  8                                                        1183107511831165118311831234        5          55         1  14  11         5391 311832950117428751211 51532 3505454 82933331112 92112 6 3223242211198700000000000000000000000000000000000000 2576.579842134739 2778.486233266897 3526.1768786390191391234\n",
      "       10441 3     6 1     11166 1157     04040 9   0  2 410             1166  702813  10  312110  153     1                5                                                                        1166110211661153116611661236        15  3       1   1  12 1  11  11         5401 31166253311572458121110104199543333 86231311113102222 3 311 842335    000000000000000000000000000000000000002580.97779083342042925.1786510098123 5075.1849595020251611236\n",
      "       10459 5     6 1     11203 1194     9 039 9   0  1 9 0             1203  2528112  2  35 1 8  5       1                1   11  1   51  5                                                        1203108212031164120312031228            7       1   2    1 1011  11 5 5     1391 212032716119426411211 2 832 2202323 87729291112 92222 5 2222567315    000000000000000000000000000000000000006817.0804413696915 7573.856355951216 12738.469005074352711228\n",
      "       10462 1     5 1     11202 1193     03838 9   0  1 610             1202  3531112  4  05 1 6  11 16  01                1   13  0   42  1                                                        12371202123710261202                           1    2    1 105   111010     1381 112023116119330411211 4 632  412525 82834341116112222 2 2224694315    00000000000000000000000000000000000000 5509.314275936476 6364.13444576253311041.7732633979962101237\n",
      "       10467 3     6 1     11193 1184     04040 9   0  2 710             1193  4127131  5  3131 5  11  1  01                5                                                                        1193113211931164119311931234        111             2    1  85   11 7 8     5401 311932291118422161211 5 54299512525 91826261110 62222 3 3211081335    00000000000000000000000000000000000000 4505.628980554186 4824.937659020539 8115.0626487066451741234\n",
      "       10494 3     1   11672116701166  42 0 4 4 1                                       4  3131 4                                                                                                    1077107711671114116711671231        115         1   1  32 2  5 5511         5 44  11673133116631255165 4 4      3535 79136365212 92222 3 1121952125    00000000000000000000000000000000011000 2335.3301191349052847.3671141154505 5196.1602465492851101231\n",
      "       10501 4     6 1     11162 1153     03838 9   0  2 6 7             1162  6620                        1                5                                                                        1162112611621146116211621228        5          55         4  5 5511         5381 311622033115319585155     2995 5555 918252556 9 51232 4 3111806225    000000000000000000000000000000000000001167.54969630720831318.02892551280841777.09840026891971351228\n",
      "       10603 1     6 1     11116 1107     9 039 9   0  2 7 0             1116 12029                        1                5                                                                        11471116114710991116                5          1    2    1   12  11         5391 111162333110722581211     2995 2222 83633331112 91112 2 2121327231199400000000000000000000000000000000000000 3363.370323960565 3747.942347940819 4756.5136337716931161236\n",
      "       10603 2     6 1     11147 1138     9 039 9   0  2 7 0             1147  8932                        1                5                                                                        1147111611471116114711471236        111             2    1   12  11         5391 211472591113825161211     2995 2222 83633331112 91112 2 2121327231199400000000000000000000000000000000000000 3363.370323960565 3747.942347940819 4756.5136337716931161236\n",
      "       10605 1     5 1     11101 1092     9 039 9   0  2 9 4             1101 12832                        1                1   03  0   61  6                                                        122611011226 9551101                15  3       1   3    2   1211           5391 111013116109230415155     2 26 1212 72741413413102222 2 2211271325    00000000000000000000000000000000000000 3409.302483099199 3931.021689735851 6551.0476459447961501229\n",
      "       10655 1     1    9342 9341 9311619 3 215 3                                                                                                                                                    1016 9341016 924 934                5          51   1 241 1  115511         5154   9341633 93116085165          3333 73841411111 72222 5 4222737115    0000000000000000000000000000000000000014736.04612996882917124.15648674776528537.4067851651531381234\n",
      "       10699 3     6 1     11180 1171     9 039 9   0  1 915             1180  552311   3  05 1 3  151     1                5                                                                        12131155121311651180                15  3       5         4  6   11         5391 211802350117122751211 3 32299525656 89828283414102112 6 331 7821211986000000000000000000000000000000000000002335.1168395325644 2626.433884171608 2848.3675473841092 41235\n",
      "       10708 3     5 1     11174 1164    10 24510   0  2 510             1174  573511   6  2111 6  11  4  451               1   42  1   42  1                                                        1174107411741105117411741231        111             2    2   1211           5451 111743200116431165155 6 622  412222 79036365614101232 3 13140073211981000000000000000000000000000000000000001167.56854019633991387.3060756197374 2123.2719487360082441231\n",
      "       10711 2     5 1     11160 1151     04040 9   0  2 8 2             1160  7820                        1                5                                                                        12131143121311431160                15  4       1   1  42 1  1111           5401 111602025115119505165     2995 3333 91726261114102222 3 2223831315    00000000000000000000000000000000000000 5753.68948882063911042.44416054114318572.2868336141471251238\n",
      "       10711 3     6 1     11213 1204     03939 9   0  1 8 9             1213  2524112  5  05 1 5  11 12 121                5                                                                        1213114312131160121312131238                   51   1  22 1 41111   5 3  2  1391 212132466120423915165 5 53299513333 91726261114102222 3 2223831315    00000000000000000000000000000000000000 5753.68948882063911042.44416054114318572.2868336141471251238\n",
      "       10750 1     3   11652116501164  24 0 6 6 1                                                                                                                                                        116511651111116511651239        15  7       5         4  5 5511         5 62  11652133116421255165          5555 90927271113102112 1 0223242225    00000000000000000000000000000000001000  4600.98521715174 7697.945348590547 8348.4217305464482391239\n",
      "       10755 2     6 1     11172 1163     9 039 9   0  2 8 5             1172  593111   6  05 1 8  152     1                1   12  0   12  0                                                        1172112111721121117211721231        5          1    2    1   12  11         5391 211722833116327581211 6 822  132222 83233331114112222 2 222 992335    000000000000000000000000000000000000004870.6661435964015  5509.49957354391 9558.9817600986842341231\n",
      "       10763 1     6 1     11178 1169     04040 9   0  2 7 6             1178  532513  10  45 112  11  6  61                1   43  0   43  0                                                        12011178120110841178                15  3 4     1   1  12 1  1111           5401 111782083116920085155101242  113333 92825251113102221 3 2223831315    00000000000000000000000000000000000000 4870.8854832274035727.9891713652905 9633.9049873192822371231\n",
      "       10774 3     4   11822118201181  40 1 0 4 1                                       2  05 199 1                                                                                                  1193 942119311621182                15  3       1   2    1   12  11         5 45  11823416118134081211 210      2222 77238381115112222 4 2222871315    00000000000000000000000000000000000000 6332.448297281337  7317.1515750247113353.0699092625931371234\n",
      "       10781 2     3   11632116301161  26 2 211 2                                                                                                                                                    10831083123010831163                15  3       1   1 102 2  111111         5112  11632600116125834244          3333 851313145 9 92222 4 1225001315    000000010110000000000000000000000000002580.62534208769563068.4869920724154 5323.8249312456412821235\n",
      "       10813 2     6 1     11178 1169     04040 9   0  1 9 4             1178  5739121  8  05 1 8  11 12  51                1   82  2   82  2                                                        1178112311781123117811781235        111             2    1   12  11         5401 211783433116933581211 8 832  812222 76639391118132222 2 2224691315    000000000000000000000000000000000000004504.9694030140645 5504.71279674550610045.5503827808731291235\n",
      "       10835 1     5 1     11173 1164     9 039 9   0  2 513             1173  552312   9  05 110  5       1                5                                                                        1173117311731164117311731228        115         1   2    1   1111           5391 111731916116418411215 9101299502323 94323231112 92112 1 112 7871111998000000000000000000000000000000000000003299.3698347810255 4028.284675243058 4523.7636902979541331228\n",
      "       10838 4     6 1     11170 1161     03838 9   0  1 5 5             1170  612913   8  05 1 8  5       51               5                                                                        11701076119211421170                5          55         1  1211           5381 411702133116120585165 8 84199505252 91426264510 91232 5 431 581315    00000000000000000000000000000000000000 2817.309923985766 5113.212816947181 6894.1448410898842311231\n",
      "       10842 3     6 1     11164 1155    9999   9 5 0  1 8 6             1164  6632                        1                1   41  4   91  9                                                        12091130120911481164                5          51   2    1   6   11         5381 311642941115528661211     2 39 2626 81134341116122222 4 5223088315    00000000000000000000000000000000000000 4871.7268000307085404.7849957889375 9377.3019676938071 31230\n",
      "       10852 2     6 1     11169 1160     9 241 9   0  2 613             1169  613913  14  313116  5       1                5                                                                        11801104118011041169                111             2    1   1111           5411 21169226611602191222114164299502323 89727271110 62222 3 342 647335    00000000000000000000000000000000000000 4224.653509691176 4821.4587774579718109.21151780656152141230\n",
      "       10926 3     6 1     11203 1194     9 039 9   0  2 5 5             1203  264513   4  313116  5       1                5                                                                        12171048121711851203                           55         1 71211   7 4  5  5391 212033108119430335155 4164199505252 83033335611 71232 4 331 127325    00000000000000000000000000000000000000 1806.3891623394112006.36533948106652608.47557785933442111229\n",
      "       10937 2     1   11632116301162  30 0 6 6 1                                                                                                                                                    11761149117611491163                5          1    2    1   12  11         5 64  11632783116227751211          2222 82934341117122221 4 2223831215    000000000000000000000000000000000000003114.6885182259066 5977.69033362244610371.2927288349442311238\n",
      "       10949 3     6 1     11168 1159     04040 9   0  2 711             1168  642613   7  05 1 8  11 14  01                1   13  0  101 10                                                        1168112111681136116811681232        15  3       1   1  52 1  1211           5401 311682450115923755155 7 842 4313232 874292956 9 93112 3 311 6492211990000000000000000000000000000000000000001914.75795764216383008.0857390323295 3262.2689839805612691232\n",
      "       11030 2     6 1     11094 1085     9 039 9   0  2 810             1094 14138                        51               1   32  1 999                                                            10941074123410741094                5          1    3    1   13  11         5391 110943191108531161211     2 51 1111 71143431116122222 4 1224002315    00000000000000010000000000000000000000 2418.3936338491812865.2015964877273 4774.8584605467981811235\n",
      "       11112 2     5 1     11087 1079     8 237 8   0  2 9 1             1087 14825                        51               5                                                                        1087105110871051108710871235        111             2    1   12  11         5371 210873183107931161211     2995 2222 70544441112 92222 2 2221522315    0000000000000000000000000000000000100010709.27873240775812620.95252806118321032.8173880139621251235\n",
      "       11145 2     3    9312 9310 928  19 3 013 3                                                                                                                                                     999 919 999 919 931                15  4       1   1  52 1  111111         5132   9311658 92816335165          3333 73241413412 92112 4 2425008225    00000000000000000000000000000000000000 6849.53160146873610629.867525586738 13425.522684816051 21235\n",
      "       11152 3     6 1     11166 1157     9 039 9   0  1 7 7             1166  722913   3  05 112  5       1                1   71  7   71  7                                                        1166105911661112116611661238        15  7       1   2    1   12  11         5391 311663175115731001211 31242 3002222 785373711 9 53112 3 3211321321198800000000000000000000000000000000000000 5798.674281520368 10183.8609278973711015.8823657065881811238\n",
      "       11178 2     1   11472114701146  34 0 4 4 1                                                                                                                                                    11801121118011211147                15  7       5         2  6   11         5 44  11473116114631081211          5656 77338381114111232 3 221 9612111994000000000000000000000000000000000000001821.01585721069021978.0445875723235 3027.3972412794412781233\n",
      "       11182 4     6 1     11161 1152     9 039 9   0  1 7 5             1161  6731                        1                5                                                                        1161101411611141116111611228        5          1    2    1   1211           5391 311612983115229081211     2995 2222 80335354510 62222 4 311 995115    00000001011000000000000000000000000000 3410.5126314622533854.6569266211104 7034.3634253908642 51228\n",
      "       11267 4     1   11642116401164  39 0 1 1 0                                                                                                                                                    1018 93011641018116411641235        5          55         4  141112         5 14  11643783116437832222          5454 71043433410 62222 4 2221221335    0000000101100000000000000000000000000013638.41170789990416027.07548637912626709.1212980508172141235\n",
      "       11302 5     6 1     11176 1166     0424210   0  1 614             1176  562913  12  15 112  11  8  21                1   11  1   11  1                                                        1176106611761159117611761232        15 19       5         3  125511         5421 311763083116630005165121242  415252 80635355613151232 5 331 367325    00000000000000000000000000000000000000 1167.6783708062231304.48466074623751996.51377327211641461232\n",
      "       11332 3     6 1     11168 1159     9 039 9   0  2 8 6             1168  612912   4  05 117  152     1                1   71  7  121 12                                                        11951120119511351168                111             2    1   12  11         5391 311682366115922911211 41712 5232222 884282811 9 53112 4 411 8412211996000000000000000000000000000000000000003410.8947442720882 5382.619260814618 5837.4505883534542331229\n",
      "       11343 3     5 1     11166 1157     03838 9   0  1 9 0             1166  7144112  6  05 1 6  11  6  41                5                                                                        1166109111661112116611661237        111             2    1   12  11         5381 311663541115734661211 6 63299512222 74141411116122112 3 3211322225    000000000000000000000000000000000000002417.62812312256944394.2163614483015 5549.8952645092041181237\n",
      "       11369 1     3   11932119301191  20 2 0 9 2                                                                                                                                                        1193119311671193                           51   1  52 4 2125511 5 0  1  5 92  11931675119116585165          3232 99220205213101231 2 0222891315    000000000000000000000000000000000000001875.7144783141598 2264.9906870471683436.67036945666861821234\n",
      "       11383 3     1   11672116701166  32 1 1 5 1                                       3  05 1 3                                                                                                    11811115118111631167                15  4 7     5         4  121111         5 54  11672508116625005155 3 3      5252 86631315612 91232 4 2111641315    0000000000000000000000000000000000000012179.896676357985 16099.6253165669920931.1228740687442 21238\n",
      "       11387 1     3   103321033110311616 0 9 9 2                                                                                                                                                    12061033120610391033                5          51   1  52 1  115511         5 92  10331500103114835165          3333 85332325612 93112 5 411 849225    00000000000000000000000000000000000000 4169.109372460031 5108.956892041299 6483.7771916896132251238\n",
      "       11421 3     4   11612116101158  36 3 013 3                                                                                                                                                    11331116118111331161                15  7       5         4  5 5512         5135  11612333115823085165          5555 88129291111 73112 4 231 147225    00000000000000000000000000000000000000 3668.809832100952  4434.455564592654809.16705980072952551236\n",
      "       11473 2     3   116221162111582121 01616 4                                                                                                                                                    11961123119611231162                15  1       1   1  32 1  125511         5162  11622333115823005165          3232 88228281118121231 4 1213281325    000000000000000000000000000000000000002816.49711777710543068.88166449755234137.77314824204951461229\n",
      "       11490 3     6 1     11172 1164     03636 8   0  2 6 0             1172  5725112  2  05 1 6  11  6  651               5                                                                        1172110711721150117211721229        5          1    3    2   1311           5361 311722383116423161211 2 63299511111 88628281112 92222 3 3222167335    000000000000000000000000000000000000002580.6962296744605 2910.957982839571 4895.9402313378741141229\n",
      "       11544 3     3   117121171111693234 2 0 9 2                                                                                                                                                    1146109311711146117111711237        115         1   1  32 1  11  11         5 92  11713283116932661211          3333 777383811 9 53112 3 232 997321198800000000000000000000000000000000000000 4160.863551425264 6609.495335066262 7149.4911039411761451237\n",
      "       11547 2     1   12132121301210  24 3 013 3                                       6  4121 7                                                                                                    1167116712131167121312131228            1       1   1  52 2 3115511 5 42    1134  12132383121023585155 6 7      3333 92725255612 92222 2 1111001115    000000000000000000000000000000000000003409.9705032322854 3852.846317599905  6480.102221571281461228\n",
      "       11620 1     6 1     11163 1154     8 338 9   0  1 7 6             1163  7129                        1                1   41  4  151 15                                                        11631163118010281163                111             2    1   1211           5381 111633000115429253253     2 65 2222 80335353414112222 2 121 562335    000000000000000000000000000000000000003409.57401972042043905.4030998377466 7126.9701168939042701234\n",
      "       11620 2     1   11802118001177  31 3 013 3                                       3  05 1 3                                                                                                    1163116311801163118011801234        111             2    1   121111         5134  11803141117731161211 3 3      2222 80335353414112222 2 121 562335    000000010110000000000000000000000000003409.57401972042043905.4030998377466 7126.9701168939042701234\n",
      "       11644 2     6 1     11146 1137     04141 9   0  2 8 0             1146  8931                        1                5                                                                        1146111011461110114611461235        111             2    1   12  11         5411 211463116113730411211     2995 2222 77238381116122222 2 2224691325    00000000000000000000000000000000000000 4873.710806992076 5735.82991729916610467.3160160792471521235\n",
      "       11670 1     1   11642116401163  35 0 3 3 1                                                                                                                                                        11641164 923116411641235        115         65        2  121111         5 34  11643808116338002221          5252 70744443419152222 1 0225002125    00000001011000000000000000000000000000 3612.881300441918 4834.6110381698168056.87929510999952731235\n",
      "       11721 1     5 1     11153 1144     9 039 9   0  2 4 8             1153  8228                        1                1   31  3   31  3                                                        11691153116910871153                111             3    1   13  11         5391 111533075114430001211     1 13 1111 78437371117122112 2 21225672119998000000000000000000000000000000000000002080.3182777217125 3131.924974546432 3387.8032449668762711235\n",
      "       11721 2     5 1     11169 1162     7 030 7   0  2 4 0             1169  662912   4  05 1 4  11 20  01                5                                                                        1169115311691153116911691235        15 10       5         1  11  11         5301 211693208116231501211 4 41199515353 78437371117122112 2 21225672119998000000000000000000000000000000000000002080.3182777217125 3131.924974546432 3387.8032449668762711235\n",
      "       11730 1     5 1     11083 1074     9 039 9   0  2 6 3             1083 15033                        1                5                                                                        11461083114610261083                111             2    1   12  11         5391 110833191107431161211     2995 2222 70044441116122112 2 2223121215    00000000000000000000000000000000000000 2418.350166558011 2715.975435571591 3430.2769751269192751233\n",
      "       11785 1     5 1     11170 1161     04040 9   0  1 6 5             1170  6746112  3  05 1 4  11 12 121                1   61  6   61  6                                                        119611701196 9581170                111             2    1   12  11         5401 111703583116135081211 3 432 2612222 74041411119132222 2 2123122135    00000000000000000000000000000000000000 8338.917609564263 9454.97868772162315756.7219830880862 11237\n",
      "       11805 1     6 1     11223 1214     03838 9   0  1 811             1223  142223   6  05 1 7  153     1                1   21  21  21  2                                                        1223122312231160122312231237                   51   1  32 2 56 5511 5 5  2  1381 112232108121420335165 6 742  943636 97022225613101232 1 131 146325    000000000000000000000000000000000000003612.9717566198233 5452.666363687765 8273.3306736234461431237\n",
      "       11895 4     5 1     11171 1162     9 241 9   0  2 714             1171  662913  12  25 112  5       1                5                                                                        1171105011711111117111711237        15  3       5         1  1411           5411 31171263311622558515512124299505454 855313152 9 52112 4 331 543315    00000000000000000000000000000000000000 2080.150750864326 4219.809849383808  5355.360679852992781237\n",
      "       11934 2     6 1     11211 1201     0424210   0  2 710             1211  2338112  6  05 1 6  151     1                1   41  41 101 10                                                        12111024121110241211                           1    3    1 1012  111010     1421 112113200120131161211 6 632 4321212 82733331116112221 3 1222737325    00000000000000000000000000000000000000 4774.591460440082 5765.55796646758910003.2430718212672491234\n",
      "       11935 3     6 1     11166 1157     03939 9   0  2 6 6             1166  642513   3  05 112  5       51               1  101 10  121 12                                                        12221110122211441166                           51   1  41 1  12  11         5391 311662525115724501211 31242 5203232 86330301112 92221 7 621 297425    00000000000000000000000000000000000000 2735.5253641412323208.9410838523586 5567.5127804838421281230\n",
      "       12007 6     6 1     11164 1154     0424210   0  1 7 0             1164  6623                        1                1  113  0  113  0                                                        1194 969121911371164                5          1    2    1   111511         5421 311642625115425415165     2  2 2323 84931315611 93112 8 431 457125    00000000000000000000000000000000000000 2418.276734427886 3027.4668588573623842.15819057587761101230\n",
      "       12053 1     1   12312123101226  20 5 022 5                                       8  05 1 8                                                                                                        123112311200123112311233            3       1   1  52 1 5115511 2 01    1224  12311658122616165165 8 8      3333103216165610 62222 1 031 361215    00000000000000000000000000000000000000 4545.776092136735 8224.29641625903614465.7149665580182301233\n",
      "       12094 1     6 1     11179 1169     9 44310   0  1 9 0             1179  593111   2  05 111  11 12 121                1   83  0   83  0                                                        12271179122710381179                111             2    1   12  11         5431 111792983116929001211 21122  112222 82134341116122222 3 2224691235    00000000000000000000000000000002000000 7768.205049633955  9100.7109842299415789.7335576389472741238\n",
      "       12107 2     6 1     11172 1163     9 039 9   0  1 715             1172  622213   6  3131 6  153     1                5                                                                        12271130122711301172                15  3       1   2    4   5 5512         5391 211722433116323585165 6 64299542525 88029293414112222 3 441 547325    000000000000000000000000000000000000002418.19094417783252887.3451590930813 4856.2258230786531811234\n",
      "       12125 2     6 1     11146 1136     0434310   0  2 9 5             1146  8732                        1                1   81  8   81  8                                                        11971104119711041146                111             2    1   12  11         5431 211463116113630331211     2 35 2222 77238381116122222 3 3223967235    000000000000000000000000000000000000002418.29734713457452703.8264706528903 4934.2129262944591161233\n",
      "       12126 1     6 1     11178 1169     9 039 9   0  2 7 2             1178  552713   2  05 1 8  5       1                1   13  0   31  3                                                        11951178119511531178                5          51   1  32 2  1251           5391 111781883116918085165 2 842 1303232 952232352 9 53112 2 231 141115    000000000000000000000000000000000000002012.44620441105873923.5096894393064 4406.1013812403412691233\n",
      "       12142 2     5 1     11229 1220     9 039 9   0  1 6 8             1229   22815   2  3131 3  11  8  01                5                                                                        1229112412291124122912291231                   1    3    1 1012  111010     1391 212293116122030411211 2 35299511212 85531311111 72222 2 2311001335    00000000000000000000000000000000000000 4870.861324249966 5298.849385935208 9193.5036845975862141231\n",
      "       12149 2     6 1     11176 1167     9 039 9   0  2 7 2             1176  5825112  6  05 1 6  11  4  151               1   41  4   51  5                                                        1176113511761135117611761234        15  7       1   2    1   12  11         5391 211762183116721081211 6 632 2212222 91426261114102112 2 2221173125    000000000000000000000000000000000000002668.22999837441973217.88138708228143489.79236429073442251234\n",
      "       12203 5     1   11672116701165  34 2 211 2                                      10  2125                                                                                                      12031123120311621167                5          1    2    1   121111         5114  116719831165196642441095      2222 92925254510 62112 7 231 641315    000000010110000000000000000000000000003409.70259067865534400.92339685556454772.80142388985952271231\n",
      "       12203 6     6 1     11178 1171     7 030 7   0  1 5 3             1178  533513  20  35 122  5       1                5                                                                        12031123120311671178                5          1    1  12 1  1211           5301 11178207511712016424420224199503232 92925254510 62112 7 231 641315    000000010110000000000000000000000000003409.70259067865534400.92339685556454772.80142388985952271231\n",
      "       12215 1     6 1     11144 1135     9 241 9   0  1 711             1144  9338                        1                1   61  6  121 12                                                        118511441185 9921144                111             2    1   12  11         5411 111443191113531161211     2 52 2222 76139391117122222 2 2224692215    00000000000000000000000000000000000000 2418.235397151211 2931.520066196804 5349.7309688025472811237\n",
      "       12239 1     6 1     11176 1167     04141 9   0  1 7 9             1176  592811   2  05 111  11  6  61                1   61  6   81  8                                                        11931176119311651176                5          1    2    1   1251           5411 111762025116719501215 21122 3512222 93325254513102221 3 241 788325    00000001010000000000000000000000000000 7225.97553692628211240.54582168181318905.4740174866421361235\n",
      "       12240 1     6 1     11163 1155     03636 8   0  2 5 6             1163  7222                        1                5                                                                        11631163120711511163                5          55         4  1211           5361 111631866115518005155     1995 5252 93924245610 61232 5 1311561315    000000000000000000000000000000000000001806.74889730952992145.94315474614723256.03954869632931111235\n",
      "       12240 2     3   116521165111622024 3 013 3                                                                                                                                                    11631163120711631165                5          55         4  131111         5132  11651883116218585155          5151 93924245610 61232 5 1311561315    000000000000000000000000000000000000001806.74889730952992145.94315474614723256.03954869632931111235\n",
      "       12240 3     3   118921189111862125 3 013 3                                                                                                                                                    11631163120711651189                115         5         4 5131111 0 0  4  5132  11892083118620585155          5151 93924245610 61232 5 1311561315    000000000000000000000000000000000000001806.74889730952992145.94315474614723256.03954869632931111235\n",
      "       12240 4     1   11932119301191  26 2 0 9 2                                       4  3135                                                                                                      11631163120711891193                           55         4 1131111 0 0  4  5 94  11932116119121005155 495      5151 93924245610 61232 5 1311561315    000000000000000000000000000000000000001806.74889730952992145.94315474614723256.03954869632931111235\n",
      "       12240 5     1   12072120701204  26 3 013 3                                       3  3135                                                                                                      1163116312071193120712071235                   55         4 1131111 0 0  4  5134  12072233120422085155 395      5151 93924245610 61232 5 1311561315    000000000000000000000000000000000000001806.74889730952992145.94315474614723256.03954869632931111235\n",
      "       12254 6     6 1     11155 1146     9 039 9   0  1 6 5             1155  7334                        1                5                                                                        1155 98811551143115511551228        115         5         4  125511         5391 411553191114631165155     2995 5252 77237375613101232 6 441 541325    00000000000000000000000000000000000000 982.90382275710271233.07872969959771887.22699580523432541228\n",
      "       12263 1     6 1     11166 1157     9 039 9   0  1 6 6             1166  692213   4  05 1 4  5       51               1   51  5   81  8                                                        12241166122411531166                5          1    2    1   1211           5391 111662025115719501211 4 442 3502222 923262611 9 92112 2 212 357121199500001011211000000000000000000000011000  2418.59142161769  4871.42890114191 5283.0646432884012251235\n",
      "       12268 1     6 1     11174 1165     04040 9   0  1 7 0             1174  6427112  3  2111 3  11  2  01                1   41  4  121 12                                                        1174117411741078117411741238        15  710     1   2    3   12  11         5401 111742483116524081211 3 332 5212222 87630301113102222 1 1215001315    00000000000000000000000000000000000000 7768.287848875964 14061.7528207106424397.1411439329641231238\n",
      "       12283 5     3   11662116601164  37 0 9 9 2                                                                                                                                                     998 89611661096116611661236        15 1017     5         4  5 5511         5 92  11663833116438165165          5555 70644445612 91232 5 2223281325    000000000000000000000000000000000000005491.7077069412235 10778.6906292165113150.0025676441422651236\n",
      "       12300 4     3   11852118501181  29 2 817 4                                                                                                                                                    12101071121011591185                15  3 4     1   2    1   6   5          5172  11853150118131161211          2626 80735351113101232 5 2222641315    00000000000000000000000000000000000000 2816.9088579371933383.4313276990174 5178.3416470433461571228\n",
      "       12386 3     6 1     11153 1144     9 039 9   0  2 6 6             1153  7999                        1                5                                                                        1153105011531100115311531232        15  1       1   2    2   125511         5391 211533116114430415165     2995 2222 779373756 9 51232 3 231 647215    00000000000000000000000000000000000000 1905.144181921334 2100.7143694231753215.14334240216931311232\n",
      "       12413 8     6 1     11175 1166     9 039 9   0  1 614             1175  573013   8  45 116  5       51               5                                                                        1222 930122211331175                5          51   2    3   5 1511         5391 611753433116633585165 8164299502525 76339395210 6123210 8311187325    00000000000000000000000000000000001000 1167.6783708062231278.27277685504711956.39648497664961461232\n",
      "       12426 6     6 1     11181 1172     03838 9   0  1 8 0             1181  523113   3  35 1 6  5       51               5                                                                        1181109011811156118111811233        15 17       5         3  5   11         5381 411813116117230411211 3 64299505555 80735351115102222 6 4121597315    00000000000000000000000000000000000000 5354.755765114439 6127.95613503129311182.9071508186062581233\n",
      "       12428 2     6 1     11176 1167     9 039 9   0  1 7 8             1176  612113  16  05 116  5       1                1   61  6  121 12                                                        12141139121411391176                111             2    1   5 11           5391 211761983116719081215161642 5202525 93824243212 92112 4 421 541215    00000000000000000000000000000000000000 3293.004330028908 4074.793565555422 4575.9931741187392811237\n",
      "       12550 1     6 1     11232 1223     04141 9   0  2 8 2             1232   32213   7  45 1 7  11 13  01                11 112  31 112  3                                                        1232123212321179123212321235                   51   2    1 101111   5 6     1411 112322025122319501215 7 742 1112323 98920201113102222 1 1311641335    000000000000000000000000000000002000003080.45269865769573745.3260575939034 5268.5501652173441791235\n",
      "       12551 1     5 1     11163 1154     04040 9   0  1 7 8             1163  7236                        1                1   21  2   21  2                                                        116311631163 991116311631235        111             2    1   1211           5401 111633266115431915155     2  9 2222 77138385612 92112 1 1221561215    00000000000000000000000000000000000000 2418.5388658149743653.45326799798573951.94039999342162751235\n"
     ]
    }
   ],
   "source": [
    "# print the lines that contain a particular string\n",
    "string='3116'\n",
    "!grep $string 2002FemPreg.dat"
   ]
  },
  {
   "cell_type": "code",
   "execution_count": 114,
   "metadata": {
    "collapsed": false
   },
   "outputs": [
    {
     "name": "stdout",
     "output_type": "stream",
     "text": [
      "   13593  475347 6089664 2002FemPreg.dat\n",
      "     568   20384  254464\n"
     ]
    }
   ],
   "source": [
    "#suppose we just want to know how many lines have this string inside them.\n",
    "# this is our first use of pipes\n",
    "#the output from grep serves as the input to wc\n",
    "!wc 2002FemPreg.dat\n",
    "!grep $string 2002FemPreg.dat | wc"
   ]
  },
  {
   "cell_type": "code",
   "execution_count": 115,
   "metadata": {
    "collapsed": false
   },
   "outputs": [],
   "source": [
    "#cut is a command that cuts specific fields from from each line \n",
    "%man cut"
   ]
  },
  {
   "cell_type": "code",
   "execution_count": 116,
   "metadata": {
    "collapsed": false
   },
   "outputs": [
    {
     "name": "stdout",
     "output_type": "stream",
     "text": [
      "babysex 56 56 55-56\n",
      " 1\n",
      " 2\n",
      " 1\n",
      " 2\n",
      " 2\n"
     ]
    }
   ],
   "source": [
    "# Extract from each line a specific field\n",
    "field='babysex'\n",
    "(fr,to,typ)=fields_dict[field]\n",
    "Range=str(fr-1)+'-'+str(to)\n",
    "print field,fr,to,Range\n",
    "!cut -c $Range 2002FemPreg.dat | head -5"
   ]
  },
  {
   "cell_type": "code",
   "execution_count": 117,
   "metadata": {
    "collapsed": false
   },
   "outputs": [
    {
     "name": "stdout",
     "output_type": "stream",
     "text": [
      " 2\r\n",
      " 2\r\n",
      " 2\r\n",
      "02\r\n",
      "02\r\n",
      "02\r\n",
      "02\r\n",
      " 7\r\n",
      " 9\r\n",
      " 9\r\n"
     ]
    }
   ],
   "source": [
    "# lets sort these lines numerically, and look at the end, also known as the tail\n",
    "!cut -c $Range 2002FemPreg.dat | sort -n | tail"
   ]
  },
  {
   "cell_type": "code",
   "execution_count": 118,
   "metadata": {
    "collapsed": false
   },
   "outputs": [
    {
     "name": "stdout",
     "output_type": "stream",
     "text": [
      "4449   \r\n",
      "4638  1\r\n",
      "   3 01\r\n",
      "4496  2\r\n",
      "   4 02\r\n",
      "   1  7\r\n",
      "   2  9\r\n"
     ]
    }
   ],
   "source": [
    "#count the number of times each value appears using uniq\n",
    "!cut -c $Range 2002FemPreg.dat | sort -n | uniq -c"
   ]
  },
  {
   "cell_type": "code",
   "execution_count": 119,
   "metadata": {
    "collapsed": false
   },
   "outputs": [
    {
     "name": "stdout",
     "output_type": "stream",
     "text": [
      "head of cut 55-56\n",
      " 1\n",
      " 2\n",
      " 1\n",
      " 2\n",
      " 2\n",
      " 1\n",
      " 2\n",
      " 2\n",
      " 1\n",
      " 2\n",
      "2002FemPreg.dat 2002FemResp.dat 2002Male.dat    cut55-56        survey.pl\n",
      "output from uniq\n",
      "4449   \n",
      "4638  1\n",
      "   3 01\n",
      "4496  2\n",
      "   4 02\n",
      "   1  7\n",
      "   2  9\n"
     ]
    }
   ],
   "source": [
    "# do the same thing but using an intermediary file\n",
    "!cut -c $Range 2002FemPreg.dat > cut$Range\n",
    "print 'head of cut',Range\n",
    "!head cut$Range\n",
    "!ls\n",
    "print 'output from uniq'\n",
    "!cat cut$Range | sort -n | uniq -c"
   ]
  },
  {
   "cell_type": "markdown",
   "metadata": {},
   "source": [
    "## Environment variables\n",
    "\n",
    "Environment variables are strings that define the set up of the session. Environment variables allow the user to avoid\n",
    "retyping the same parameters over and over."
   ]
  },
  {
   "cell_type": "code",
   "execution_count": 120,
   "metadata": {
    "collapsed": false
   },
   "outputs": [
    {
     "data": {
      "text/plain": [
       "{'Apple_PubSub_Socket_Render': '/private/tmp/com.apple.launchd.dVFhiSL1iM/Render',\n",
       " 'BOLD': '\\x1b[1m',\n",
       " 'CLICOLOR': '1',\n",
       " 'COLORFGBG': '11;15',\n",
       " 'DESTINATION': '/var/folders/sh/538yfg0x5631sv2vd6j8dc1w0000gn/T/iTerm 2.1.1 Update',\n",
       " 'EDITOR': '/usr/local/bin/mate -w',\n",
       " 'GIT_PAGER': 'cat',\n",
       " 'GREEN': '\\x1b[38;5;64m',\n",
       " 'HOME': '/Users/alexegg',\n",
       " 'ITERM_PROFILE': 'Alex Egg',\n",
       " 'ITERM_SESSION_ID': 'w0t1p0',\n",
       " 'JPY_PARENT_PID': '2666',\n",
       " 'LANG': 'en_US.UTF-8',\n",
       " 'LOGNAME': 'alexegg',\n",
       " 'LS_COLORS': 'no=00:fi=00:di=01;34:ln=01;36:pi=40;33:so=01;35:do=01;35:bd=40;33;01:cd=40;33;01:or=40;31;01:ex=01;32:*.tar=01;31:*.tgz=01;31:*.arj=01;31:*.taz=01;31:*.lzh=01;31:*.zip=01;31:*.z=01;31:*.Z=01;31:*.gz=01;31:*.bz2=01;31:*.deb=01;31:*.rpm=01;31:*.jar=01;31:*.jpg=01;35:*.jpeg=01;35:*.gif=01;35:*.bmp=01;35:*.pbm=01;35:*.pgm=01;35:*.ppm=01;35:*.tga=01;35:*.xbm=01;35:*.xpm=01;35:*.tif=01;35:*.tiff=01;35:*.png=01;35:*.mov=01;35:*.mpg=01;35:*.mpeg=01;35:*.avi=01;35:*.fli=01;35:*.gl=01;35:*.dl=01;35:*.xcf=01;35:*.xwd=01;35:*.ogg=01;35:*.mp3=01;35:*.wav=01;35:',\n",
       " 'MAGENTA': '\\x1b[38;5;125m',\n",
       " 'OLDPWD': '/Users/alexegg/Development/DSE/DSE200-notebooks',\n",
       " 'ORANGE': '\\x1b[38;5;166m',\n",
       " 'PAGER': 'cat',\n",
       " 'PATH': '/Users/alexegg/Development/google-cloud-sdk/bin:/Users/alexegg/.rbenv/shims:/usr/local/bin:/usr/bin:/bin:/usr/sbin:/sbin',\n",
       " 'PS1': '\\\\[\\x1b[1m\\x1b[38;5;125m\\\\]\\\\u \\\\[\\x1b[38;5;244m\\\\]at \\\\[\\x1b[38;5;166m\\\\]\\\\h \\\\[\\x1b[38;5;244m\\\\]in \\\\[\\x1b[38;5;64m\\\\]\\\\w\\\\[\\x1b[38;5;244m\\\\]$([[ -n $(git branch 2> /dev/null) ]] && echo \" on \")\\\\[\\x1b[38;5;61m\\\\]$(parse_git_branch)\\\\[\\x1b[38;5;244m\\\\]\\\\n$ \\\\[\\x1b(B\\x1b[m\\\\]',\n",
       " 'PS2': '\\\\[\\x1b[38;5;166m\\\\]\\xe2\\x86\\x92 \\\\[\\x1b(B\\x1b[m\\\\]',\n",
       " 'PURPLE': '\\x1b[38;5;61m',\n",
       " 'PWD': '/Users/alexegg/Development/DSE/DSE200-notebooks/day_1_python_and_unix',\n",
       " 'RESET': '\\x1b(B\\x1b[m',\n",
       " 'SHELL': '/bin/bash',\n",
       " 'SHLVL': '1',\n",
       " 'SSH_AUTH_SOCK': '/private/tmp/com.apple.launchd.gzQ4KB329J/Listeners',\n",
       " 'TERM': 'xterm-color',\n",
       " 'TERM_PROGRAM': 'iTerm.app',\n",
       " 'TMPDIR': '/var/folders/sh/538yfg0x5631sv2vd6j8dc1w0000gn/T/',\n",
       " 'USER': 'alexegg',\n",
       " 'WHITE': '\\x1b[38;5;244m',\n",
       " 'XPC_FLAGS': '0x0',\n",
       " 'XPC_SERVICE_NAME': '0',\n",
       " '_': '/usr/local/bin/ipython',\n",
       " '__CF_USER_TEXT_ENCODING': '0x1F5:0x0:0x0'}"
      ]
     },
     "execution_count": 120,
     "metadata": {},
     "output_type": "execute_result"
    }
   ],
   "source": [
    "#view all of the currently defined environment variable\n",
    "%env"
   ]
  },
  {
   "cell_type": "code",
   "execution_count": 121,
   "metadata": {
    "collapsed": false
   },
   "outputs": [
    {
     "name": "stdout",
     "output_type": "stream",
     "text": [
      "/Users/alexegg alexegg\r\n"
     ]
    }
   ],
   "source": [
    "#view the valuse of a particular variables \n",
    "!echo $HOME $USER"
   ]
  },
  {
   "cell_type": "code",
   "execution_count": 122,
   "metadata": {
    "collapsed": false
   },
   "outputs": [
    {
     "name": "stdout",
     "output_type": "stream",
     "text": [
      "25\r\n"
     ]
    }
   ],
   "source": [
    "#The $ symbol is required as a prefix of the variable names\n",
    "#When used inside ipython, this $ can be used to refer to any currently defined variable\n",
    "i=25\n",
    "!echo $i"
   ]
  },
  {
   "cell_type": "code",
   "execution_count": 123,
   "metadata": {
    "collapsed": false
   },
   "outputs": [
    {
     "name": "stdout",
     "output_type": "stream",
     "text": [
      "PATH=/Users/alexegg/Development/google-cloud-sdk/bin:/Users/alexegg/.rbenv/shims:/usr/local/bin:/usr/bin:/bin:/usr/sbin:/sbin\r\n"
     ]
    }
   ],
   "source": [
    "#Particularly important are environment variables called \"paths\"\n",
    "!env | grep -i path"
   ]
  },
  {
   "cell_type": "code",
   "execution_count": 124,
   "metadata": {
    "collapsed": false
   },
   "outputs": [
    {
     "name": "stdout",
     "output_type": "stream",
     "text": [
      "/usr/bin/sort\r\n"
     ]
    }
   ],
   "source": [
    "# The path defines where the system will look for commands and in what order.\n",
    "# PATH tells the unix shell (bash) where to find the executables corresponding to commands\n",
    "# while PYTHONPATH tells python from where to `import` packages.\n",
    "# lets see where unix finds the command \"sort\"\n",
    "!which sort\n",
    "# Check on the variable PATH and you will see that /usr/bin is on it."
   ]
  },
  {
   "cell_type": "code",
   "execution_count": 125,
   "metadata": {
    "collapsed": false
   },
   "outputs": [
    {
     "name": "stdout",
     "output_type": "stream",
     "text": [
      "/usr/bin/sort\r\n"
     ]
    }
   ],
   "source": [
    "# You can also find all of the places along the path that have a definition relevant to sort\n",
    "!whereis sort\n",
    "# The last one is the manual page for sort which you can view using the command %man sort"
   ]
  },
  {
   "cell_type": "markdown",
   "metadata": {},
   "source": [
    "#### Excercise \n",
    "find where the location of the commands `python`,`ipython` and `mail`"
   ]
  },
  {
   "cell_type": "code",
   "execution_count": 126,
   "metadata": {
    "collapsed": false
   },
   "outputs": [
    {
     "name": "stdout",
     "output_type": "stream",
     "text": [
      "/usr/local/bin/python\r\n"
     ]
    }
   ],
   "source": [
    "!which python"
   ]
  },
  {
   "cell_type": "markdown",
   "metadata": {},
   "source": [
    "## Wildcards and glob\n",
    "\n",
    "We have seen the most used wild-card `*`, which matches any sequence of (non blank) characters.\n",
    "For example `B*.py` will match any filename that starts with `B` and ends with `.py`.\n",
    "\n",
    "Other useful wildcards are:\n",
    "\n",
    "wild card | Description\n",
    "--------|--------------------------------------------------------   \n",
    "    `*`   |  An asterisk matches any number of characters in a filename, including none.\n",
    "    `?`   |  The question mark matches any single character.\n",
    "    `[ ]` |  Brackets enclose a set of characters, any one of which may match a single character at that position.\n",
    "    `-`   |  A hyphen used within [ ] denotes a range of characters.\n",
    "    `~`   |  A tilde at the beginning of a word expands to the name of your home directory.  If you append another user's login name to the character, it refers to that user's home directory.\n",
    "    \n",
    "**Here are some examples:**\n",
    "\n",
    "1. **cat c* ** displays any file whose name begins with c including the file c, if it exists.\n",
    "1. **ls *.c ** lists all files that have a .c extension.\n",
    "1. **cp ../rmt?. ** copies every file in the parent directory that is four characters long and begins with rmt to the working directory. (The names will remain the same.)\n",
    "1. **ls rmt[34567] ** lists every file that begins with rmt and has a 3, 4, 5, 6, or 7 at the end.\n",
    "1. **ls rmt[3-7] ** does exactly the same thing as the previous example.\n",
    "1. **ls ~ ** lists your home directory.\n",
    "1. **ls ~hessen ** lists the home directory of the guy1 with the user id hessen."
   ]
  },
  {
   "cell_type": "markdown",
   "metadata": {},
   "source": [
    "#### within python, use glob()\n",
    "\n",
    "You get the same functionality as wildcards by using the function `glob`, but instead of getting the result printed out, you get it as a list of strings."
   ]
  },
  {
   "cell_type": "code",
   "execution_count": 127,
   "metadata": {
    "collapsed": false
   },
   "outputs": [
    {
     "name": "stdout",
     "output_type": "stream",
     "text": [
      "ls: li*: No such file or directory\r\n"
     ]
    },
    {
     "data": {
      "text/plain": [
       "[]"
      ]
     },
     "execution_count": 127,
     "metadata": {},
     "output_type": "execute_result"
    }
   ],
   "source": [
    "!ls -d li* # do not descent into directories\n",
    "from glob import glob\n",
    "L=glob('li*')\n",
    "L"
   ]
  },
  {
   "cell_type": "markdown",
   "metadata": {},
   "source": [
    "## Loading and saving files\n",
    "\n",
    "It is often useful to load short files into the notebook, alter them, and save them back into the file system. The magics `%load` and `%%writefile` are used to do that.\n"
   ]
  },
  {
   "cell_type": "code",
   "execution_count": 128,
   "metadata": {
    "collapsed": false
   },
   "outputs": [
    {
     "name": "stdout",
     "output_type": "stream",
     "text": [
      "2002FemPreg.dat 2002FemResp.dat 2002Male.dat    cut55-56        survey.pl\r\n"
     ]
    }
   ],
   "source": [
    "!ls"
   ]
  },
  {
   "cell_type": "code",
   "execution_count": 104,
   "metadata": {
    "collapsed": false
   },
   "outputs": [
    {
     "ename": "ValueError",
     "evalue": "'survey.pl' was not found in history, as a file, url, nor in the user namespace.",
     "output_type": "error",
     "traceback": [
      "\u001b[0;31m---------------------------------------------------------------------------\u001b[0m",
      "\u001b[0;31mValueError\u001b[0m                                Traceback (most recent call last)",
      "\u001b[0;32m<ipython-input-104-3b8967ff42db>\u001b[0m in \u001b[0;36m<module>\u001b[0;34m()\u001b[0m\n\u001b[1;32m      1\u001b[0m \u001b[0;31m# the magic %load, unlike using !cat, creates a new cell that can be executed inside the notebook\u001b[0m\u001b[0;34m\u001b[0m\u001b[0;34m\u001b[0m\u001b[0m\n\u001b[0;32m----> 2\u001b[0;31m \u001b[0mget_ipython\u001b[0m\u001b[0;34m(\u001b[0m\u001b[0;34m)\u001b[0m\u001b[0;34m.\u001b[0m\u001b[0mmagic\u001b[0m\u001b[0;34m(\u001b[0m\u001b[0;34mu'load survey.pl'\u001b[0m\u001b[0;34m)\u001b[0m\u001b[0;34m\u001b[0m\u001b[0m\n\u001b[0m",
      "\u001b[0;32m/usr/local/lib/python2.7/site-packages/IPython/core/interactiveshell.pyc\u001b[0m in \u001b[0;36mmagic\u001b[0;34m(self, arg_s)\u001b[0m\n\u001b[1;32m   2334\u001b[0m         \u001b[0mmagic_name\u001b[0m\u001b[0;34m,\u001b[0m \u001b[0m_\u001b[0m\u001b[0;34m,\u001b[0m \u001b[0mmagic_arg_s\u001b[0m \u001b[0;34m=\u001b[0m \u001b[0marg_s\u001b[0m\u001b[0;34m.\u001b[0m\u001b[0mpartition\u001b[0m\u001b[0;34m(\u001b[0m\u001b[0;34m' '\u001b[0m\u001b[0;34m)\u001b[0m\u001b[0;34m\u001b[0m\u001b[0m\n\u001b[1;32m   2335\u001b[0m         \u001b[0mmagic_name\u001b[0m \u001b[0;34m=\u001b[0m \u001b[0mmagic_name\u001b[0m\u001b[0;34m.\u001b[0m\u001b[0mlstrip\u001b[0m\u001b[0;34m(\u001b[0m\u001b[0mprefilter\u001b[0m\u001b[0;34m.\u001b[0m\u001b[0mESC_MAGIC\u001b[0m\u001b[0;34m)\u001b[0m\u001b[0;34m\u001b[0m\u001b[0m\n\u001b[0;32m-> 2336\u001b[0;31m         \u001b[0;32mreturn\u001b[0m \u001b[0mself\u001b[0m\u001b[0;34m.\u001b[0m\u001b[0mrun_line_magic\u001b[0m\u001b[0;34m(\u001b[0m\u001b[0mmagic_name\u001b[0m\u001b[0;34m,\u001b[0m \u001b[0mmagic_arg_s\u001b[0m\u001b[0;34m)\u001b[0m\u001b[0;34m\u001b[0m\u001b[0m\n\u001b[0m\u001b[1;32m   2337\u001b[0m \u001b[0;34m\u001b[0m\u001b[0m\n\u001b[1;32m   2338\u001b[0m     \u001b[0;31m#-------------------------------------------------------------------------\u001b[0m\u001b[0;34m\u001b[0m\u001b[0;34m\u001b[0m\u001b[0m\n",
      "\u001b[0;32m/usr/local/lib/python2.7/site-packages/IPython/core/interactiveshell.pyc\u001b[0m in \u001b[0;36mrun_line_magic\u001b[0;34m(self, magic_name, line)\u001b[0m\n\u001b[1;32m   2255\u001b[0m                 \u001b[0mkwargs\u001b[0m\u001b[0;34m[\u001b[0m\u001b[0;34m'local_ns'\u001b[0m\u001b[0;34m]\u001b[0m \u001b[0;34m=\u001b[0m \u001b[0msys\u001b[0m\u001b[0;34m.\u001b[0m\u001b[0m_getframe\u001b[0m\u001b[0;34m(\u001b[0m\u001b[0mstack_depth\u001b[0m\u001b[0;34m)\u001b[0m\u001b[0;34m.\u001b[0m\u001b[0mf_locals\u001b[0m\u001b[0;34m\u001b[0m\u001b[0m\n\u001b[1;32m   2256\u001b[0m             \u001b[0;32mwith\u001b[0m \u001b[0mself\u001b[0m\u001b[0;34m.\u001b[0m\u001b[0mbuiltin_trap\u001b[0m\u001b[0;34m:\u001b[0m\u001b[0;34m\u001b[0m\u001b[0m\n\u001b[0;32m-> 2257\u001b[0;31m                 \u001b[0mresult\u001b[0m \u001b[0;34m=\u001b[0m \u001b[0mfn\u001b[0m\u001b[0;34m(\u001b[0m\u001b[0;34m*\u001b[0m\u001b[0margs\u001b[0m\u001b[0;34m,\u001b[0m\u001b[0;34m**\u001b[0m\u001b[0mkwargs\u001b[0m\u001b[0;34m)\u001b[0m\u001b[0;34m\u001b[0m\u001b[0m\n\u001b[0m\u001b[1;32m   2258\u001b[0m             \u001b[0;32mreturn\u001b[0m \u001b[0mresult\u001b[0m\u001b[0;34m\u001b[0m\u001b[0m\n\u001b[1;32m   2259\u001b[0m \u001b[0;34m\u001b[0m\u001b[0m\n",
      "\u001b[0;32m/usr/local/lib/python2.7/site-packages/IPython/core/magics/code.pyc\u001b[0m in \u001b[0;36mload\u001b[0;34m(self, arg_s)\u001b[0m\n",
      "\u001b[0;32m/usr/local/lib/python2.7/site-packages/IPython/core/magic.pyc\u001b[0m in \u001b[0;36m<lambda>\u001b[0;34m(f, *a, **k)\u001b[0m\n\u001b[1;32m    191\u001b[0m     \u001b[0;31m# but it's overkill for just that one bit of state.\u001b[0m\u001b[0;34m\u001b[0m\u001b[0;34m\u001b[0m\u001b[0m\n\u001b[1;32m    192\u001b[0m     \u001b[0;32mdef\u001b[0m \u001b[0mmagic_deco\u001b[0m\u001b[0;34m(\u001b[0m\u001b[0marg\u001b[0m\u001b[0;34m)\u001b[0m\u001b[0;34m:\u001b[0m\u001b[0;34m\u001b[0m\u001b[0m\n\u001b[0;32m--> 193\u001b[0;31m         \u001b[0mcall\u001b[0m \u001b[0;34m=\u001b[0m \u001b[0;32mlambda\u001b[0m \u001b[0mf\u001b[0m\u001b[0;34m,\u001b[0m \u001b[0;34m*\u001b[0m\u001b[0ma\u001b[0m\u001b[0;34m,\u001b[0m \u001b[0;34m**\u001b[0m\u001b[0mk\u001b[0m\u001b[0;34m:\u001b[0m \u001b[0mf\u001b[0m\u001b[0;34m(\u001b[0m\u001b[0;34m*\u001b[0m\u001b[0ma\u001b[0m\u001b[0;34m,\u001b[0m \u001b[0;34m**\u001b[0m\u001b[0mk\u001b[0m\u001b[0;34m)\u001b[0m\u001b[0;34m\u001b[0m\u001b[0m\n\u001b[0m\u001b[1;32m    194\u001b[0m \u001b[0;34m\u001b[0m\u001b[0m\n\u001b[1;32m    195\u001b[0m         \u001b[0;32mif\u001b[0m \u001b[0mcallable\u001b[0m\u001b[0;34m(\u001b[0m\u001b[0marg\u001b[0m\u001b[0;34m)\u001b[0m\u001b[0;34m:\u001b[0m\u001b[0;34m\u001b[0m\u001b[0m\n",
      "\u001b[0;32m/usr/local/lib/python2.7/site-packages/IPython/core/magics/code.pyc\u001b[0m in \u001b[0;36mload\u001b[0;34m(self, arg_s)\u001b[0m\n\u001b[1;32m    312\u001b[0m         \u001b[0msearch_ns\u001b[0m \u001b[0;34m=\u001b[0m \u001b[0;34m'n'\u001b[0m \u001b[0;32min\u001b[0m \u001b[0mopts\u001b[0m\u001b[0;34m\u001b[0m\u001b[0m\n\u001b[1;32m    313\u001b[0m \u001b[0;34m\u001b[0m\u001b[0m\n\u001b[0;32m--> 314\u001b[0;31m         \u001b[0mcontents\u001b[0m \u001b[0;34m=\u001b[0m \u001b[0mself\u001b[0m\u001b[0;34m.\u001b[0m\u001b[0mshell\u001b[0m\u001b[0;34m.\u001b[0m\u001b[0mfind_user_code\u001b[0m\u001b[0;34m(\u001b[0m\u001b[0margs\u001b[0m\u001b[0;34m,\u001b[0m \u001b[0msearch_ns\u001b[0m\u001b[0;34m=\u001b[0m\u001b[0msearch_ns\u001b[0m\u001b[0;34m)\u001b[0m\u001b[0;34m\u001b[0m\u001b[0m\n\u001b[0m\u001b[1;32m    315\u001b[0m \u001b[0;34m\u001b[0m\u001b[0m\n\u001b[1;32m    316\u001b[0m         \u001b[0;32mif\u001b[0m \u001b[0;34m's'\u001b[0m \u001b[0;32min\u001b[0m \u001b[0mopts\u001b[0m\u001b[0;34m:\u001b[0m\u001b[0;34m\u001b[0m\u001b[0m\n",
      "\u001b[0;32m/usr/local/lib/python2.7/site-packages/IPython/core/interactiveshell.pyc\u001b[0m in \u001b[0;36mfind_user_code\u001b[0;34m(self, target, raw, py_only, skip_encoding_cookie, search_ns)\u001b[0m\n\u001b[1;32m   3365\u001b[0m         \u001b[0;32mexcept\u001b[0m \u001b[0mException\u001b[0m\u001b[0;34m:\u001b[0m\u001b[0;34m\u001b[0m\u001b[0m\n\u001b[1;32m   3366\u001b[0m             raise ValueError((\"'%s' was not found in history, as a file, url, \"\n\u001b[0;32m-> 3367\u001b[0;31m                                 \"nor in the user namespace.\") % target)\n\u001b[0m\u001b[1;32m   3368\u001b[0m \u001b[0;34m\u001b[0m\u001b[0m\n\u001b[1;32m   3369\u001b[0m         \u001b[0;32mif\u001b[0m \u001b[0misinstance\u001b[0m\u001b[0;34m(\u001b[0m\u001b[0mcodeobj\u001b[0m\u001b[0;34m,\u001b[0m \u001b[0mstring_types\u001b[0m\u001b[0;34m)\u001b[0m\u001b[0;34m:\u001b[0m\u001b[0;34m\u001b[0m\u001b[0m\n",
      "\u001b[0;31mValueError\u001b[0m: 'survey.pl' was not found in history, as a file, url, nor in the user namespace."
     ]
    }
   ],
   "source": [
    "# the magic %load, unlike using !cat, creates a new cell that can be executed inside the notebook\n",
    "%load survey.pl"
   ]
  },
  {
   "cell_type": "markdown",
   "metadata": {},
   "source": [
    "## Processes\n",
    "\n",
    "A process is a sequence of commands that are executed in sequence, one after the other.\n",
    "By using \"time sharing\" a single CPU can compute many processes at the same time, frequently switching from one process to the next. In a multi-core machine, there are several CPUs and so even more processes can execute at the same time."
   ]
  },
  {
   "cell_type": "code",
   "execution_count": null,
   "metadata": {
    "collapsed": false
   },
   "outputs": [],
   "source": [
    "# You can find out the current processes on your system using the command \"top\"\n",
    "# without flags, the command will open a window that will constantly update and that also\n",
    "# allows you to quit (or kill) processes. Here we use the flags to specify that top should only run once.\n",
    "!top -b -n 1"
   ]
  },
  {
   "cell_type": "markdown",
   "metadata": {},
   "source": [
    "## Pipes\n",
    "We used pipes above to communicate between two or more unix commands.\n",
    "We now discuss this in more detail.\n",
    "\n",
    "Unix processes have three default input and output channels\n",
    "* **stdin** the standard input channel - by default - the keyboard\n",
    "* **stdout** the standard output channel - by default - the terminal.\n",
    "* **stderr** the standard error channel - by default - the terminal.\n",
    "\n",
    "Channels can be used to connect programs to each other and to connect programs and files. This is called **I/O redirection**.\n",
    "\n",
    "Connecting a standard channel to files is done using the following symbols\n",
    "(in bash, which is the standard shell in both ubuntu and os-x).\n",
    "\n",
    "| command      | result |\n",
    "|--------------|-----------------------------------------------------|\n",
    "| < filename   | Redirect stdin to read from the file \"filename\" |\n",
    "| > filename  | Redirect stdout to file \"filename.\" |\n",
    "| >>filename  | Redirect and append stdout to file \"filename.\" |\n",
    "| 1>filename   | Redirect stdout to file \"filename.\" |\n",
    "| 1>>filename  | Redirect and append stdout to file \"filename.\" |\n",
    "| 2>filename   | Redirect stderr to file \"filename.\" |\n",
    "| 2>>filename  | Redirect and append stderr to file \"filename.\" |\n",
    "| &>filename   | Redirect both stdout and stderr to file \"filename.\" |\n"
   ]
  },
  {
   "cell_type": "code",
   "execution_count": null,
   "metadata": {
    "collapsed": false
   },
   "outputs": [],
   "source": [
    "# One of the most basic unix command is cat\n",
    "%cd ~\n",
    "!cat < .bash_logout"
   ]
  },
  {
   "cell_type": "code",
   "execution_count": 129,
   "metadata": {
    "collapsed": false
   },
   "outputs": [
    {
     "name": "stdout",
     "output_type": "stream",
     "text": [
      "MAS-FILE\n",
      "MAS-DSE is the best\n"
     ]
    }
   ],
   "source": [
    "# echo is another basic command, it pipes the string it gets as a parameter to std-out\n",
    "# To create a file with some specific line we can use\n",
    "!echo \"MAS-DSE is the best\" | cat > \"MAS-FILE\"\n",
    "!ls MAS*\n",
    "!cat MAS-FILE\n",
    "!rm MAS-FILE"
   ]
  },
  {
   "cell_type": "code",
   "execution_count": null,
   "metadata": {
    "collapsed": false
   },
   "outputs": [],
   "source": [
    "# some time we want to supress the error messages.\n",
    "# To do that we redirect stderr to a fictitious file called /dev/null\n",
    "# In addition, we can take the output and sort it (numerically, in reverse) according to the size\n",
    "!du -s /*  | 2> /dev/null  | sort -nr\n",
    "\n"
   ]
  },
  {
   "cell_type": "markdown",
   "metadata": {},
   "source": [
    "## Interacting with external programs through pipes"
   ]
  },
  {
   "cell_type": "code",
   "execution_count": null,
   "metadata": {
    "collapsed": false
   },
   "outputs": [],
   "source": [
    "#the command top gives us a snapshot of the currently running processes\n",
    "!top -b -n 1"
   ]
  },
  {
   "cell_type": "code",
   "execution_count": null,
   "metadata": {
    "collapsed": false
   },
   "outputs": [],
   "source": [
    "# We can run the program from within a python script (using ! requires running inside ipython)\n",
    "\n",
    "# here we use python to find those processes that take a non-zero part of the memory.\n",
    "import subprocess\n",
    "\n",
    "output = subprocess.check_output(['top', '-b','-n','1'])\n",
    "print 'Have %d bytes in output' % len(output)\n",
    "\n",
    "lines=output.splitlines() # break output into lines\n",
    "len(lines)\n",
    "for line in lines:\n",
    "    percent = line[47:50]\n",
    "    try:\n",
    "        p=float(percent)\n",
    "    except:\n",
    "        continue\n",
    "    if p>0:\n",
    "        print line,"
   ]
  },
  {
   "cell_type": "raw",
   "metadata": {},
   "source": [
    "    1 root      20   0 24336 1492  536 S  0.0  0.2   0:00.40 init       \n",
    "0123456789012345678901234567890123456789012345678901234567890123456789\n",
    "0         1         2         3         4         5         6         "
   ]
  },
  {
   "cell_type": "code",
   "execution_count": null,
   "metadata": {
    "collapsed": false
   },
   "outputs": [],
   "source": [
    "# If we use top in it's default non-batch form, the program crashes\n",
    "output = subprocess.check_output(['top'])\n",
    "print 'Have %d bytes in output' % len(output)\n"
   ]
  },
  {
   "cell_type": "code",
   "execution_count": null,
   "metadata": {
    "collapsed": false
   },
   "outputs": [],
   "source": [
    "# it runs fine with !\n",
    "!top"
   ]
  },
  {
   "cell_type": "code",
   "execution_count": null,
   "metadata": {
    "collapsed": false
   },
   "outputs": [],
   "source": [
    "# what we need to do is run the process 'top' in the background - in parallel to the ipython session\n",
    "# and print what the program outputs to stdout as it becomes available\n",
    "\n",
    "# The slight problem is that this code has a bug and it does not work right, can you make it work?\n",
    "\n",
    "import select\n",
    "from time import sleep\n",
    "\n",
    "def dataWaiting(source):\n",
    "    \" Check if data is waiting to be read \"\n",
    "    return select.select([source], [], [], 0) == ([source], [], [])\n",
    "\n",
    "proc = subprocess.Popen(['top'], \n",
    "                        stdout=subprocess.PIPE,\n",
    "                        shell=False\n",
    "                        )\n",
    "\n",
    "while True:\n",
    "    sleep(0.1)\n",
    "    try:\n",
    "        for line in proc.stdout.readline():\n",
    "            print line\n",
    "    except:\n",
    "        print 'exception'\n",
    "        \n",
    "#while True:\n",
    "#    sleep(0.1)\n",
    "#    if dataWaiting(proc.stdout):\n",
    "#        print 'Data Available'\n",
    "#        line=proc.stdout.readline()\n",
    "#        print line,\n",
    "#    else:\n",
    "#        print 'not available'\n"
   ]
  },
  {
   "cell_type": "code",
   "execution_count": null,
   "metadata": {
    "collapsed": false
   },
   "outputs": [],
   "source": []
  },
  {
   "cell_type": "code",
   "execution_count": null,
   "metadata": {
    "collapsed": false
   },
   "outputs": [],
   "source": []
  },
  {
   "cell_type": "code",
   "execution_count": null,
   "metadata": {
    "collapsed": false
   },
   "outputs": [],
   "source": []
  },
  {
   "cell_type": "code",
   "execution_count": null,
   "metadata": {
    "collapsed": false
   },
   "outputs": [],
   "source": []
  }
 ],
 "metadata": {
  "kernelspec": {
   "display_name": "Python 2",
   "language": "python",
   "name": "python2"
  },
  "language_info": {
   "codemirror_mode": {
    "name": "ipython",
    "version": 2
   },
   "file_extension": ".py",
   "mimetype": "text/x-python",
   "name": "python",
   "nbconvert_exporter": "python",
   "pygments_lexer": "ipython2",
   "version": "2.7.10"
  }
 },
 "nbformat": 4,
 "nbformat_minor": 0
}
