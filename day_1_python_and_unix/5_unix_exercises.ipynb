{
 "cells": [
  {
   "cell_type": "markdown",
   "metadata": {},
   "source": [
    "### Excercise 1: reconstruct a file from segments."
   ]
  },
  {
   "cell_type": "markdown",
   "metadata": {},
   "source": [
    "Each of the files F* is a short segment of the original text file.\n",
    "\n",
    "The format of the file is `(n1: 5 char int),(n2: 5 char int),string`\n",
    "The string represents the content of the file in the range `[n1:n2]`\n",
    "\n",
    "Your task is to reconstruct the original file."
   ]
  },
  {
   "cell_type": "code",
   "execution_count": 1,
   "metadata": {
    "collapsed": false
   },
   "outputs": [
    {
     "name": "stdout",
     "output_type": "stream",
     "text": [
      "/Users/alexegg/Development/DSE/DSE200-notebooks/data/NLTK/Chopped\n",
      "BrownNews.txt  F126           F154           F181           F210           F28            F55            F81\r\n",
      "F0             F127           F155           F182           F211           F29            F56            F82\r\n",
      "F1             F128           F156           F183           F212           F3             F57            F83\r\n",
      "F10            F129           F157           F185           F213           F30            F58            F84\r\n",
      "F100           F13            F158           F186           F214           F31            F59            F85\r\n",
      "F101           F130           F159           F187           F215           F32            F6             F86\r\n",
      "F102           F131           F16            F189           F216           F33            F60            F87\r\n",
      "F104           F132           F160           F19            F218           F34            F61            F88\r\n",
      "F106           F133           F161           F190           F219           F35            F62            F9\r\n",
      "F107           F134           F162           F191           F22            F36            F63            F90\r\n",
      "F108           F135           F163           F192           F220           F37            F64            F91\r\n",
      "F109           F136           F164           F193           F221           F38            F65            F93\r\n",
      "F11            F137           F165           F194           F222           F39            F66            F94\r\n",
      "F110           F138           F166           F195           F223           F4             F67            F95\r\n",
      "F111           F139           F167           F196           F224           F40            F68            F96\r\n",
      "F112           F14            F168           F197           F225           F41            F69            F97\r\n",
      "F113           F140           F169           F198           F226           F42            F7             F99\r\n",
      "F114           F141           F170           F199           F227           F43            F70            caesar.txt\r\n",
      "F115           F142           F171           F2             F228           F44            F71            kings.txt\r\n",
      "F117           F144           F172           F20            F229           F45            F72            leonidas.txt\r\n",
      "F118           F145           F173           F200           F23            F46            F73            newfile.txt\r\n",
      "F119           F146           F174           F201           F230           F48            F74            \u001b[34msubdir\u001b[m\u001b[m/\r\n",
      "F12            F147           F175           F202           F231           F49            F75\r\n",
      "F120           F148           F176           F204           F232           F5             F76\r\n",
      "F121           F149           F177           F205           F233           F50            F77\r\n",
      "F122           F15            F178           F206           F24            F51            F78\r\n",
      "F123           F151           F179           F207           F25            F52            F79\r\n",
      "F124           F152           F18            F208           F26            F53            F8\r\n",
      "F125           F153           F180           F209           F27            F54            F80\r\n"
     ]
    }
   ],
   "source": [
    "%cd ../data/NLTK/Chopped/\n",
    "!ls -F"
   ]
  },
  {
   "cell_type": "code",
   "execution_count": 2,
   "metadata": {
    "collapsed": false
   },
   "outputs": [
    {
     "name": "stdout",
     "output_type": "stream",
     "text": [
      "  183  191 term-en\r\n",
      " 1009 1011st\r\n",
      "  792  796f th\r\n",
      "  859  870egistration\r\n",
      "  736  737s\r\n",
      "  210  225 the City Execu\r\n",
      "  891  894 ar\r\n",
      "  592  595ayo\r\n",
      "  912  913e\r\n",
      "  965  982ulton legislators\r\n"
     ]
    }
   ],
   "source": [
    "!cat F11*"
   ]
  },
  {
   "cell_type": "code",
   "execution_count": 3,
   "metadata": {
    "collapsed": false
   },
   "outputs": [
    {
     "name": "stdout",
     "output_type": "stream",
     "text": [
      "The Fulton County Grand Jury said Friday an investigation of Atlanta's recent primary election produced `` no evidence '' that any irregularities took place . The jury further said in term-end presentments that the City Executive Committee , which had over-all charge of the election , `` deserves the praise and thanks of the City of Atlanta '' for the manner in which the election was conducted . The September-October term jury had been charged by Fulton Superior Court Judge Durwood Pye to investigate reports of possible `` irregularities '' in the hard-fought primary which was won by Mayor-nominate Ivan Allen Jr. . `` Only a relative handful of such reports was received '' , the jury said , `` considering the widespread interest in the election , the number of voters and the size of this city '' . The jury said it did find that many of Georgia's registration and election laws `` are outmoded or inadequate and often ambiguous '' . It recommended that Fulton legislators act `` to have these laws studied and revised to the end of modernizing and improving them '' . The grand jury commented on a number of other topics , among them the Atlanta and Fulton County purchasing departments which it said `` are well operated and follow generally accepted practices which inure to the best interest of both governments '' . Merger proposed However , the jury said it believes `` these two offices should be combined to achieve greater efficiency and reduce the cost of administration '' . The City Purchasing Department , the jury said , `` is lacking in experienced clerical personnel as a result of city personnel policies '' ."
     ]
    }
   ],
   "source": [
    "!sort -n F* | cut -c 11- | tr -d '\\n' > newfile.txt\n",
    "!cat newfile.txt"
   ]
  },
  {
   "cell_type": "markdown",
   "metadata": {},
   "source": [
    "### Excercise 2:"
   ]
  },
  {
   "cell_type": "code",
   "execution_count": 4,
   "metadata": {
    "collapsed": false
   },
   "outputs": [],
   "source": [
    "#Issue a UNIX command to create a file called Caesar that contains the following lines (include the mistakes!!)\n",
    "\n",
    "Text = \"\"\"Caesar, a great general, is petitioned by several citizens to show clemency to one of his enemies.\n",
    "He declines, pompously speaking of himself in the third person. The group of conspirators then proceeds to stab him.\n",
    "With his dying breath he gasps, \"Et tu, Brute? \\(\"And you, Brutus?\"\\) Thus falls Caesar.\" \n",
    "The conspirators exult, and Shakespeare inserts a self-referential joke as Cassius says, \n",
    "\"How many ages hence shall this our lofty scene be acted over in states unborn and accents yet unknown!\"\n",
    "\"\"\"\n",
    "\n",
    "#Change the permissions of this file to 666\n",
    "#Issue a UNIX command to determine the file type\n",
    "#Isue a uniix comannd to count the number of words in the above text that contains no vowels\n",
    "#Replace the word Caesar wherever it is found in the entire text to Leonidas\n",
    "#Make a copy of the above file without the first and last lines of the text and rename this file to Leonidas"
   ]
  },
  {
   "cell_type": "code",
   "execution_count": 5,
   "metadata": {
    "collapsed": false
   },
   "outputs": [
    {
     "name": "stdout",
     "output_type": "stream",
     "text": [
      "Caesar, a great general, is petitioned by several citizens to show clemency to one of his enemies.\n",
      "He declines, pompously speaking of himself in the third person. The group of conspirators then proceeds to stab him.\n",
      "With his dying breath he gasps, Et tu, Brute? (And you, Brutus?) Thus falls Caesar. \n",
      "The conspirators exult, and Shakespeare inserts a self-referential joke as Cassius says, \n",
      "How many ages hence shall this our lofty scene be acted over in states unborn and accents yet unknown!\n",
      "\n",
      "caesar.txt: ASCII English text\n",
      "       1\n",
      "Leonidas, a great general, is petitioned by several citizens to show clemency to one of his enemies.\n",
      "He declines, pompously speaking of himself in the third person. The group of conspirators then proceeds to stab him.\n",
      "With his dying breath he gasps, Et tu, Brute? (And you, Brutus?) Thus falls Leonidas. \n",
      "The conspirators exult, and Shakespeare inserts a self-referential joke as Cassius says, \n",
      "How many ages hence shall this our lofty scene be acted over in states unborn and accents yet unknown!\n",
      "\n",
      "He declines, pompously speaking of himself in the third person. The group of conspirators then proceeds to stab him.\n",
      "With his dying breath he gasps, Et tu, Brute? (And you, Brutus?) Thus falls Leonidas. \n",
      "The conspirators exult, and Shakespeare inserts a self-referential joke as Cassius says, \n"
     ]
    }
   ],
   "source": [
    "!echo \"$Text\" > caesar.txt\n",
    "!cat caesar.txt\n",
    "!chmod 666 caesar.txt\n",
    "!file caesar.txt\n",
    "!cat caesar.txt | grep -io '\\b[^aeiou,.!?\"]*\\s' | wc -w \n",
    "!sed -e 's/Caesar/Leonidas/g' caesar.txt > leonidas.txt\n",
    "\n",
    "newfile = open(\"leonidas.txt\",\"r+\")\n",
    "lines = newfile.readlines()\n",
    "for i in range(1,len(lines)-2):\n",
    "    newfile.write(lines[i])\n",
    "newfile.close()\n",
    "!cat leonidas.txt"
   ]
  },
  {
   "cell_type": "markdown",
   "metadata": {},
   "source": [
    "### Excercise 3:"
   ]
  },
  {
   "cell_type": "markdown",
   "metadata": {
    "collapsed": false
   },
   "source": [
    "What is the command to count lines,words and characters in a file and how do you make this comand display only linecount?\n",
    "Also write a single command that lists the files in the current directory that begin with upper case letters"
   ]
  },
  {
   "cell_type": "markdown",
   "metadata": {},
   "source": [
    "the command to display lines, words and characters in a file is wc and we can display only linecount using:"
   ]
  },
  {
   "cell_type": "markdown",
   "metadata": {
    "collapsed": false
   },
   "source": [
    "`!wc -l`"
   ]
  },
  {
   "cell_type": "code",
   "execution_count": 6,
   "metadata": {
    "collapsed": false
   },
   "outputs": [
    {
     "name": "stdout",
     "output_type": "stream",
     "text": [
      "BrownNews.txt F125          F152          F179          F206          F233          F5            F75\r\n",
      "F0            F126          F153          F18           F207          F24           F50           F76\r\n",
      "F1            F127          F154          F180          F208          F25           F51           F77\r\n",
      "F10           F128          F155          F181          F209          F26           F52           F78\r\n",
      "F100          F129          F156          F182          F210          F27           F53           F79\r\n",
      "F101          F13           F157          F183          F211          F28           F54           F8\r\n",
      "F102          F130          F158          F185          F212          F29           F55           F80\r\n",
      "F104          F131          F159          F186          F213          F3            F56           F81\r\n",
      "F106          F132          F16           F187          F214          F30           F57           F82\r\n",
      "F107          F133          F160          F189          F215          F31           F58           F83\r\n",
      "F108          F134          F161          F19           F216          F32           F59           F84\r\n",
      "F109          F135          F162          F190          F218          F33           F6            F85\r\n",
      "F11           F136          F163          F191          F219          F34           F60           F86\r\n",
      "F110          F137          F164          F192          F22           F35           F61           F87\r\n",
      "F111          F138          F165          F193          F220          F36           F62           F88\r\n",
      "F112          F139          F166          F194          F221          F37           F63           F9\r\n",
      "F113          F14           F167          F195          F222          F38           F64           F90\r\n",
      "F114          F140          F168          F196          F223          F39           F65           F91\r\n",
      "F115          F141          F169          F197          F224          F4            F66           F93\r\n",
      "F117          F142          F170          F198          F225          F40           F67           F94\r\n",
      "F118          F144          F171          F199          F226          F41           F68           F95\r\n",
      "F119          F145          F172          F2            F227          F42           F69           F96\r\n",
      "F12           F146          F173          F20           F228          F43           F7            F97\r\n",
      "F120          F147          F174          F200          F229          F44           F70           F99\r\n",
      "F121          F148          F175          F201          F23           F45           F71\r\n",
      "F122          F149          F176          F202          F230          F46           F72\r\n",
      "F123          F15           F177          F204          F231          F48           F73\r\n",
      "F124          F151          F178          F205          F232          F49           F74\r\n"
     ]
    }
   ],
   "source": [
    "!ls -d [A-Z]*"
   ]
  },
  {
   "cell_type": "markdown",
   "metadata": {},
   "source": [
    "### Excercise 4:"
   ]
  },
  {
   "cell_type": "markdown",
   "metadata": {
    "collapsed": false
   },
   "source": [
    "Combine the files Caesar and Leonidas and save the combined file as kings\n",
    "\n",
    "Display the contents of this file using more command\n",
    "\n",
    "Sort this file in reverse alphabetic order and display it by piping it into more"
   ]
  },
  {
   "cell_type": "code",
   "execution_count": 7,
   "metadata": {
    "collapsed": false
   },
   "outputs": [
    {
     "name": "stdout",
     "output_type": "stream",
     "text": [
      "\u001b[?1h\u001b=With his dying breath he gasps, Et tu, Brute? (And you, Brutus?) Thus falls Leonidas. \r\n",
      "With his dying breath he gasps, Et tu, Brute? (And you, Brutus?) Thus falls Leonidas. \r\n",
      "With his dying breath he gasps, Et tu, Brute? (And you, Brutus?) Thus falls Caesar. \r\n",
      "The conspirators exult, and Shakespeare inserts a self-referential joke as Cassius says, \r\n",
      "The conspirators exult, and Shakespeare inserts a self-referential joke as Cassius says, \r\n",
      "The conspirators exult, and Shakespeare inserts a self-referential joke as Cassius says, \r\n",
      "Leonidas, a great general, is petitioned by several citizens to show clemency to one of his enemies.\r\n",
      "How many ages hence shall this our lofty scene be acted over in states unborn and accents yet unknown!\r\n",
      "How many ages hence shall this our lofty scene be acted over in states unborn and accents yet unknown!\r\n",
      "He declines, pompously speaking of himself in the third person. The group of conspirators then proceeds to stab him.\r\n",
      "He declines, pompously speaking of himself in the third person. The group of conspirators then proceeds to stab him.\r\n",
      "He declines, pompously speaking of himself in the third person. The group of conspirators then proceeds to stab him.\r\n",
      "Caesar, a great general, is petitioned by several citizens to show clemency to one of his enemies.\r\n",
      "\r\n",
      "\r\n",
      "\r",
      "\u001b[K\u001b[?1l\u001b>"
     ]
    }
   ],
   "source": [
    "!cat caesar.txt leonidas.txt > kings.txt\n",
    "!sort -r kings.txt | more"
   ]
  },
  {
   "cell_type": "markdown",
   "metadata": {},
   "source": [
    "### Excercise 5:"
   ]
  },
  {
   "cell_type": "markdown",
   "metadata": {
    "collapsed": false
   },
   "source": [
    "List all files in your current directory. Make a subDirectory and copy all these files in the subdirectory.\n",
    "\n",
    "Write Unix commands to rename all the files to the format - currentDate_originalname"
   ]
  },
  {
   "cell_type": "code",
   "execution_count": 14,
   "metadata": {
    "collapsed": false
   },
   "outputs": [
    {
     "name": "stdout",
     "output_type": "stream",
     "text": [
      "/Users/alexegg/Development/DSE/DSE200-notebooks/data/NLTK/Chopped\n",
      "BrownNews.txt F125          F152          F179          F206          F233          F5            F75\n",
      "F0            F126          F153          F18           F207          F24           F50           F76\n",
      "F1            F127          F154          F180          F208          F25           F51           F77\n",
      "F10           F128          F155          F181          F209          F26           F52           F78\n",
      "F100          F129          F156          F182          F210          F27           F53           F79\n",
      "F101          F13           F157          F183          F211          F28           F54           F8\n",
      "F102          F130          F158          F185          F212          F29           F55           F80\n",
      "F104          F131          F159          F186          F213          F3            F56           F81\n",
      "F106          F132          F16           F187          F214          F30           F57           F82\n",
      "F107          F133          F160          F189          F215          F31           F58           F83\n",
      "F108          F134          F161          F19           F216          F32           F59           F84\n",
      "F109          F135          F162          F190          F218          F33           F6            F85\n",
      "F11           F136          F163          F191          F219          F34           F60           F86\n",
      "F110          F137          F164          F192          F22           F35           F61           F87\n",
      "F111          F138          F165          F193          F220          F36           F62           F88\n",
      "F112          F139          F166          F194          F221          F37           F63           F9\n",
      "F113          F14           F167          F195          F222          F38           F64           F90\n",
      "F114          F140          F168          F196          F223          F39           F65           F91\n",
      "F115          F141          F169          F197          F224          F4            F66           F93\n",
      "F117          F142          F170          F198          F225          F40           F67           F94\n",
      "F118          F144          F171          F199          F226          F41           F68           F95\n",
      "F119          F145          F172          F2            F227          F42           F69           F96\n",
      "F12           F146          F173          F20           F228          F43           F7            F97\n",
      "F120          F147          F174          F200          F229          F44           F70           F99\n",
      "F121          F148          F175          F201          F23           F45           F71           caesar.txt\n",
      "F122          F149          F176          F202          F230          F46           F72           kings.txt\n",
      "F123          F15           F177          F204          F231          F48           F73           leonidas.txt\n",
      "F124          F151          F178          F205          F232          F49           F74           newfile.txt\n",
      "/Users/alexegg/Development/DSE/DSE200-notebooks/data/NLTK/Chopped/subdir\n",
      "cp: ../subdir is a directory (not copied).\n",
      "/Users/alexegg/Development/DSE/DSE200-notebooks/data/NLTK/Chopped\n"
     ]
    }
   ],
   "source": [
    "!pwd\n",
    "!ls\n",
    "!mkdir subdir\n",
    "%cd subdir\n",
    "%cp ../* .\n",
    "!now=\"$(date +'%d_%m_%Y'_)\"\n",
    "!for f in *; do mv \"$f\" \"$now$f\"; done\n",
    "%cd ..\n",
    "!rm -rf subdir"
   ]
  },
  {
   "cell_type": "markdown",
   "metadata": {},
   "source": [
    "### Excercise 6:"
   ]
  },
  {
   "cell_type": "code",
   "execution_count": 21,
   "metadata": {
    "collapsed": false
   },
   "outputs": [],
   "source": [
    "#Suppose we have a script that performs numerous efficiency tests. \n",
    "#The output from the script contains lots of information, but our purpose now is to extract information\n",
    "#about the CPU time of each test and sort these CPU times. The output from the tests takes the following form:\n",
    "output = \"\"\"\n",
    "f95 -c -O0  versions/main_wIO.f F77WAVE.f\n",
    "f95 -o app  -static main_wIO.o F77WAVE.o   -lf2c\n",
    "app < input > tmp.out\n",
    "CPU-time: 255.97   f95 -O0 formatted I/O\n",
    "f95 -c -O1  versions/main_wIO.f F77WAVE.f\n",
    "f95 -o app  -static main_wIO.o F77WAVE.o   -lf2c\n",
    "app < input > tmp.out\n",
    "CPU-time: 252.47   f95 -O1 formatted I/O\n",
    "f95 -c -O2  versions/main_wIO.f F77WAVE.f\n",
    "f95 -o app  -static main_wIO.o F77WAVE.o   -lf2c\n",
    "app < input > tmp.out\n",
    "CPU-time: 252.40   f95 -O2 formatted I/O\n",
    "f95 -c -O3  versions/main_wIO.f F77WAVE.f\n",
    "f95 -o app  -static main_wIO.o F77WAVE.o   -lf2c\n",
    "app < input > tmp.out\n",
    "CPU-time: 255.28   f95 -O0 formatted I/O\n",
    "f95 -c -O4  versions/main_wIO.f F77WAVE.f\n",
    "f95 -o app  -static main_wIO.o F77WAVE.o   -lf2c\n",
    "app < input > tmp.out\n",
    "CPU-time: 251.43  f95 -O0 formatted I/O\n",
    "f95 -c -O5  versions/main_wIO.f F77WAVE.f\n",
    "f95 -o app  -static main_wIO.o F77WAVE.o   -lf2c\n",
    "app < input > tmp.out\n",
    "CPU-time: 255.90   f95 -O0 formatted I/O\n",
    "f95 -c -O6  versions/main_wIO.f F77WAVE.f\n",
    "f95 -o app  -static main_wIO.o F77WAVE.o   -lf2c\n",
    "app < input > tmp.out\n",
    "CPU-time: 252.15   f95 -O0 formatted I/O\n",
    "\"\"\"\n",
    "\n",
    "#First we need to extract the lines starting with CPU-time.\n",
    "\n",
    "#Then we need to sort the extracted lines with respect to the CPU time, \n",
    "#which is the number appearing in the second column. \n",
    "#Write a script to accomplish this task. \n",
    "\n",
    "\n",
    "#Hint: Find the lines with CPU time results by using a string comparison of the first 7 characters \n",
    "#to detect the keyword CPU-time. Then write a tailored sort function for sorting two lines \n",
    "#(extract the CPU time from the second column in both lines and compare the CPU times as floating-point numbers). \n",
    "#A tailored sort function takes two arguments a and b, which hold two list elements. \n",
    "#The sort function returns -1 if a is less than b, 1 if a is greater than b, and 0 otherwise (a equals b)."
   ]
  },
  {
   "cell_type": "code",
   "execution_count": 22,
   "metadata": {
    "collapsed": false
   },
   "outputs": [
    {
     "name": "stdout",
     "output_type": "stream",
     "text": [
      "CPU-time: 251.43  f95 -O0 formatted I/O\r\n",
      "CPU-time: 252.15   f95 -O0 formatted I/O\r\n",
      "CPU-time: 252.40   f95 -O2 formatted I/O\r\n",
      "CPU-time: 252.47   f95 -O1 formatted I/O\r\n",
      "CPU-time: 255.28   f95 -O0 formatted I/O\r\n",
      "CPU-time: 255.90   f95 -O0 formatted I/O\r\n",
      "CPU-time: 255.97   f95 -O0 formatted I/O\r\n"
     ]
    }
   ],
   "source": [
    "!echo \"$output\" | grep \"CPU-time\" | sort -n -k2,2"
   ]
  },
  {
   "cell_type": "markdown",
   "metadata": {},
   "source": [
    "### Excercise 7:"
   ]
  },
  {
   "cell_type": "code",
   "execution_count": 9,
   "metadata": {
    "collapsed": false
   },
   "outputs": [],
   "source": [
    "#Make a copy of your working directory along with its subdirectories and \n",
    "#write unix+python commands that traverses the copied working directory and its subdirectories (recursively) and returns a \n",
    "#list of all files that are larger than X Mb and that have not been accessed the last Y days, \n",
    "#where X and Y are passed as user inputs.\n",
    "#Include an option in this function that moves the files to a subdirectory trash under /tmp \n",
    "#(you need to create trash if it does not exist)."
   ]
  },
  {
   "cell_type": "code",
   "execution_count": 18,
   "metadata": {
    "collapsed": false
   },
   "outputs": [
    {
     "name": "stdout",
     "output_type": "stream",
     "text": [
      "Please enter X: 1\n",
      "Please enter Y: 1\n",
      "mkdir: subdir2: File exists\n",
      "cp: subdir2 is a directory (not copied).\n",
      ".\n",
      "./BrownNews.txt\n",
      "./kings.txt\n",
      "./newfile.txt\n",
      "./subdir2\n",
      "./subdir2/BrownNews.txt\n",
      "./subdir2/kings.txt\n",
      "./subdir2/newfile.txt\n"
     ]
    }
   ],
   "source": [
    "X = raw_input(\"Please enter X: \")\n",
    "Y = raw_input(\"Please enter Y: \")\n",
    "!mkdir subdir2\n",
    "!cp * subdir2 \n",
    "!cd subdir2\n",
    "!find . -size \"+\"$X\"M\" -mtime -$Y -print\n",
    "#!find -size $X\"M\" -mtime -$Y -exec mv '{}' /tmp/trash/ \\;"
   ]
  },
  {
   "cell_type": "code",
   "execution_count": null,
   "metadata": {
    "collapsed": true
   },
   "outputs": [],
   "source": []
  }
 ],
 "metadata": {
  "kernelspec": {
   "display_name": "Python 2",
   "language": "python",
   "name": "python2"
  },
  "language_info": {
   "codemirror_mode": {
    "name": "ipython",
    "version": 2
   },
   "file_extension": ".py",
   "mimetype": "text/x-python",
   "name": "python",
   "nbconvert_exporter": "python",
   "pygments_lexer": "ipython2",
   "version": "2.7.10"
  }
 },
 "nbformat": 4,
 "nbformat_minor": 0
}
