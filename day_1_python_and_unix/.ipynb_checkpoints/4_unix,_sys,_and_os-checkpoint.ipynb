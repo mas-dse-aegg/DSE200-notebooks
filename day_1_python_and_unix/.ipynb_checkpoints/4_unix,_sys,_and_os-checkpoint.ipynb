{
 "cells": [
  {
   "cell_type": "markdown",
   "metadata": {},
   "source": [
    "## The unix system\n",
    "\n",
    "* Prepending commands with !\n",
    "* Files, directories and paths\n",
    "* AWS, virtual machines and AMI's\n",
    "* Bash scripts (just to know what they are)\n",
    "* grep, wc, sort\n",
    "* .bashrc, environmental variables, paths."
   ]
  },
  {
   "cell_type": "code",
   "execution_count": null,
   "metadata": {
    "collapsed": false
   },
   "outputs": [],
   "source": []
  },
  {
   "cell_type": "markdown",
   "metadata": {},
   "source": [
    "## listing files\n",
    "* The `ls` command lists the files in the current directory\n",
    "* `ls -F` identifies each files as directory, executable, text\n",
    "* `ls -lrta`: \n",
    "    * `l` (long) lists extensive information about each file\n",
    "    * `rt` (reverse time): list files in reverse order in time.\n",
    "    * `a` show hidden files (whose names start with .)"
   ]
  },
  {
   "cell_type": "code",
   "execution_count": null,
   "metadata": {
    "collapsed": false
   },
   "outputs": [],
   "source": [
    "%cd ~\n",
    "!ls"
   ]
  },
  {
   "cell_type": "code",
   "execution_count": null,
   "metadata": {
    "collapsed": false
   },
   "outputs": [],
   "source": [
    "!ls -F"
   ]
  },
  {
   "cell_type": "code",
   "execution_count": null,
   "metadata": {
    "collapsed": false
   },
   "outputs": [],
   "source": [
    "!ls -lrta"
   ]
  },
  {
   "cell_type": "code",
   "execution_count": null,
   "metadata": {
    "collapsed": false
   },
   "outputs": [],
   "source": [
    "## Find out type of file\n",
    "!file anaconda/bin/*"
   ]
  },
  {
   "cell_type": "markdown",
   "metadata": {},
   "source": [
    "## Navigating file paths"
   ]
  },
  {
   "cell_type": "code",
   "execution_count": null,
   "metadata": {
    "collapsed": false
   },
   "outputs": [],
   "source": [
    "# pwd identifies the current working directory\n",
    "!pwd"
   ]
  },
  {
   "cell_type": "code",
   "execution_count": null,
   "metadata": {
    "collapsed": false
   },
   "outputs": [],
   "source": [
    "# /home/ubuntu is the home directory of the user \"ubuntu\" that is - you!\n",
    "!ls -lrt /home/ubuntu"
   ]
  },
  {
   "cell_type": "code",
   "execution_count": null,
   "metadata": {
    "collapsed": false
   },
   "outputs": [],
   "source": [
    "# A shorthand for the home directory of the current user is \"~\"\n",
    "%cd ~"
   ]
  },
  {
   "cell_type": "code",
   "execution_count": null,
   "metadata": {
    "collapsed": false
   },
   "outputs": [],
   "source": [
    "# !cd causes unix to move to a different directory, but leaves python behind\n",
    "!cd ~/logs/\n",
    "!pwd"
   ]
  },
  {
   "cell_type": "code",
   "execution_count": null,
   "metadata": {
    "collapsed": false
   },
   "outputs": [],
   "source": [
    "# To actually change the directory use the magic %cd, which actually moves us and reports where we landed\n",
    "%cd ~/logs/"
   ]
  },
  {
   "cell_type": "markdown",
   "metadata": {},
   "source": [
    "Some useful shorthands for navigating directories\n",
    "* **~** home directory of current user\n",
    "* **~john** home directory of the user \"john\"\n",
    "* **.** the current directory\n",
    "* **..** the parent directory of the current directory.\n"
   ]
  },
  {
   "cell_type": "code",
   "execution_count": null,
   "metadata": {
    "collapsed": false
   },
   "outputs": [],
   "source": [
    "%cd ~/data\n",
    "print \"!ls -F\"\n",
    "!ls -F\n",
    "print \"!ls ../\"\n",
    "!ls ../"
   ]
  },
  {
   "cell_type": "markdown",
   "metadata": {},
   "source": [
    "### Symbolic links"
   ]
  },
  {
   "cell_type": "code",
   "execution_count": null,
   "metadata": {
    "collapsed": false
   },
   "outputs": [],
   "source": [
    "# \"scripts\" and \"data\" are not actual directories, rather they are symbolic links to directories\n",
    "%cd ~/data/\n",
    "!ls *"
   ]
  },
  {
   "cell_type": "code",
   "execution_count": null,
   "metadata": {
    "collapsed": false
   },
   "outputs": [],
   "source": [
    "# Symbolic links are created by the command \"ln -s\" \n",
    "# Here we create a link from the home directory to the directory DSE200/data/NLTK/Chopped\n",
    "%cd ~\n",
    "!ln -s DSE200/data/NLTK/Chopped minced\n",
    "!ls -l minced\n",
    "# the unix command \"cat\" prints out the contents of a file.\n",
    "!cat minced/F0"
   ]
  },
  {
   "cell_type": "markdown",
   "metadata": {},
   "source": [
    "### Creating files and directories"
   ]
  },
  {
   "cell_type": "code",
   "execution_count": null,
   "metadata": {
    "collapsed": false
   },
   "outputs": [],
   "source": [
    "# to create a directory, use `mkdir`\n",
    "!mkdir ~/tmp\n",
    "%cd ~/tmp"
   ]
  },
  {
   "cell_type": "code",
   "execution_count": null,
   "metadata": {
    "collapsed": false
   },
   "outputs": [],
   "source": [
    "# to create a file or update the time-stamp of the file use `touch`\n",
    "for i in range(10):\n",
    "    !touch file$i\n",
    "!ls -l"
   ]
  },
  {
   "cell_type": "markdown",
   "metadata": {},
   "source": [
    "### Moving and copying files"
   ]
  },
  {
   "cell_type": "code",
   "execution_count": null,
   "metadata": {
    "collapsed": false
   },
   "outputs": [],
   "source": [
    "%cd ~/DSE200/data/NLTK/Chopped/\n",
    "!ls"
   ]
  },
  {
   "cell_type": "code",
   "execution_count": null,
   "metadata": {
    "collapsed": false
   },
   "outputs": [],
   "source": [
    "# cp copies a file to a new location, maintaining the original copy\n",
    "!mkdir tmp\n",
    "!cp F87 tmp   # copy a file to a new location, maintaining the name\n",
    "!cp F87 tmp/newname # copy a file to a new location + name\n",
    "!ls -l F87 tmp"
   ]
  },
  {
   "cell_type": "code",
   "execution_count": null,
   "metadata": {
    "collapsed": false
   },
   "outputs": [],
   "source": [
    "# you can also copy a whole directory and all it's subdirectories\n",
    "!cp -r tmp newtmp"
   ]
  },
  {
   "cell_type": "code",
   "execution_count": null,
   "metadata": {
    "collapsed": false
   },
   "outputs": [],
   "source": [
    "# mv moves a file, or a whole directory, to a new location or a new name.\n",
    "# it just manipulates pointers, so it is much faster than copy. (similar to \n",
    "# the difference between deep and shallow copy in python)\n",
    "!mv newtmp tmp # move directory to a new location\n",
    "!ls tmp/*"
   ]
  },
  {
   "cell_type": "code",
   "execution_count": null,
   "metadata": {
    "collapsed": false
   },
   "outputs": [],
   "source": [
    "# mv file or directory to a new name (=rename)\n",
    "!mv tmp/newname tmp/newername\n",
    "!ls tmp/*"
   ]
  },
  {
   "cell_type": "code",
   "execution_count": null,
   "metadata": {
    "collapsed": false
   },
   "outputs": [],
   "source": [
    "#cleanup\n",
    "!rm -r tmp"
   ]
  },
  {
   "cell_type": "markdown",
   "metadata": {},
   "source": [
    "### Removing files and directories"
   ]
  },
  {
   "cell_type": "code",
   "execution_count": null,
   "metadata": {
    "collapsed": false
   },
   "outputs": [],
   "source": [
    "# to remove a file use the command `rm`\n",
    "for i in range(1,10,2):\n",
    "    !rm file$i\n",
    "!ls -l"
   ]
  },
  {
   "cell_type": "code",
   "execution_count": null,
   "metadata": {
    "collapsed": false
   },
   "outputs": [],
   "source": [
    "# to remove an empry directory, use 'rmdir'\n",
    "# If you want to remove a directory and everything that is in it use `rm -rf`. Note that this\n",
    "# is an irreversible action, it is NOT like moving a file to the trash bin.\n",
    "%cd ~\n",
    "!rm -rf tmp\n",
    "!ls -l tmp"
   ]
  },
  {
   "cell_type": "markdown",
   "metadata": {},
   "source": [
    "### Groups and Unix File Permissions\n",
    "\n",
    "It is often the case that a file should not be readable/writeable by all users of a machine (IE private data, system configuration).  \n",
    "To enforce this there are a number of file properties which UNIX enforces.\n",
    "\n",
    "Each user falls into one of three relationships with the file:\n",
    "\n",
    "* **Owner** - The user who created the file and is able to modify permissions\n",
    "* **Group** - The user is in a the user group assigned to the file (we won't talk about this much)\n",
    "* **World** - Everybody else\n",
    "\n",
    "Each file has three permissions for each of these user sets:\n",
    "\n",
    "* **Read**  - The ability to view the file's contents\n",
    "* **Write** - The ability to modify the file\n",
    "* **Excecute** - The ability to run the file (if it is a script or program).  \n",
    "\n",
    "Since there are three user sets and three permissions, there are 9 distinct true/false permissions which can be granted.  Thus each file has 9 bits to define these permissions.\n",
    "\n",
    "#### Viewing permissions\n",
    "\n",
    "To view permissions of a file use the -l option for ls"
   ]
  },
  {
   "cell_type": "code",
   "execution_count": null,
   "metadata": {
    "collapsed": false
   },
   "outputs": [],
   "source": [
    "#First we create some files:\n",
    "#Disregard the chmod command for now\n",
    "!mkdir examples\n",
    "%cd examples\n",
    "!touch NoPermissions\n",
    "!chmod 000 NoPermissions \n",
    "!touch AllRead\n",
    "!chmod 444 AllRead \n",
    "!touch FullPermission\n",
    "!chmod 777 FullPermission \n",
    "!touch OwnerOnly\n",
    "!chmod 700 OwnerOnly \n",
    "!touch GroupOnly\n",
    "!chmod 070 GroupOnly \n",
    "!touch WorldOnly\n",
    "!chmod 007 WorldOnly \n",
    "\n",
    "#Now we list the permissions of the files\n",
    "!ls -l\n",
    "\n",
    "#Return to old working directory\n",
    "%cd ../\n"
   ]
  },
  {
   "cell_type": "markdown",
   "metadata": {},
   "source": [
    "In the first column of the output you see dashes for ungranted permissions and letters (r, w, or x) for granted permissions.  \n",
    "\n",
    "Lets break this down:\n",
    "\n",
    "| Bit | Definition |\n",
    "|---|------------------|\n",
    "| 1 | Sticky Bit\\* |\n",
    "| 2 | Owner Read |\n",
    "| 3 | Owner Write |\n",
    "| 4 | Owner Execute |\n",
    "| 5 | Group Read |\n",
    "| 6 | Group Write |\n",
    "| 7 | Group Execute |\n",
    "| 8 | World Read |\n",
    "| 9 | World Write |\n",
    "| 10| World Execute |\n",
    "\n",
    "\\* The sticky bit is a special permission we won't be going into\n",
    "\n",
    "Since you have three groups of three binary permissions, a common way to refer to permissions is via the octal representation of bits 2-10.  This yields a 3 digit octal number with the left most digit being owner permissions, middle digit group permissions, and right most bit the world permissions.\n",
    "\n",
    "For example: -r--rw---x translates to 461 in octal\n",
    "\n",
    "#### Changing Permissions\n",
    "\n",
    "To change permissions, the owner of a file can use the command *chmod*.  The main use case is you specify the octal code of your desired permissions followed by the file name.  For examples of this look at the code we used to create the files above."
   ]
  },
  {
   "cell_type": "markdown",
   "metadata": {},
   "source": [
    "## manual pages"
   ]
  },
  {
   "cell_type": "code",
   "execution_count": null,
   "metadata": {
    "collapsed": false
   },
   "outputs": [],
   "source": [
    "%man ls"
   ]
  },
  {
   "cell_type": "markdown",
   "metadata": {},
   "source": [
    "## Exploring the computer"
   ]
  },
  {
   "cell_type": "code",
   "execution_count": null,
   "metadata": {
    "collapsed": false
   },
   "outputs": [],
   "source": [
    "# Find out which version of Ubuntu you are running \n",
    "!lsb_release -a"
   ]
  },
  {
   "cell_type": "code",
   "execution_count": null,
   "metadata": {
    "collapsed": false
   },
   "outputs": [],
   "source": [
    "# find out about the hardware\n",
    "!cat /proc/cpuinfo"
   ]
  },
  {
   "cell_type": "code",
   "execution_count": null,
   "metadata": {
    "collapsed": false
   },
   "outputs": [],
   "source": [
    "# find out how much memory you are using\n",
    "!free -m"
   ]
  },
  {
   "cell_type": "code",
   "execution_count": null,
   "metadata": {
    "collapsed": false
   },
   "outputs": [],
   "source": [
    "# find out how much disk space you are using\n",
    "!df"
   ]
  },
  {
   "cell_type": "code",
   "execution_count": null,
   "metadata": {
    "collapsed": false
   },
   "outputs": [],
   "source": [
    "#find out which directories consume most of this disk space\n",
    "%cd ~\n",
    "!du -s *"
   ]
  },
  {
   "cell_type": "code",
   "execution_count": null,
   "metadata": {
    "collapsed": false
   },
   "outputs": [],
   "source": [
    "# based on what we see here, we check the directory anaconda\n",
    "!du -s anaconda/*"
   ]
  },
  {
   "cell_type": "markdown",
   "metadata": {},
   "source": [
    "## analyzing data\n",
    "head, tail, more, grep, wc, sort, cut (awk)"
   ]
  },
  {
   "cell_type": "code",
   "execution_count": null,
   "metadata": {
    "collapsed": false
   },
   "outputs": [],
   "source": [
    "%cd ~/DSE200/data/ThinkStatsData/\n",
    "!ls"
   ]
  },
  {
   "cell_type": "code",
   "execution_count": null,
   "metadata": {
    "collapsed": false
   },
   "outputs": [],
   "source": [
    "# print the number of lines, words and characters in each file\n",
    "!wc *"
   ]
  },
  {
   "cell_type": "code",
   "execution_count": null,
   "metadata": {
    "collapsed": false
   },
   "outputs": [],
   "source": [
    "# print the first 2 lines of a file\n",
    "!head -2 2002FemPreg.dat"
   ]
  },
  {
   "cell_type": "code",
   "execution_count": null,
   "metadata": {
    "collapsed": false
   },
   "outputs": [],
   "source": [
    "## This list of tuples defines the names and locations of the elements.\n",
    "fields=[\n",
    "    ('caseid', 1, 12, int),\n",
    "    ('nbrnaliv', 22, 22, int),\n",
    "    ('babysex', 56, 56, int),\n",
    "    ('birthwgt_lb', 57, 58, int),\n",
    "    ('birthwgt_oz', 59, 60, int),\n",
    "    ('prglength', 275, 276, int),\n",
    "    ('outcome', 277, 277, int),\n",
    "    ('birthord', 278, 279, int),\n",
    "    ('agepreg', 284, 287, int),\n",
    "    ('finalwgt', 423, 440, float),\n",
    "]"
   ]
  },
  {
   "cell_type": "code",
   "execution_count": null,
   "metadata": {
    "collapsed": false
   },
   "outputs": [],
   "source": [
    "## Lets transform it into a dictionary whose keys are the names of the field\n",
    "fields_dict={name:(f,t,typ) for (name,f,t,typ) in fields}\n",
    "fields_dict"
   ]
  },
  {
   "cell_type": "code",
   "execution_count": null,
   "metadata": {
    "collapsed": false
   },
   "outputs": [],
   "source": [
    "# print the lines that contain a particular string\n",
    "string='3116'\n",
    "!grep $string 2002FemPreg.dat"
   ]
  },
  {
   "cell_type": "code",
   "execution_count": null,
   "metadata": {
    "collapsed": false
   },
   "outputs": [],
   "source": [
    "#suppose we just want to know how many lines have this string inside them.\n",
    "# this is our first use of pipes\n",
    "#the output from grep serves as the input to wc\n",
    "!wc 2002FemPreg.dat\n",
    "!grep $string 2002FemPreg.dat | wc"
   ]
  },
  {
   "cell_type": "code",
   "execution_count": null,
   "metadata": {
    "collapsed": false
   },
   "outputs": [],
   "source": [
    "#cut is a command that cuts specific fields from from each line \n",
    "%man cut"
   ]
  },
  {
   "cell_type": "code",
   "execution_count": null,
   "metadata": {
    "collapsed": false
   },
   "outputs": [],
   "source": [
    "# Extract from each line a specific field\n",
    "field='babysex'\n",
    "(fr,to,typ)=fields_dict[field]\n",
    "Range=str(fr-1)+'-'+str(to)\n",
    "print field,fr,to,Range\n",
    "!cut -c $Range 2002FemPreg.dat | head -5"
   ]
  },
  {
   "cell_type": "code",
   "execution_count": null,
   "metadata": {
    "collapsed": false
   },
   "outputs": [],
   "source": [
    "# lets sort these lines numerically, and look at the end, also known as the tail\n",
    "!cut -c $Range 2002FemPreg.dat | sort -n | tail"
   ]
  },
  {
   "cell_type": "code",
   "execution_count": null,
   "metadata": {
    "collapsed": false
   },
   "outputs": [],
   "source": [
    "#count the number of times each value appears using uniq\n",
    "!cut -c $Range 2002FemPreg.dat | sort -n | uniq -c"
   ]
  },
  {
   "cell_type": "code",
   "execution_count": null,
   "metadata": {
    "collapsed": false
   },
   "outputs": [],
   "source": [
    "# do the same thing but using an intermediary file\n",
    "!cut -c $Range 2002FemPreg.dat > cut$Range\n",
    "print 'head of cut',Range\n",
    "!head cut$Range\n",
    "!ls\n",
    "print 'output from uniq'\n",
    "!cat cut$Range | sort -n | uniq -c"
   ]
  },
  {
   "cell_type": "markdown",
   "metadata": {},
   "source": [
    "## Environment variables\n",
    "\n",
    "Environment variables are strings that define the set up of the session. Environment variables allow the user to avoid\n",
    "retyping the same parameters over and over."
   ]
  },
  {
   "cell_type": "code",
   "execution_count": null,
   "metadata": {
    "collapsed": false
   },
   "outputs": [],
   "source": [
    "#view all of the currently defined environment variable\n",
    "%env"
   ]
  },
  {
   "cell_type": "code",
   "execution_count": null,
   "metadata": {
    "collapsed": false
   },
   "outputs": [],
   "source": [
    "#view the valuse of a particular variables \n",
    "!echo $HOME $USER"
   ]
  },
  {
   "cell_type": "code",
   "execution_count": null,
   "metadata": {
    "collapsed": false
   },
   "outputs": [],
   "source": [
    "#The $ symbol is required as a prefix of the variable names\n",
    "#When used inside ipython, this $ can be used to refer to any currently defined variable\n",
    "i=25\n",
    "!echo $i"
   ]
  },
  {
   "cell_type": "code",
   "execution_count": null,
   "metadata": {
    "collapsed": false
   },
   "outputs": [],
   "source": [
    "#Particularly important are environment variables called \"paths\"\n",
    "!env | grep -i path"
   ]
  },
  {
   "cell_type": "code",
   "execution_count": null,
   "metadata": {
    "collapsed": false
   },
   "outputs": [],
   "source": [
    "# The path defines where the system will look for commands and in what order.\n",
    "# PATH tells the unix shell (bash) where to find the executables corresponding to commands\n",
    "# while PYTHONPATH tells python from where to `import` packages.\n",
    "# lets see where unix finds the command \"sort\"\n",
    "!which sort\n",
    "# Check on the variable PATH and you will see that /usr/bin is on it."
   ]
  },
  {
   "cell_type": "code",
   "execution_count": null,
   "metadata": {
    "collapsed": false
   },
   "outputs": [],
   "source": [
    "# You can also find all of the places along the path that have a definition relevant to sort\n",
    "!whereis sort\n",
    "# The last one is the manual page for sort which you can view using the command %man sort"
   ]
  },
  {
   "cell_type": "markdown",
   "metadata": {},
   "source": [
    "#### Excercise \n",
    "find where the location of the commands `python`,`ipython` and `mail`"
   ]
  },
  {
   "cell_type": "code",
   "execution_count": null,
   "metadata": {
    "collapsed": false
   },
   "outputs": [],
   "source": [
    "!which python"
   ]
  },
  {
   "cell_type": "markdown",
   "metadata": {},
   "source": [
    "## Wildcards and glob\n",
    "\n",
    "We have seen the most used wild-card `*`, which matches any sequence of (non blank) characters.\n",
    "For example `B*.py` will match any filename that starts with `B` and ends with `.py`.\n",
    "\n",
    "Other useful wildcards are:\n",
    "\n",
    "wild card | Description\n",
    "--------|--------------------------------------------------------   \n",
    "    `*`   |  An asterisk matches any number of characters in a filename, including none.\n",
    "    `?`   |  The question mark matches any single character.\n",
    "    `[ ]` |  Brackets enclose a set of characters, any one of which may match a single character at that position.\n",
    "    `-`   |  A hyphen used within [ ] denotes a range of characters.\n",
    "    `~`   |  A tilde at the beginning of a word expands to the name of your home directory.  If you append another user's login name to the character, it refers to that user's home directory.\n",
    "    \n",
    "**Here are some examples:**\n",
    "\n",
    "1. **cat c* ** displays any file whose name begins with c including the file c, if it exists.\n",
    "1. **ls *.c ** lists all files that have a .c extension.\n",
    "1. **cp ../rmt?. ** copies every file in the parent directory that is four characters long and begins with rmt to the working directory. (The names will remain the same.)\n",
    "1. **ls rmt[34567] ** lists every file that begins with rmt and has a 3, 4, 5, 6, or 7 at the end.\n",
    "1. **ls rmt[3-7] ** does exactly the same thing as the previous example.\n",
    "1. **ls ~ ** lists your home directory.\n",
    "1. **ls ~hessen ** lists the home directory of the guy1 with the user id hessen."
   ]
  },
  {
   "cell_type": "markdown",
   "metadata": {},
   "source": [
    "#### within python, use glob()\n",
    "\n",
    "You get the same functionality as wildcards by using the function `glob`, but instead of getting the result printed out, you get it as a list of strings."
   ]
  },
  {
   "cell_type": "code",
   "execution_count": null,
   "metadata": {
    "collapsed": false
   },
   "outputs": [],
   "source": [
    "!ls -d li* # do not descent into directories\n",
    "from glob import glob\n",
    "L=glob('li*')\n",
    "L"
   ]
  },
  {
   "cell_type": "markdown",
   "metadata": {},
   "source": [
    "## Loading and saving files\n",
    "\n",
    "It is often useful to load short files into the notebook, alter them, and save them back into the file system. The magics `%load` and `%%writefile` are used to do that.\n"
   ]
  },
  {
   "cell_type": "code",
   "execution_count": null,
   "metadata": {
    "collapsed": false
   },
   "outputs": [],
   "source": [
    "!ls"
   ]
  },
  {
   "cell_type": "code",
   "execution_count": null,
   "metadata": {
    "collapsed": false
   },
   "outputs": [],
   "source": [
    "# the magic %load, unlike using !cat, creates a new cell that can be executed inside the notebook\n",
    "%load survey.pl"
   ]
  },
  {
   "cell_type": "markdown",
   "metadata": {},
   "source": [
    "## Processes\n",
    "\n",
    "A process is a sequence of commands that are executed in sequence, one after the other.\n",
    "By using \"time sharing\" a single CPU can compute many processes at the same time, frequently switching from one process to the next. In a multi-core machine, there are several CPUs and so even more processes can execute at the same time."
   ]
  },
  {
   "cell_type": "code",
   "execution_count": null,
   "metadata": {
    "collapsed": false
   },
   "outputs": [],
   "source": [
    "# You can find out the current processes on your system using the command \"top\"\n",
    "# without flags, the command will open a window that will constantly update and that also\n",
    "# allows you to quit (or kill) processes. Here we use the flags to specify that top should only run once.\n",
    "!top -b -n 1"
   ]
  },
  {
   "cell_type": "markdown",
   "metadata": {},
   "source": [
    "## Pipes\n",
    "We used pipes above to communicate between two or more unix commands.\n",
    "We now discuss this in more detail.\n",
    "\n",
    "Unix processes have three default input and output channels\n",
    "* **stdin** the standard input channel - by default - the keyboard\n",
    "* **stdout** the standard output channel - by default - the terminal.\n",
    "* **stderr** the standard error channel - by default - the terminal.\n",
    "\n",
    "Channels can be used to connect programs to each other and to connect programs and files. This is called **I/O redirection**.\n",
    "\n",
    "Connecting a standard channel to files is done using the following symbols\n",
    "(in bash, which is the standard shell in both ubuntu and os-x).\n",
    "\n",
    "| command      | result |\n",
    "|--------------|-----------------------------------------------------|\n",
    "| < filename   | Redirect stdin to read from the file \"filename\" |\n",
    "| > filename  | Redirect stdout to file \"filename.\" |\n",
    "| >>filename  | Redirect and append stdout to file \"filename.\" |\n",
    "| 1>filename   | Redirect stdout to file \"filename.\" |\n",
    "| 1>>filename  | Redirect and append stdout to file \"filename.\" |\n",
    "| 2>filename   | Redirect stderr to file \"filename.\" |\n",
    "| 2>>filename  | Redirect and append stderr to file \"filename.\" |\n",
    "| &>filename   | Redirect both stdout and stderr to file \"filename.\" |\n"
   ]
  },
  {
   "cell_type": "code",
   "execution_count": null,
   "metadata": {
    "collapsed": false
   },
   "outputs": [],
   "source": [
    "# One of the most basic unix command is cat\n",
    "%cd ~\n",
    "!cat < .bash_logout"
   ]
  },
  {
   "cell_type": "code",
   "execution_count": null,
   "metadata": {
    "collapsed": false
   },
   "outputs": [],
   "source": [
    "# echo is another basic command, it pipes the string it gets as a parameter to std-out\n",
    "# To create a file with some specific line we can use\n",
    "!echo \"MAS-DSE is the best\" | cat > \"MAS-FILE\"\n",
    "!ls MAS*\n",
    "!cat MAS-FILE\n",
    "!rm MAS-FILE"
   ]
  },
  {
   "cell_type": "code",
   "execution_count": null,
   "metadata": {
    "collapsed": false
   },
   "outputs": [],
   "source": [
    "# some time we want to supress the error messages.\n",
    "# To do that we redirect stderr to a fictitious file called /dev/null\n",
    "# In addition, we can take the output and sort it (numerically, in reverse) according to the size\n",
    "!du -s /*  | 2> /dev/null  | sort -nr\n",
    "\n"
   ]
  },
  {
   "cell_type": "markdown",
   "metadata": {},
   "source": [
    "## Interacting with external programs through pipes"
   ]
  },
  {
   "cell_type": "code",
   "execution_count": null,
   "metadata": {
    "collapsed": false
   },
   "outputs": [],
   "source": [
    "#the command top gives us a snapshot of the currently running processes\n",
    "!top -b -n 1"
   ]
  },
  {
   "cell_type": "code",
   "execution_count": null,
   "metadata": {
    "collapsed": false
   },
   "outputs": [],
   "source": [
    "# We can run the program from within a python script (using ! requires running inside ipython)\n",
    "\n",
    "# here we use python to find those processes that take a non-zero part of the memory.\n",
    "import subprocess\n",
    "\n",
    "output = subprocess.check_output(['top', '-b','-n','1'])\n",
    "print 'Have %d bytes in output' % len(output)\n",
    "\n",
    "lines=output.splitlines() # break output into lines\n",
    "len(lines)\n",
    "for line in lines:\n",
    "    percent = line[47:50]\n",
    "    try:\n",
    "        p=float(percent)\n",
    "    except:\n",
    "        continue\n",
    "    if p>0:\n",
    "        print line,"
   ]
  },
  {
   "cell_type": "raw",
   "metadata": {},
   "source": [
    "    1 root      20   0 24336 1492  536 S  0.0  0.2   0:00.40 init       \n",
    "0123456789012345678901234567890123456789012345678901234567890123456789\n",
    "0         1         2         3         4         5         6         "
   ]
  },
  {
   "cell_type": "code",
   "execution_count": null,
   "metadata": {
    "collapsed": false
   },
   "outputs": [],
   "source": [
    "# If we use top in it's default non-batch form, the program crashes\n",
    "output = subprocess.check_output(['top'])\n",
    "print 'Have %d bytes in output' % len(output)\n"
   ]
  },
  {
   "cell_type": "code",
   "execution_count": null,
   "metadata": {
    "collapsed": false
   },
   "outputs": [],
   "source": [
    "# it runs fine with !\n",
    "!top"
   ]
  },
  {
   "cell_type": "code",
   "execution_count": null,
   "metadata": {
    "collapsed": false
   },
   "outputs": [],
   "source": [
    "# what we need to do is run the process 'top' in the background - in parallel to the ipython session\n",
    "# and print what the program outputs to stdout as it becomes available\n",
    "\n",
    "# The slight problem is that this code has a bug and it does not work right, can you make it work?\n",
    "\n",
    "import select\n",
    "from time import sleep\n",
    "\n",
    "def dataWaiting(source):\n",
    "    \" Check if data is waiting to be read \"\n",
    "    return select.select([source], [], [], 0) == ([source], [], [])\n",
    "\n",
    "proc = subprocess.Popen(['top'], \n",
    "                        stdout=subprocess.PIPE,\n",
    "                        shell=False\n",
    "                        )\n",
    "\n",
    "while True:\n",
    "    sleep(0.1)\n",
    "    try:\n",
    "        for line in proc.stdout.readline():\n",
    "            print line\n",
    "    except:\n",
    "        print 'exception'\n",
    "        \n",
    "#while True:\n",
    "#    sleep(0.1)\n",
    "#    if dataWaiting(proc.stdout):\n",
    "#        print 'Data Available'\n",
    "#        line=proc.stdout.readline()\n",
    "#        print line,\n",
    "#    else:\n",
    "#        print 'not available'\n"
   ]
  },
  {
   "cell_type": "code",
   "execution_count": null,
   "metadata": {
    "collapsed": false
   },
   "outputs": [],
   "source": []
  },
  {
   "cell_type": "code",
   "execution_count": null,
   "metadata": {
    "collapsed": false
   },
   "outputs": [],
   "source": []
  },
  {
   "cell_type": "code",
   "execution_count": null,
   "metadata": {
    "collapsed": false
   },
   "outputs": [],
   "source": []
  },
  {
   "cell_type": "code",
   "execution_count": null,
   "metadata": {
    "collapsed": false
   },
   "outputs": [],
   "source": []
  }
 ],
 "metadata": {
  "kernelspec": {
   "display_name": "Python 2",
   "language": "python",
   "name": "python2"
  },
  "language_info": {
   "codemirror_mode": {
    "name": "ipython",
    "version": 2
   },
   "file_extension": ".py",
   "mimetype": "text/x-python",
   "name": "python",
   "nbconvert_exporter": "python",
   "pygments_lexer": "ipython2",
   "version": "2.7.9"
  }
 },
 "nbformat": 4,
 "nbformat_minor": 0
}
