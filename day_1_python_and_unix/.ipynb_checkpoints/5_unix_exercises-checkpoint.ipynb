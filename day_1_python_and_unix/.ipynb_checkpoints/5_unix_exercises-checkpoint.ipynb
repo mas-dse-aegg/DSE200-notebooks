{
 "cells": [
  {
   "cell_type": "markdown",
   "metadata": {},
   "source": [
    "### Excercise 1: reconstruct a file from segments."
   ]
  },
  {
   "cell_type": "markdown",
   "metadata": {},
   "source": [
    "Each of the files F* is a short segment of the original text file.\n",
    "\n",
    "The format of the file is `(n1: 5 char int),(n2: 5 char int),string`\n",
    "The string represents the content of the file in the range `[n1:n2]`\n",
    "\n",
    "Your task is to reconstruct the original file."
   ]
  },
  {
   "cell_type": "code",
   "execution_count": null,
   "metadata": {
    "collapsed": false
   },
   "outputs": [],
   "source": [
    "%cd ../data/NLTK/Chopped/\n",
    "!ls -F"
   ]
  },
  {
   "cell_type": "code",
   "execution_count": null,
   "metadata": {
    "collapsed": false
   },
   "outputs": [],
   "source": [
    "!cat F11*"
   ]
  },
  {
   "cell_type": "markdown",
   "metadata": {},
   "source": [
    "### Excercise 2:"
   ]
  },
  {
   "cell_type": "code",
   "execution_count": null,
   "metadata": {
    "collapsed": false
   },
   "outputs": [],
   "source": [
    "#Issue a UNIX command to create a file called Caesar that contains the following lines (include the mistakes!!)\n",
    "\n",
    "Text = \"\"\"Caesar, a great general, is petitioned by several citizens to show clemency to one of his enemies.\n",
    "He declines, pompously speaking of himself in the third person. The group of conspirators then proceeds to stab him.\n",
    "With his dying breath he gasps, \"Et tu, Brute? (\"And you, Brutus?\") Thus falls Caesar.\" \n",
    "The conspirators exult, and Shakespeare inserts a self-referential joke as Cassius says, \n",
    "\"How many ages hence shall this our lofty scene be acted over in states unborn and accents yet unknown!\"\n",
    "\"\"\"\n",
    "\n",
    "#Change the permissions of this file to 666\n",
    "#Issue a UNIX command to determine the file type\n",
    "#Isue a uniix comannd to count the number of words in the above text that contains no vowels\n",
    "#Replace the word Caesar wherever it is found in the entire text to Leonidas\n",
    "#Make a copy of the above file without the first and last lines of the text and rename this file to Leonidas"
   ]
  },
  {
   "cell_type": "markdown",
   "metadata": {},
   "source": [
    "### Excercise 3:"
   ]
  },
  {
   "cell_type": "code",
   "execution_count": null,
   "metadata": {
    "collapsed": false
   },
   "outputs": [],
   "source": [
    "#What is the command to count lines,words and characters in a file and how do you make this comand display only linecount?\n",
    "#Also write a single command that lists the files in the current directory that begin with upper case letters"
   ]
  },
  {
   "cell_type": "markdown",
   "metadata": {},
   "source": [
    "### Excercise 4:"
   ]
  },
  {
   "cell_type": "code",
   "execution_count": null,
   "metadata": {
    "collapsed": false
   },
   "outputs": [],
   "source": [
    "#Combine the files Caesar and Leonidas and save the combined file as kings\n",
    "#Display the contents of this file using more command\n",
    "#Sort this file in reverse alphabetic order and display it by piping it into more"
   ]
  },
  {
   "cell_type": "markdown",
   "metadata": {},
   "source": [
    "### Excercise 5:"
   ]
  },
  {
   "cell_type": "code",
   "execution_count": null,
   "metadata": {
    "collapsed": false
   },
   "outputs": [],
   "source": [
    "#List all files in your current directory. Make a subDirectory and copy all these files in the subdirectory.\n",
    "#Write Unix commands to rename all the files to the format - currentDate_originalname"
   ]
  },
  {
   "cell_type": "markdown",
   "metadata": {},
   "source": [
    "### Excercise 6:"
   ]
  },
  {
   "cell_type": "code",
   "execution_count": null,
   "metadata": {
    "collapsed": false
   },
   "outputs": [],
   "source": [
    "#Suppose we have a script that performs numerous efficiency tests. \n",
    "#The output from the script contains lots of information, but our purpose now is to extract information\n",
    "#about the CPU time of each test and sort these CPU times. The output from the tests takes the following form:\n",
    "output = \"\"\"\n",
    "f95 -c -O0  versions/main_wIO.f F77WAVE.f\n",
    "f95 -o app  -static main_wIO.o F77WAVE.o   -lf2c\n",
    "app < input > tmp.out\n",
    "CPU-time: 255.97   f95 -O0 formatted I/O\n",
    "f95 -c -O1  versions/main_wIO.f F77WAVE.f\n",
    "f95 -o app  -static main_wIO.o F77WAVE.o   -lf2c\n",
    "app < input > tmp.out\n",
    "CPU-time: 252.47   f95 -O1 formatted I/O\n",
    "f95 -c -O2  versions/main_wIO.f F77WAVE.f\n",
    "f95 -o app  -static main_wIO.o F77WAVE.o   -lf2c\n",
    "app < input > tmp.out\n",
    "CPU-time: 252.40   f95 -O2 formatted I/O\n",
    "f95 -c -O3  versions/main_wIO.f F77WAVE.f\n",
    "f95 -o app  -static main_wIO.o F77WAVE.o   -lf2c\n",
    "app < input > tmp.out\n",
    "CPU-time: 255.28   f95 -O0 formatted I/O\n",
    "f95 -c -O4  versions/main_wIO.f F77WAVE.f\n",
    "f95 -o app  -static main_wIO.o F77WAVE.o   -lf2c\n",
    "app < input > tmp.out\n",
    "CPU-time: 251.43  f95 -O0 formatted I/O\n",
    "f95 -c -O5  versions/main_wIO.f F77WAVE.f\n",
    "f95 -o app  -static main_wIO.o F77WAVE.o   -lf2c\n",
    "app < input > tmp.out\n",
    "CPU-time: 255.90   f95 -O0 formatted I/O\n",
    "f95 -c -O6  versions/main_wIO.f F77WAVE.f\n",
    "f95 -o app  -static main_wIO.o F77WAVE.o   -lf2c\n",
    "app < input > tmp.out\n",
    "CPU-time: 252.15   f95 -O0 formatted I/O\n",
    "\"\"\"\n",
    "\n",
    "#First we need to extract the lines starting with CPU-time. \n",
    "#Then we need to sort the extracted lines with respect to the CPU time, which is the number appearing in the second column. \n",
    "#Write a script to accomplish this task. \n",
    "\n",
    "#Hint: Find the lines with CPU time results by using a string comparison of the first 7 characters \n",
    "#to detect the keyword CPU-time. Then write a tailored sort function for sorting two lines \n",
    "#(extract the CPU time from the second column in both lines and compare the CPU times as floating-point numbers). \n",
    "#A tailored sort function takes two arguments a and b, which hold two list elements. \n",
    "#The sort function returns -1 if a is less than b, 1 if a is greater than b, and 0 otherwise (a equals b)."
   ]
  },
  {
   "cell_type": "markdown",
   "metadata": {},
   "source": [
    "### Excercise 7:"
   ]
  },
  {
   "cell_type": "code",
   "execution_count": null,
   "metadata": {
    "collapsed": false
   },
   "outputs": [],
   "source": [
    "#Make a copy of your working directory along with its subdirectories and \n",
    "#write unix+python commands that traverses the copied working directory and its subdirectories (recursively) and returns a \n",
    "#list of all files that are larger than X Mb and that have not been accessed the last Y days, \n",
    "#where X and Y are passed as user inputs.\n",
    "#Include an option in this function that moves the files to a subdirectory trash under /tmp \n",
    "#(you need to create trash if it does not exist)."
   ]
  },
  {
   "cell_type": "code",
   "execution_count": null,
   "metadata": {
    "collapsed": false
   },
   "outputs": [],
   "source": []
  }
 ],
 "metadata": {
  "kernelspec": {
   "display_name": "Python 2",
   "language": "python",
   "name": "python2"
  },
  "language_info": {
   "codemirror_mode": {
    "name": "ipython",
    "version": 2
   },
   "file_extension": ".py",
   "mimetype": "text/x-python",
   "name": "python",
   "nbconvert_exporter": "python",
   "pygments_lexer": "ipython2",
   "version": "2.7.9"
  }
 },
 "nbformat": 4,
 "nbformat_minor": 0
}
