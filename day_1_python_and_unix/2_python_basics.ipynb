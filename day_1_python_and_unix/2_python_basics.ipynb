{
 "cells": [
  {
   "cell_type": "markdown",
   "metadata": {},
   "source": [
    "### Resources for python\n",
    "\n",
    "Here are some of the best resources for Python on the web. \n",
    "\n",
    "#### Learning resources\n",
    "\n",
    "* [Interactive Python](http://interactivepython.org/) An online book that includes embedded live excercises. Fun!\n",
    "* [Dive Into Python](http://www.diveintopython.net/) An excellent, thorough book.\n",
    "* [tutorial point](http://www.tutorialspoint.com/python/index.htm) A resource that is useful when you want an explanation of one concept, rather than a whole chapter.\n",
    "\n",
    "There are endless other learning resources, you can find some more on the [Class resources webpage](http://mas-dse-200.herokuapp.com/resources/)\n",
    "\n",
    "#### Reference resources\n",
    "\n",
    "Typically, if you have a question about python, you can find an answer by using google. The following sites will usually have the best answer.\n",
    "\n",
    "* [Official python documentation](https://docs.python.org/2/library/)\n",
    "* [Quick Reference from Tutorial Point](http://www.tutorialspoint.com/python/python_quick_guide.htm)\n",
    "\n",
    "### Basic types\n",
    "\n",
    "The main basic data types in python are numbers (`int`s and `float`s) `bool`ean and `str`ings."
   ]
  },
  {
   "cell_type": "code",
   "execution_count": 65,
   "metadata": {
    "collapsed": false
   },
   "outputs": [
    {
     "name": "stdout",
     "output_type": "stream",
     "text": [
      "<type 'int'> <type 'float'> <type 'str'> <type 'bool'>\n"
     ]
    }
   ],
   "source": [
    "print type(123),type(123.0),type('123'),type(True)"
   ]
  },
  {
   "cell_type": "code",
   "execution_count": 66,
   "metadata": {
    "collapsed": false
   },
   "outputs": [
    {
     "name": "stdout",
     "output_type": "stream",
     "text": [
      " this is a string enclosed by \"\" not '' \n",
      " this string is not enlosed by \"\" \n",
      "This string spans \n",
      " two lines\n",
      "\n",
      "\n",
      "this string is \n",
      "a whole paragraph, ' and \" can be used freely\n",
      "and can span lines without using \\\n",
      "\n"
     ]
    }
   ],
   "source": [
    "# Strings can be enclosed by ',\" or \"\"\"\n",
    "print \" this is a string enclosed by \\\"\\\" not '' \"\n",
    "print ' this string is not enlosed by \"\" '\n",
    "print 'This string spans \\n two lines\\n\\n'\n",
    "print \"\"\"this string is \n",
    "a whole paragraph, ' and \" can be used freely\n",
    "and can span lines without using \\\\\n",
    "\"\"\""
   ]
  },
  {
   "cell_type": "markdown",
   "metadata": {},
   "source": [
    "### The numbers support all of the standard mathematical operations"
   ]
  },
  {
   "cell_type": "code",
   "execution_count": 67,
   "metadata": {
    "collapsed": false
   },
   "outputs": [
    {
     "data": {
      "text/plain": [
       "125"
      ]
     },
     "execution_count": 67,
     "metadata": {},
     "output_type": "execute_result"
    }
   ],
   "source": [
    "123+2"
   ]
  },
  {
   "cell_type": "code",
   "execution_count": 68,
   "metadata": {
    "collapsed": false
   },
   "outputs": [
    {
     "data": {
      "text/plain": [
       "121.0"
      ]
     },
     "execution_count": 68,
     "metadata": {},
     "output_type": "execute_result"
    }
   ],
   "source": [
    "123-2.0  # if one of the operands is a float, the result is a float."
   ]
  },
  {
   "cell_type": "code",
   "execution_count": 69,
   "metadata": {
    "collapsed": false
   },
   "outputs": [
    {
     "data": {
      "text/plain": [
       "61"
      ]
     },
     "execution_count": 69,
     "metadata": {},
     "output_type": "execute_result"
    }
   ],
   "source": [
    "123/2    # integer division"
   ]
  },
  {
   "cell_type": "code",
   "execution_count": 70,
   "metadata": {
    "collapsed": false
   },
   "outputs": [
    {
     "data": {
      "text/plain": [
       "61.5"
      ]
     },
     "execution_count": 70,
     "metadata": {},
     "output_type": "execute_result"
    }
   ],
   "source": [
    "# the output from the last line in a cell is printed automatically\n",
    "130.0/2\n",
    "123/2.0  # floating point division"
   ]
  },
  {
   "cell_type": "code",
   "execution_count": 71,
   "metadata": {
    "collapsed": false
   },
   "outputs": [
    {
     "name": "stdout",
     "output_type": "stream",
     "text": [
      "65.0\n"
     ]
    },
    {
     "data": {
      "text/plain": [
       "61.5"
      ]
     },
     "execution_count": 71,
     "metadata": {},
     "output_type": "execute_result"
    }
   ],
   "source": [
    "# In order to print a result that is not in the last line use \"print\"\n",
    "print 130.0/2\n",
    "123/2.0  # floating point division"
   ]
  },
  {
   "cell_type": "code",
   "execution_count": 72,
   "metadata": {
    "collapsed": false
   },
   "outputs": [
    {
     "name": "stdout",
     "output_type": "stream",
     "text": [
      "1 2 3\n"
     ]
    }
   ],
   "source": [
    "#Ending a print command with a comma supresses the carriage-return\n",
    "print 1,\n",
    "print 2,\n",
    "print 3"
   ]
  },
  {
   "cell_type": "code",
   "execution_count": 73,
   "metadata": {
    "collapsed": false
   },
   "outputs": [
    {
     "name": "stdout",
     "output_type": "stream",
     "text": [
      "3 , 3\n"
     ]
    }
   ],
   "source": [
    "# i % j computes the remaineder from dividing i by j (integer division)\n",
    "print 123 % 5,',', 123-(123/5)*5   # the 'print' command is redundant in the last line of a cell."
   ]
  },
  {
   "cell_type": "code",
   "execution_count": 74,
   "metadata": {
    "collapsed": false
   },
   "outputs": [
    {
     "data": {
      "text/plain": [
       "'1230'"
      ]
     },
     "execution_count": 74,
     "metadata": {},
     "output_type": "execute_result"
    }
   ],
   "source": [
    "# Summing of strings means concatanation \n",
    "x='123'+'0'\n",
    "x"
   ]
  },
  {
   "cell_type": "code",
   "execution_count": 75,
   "metadata": {
    "collapsed": false
   },
   "outputs": [
    {
     "name": "stdout",
     "output_type": "stream",
     "text": [
      "2 -5\n"
     ]
    }
   ],
   "source": [
    "# incrementing or decrementing a variable\n",
    "a=0; b=0 # yes, you can have more than one command in a line, but it is usually considered bad style\n",
    "a+=1; a+=1 # equivalent to `a=a+1`\n",
    "b-=2; b-=3\n",
    "print a,b"
   ]
  },
  {
   "cell_type": "code",
   "execution_count": 76,
   "metadata": {
    "collapsed": false
   },
   "outputs": [
    {
     "data": {
      "text/plain": [
       "1229"
      ]
     },
     "execution_count": 76,
     "metadata": {},
     "output_type": "execute_result"
    }
   ],
   "source": [
    "# casting a string as an integer\n",
    "int(x)-1"
   ]
  },
  {
   "cell_type": "code",
   "execution_count": 77,
   "metadata": {
    "collapsed": false
   },
   "outputs": [
    {
     "data": {
      "text/plain": [
       "'15$'"
      ]
     },
     "execution_count": 77,
     "metadata": {},
     "output_type": "execute_result"
    }
   ],
   "source": [
    "# casting an integer as a string\n",
    "str(15)+'$'"
   ]
  },
  {
   "cell_type": "markdown",
   "metadata": {},
   "source": [
    "#### Excercise\n",
    "Write a statement that, given two integers, a and b, outputs the string\n",
    "> a + b = a+b\n",
    "\n",
    "for example, if a=15 and b=3, output \n",
    "> 15 + 3 = 18"
   ]
  },
  {
   "cell_type": "code",
   "execution_count": 78,
   "metadata": {
    "collapsed": false
   },
   "outputs": [],
   "source": [
    "a=15\n",
    "b=3\n",
    "# your solution here"
   ]
  },
  {
   "cell_type": "markdown",
   "metadata": {},
   "source": [
    "### Booleans and conditions"
   ]
  },
  {
   "cell_type": "code",
   "execution_count": 79,
   "metadata": {
    "collapsed": false
   },
   "outputs": [
    {
     "name": "stdout",
     "output_type": "stream",
     "text": [
      "True False True False True False\n"
     ]
    }
   ],
   "source": [
    "print 1==1, 1==2, 1<2, 1<1, 1<=1,1<=0.99"
   ]
  },
  {
   "cell_type": "code",
   "execution_count": 80,
   "metadata": {
    "collapsed": false
   },
   "outputs": [
    {
     "name": "stdout",
     "output_type": "stream",
     "text": [
      "<type 'bool'>\n"
     ]
    }
   ],
   "source": [
    "print type(1==1)"
   ]
  },
  {
   "cell_type": "code",
   "execution_count": 81,
   "metadata": {
    "collapsed": false
   },
   "outputs": [
    {
     "data": {
      "text/plain": [
       "(True, False, True)"
      ]
     },
     "execution_count": 81,
     "metadata": {},
     "output_type": "execute_result"
    }
   ],
   "source": [
    "True or False, True and False, not False"
   ]
  },
  {
   "cell_type": "code",
   "execution_count": 82,
   "metadata": {
    "collapsed": false
   },
   "outputs": [
    {
     "data": {
      "text/plain": [
       "True"
      ]
     },
     "execution_count": 82,
     "metadata": {},
     "output_type": "execute_result"
    }
   ],
   "source": [
    "# testing whether a number is a multiple of 7\n",
    "a=343\n",
    "a % 7 == 0"
   ]
  },
  {
   "cell_type": "markdown",
   "metadata": {},
   "source": [
    "### String opeations"
   ]
  },
  {
   "cell_type": "code",
   "execution_count": 83,
   "metadata": {
    "collapsed": false
   },
   "outputs": [
    {
     "data": {
      "text/plain": [
       "'12'"
      ]
     },
     "execution_count": 83,
     "metadata": {},
     "output_type": "execute_result"
    }
   ],
   "source": [
    "'1'+'2' # Concatanation"
   ]
  },
  {
   "cell_type": "code",
   "execution_count": 84,
   "metadata": {
    "collapsed": false
   },
   "outputs": [],
   "source": [
    "word='Lough'"
   ]
  },
  {
   "cell_type": "code",
   "execution_count": 85,
   "metadata": {
    "collapsed": false
   },
   "outputs": [
    {
     "data": {
      "text/plain": [
       "True"
      ]
     },
     "execution_count": 85,
     "metadata": {},
     "output_type": "execute_result"
    }
   ],
   "source": [
    "'gh' in word # test for substring"
   ]
  },
  {
   "cell_type": "markdown",
   "metadata": {},
   "source": []
  },
  {
   "cell_type": "code",
   "execution_count": 86,
   "metadata": {
    "collapsed": false
   },
   "outputs": [
    {
     "data": {
      "text/plain": [
       "3"
      ]
     },
     "execution_count": 86,
     "metadata": {},
     "output_type": "execute_result"
    }
   ],
   "source": [
    "word.find('gh')"
   ]
  },
  {
   "cell_type": "code",
   "execution_count": 87,
   "metadata": {
    "collapsed": false
   },
   "outputs": [
    {
     "data": {
      "text/plain": [
       "('LOUGH', 'lough')"
      ]
     },
     "execution_count": 87,
     "metadata": {},
     "output_type": "execute_result"
    }
   ],
   "source": [
    "word.upper(), word.lower()"
   ]
  },
  {
   "cell_type": "code",
   "execution_count": 88,
   "metadata": {
    "collapsed": false
   },
   "outputs": [
    {
     "data": {
      "text/plain": [
       "('ough', 'Loug')"
      ]
     },
     "execution_count": 88,
     "metadata": {},
     "output_type": "execute_result"
    }
   ],
   "source": [
    "word[1:],word[:-1]   # get all but the first, or all but the last characters of the word"
   ]
  },
  {
   "cell_type": "code",
   "execution_count": 89,
   "metadata": {
    "collapsed": false
   },
   "outputs": [
    {
     "ename": "NameError",
     "evalue": "name 'strip' is not defined",
     "output_type": "error",
     "traceback": [
      "\u001b[0;31m---------------------------------------------------------------------------\u001b[0m",
      "\u001b[0;31mNameError\u001b[0m                                 Traceback (most recent call last)",
      "\u001b[0;32m<ipython-input-89-b7e160c0c3e3>\u001b[0m in \u001b[0;36m<module>\u001b[0;34m()\u001b[0m\n\u001b[1;32m      1\u001b[0m \u001b[0mtext\u001b[0m\u001b[0;34m=\u001b[0m\u001b[0;34m'   this is it   '\u001b[0m\u001b[0;34m\u001b[0m\u001b[0m\n\u001b[0;32m----> 2\u001b[0;31m \u001b[0mstrip\u001b[0m\u001b[0;34m(\u001b[0m\u001b[0mtext\u001b[0m\u001b[0;34m)\u001b[0m\u001b[0;34m,\u001b[0m\u001b[0mlstrip\u001b[0m\u001b[0;34m(\u001b[0m\u001b[0mtext\u001b[0m\u001b[0;34m)\u001b[0m\u001b[0;34m,\u001b[0m\u001b[0mrstrip\u001b[0m\u001b[0;34m(\u001b[0m\u001b[0mtext\u001b[0m\u001b[0;34m)\u001b[0m\u001b[0;34m\u001b[0m\u001b[0m\n\u001b[0m",
      "\u001b[0;31mNameError\u001b[0m: name 'strip' is not defined"
     ]
    }
   ],
   "source": [
    "text='   this is it   '\n",
    "strip(text),lstrip(text),rstrip(text) "
   ]
  },
  {
   "cell_type": "markdown",
   "metadata": {},
   "source": [
    "### Lists and Tuples ###\n",
    "In the next cell we read the file, parse it according to `fields`, and create a dictionary of lists, one for each field."
   ]
  },
  {
   "cell_type": "code",
   "execution_count": 90,
   "metadata": {
    "collapsed": false
   },
   "outputs": [
    {
     "name": "stdout",
     "output_type": "stream",
     "text": [
      "[('caseid', 1, 12, <type 'int'>), ('nbrnaliv', 22, 22, <type 'int'>), ('babysex', 56, 56, <type 'int'>), ('birthwgt_oz', 59, 60, <type 'int'>), ('prglength', 275, 276, <type 'int'>), ('outcome', 277, 277, <type 'int'>), ('birthord', 278, 279, <type 'int'>), ('agepreg', 284, 287, <type 'int'>), ('finalwgt', 423, 440, <type 'float'>)]\n"
     ]
    }
   ],
   "source": [
    "## This list of tuples defines the names and locations of the elements.\n",
    "fields=[\n",
    "    ('caseid', 1, 12, int),\n",
    "    ('nbrnaliv', 22, 22, int),\n",
    "    ('babysex', 56, 56, int),\n",
    "    ('birthwgt_oz', 59, 60, int),\n",
    "    ('prglength', 275, 276, int),\n",
    "    ('outcome', 277, 277, int),\n",
    "    ('birthord', 278, 279, int),\n",
    "    ('agepreg', 284, 287, int),\n",
    "    ('finalwgt', 423, 440, float),\n",
    "]\n",
    "print fields\n",
    "# note the types of the 4 fields, especially the last one"
   ]
  },
  {
   "cell_type": "code",
   "execution_count": 91,
   "metadata": {
    "collapsed": false
   },
   "outputs": [
    {
     "data": {
      "text/plain": [
       "list"
      ]
     },
     "execution_count": 91,
     "metadata": {},
     "output_type": "execute_result"
    }
   ],
   "source": [
    "type(fields)"
   ]
  },
  {
   "cell_type": "code",
   "execution_count": 92,
   "metadata": {
    "collapsed": false
   },
   "outputs": [
    {
     "name": "stdout",
     "output_type": "stream",
     "text": [
      "('babysex', 56, 56, <type 'int'>)\n",
      "<type 'tuple'>\n"
     ]
    }
   ],
   "source": [
    "print fields[2]\n",
    "print type(fields[2])"
   ]
  },
  {
   "cell_type": "code",
   "execution_count": 93,
   "metadata": {
    "collapsed": false
   },
   "outputs": [
    {
     "name": "stdout",
     "output_type": "stream",
     "text": [
      "babysex\n",
      "<type 'str'>\n"
     ]
    }
   ],
   "source": [
    "print fields[2][0]\n",
    "print type(fields[2][0])"
   ]
  },
  {
   "cell_type": "markdown",
   "metadata": {},
   "source": [
    "###Sets\n",
    "Sets are mutable collections of objects in which each object can appear at most once.\n",
    "\n",
    "Sets are unordered, sorting them creates a list.\n"
   ]
  },
  {
   "cell_type": "code",
   "execution_count": 94,
   "metadata": {
    "collapsed": false
   },
   "outputs": [
    {
     "data": {
      "text/plain": [
       "{1, 2, 4, 99}"
      ]
     },
     "execution_count": 94,
     "metadata": {},
     "output_type": "execute_result"
    }
   ],
   "source": [
    "s=set([2,99,2,1,4,99,99]) # you can make sets from lists\n",
    "s"
   ]
  },
  {
   "cell_type": "code",
   "execution_count": 95,
   "metadata": {
    "collapsed": false
   },
   "outputs": [
    {
     "ename": "TypeError",
     "evalue": "'list' object is not callable",
     "output_type": "error",
     "traceback": [
      "\u001b[0;31m---------------------------------------------------------------------------\u001b[0m",
      "\u001b[0;31mTypeError\u001b[0m                                 Traceback (most recent call last)",
      "\u001b[0;32m<ipython-input-95-3f9544b9bd7b>\u001b[0m in \u001b[0;36m<module>\u001b[0;34m()\u001b[0m\n\u001b[0;32m----> 1\u001b[0;31m \u001b[0ml\u001b[0m\u001b[0;34m=\u001b[0m\u001b[0mlist\u001b[0m\u001b[0;34m(\u001b[0m\u001b[0ms\u001b[0m\u001b[0;34m)\u001b[0m   \u001b[0;31m# and lists from sets\u001b[0m\u001b[0;34m\u001b[0m\u001b[0m\n\u001b[0m\u001b[1;32m      2\u001b[0m \u001b[0ml\u001b[0m\u001b[0;34m\u001b[0m\u001b[0m\n",
      "\u001b[0;31mTypeError\u001b[0m: 'list' object is not callable"
     ]
    }
   ],
   "source": [
    "l=list(s)   # and lists from sets\n",
    "l"
   ]
  },
  {
   "cell_type": "code",
   "execution_count": 96,
   "metadata": {
    "collapsed": false
   },
   "outputs": [
    {
     "name": "stdout",
     "output_type": "stream",
     "text": [
      "set(['a', 1, 2, 'b', 4, 99])\n"
     ]
    }
   ],
   "source": [
    "t=set(['a','b','a',2])\n",
    "print t | s   # you can take the OR (union) of two sets"
   ]
  },
  {
   "cell_type": "code",
   "execution_count": 97,
   "metadata": {
    "collapsed": false
   },
   "outputs": [
    {
     "data": {
      "text/plain": [
       "{2}"
      ]
     },
     "execution_count": 97,
     "metadata": {},
     "output_type": "execute_result"
    }
   ],
   "source": [
    "# You can take the intersection of two sets\n",
    "s & t"
   ]
  },
  {
   "cell_type": "code",
   "execution_count": 98,
   "metadata": {
    "collapsed": false
   },
   "outputs": [
    {
     "data": {
      "text/plain": [
       "({'a', 'b'}, {1, 4, 99})"
      ]
     },
     "execution_count": 98,
     "metadata": {},
     "output_type": "execute_result"
    }
   ],
   "source": [
    "t-s, s-t # you can find all of the elements that are in one set but not the other "
   ]
  },
  {
   "cell_type": "markdown",
   "metadata": {},
   "source": [
    "Operation\t| Equivalent | Result\n",
    "-------------------|---------------|---------------------\n",
    "len(s)\t \t|   | cardinality of set s \n",
    "x in s\t \t|   | test x for membership in s\n",
    "x not in s\t|   | \ttest x for non-membership in s\n",
    "s.issubset(t) |\ts <= t\t| test whether every element in s is in t\n",
    "s.issuperset(t) | s >= t | test whether every element in t is in s\n",
    "s.union(t) | s &#124; t\t| new set with elements from both s and t\n",
    "s.intersection(t)\t| s & t\t| new set with elements common to s and t\n",
    "s.difference(t)\t| s - t\t| new set with elements in s but not in t\n",
    "s.symmetric_difference(t)\t| s ^ t |\tnew set with elements in either s or t but not both\n",
    "s.copy()\t \t| | new set with a shallow copy of s"
   ]
  },
  {
   "cell_type": "markdown",
   "metadata": {},
   "source": [
    "### Mutable and immutable objects, shallow and deep copies\n",
    "\n",
    "* **Lists are Mutable** the object references *can* be changed.\n",
    "* **Tuples are immutable** the object references *cannot* be changed.\n"
   ]
  },
  {
   "cell_type": "markdown",
   "metadata": {},
   "source": [
    "### The \"Import\" command\n",
    "the `import` command is used to load external modules. Those modules can be established libraries, code you downloaded from github, or code you wrote yourself. There are several styles of `import`:\n",
    "* `import string` - you later refer to functions using `string.find`\n",
    "* `import string as str` - you later refer to functions using `str.find`\n",
    "* `from string import find` - you later refer to function using `find`\n",
    "* `from string import *` - you later refer to function in `string` using it's name alone."
   ]
  },
  {
   "cell_type": "code",
   "execution_count": 99,
   "metadata": {
    "collapsed": false
   },
   "outputs": [
    {
     "name": "stdout",
     "output_type": "stream",
     "text": [
      "[('caseid', 1, 12, <type 'int'>), ('nbrnaliv', 22, 22, <type 'int'>), ('babysex', 56, 56, <type 'int'>), 'something else', ('prglength', 275, 276, <type 'int'>), ('outcome', 277, 277, <type 'int'>), ('birthord', 278, 279, <type 'int'>), ('agepreg', 284, 287, <type 'int'>), ('finalwgt', 423, 440, <type 'float'>)]\n",
      "[('caseid', 1, 12, <type 'int'>), ('nbrnaliv', 22, 22, <type 'int'>), ('babysex', 56, 56, <type 'int'>), ('birthwgt_oz', 59, 60, <type 'int'>), ('prglength', 275, 276, <type 'int'>), ('outcome', 277, 277, <type 'int'>), ('birthord', 278, 279, <type 'int'>), ('agepreg', 284, 287, <type 'int'>), ('finalwgt', 423, 440, <type 'float'>)]\n"
     ]
    }
   ],
   "source": [
    "from copy import deepcopy\n",
    "#lists are mutable:\n",
    "fields_copy=deepcopy(fields)\n",
    "fields_copy[3]='something else'\n",
    "print fields_copy\n",
    "print fields"
   ]
  },
  {
   "cell_type": "markdown",
   "metadata": {},
   "source": [
    "#### Assignment, copy and deepcopy\n",
    "\n",
    "We want to keep the list `fields` unchanged, because we will use it later to parse the file.\n",
    "\n",
    "We want to create a *deep copy* of the list. The three main ways to create a new list are:\n",
    "\n",
    "1. **Assignment:** `list2=list1` this does not create a new data structure, instead, it creates a pointer to an existing data structure.\n",
    "2. **Shallow Copy:** `list2=copy.copy(list1)` list2 is a new container, but the elements in the container are not copied.\n",
    "3. **Deep Copy:** `list2=copy.deepcopy(list1)` list2 is a new container and each element is a new object, continuing recursively.\n",
    "\n",
    "\n",
    "[More on deep and shallow copies](https://docs.python.org/2/library/copy.html)"
   ]
  },
  {
   "cell_type": "code",
   "execution_count": 100,
   "metadata": {
    "collapsed": false
   },
   "outputs": [
    {
     "ename": "TypeError",
     "evalue": "'tuple' object does not support item assignment",
     "output_type": "error",
     "traceback": [
      "\u001b[0;31m---------------------------------------------------------------------------\u001b[0m",
      "\u001b[0;31mTypeError\u001b[0m                                 Traceback (most recent call last)",
      "\u001b[0;32m<ipython-input-100-2e2afd92deb7>\u001b[0m in \u001b[0;36m<module>\u001b[0;34m()\u001b[0m\n\u001b[1;32m      1\u001b[0m \u001b[0;31m#tuples are not mutable (immutable)\u001b[0m\u001b[0;34m\u001b[0m\u001b[0;34m\u001b[0m\u001b[0m\n\u001b[0;32m----> 2\u001b[0;31m \u001b[0mfields_copy\u001b[0m\u001b[0;34m[\u001b[0m\u001b[0;36m2\u001b[0m\u001b[0;34m]\u001b[0m\u001b[0;34m[\u001b[0m\u001b[0;36m0\u001b[0m\u001b[0;34m]\u001b[0m\u001b[0;34m=\u001b[0m\u001b[0;36m15\u001b[0m\u001b[0;34m\u001b[0m\u001b[0m\n\u001b[0m",
      "\u001b[0;31mTypeError\u001b[0m: 'tuple' object does not support item assignment"
     ]
    }
   ],
   "source": [
    "#tuples are not mutable (immutable)\n",
    "fields_copy[2][0]=15"
   ]
  },
  {
   "cell_type": "code",
   "execution_count": 101,
   "metadata": {
    "collapsed": false
   },
   "outputs": [
    {
     "name": "stdout",
     "output_type": "stream",
     "text": [
      "L= [0, 1, 2, 3, 4, 5, 6, 7, 8, 9]\n",
      "L[3:7]= [3, 4, 5, 6]\n"
     ]
    }
   ],
   "source": [
    "# slices\n",
    "L=range(10)\n",
    "print 'L=',L\n",
    "print 'L[3:7]=',L[3:7]"
   ]
  },
  {
   "cell_type": "code",
   "execution_count": 102,
   "metadata": {
    "collapsed": false
   },
   "outputs": [
    {
     "name": "stdout",
     "output_type": "stream",
     "text": [
      "[4, 5, 6, 7, 8]\n",
      "[4, 5, 6, 7, 8, 9]\n"
     ]
    }
   ],
   "source": [
    "#counting form the end of the list\n",
    "print L[-6:-1]\n",
    "print L[-6:]"
   ]
  },
  {
   "cell_type": "markdown",
   "metadata": {},
   "source": [
    "#### Exercise\n",
    "Write a statement that, given a list L and an integer k would print the last k elements of the List"
   ]
  },
  {
   "cell_type": "code",
   "execution_count": 103,
   "metadata": {
    "collapsed": false
   },
   "outputs": [
    {
     "data": {
      "text/plain": [
       "[1, 2]"
      ]
     },
     "execution_count": 103,
     "metadata": {},
     "output_type": "execute_result"
    }
   ],
   "source": [
    "L=['a','b',1,2]\n",
    "k=2\n",
    "# for this input, the output should be [1,2]\n",
    "\n",
    "L[-2:]"
   ]
  },
  {
   "cell_type": "markdown",
   "metadata": {},
   "source": [
    "### List Operations"
   ]
  },
  {
   "cell_type": "code",
   "execution_count": 104,
   "metadata": {
    "collapsed": false
   },
   "outputs": [
    {
     "name": "stdout",
     "output_type": "stream",
     "text": [
      "A+B= [3, 1, 2, 'a', 'c', 'c', 'b']\n"
     ]
    }
   ],
   "source": [
    "# lists can be diverse, each element in the list can be of a different type.\n",
    "# lists are really list of pointers, and these pointers can \n",
    "# point to anything.\n",
    "A=[3,1,2]\n",
    "B=['a','c','c','b']\n",
    "# Concatanating\n",
    "print 'A+B=',A+B"
   ]
  },
  {
   "cell_type": "code",
   "execution_count": 105,
   "metadata": {
    "collapsed": false
   },
   "outputs": [
    {
     "name": "stdout",
     "output_type": "stream",
     "text": [
      "C= (1, 'a', 'c', 1, 'a', 'c')\n"
     ]
    }
   ],
   "source": [
    "C=(1,'a','c')\n",
    "C=C+C\n",
    "print 'C=',C"
   ]
  },
  {
   "cell_type": "code",
   "execution_count": 106,
   "metadata": {
    "collapsed": false
   },
   "outputs": [
    {
     "name": "stdout",
     "output_type": "stream",
     "text": [
      "D= ([3, 1, 2], [3, 1, 2], ['a', 'c', 'c', 'b'], 3)\n"
     ]
    }
   ],
   "source": [
    "# A list of lists\n",
    "D=(A,A,B,3)\n",
    "print 'D=',D"
   ]
  },
  {
   "cell_type": "code",
   "execution_count": 107,
   "metadata": {
    "collapsed": false
   },
   "outputs": [
    {
     "name": "stdout",
     "output_type": "stream",
     "text": [
      "None\n",
      "['a', 'c', 'c', 'b', 55]\n"
     ]
    }
   ],
   "source": [
    "# appends in place, does not return anything - can only be used on *mutable* objects\n",
    "print B.append(55)\n",
    "print B"
   ]
  },
  {
   "cell_type": "code",
   "execution_count": 108,
   "metadata": {
    "collapsed": false
   },
   "outputs": [
    {
     "name": "stdout",
     "output_type": "stream",
     "text": [
      "E= ['a', 'b', 5]\n"
     ]
    }
   ],
   "source": [
    "# appending to the end of a list.\n",
    "E=['a','b']\n",
    "E.append(5)\n",
    "print 'E=',E"
   ]
  },
  {
   "cell_type": "code",
   "execution_count": 109,
   "metadata": {
    "collapsed": false
   },
   "outputs": [
    {
     "name": "stdout",
     "output_type": "stream",
     "text": [
      "F= ['a', 'b', [...]]\n"
     ]
    }
   ],
   "source": [
    "# A list can even have itself as a member (remember, it is just a pointer)\n",
    "F=['a','b']\n",
    "F.append(F)\n",
    "print 'F=',F"
   ]
  },
  {
   "cell_type": "markdown",
   "metadata": {},
   "source": [
    "#### Sorting\n",
    "\n",
    "Two operations for sorting the elements in a list/tuple\n",
    "1. `sorted(A)` returns a list containing the values of the list or tuple `A` in sorted order.\n",
    "1. `A.sort()` sorts the elements of the list A **in place**, does not return anything. Can operate only on lists (mutable), not tuples (immutable)."
   ]
  },
  {
   "cell_type": "code",
   "execution_count": 110,
   "metadata": {
    "collapsed": false
   },
   "outputs": [
    {
     "name": "stdout",
     "output_type": "stream",
     "text": [
      "sorted(A)= [1, 2, 3]\n",
      "[3, 1, 2]\n",
      "sorted(B)= [55, 'a', 'b', 'c', 'c']\n",
      "sorted(C)= [1, 1, 'a', 'a', 'c', 'c']\n"
     ]
    }
   ],
   "source": [
    "# *sort* Returns a new list that is a sorted version\n",
    "print 'sorted(A)=',sorted(A)\n",
    "print A\n",
    "print 'sorted(B)=',sorted(B)\n",
    "print 'sorted(C)=',sorted(C)"
   ]
  },
  {
   "cell_type": "code",
   "execution_count": 111,
   "metadata": {
    "collapsed": false
   },
   "outputs": [
    {
     "name": "stdout",
     "output_type": "stream",
     "text": [
      "(1, 1, 'a', 'a', 'c', 'c')\n"
     ]
    }
   ],
   "source": [
    "print tuple(sorted(C))"
   ]
  },
  {
   "cell_type": "code",
   "execution_count": 112,
   "metadata": {
    "collapsed": false
   },
   "outputs": [
    {
     "name": "stdout",
     "output_type": "stream",
     "text": [
      "None None\n",
      "[1, 2, 3] [55, 'a', 'b', 'c', 'c']\n"
     ]
    }
   ],
   "source": [
    "print A.sort(),B.sort()\n",
    "print A,B"
   ]
  },
  {
   "cell_type": "code",
   "execution_count": 113,
   "metadata": {
    "collapsed": false
   },
   "outputs": [
    {
     "ename": "AttributeError",
     "evalue": "'tuple' object has no attribute 'sort'",
     "output_type": "error",
     "traceback": [
      "\u001b[0;31m---------------------------------------------------------------------------\u001b[0m",
      "\u001b[0;31mAttributeError\u001b[0m                            Traceback (most recent call last)",
      "\u001b[0;32m<ipython-input-113-40db74b81f6a>\u001b[0m in \u001b[0;36m<module>\u001b[0;34m()\u001b[0m\n\u001b[0;32m----> 1\u001b[0;31m \u001b[0;32mprint\u001b[0m \u001b[0mC\u001b[0m\u001b[0;34m.\u001b[0m\u001b[0msort\u001b[0m\u001b[0;34m(\u001b[0m\u001b[0;34m)\u001b[0m\u001b[0;34m\u001b[0m\u001b[0m\n\u001b[0m",
      "\u001b[0;31mAttributeError\u001b[0m: 'tuple' object has no attribute 'sort'"
     ]
    }
   ],
   "source": [
    "print C.sort()"
   ]
  },
  {
   "cell_type": "markdown",
   "metadata": {},
   "source": [
    "### More about Sorting\n",
    "Sort/sorted have other useful parameters.\n",
    "\n",
    "Googling for `python sorted` or `python sort` you find (among many others) the following page\n",
    "https://docs.python.org/2/library/functions.html#sorted\n",
    "\n",
    "#### sorted(iterable[, cmp[, key[, reverse]]])\n",
    "\n",
    "Return a new sorted list from the items in iterable.\n",
    "\n",
    "The optional arguments cmp, key, and reverse have the same meaning as\n",
    "those for the list.sort() method (described in section Mutable\n",
    "Sequence Types).\n",
    "\n",
    "cmp specifies a *custom comparison function* of two arguments (iterable\n",
    "elements) which should return a negative, zero or positive number\n",
    "depending on whether the first argument is considered smaller than,\n",
    "equal to, or larger than the second argument. The default value is None.\n",
    "\n",
    "key specifies a function of one argument that is used to extract a\n",
    "comparison key from each list element: key=str.lower. The default\n",
    "value is None (compare the elements directly).\n",
    "\n",
    "reverse is a boolean value. If set to True, then the list elements are\n",
    "sorted as if each comparison were reversed.\n",
    "\n",
    "In general, the key and reverse conversion processes are much faster\n",
    "than specifying an equivalent cmp function. This is because cmp is\n",
    "called multiple times for each list element while key and reverse\n",
    "touch each element only once. Use functools.cmp_to_key() to convert an\n",
    "old-style cmp function to a key function.\n",
    "\n",
    "For sorting examples and a brief sorting tutorial, see [Sorting HowTo](https://wiki.python.org/moin/HowTo/Sorting/)"
   ]
  },
  {
   "cell_type": "markdown",
   "metadata": {},
   "source": [
    "### for loops\n",
    "For loops are a common way to iterate over the elements of a list\n",
    "\n",
    "One unique feature of python is that code blocks are not surrounded by `{}` oe `begin`,`end`. Instead, python uses indentation,\n",
    "The lines inside a block have to be indented by a tab, or by 4 spaces, relative to the surrounding commands.\n",
    "\n",
    "While this might seem unintuitive at first, it encourages writing more readable code, over time, you'd learn to love it!"
   ]
  },
  {
   "cell_type": "code",
   "execution_count": 114,
   "metadata": {
    "collapsed": false
   },
   "outputs": [
    {
     "name": "stdout",
     "output_type": "stream",
     "text": [
      "a=a\n",
      "b=b\n",
      "c=c\n"
     ]
    }
   ],
   "source": [
    "L=['a','b','c']\n",
    "# note the : and the <tab> they are both necessary\n",
    "# note that the loop does not have an \"end\" command\n",
    "for l in L:\n",
    "    print l+'='+l"
   ]
  },
  {
   "cell_type": "markdown",
   "metadata": {},
   "source": [
    "### The range command creates a list of integers:\n",
    "> **range(end)** - generates the list [0,1,...,end-1]\n",
    "\n",
    "> **range(start,end)** generates the list [start,...,end-1]\n",
    "\n",
    "> **range(start,end,step)** generates the list [start,start+step,start+2*step,...] ending at the largest element that is smaller than end"
   ]
  },
  {
   "cell_type": "code",
   "execution_count": 115,
   "metadata": {
    "collapsed": false
   },
   "outputs": [
    {
     "name": "stdout",
     "output_type": "stream",
     "text": [
      "0 a=a\n",
      "1 b=b\n",
      "2 c=c\n"
     ]
    }
   ],
   "source": [
    "# another way to achieve the same result is\n",
    "for i in range(len(L)):\n",
    "    l=L[i]\n",
    "    print i,l+'='+l    "
   ]
  },
  {
   "cell_type": "code",
   "execution_count": 116,
   "metadata": {
    "collapsed": false
   },
   "outputs": [
    {
     "name": "stdout",
     "output_type": "stream",
     "text": [
      "1 b=b\n"
     ]
    }
   ],
   "source": [
    "# print only the odd numbered elements\n",
    "for i in range(1,len(L),2):\n",
    "    l=L[i]\n",
    "    print i,l+'='+l    "
   ]
  },
  {
   "cell_type": "code",
   "execution_count": 117,
   "metadata": {
    "collapsed": false
   },
   "outputs": [
    {
     "name": "stdout",
     "output_type": "stream",
     "text": [
      "('caseid', 1, 12, <type 'int'>)\n",
      "('nbrnaliv', 22, 22, <type 'int'>)\n",
      "('babysex', 56, 56, <type 'int'>)\n",
      "('birthwgt_oz', 59, 60, <type 'int'>)\n",
      "('prglength', 275, 276, <type 'int'>)\n",
      "('outcome', 277, 277, <type 'int'>)\n",
      "('birthord', 278, 279, <type 'int'>)\n",
      "('agepreg', 284, 287, <type 'int'>)\n",
      "('finalwgt', 423, 440, <type 'float'>)\n"
     ]
    }
   ],
   "source": [
    "#looping over the \"fields\" list\n",
    "for field in fields:\n",
    "    print field"
   ]
  },
  {
   "cell_type": "markdown",
   "metadata": {},
   "source": [
    "### If-Then-Else\n",
    "\n",
    "A conditional statement can take any of the following forms."
   ]
  },
  {
   "cell_type": "code",
   "execution_count": 118,
   "metadata": {
    "collapsed": false
   },
   "outputs": [
    {
     "name": "stdout",
     "output_type": "stream",
     "text": [
      "A is equal to or larger than 30\n"
     ]
    }
   ],
   "source": [
    "A=231\n",
    "if A<30:\n",
    "    print 'A is smaller than 30'\n",
    "else:\n",
    "    print 'A is equal to or larger than 30'"
   ]
  },
  {
   "cell_type": "code",
   "execution_count": 119,
   "metadata": {
    "collapsed": false
   },
   "outputs": [
    {
     "name": "stdout",
     "output_type": "stream",
     "text": [
      "A is larger than 30\n"
     ]
    }
   ],
   "source": [
    "if A>30:\n",
    "    print 'A is larger than 30'\n",
    "elif A==22:\n",
    "    print 'A = 22'\n",
    "else:\n",
    "    print 'Catchall condition'\n",
    "    "
   ]
  },
  {
   "cell_type": "markdown",
   "metadata": {},
   "source": [
    "### Combining loops and conditionals ###\n",
    "Combining for loops and conditionals is one of the main work-horses of any procedural language."
   ]
  },
  {
   "cell_type": "code",
   "execution_count": 120,
   "metadata": {
    "collapsed": false
   },
   "outputs": [
    {
     "name": "stdout",
     "output_type": "stream",
     "text": [
      "1 is not a string\n",
      "2 is a string\n",
      "3 is not a string\n",
      "a is a string\n",
      "22 is not a string\n",
      "green is a string\n",
      "[] is not a string\n",
      "(1, 2, 3) is not a string\n"
     ]
    }
   ],
   "source": [
    "L=[1,'2',3,'a',22,'green',[],(1,2,3)]\n",
    "for l in L:\n",
    "    if type(l)==str:\n",
    "        print l,'is a string'\n",
    "    else:\n",
    "        print l,'is not a string'"
   ]
  },
  {
   "cell_type": "code",
   "execution_count": 121,
   "metadata": {
    "collapsed": false
   },
   "outputs": [
    {
     "name": "stdout",
     "output_type": "stream",
     "text": [
      "1 2\n",
      "3 a\n",
      "5 green\n"
     ]
    }
   ],
   "source": [
    "# use \"continue\" when you want to skip a single iteration\n",
    "# here is code that would print only the strings, ignoring items of other types,\n",
    "# it also prints the location of the element in the list.\n",
    "i=-1   # Starting at -1 because the python convension is that the index of the first element is 0\n",
    "for l in L:\n",
    "    i+=1   # a counter indicating the location of l in L\n",
    "    if type(l)!=str:\n",
    "        continue\n",
    "    print i,l"
   ]
  },
  {
   "cell_type": "code",
   "execution_count": 122,
   "metadata": {
    "collapsed": false
   },
   "outputs": [
    {
     "name": "stdout",
     "output_type": "stream",
     "text": [
      "2\n"
     ]
    }
   ],
   "source": [
    "# use \"break\" when you want to quit the loop early\n",
    "# here is code to find and print the first string in the list\n",
    "for l in L:\n",
    "    if type(l)==str:\n",
    "        print l\n",
    "        break"
   ]
  },
  {
   "cell_type": "markdown",
   "metadata": {},
   "source": [
    "### Dictionaries\n",
    "Dictionaries, also called \"hash tables\" are data structures that map keys into values.\n",
    "The value can be anything. The key has to be **immutable**, for example, numbers, strings or tuples.\n",
    "A key can appear only once, which means that the keys form a **set** (see above)"
   ]
  },
  {
   "cell_type": "code",
   "execution_count": 123,
   "metadata": {
    "collapsed": false
   },
   "outputs": [],
   "source": [
    "# columns is initialized as a dictionary\n",
    "columns={}\n",
    "# an empty list is created for each field\n",
    "for (field, start, end, cast) in fields:\n",
    "    columns[field]=[]"
   ]
  },
  {
   "cell_type": "code",
   "execution_count": 124,
   "metadata": {
    "collapsed": false
   },
   "outputs": [
    {
     "data": {
      "text/plain": [
       "{'agepreg': [],\n",
       " 'babysex': [],\n",
       " 'birthord': [],\n",
       " 'birthwgt_oz': [],\n",
       " 'caseid': [],\n",
       " 'finalwgt': [],\n",
       " 'nbrnaliv': [],\n",
       " 'outcome': [],\n",
       " 'prglength': []}"
      ]
     },
     "execution_count": 124,
     "metadata": {},
     "output_type": "execute_result"
    }
   ],
   "source": [
    "columns"
   ]
  },
  {
   "cell_type": "code",
   "execution_count": 125,
   "metadata": {
    "collapsed": false
   },
   "outputs": [
    {
     "data": {
      "text/plain": [
       "{'dan': 12, 'john': 10, 'judy': 3, 'sarah': 9}"
      ]
     },
     "execution_count": 125,
     "metadata": {},
     "output_type": "execute_result"
    }
   ],
   "source": [
    "# An explicit definition of a dictionary:\n",
    "Dict={'dan':12,'john':10,'sarah':9}\n",
    "Dict['judy']=3\n",
    "Dict"
   ]
  },
  {
   "cell_type": "code",
   "execution_count": 126,
   "metadata": {
    "collapsed": false
   },
   "outputs": [
    {
     "name": "stdout",
     "output_type": "stream",
     "text": [
      "nbrnaliv birthwgt_oz caseid babysex prglength finalwgt agepreg outcome birthord\n"
     ]
    }
   ],
   "source": [
    "#list the keys in the dictionary\n",
    "for key in columns.keys():\n",
    "    # note the comma at the end of the print command\n",
    "    print key,"
   ]
  },
  {
   "cell_type": "markdown",
   "metadata": {},
   "source": [
    "### Not everything can be used as a key\n",
    "Only immutable objects can be used as keys. \n",
    "Lists cannot be used as keys, but tuples can!\n",
    "\n",
    "Immutable objects are \"hashable\""
   ]
  },
  {
   "cell_type": "code",
   "execution_count": 127,
   "metadata": {
    "collapsed": false
   },
   "outputs": [
    {
     "name": "stdout",
     "output_type": "stream",
     "text": [
      "{'sarah': 9, ('john', 'doe'): 23, 'dan': 12, 'john': 10, 'judy': 3}\n"
     ]
    }
   ],
   "source": [
    "Dict[('john','doe')]=23\n",
    "print Dict"
   ]
  },
  {
   "cell_type": "code",
   "execution_count": 128,
   "metadata": {
    "collapsed": false
   },
   "outputs": [
    {
     "ename": "TypeError",
     "evalue": "unhashable type: 'list'",
     "output_type": "error",
     "traceback": [
      "\u001b[0;31m---------------------------------------------------------------------------\u001b[0m",
      "\u001b[0;31mTypeError\u001b[0m                                 Traceback (most recent call last)",
      "\u001b[0;32m<ipython-input-128-e690a7fe8052>\u001b[0m in \u001b[0;36m<module>\u001b[0;34m()\u001b[0m\n\u001b[0;32m----> 1\u001b[0;31m \u001b[0mDict\u001b[0m\u001b[0;34m[\u001b[0m\u001b[0;34m[\u001b[0m\u001b[0;34m'james'\u001b[0m\u001b[0;34m,\u001b[0m\u001b[0;34m'brown'\u001b[0m\u001b[0;34m]\u001b[0m\u001b[0;34m]\u001b[0m\u001b[0;34m=\u001b[0m\u001b[0;36m2\u001b[0m\u001b[0;34m\u001b[0m\u001b[0m\n\u001b[0m",
      "\u001b[0;31mTypeError\u001b[0m: unhashable type: 'list'"
     ]
    }
   ],
   "source": [
    "Dict[['james','brown']]=2"
   ]
  },
  {
   "cell_type": "markdown",
   "metadata": {},
   "source": [
    "### We now go back to parsing the maternity data file\n",
    "First, we have a look at the first two lines of the data file"
   ]
  },
  {
   "cell_type": "code",
   "execution_count": 129,
   "metadata": {
    "collapsed": false
   },
   "outputs": [
    {
     "name": "stdout",
     "output_type": "stream",
     "text": [
      "           1 1     6 1     11093 1084     9 039 9   0  1 813             1093 13837                        1                5                                                                        116610931166 9201093                111             3    1   12  11         5391 110933316108432411211     2995 1212 69544441116122222 2 2224693215    000000000000000000000000000000000000003410.38939935294273869.3496019830486 6448.2711117047512 91231\r\n",
      "           1 2     6 1     11166 1157     9 039 9   0  2 714             1166  6542112  2  05 1 4  5       51               1   41  4  201 20                                                        1166109311661093116611661231        111             3    1   14  11         5391 211663925115738501211 2 432 8701414 69544441116122222 2 2224693215    000000000000000000000000000000000000003410.38939935294273869.3496019830486 6448.2711117047512 91231\r\n"
     ]
    }
   ],
   "source": [
    "# This is an example of issuing a system command from within iPython, more on that later.\n",
    "!head -2 ../data/ThinkStatsData/2002FemPreg.dat"
   ]
  },
  {
   "cell_type": "markdown",
   "metadata": {},
   "source": [
    "##### Next, we should open the file to read from, we will talk about files in detail later on."
   ]
  },
  {
   "cell_type": "code",
   "execution_count": 130,
   "metadata": {
    "collapsed": false
   },
   "outputs": [],
   "source": [
    "# The data is read from the file and inserted into the table.\n",
    "file=open('../data/ThinkStatsData/2002FemPreg.dat','r')"
   ]
  },
  {
   "cell_type": "markdown",
   "metadata": {},
   "source": [
    "#### Read the first line into a the variable \"line\""
   ]
  },
  {
   "cell_type": "code",
   "execution_count": 131,
   "metadata": {
    "collapsed": false
   },
   "outputs": [
    {
     "data": {
      "text/plain": [
       "'           1 1     6 1     11093 1084     9 039 9   0  1 813             1093 13837                        1                5                                                                        116610931166 9201093                111             3    1   12  11         5391 110933316108432411211     2995 1212 69544441116122222 2 2224693215    000000000000000000000000000000000000003410.38939935294273869.3496019830486 6448.2711117047512 91231\\n'"
      ]
     },
     "execution_count": 131,
     "metadata": {},
     "output_type": "execute_result"
    }
   ],
   "source": [
    "line = file.readline()\n",
    "line"
   ]
  },
  {
   "cell_type": "code",
   "execution_count": 132,
   "metadata": {
    "collapsed": false
   },
   "outputs": [],
   "source": [
    "for (field, start, end, cast) in fields:\n",
    "    s = line[start-1:end]\n",
    "    val = cast(s)\n",
    "    columns[field].append(val)"
   ]
  },
  {
   "cell_type": "code",
   "execution_count": 133,
   "metadata": {
    "collapsed": false
   },
   "outputs": [
    {
     "data": {
      "text/plain": [
       "{'agepreg': [3316],\n",
       " 'babysex': [1],\n",
       " 'birthord': [1],\n",
       " 'birthwgt_oz': [13],\n",
       " 'caseid': [1],\n",
       " 'finalwgt': [6448.271111704751],\n",
       " 'nbrnaliv': [1],\n",
       " 'outcome': [1],\n",
       " 'prglength': [39]}"
      ]
     },
     "execution_count": 133,
     "metadata": {},
     "output_type": "execute_result"
    }
   ],
   "source": [
    "columns"
   ]
  },
  {
   "cell_type": "markdown",
   "metadata": {},
   "source": [
    "### Exceptions\n",
    "When we read a data file there is always a chance that some of the lines in the file are corrupted. The chance approaches certainty as the length of the file increases to gigabytes.\n",
    "\n",
    "To demonstrate what corruption might cause, lets corrupt the first line."
   ]
  },
  {
   "cell_type": "code",
   "execution_count": 134,
   "metadata": {
    "collapsed": false
   },
   "outputs": [
    {
     "name": "stdout",
     "output_type": "stream",
     "text": [
      "           1 1     6 1     11093 1084     9 039 9   0  1 813             1093 13837                        1                5                                                                        116610931166 9201093                111             3    1   12  11         5391 110933316108432411211     2995 1212 69544441116122222 2 2224693215    000000000000000000000000000000000000003410.38939935294273869.3496019830486 6448.2711117047512 91231\n",
      "\n",
      "           1 1     6 *     11093 1084     9 039 9   0  1 813             1093 13837                        1                5                                                                        116610931166 9201093                111             3    1   12  11         5391 110933316108432411211     2995 1212 69544441116122222 2 2224693215    000000000000000000000000000000000000003410.38939935294273869.3496019830486 6448.2711117047512 91231\n",
      "\n"
     ]
    }
   ],
   "source": [
    "#Strings are immutable, so we have to construct the corrupted one\n",
    "print line\n",
    "line=line[:21]+'*'+line[22:]\n",
    "print line"
   ]
  },
  {
   "cell_type": "code",
   "execution_count": 135,
   "metadata": {
    "collapsed": false
   },
   "outputs": [
    {
     "ename": "ValueError",
     "evalue": "invalid literal for int() with base 10: '*'",
     "output_type": "error",
     "traceback": [
      "\u001b[0;31m---------------------------------------------------------------------------\u001b[0m",
      "\u001b[0;31mValueError\u001b[0m                                Traceback (most recent call last)",
      "\u001b[0;32m<ipython-input-135-842fa3b2f54b>\u001b[0m in \u001b[0;36m<module>\u001b[0;34m()\u001b[0m\n\u001b[1;32m      7\u001b[0m \u001b[0;32mfor\u001b[0m \u001b[0;34m(\u001b[0m\u001b[0mfield\u001b[0m\u001b[0;34m,\u001b[0m \u001b[0mstart\u001b[0m\u001b[0;34m,\u001b[0m \u001b[0mend\u001b[0m\u001b[0;34m,\u001b[0m \u001b[0mcast\u001b[0m\u001b[0;34m)\u001b[0m \u001b[0;32min\u001b[0m \u001b[0mfields\u001b[0m\u001b[0;34m:\u001b[0m\u001b[0;34m\u001b[0m\u001b[0m\n\u001b[1;32m      8\u001b[0m     \u001b[0ms\u001b[0m \u001b[0;34m=\u001b[0m \u001b[0mline\u001b[0m\u001b[0;34m[\u001b[0m\u001b[0mstart\u001b[0m\u001b[0;34m-\u001b[0m\u001b[0;36m1\u001b[0m\u001b[0;34m:\u001b[0m\u001b[0mend\u001b[0m\u001b[0;34m]\u001b[0m\u001b[0;34m\u001b[0m\u001b[0m\n\u001b[0;32m----> 9\u001b[0;31m     \u001b[0mval\u001b[0m \u001b[0;34m=\u001b[0m \u001b[0mcast\u001b[0m\u001b[0;34m(\u001b[0m\u001b[0ms\u001b[0m\u001b[0;34m)\u001b[0m\u001b[0;34m\u001b[0m\u001b[0m\n\u001b[0m\u001b[1;32m     10\u001b[0m     \u001b[0mcolumns\u001b[0m\u001b[0;34m[\u001b[0m\u001b[0mfield\u001b[0m\u001b[0;34m]\u001b[0m\u001b[0;34m.\u001b[0m\u001b[0mappend\u001b[0m\u001b[0;34m(\u001b[0m\u001b[0mval\u001b[0m\u001b[0;34m)\u001b[0m\u001b[0;34m\u001b[0m\u001b[0m\n\u001b[1;32m     11\u001b[0m \u001b[0mcolumns\u001b[0m\u001b[0;34m\u001b[0m\u001b[0m\n",
      "\u001b[0;31mValueError\u001b[0m: invalid literal for int() with base 10: '*'"
     ]
    }
   ],
   "source": [
    "# columns is initialized as a dictionary\n",
    "columns={}\n",
    "# an empty list is created for each field\n",
    "for (field, start, end, cast) in fields:\n",
    "    columns[field]=[]\n",
    "    \n",
    "for (field, start, end, cast) in fields:\n",
    "    s = line[start-1:end]\n",
    "    val = cast(s)\n",
    "    columns[field].append(val)\n",
    "columns"
   ]
  },
  {
   "cell_type": "code",
   "execution_count": 136,
   "metadata": {
    "collapsed": false
   },
   "outputs": [
    {
     "data": {
      "text/plain": [
       "{'agepreg': [],\n",
       " 'babysex': [],\n",
       " 'birthord': [],\n",
       " 'birthwgt_oz': [],\n",
       " 'caseid': [1],\n",
       " 'finalwgt': [],\n",
       " 'nbrnaliv': [],\n",
       " 'outcome': [],\n",
       " 'prglength': []}"
      ]
     },
     "execution_count": 136,
     "metadata": {},
     "output_type": "execute_result"
    }
   ],
   "source": [
    "columns"
   ]
  },
  {
   "cell_type": "markdown",
   "metadata": {},
   "source": [
    "The program throws and exception and crashes. Only the element \"caseid\" is read. Nothing else\n",
    "\n",
    "**unless** we handle the exception inside the program.\n",
    "\n",
    "In order to handle the exception, we surround the offending lines with a **try/except** pair as follows:"
   ]
  },
  {
   "cell_type": "code",
   "execution_count": 137,
   "metadata": {
    "collapsed": false
   },
   "outputs": [
    {
     "name": "stdout",
     "output_type": "stream",
     "text": [
      "bad field: nbrnaliv value is \"*\"\n"
     ]
    },
    {
     "data": {
      "text/plain": [
       "{'agepreg': [3316],\n",
       " 'babysex': [1],\n",
       " 'birthord': [1],\n",
       " 'birthwgt_oz': [13],\n",
       " 'caseid': [1],\n",
       " 'finalwgt': [6448.271111704751],\n",
       " 'nbrnaliv': [None],\n",
       " 'outcome': [1],\n",
       " 'prglength': [39]}"
      ]
     },
     "execution_count": 137,
     "metadata": {},
     "output_type": "execute_result"
    }
   ],
   "source": [
    "# columns is initialized as a dictionary\n",
    "columns={}\n",
    "# an empty list is created for each field\n",
    "for (field, start, end, cast) in fields:\n",
    "    columns[field]=[]\n",
    "    \n",
    "for (field, start, end, cast) in fields:\n",
    "    try:\n",
    "        s = line[start-1:end]\n",
    "        val = cast(s)\n",
    "    except ValueError:\n",
    "        print 'bad field:',field,'value is \"%s\"'%s\n",
    "        val = None\n",
    "    columns[field].append(val)\n",
    "columns"
   ]
  },
  {
   "cell_type": "markdown",
   "metadata": {},
   "source": [
    "Because we use `try/except` we ignore the ill-formed dields but read all of the good ones."
   ]
  },
  {
   "cell_type": "markdown",
   "metadata": {},
   "source": [
    "### Comma-Separated values, split and join\n",
    "These days, one of the most common open format for exporting and importing data is *comma-separated-values* or *.csv*.\n",
    "\n",
    "#### Advantages and disadvantages of the csv format relative to the fixed locations format\n",
    "\n",
    "**Advantages**\n",
    "1. Easier to read, lines are typically shorter.\n",
    "2. Missing values ar represented by consecutive commas.\n",
    "3. No need to decide ahead of time on the number of digits/letters in each field.\n",
    "4. No need to encode the field locations, just types.\n",
    "\n",
    "**Disadvantages**\n",
    "1. Fixed length lines can be processed more efficiently.\n",
    "\n",
    "#### Handling CSV files.\n",
    "There are two commands in python to handle csv files: `split` and `join`\n",
    "\n",
    "* `','.join(list)` is a function that takes as input a list of strings and outputs a new string that is the concatanation of the strings in `list`, separated by commas. The comman `','` can be relaced by any other string\n",
    "* `s.split(',')` is the reverse of `join`, it is a function that takes as input a string and outputs"
   ]
  },
  {
   "cell_type": "code",
   "execution_count": 138,
   "metadata": {
    "collapsed": false
   },
   "outputs": [
    {
     "data": {
      "text/plain": [
       "'a-b-c-d'"
      ]
     },
     "execution_count": 138,
     "metadata": {},
     "output_type": "execute_result"
    }
   ],
   "source": [
    "list=['a','b','c','d']\n",
    "s='-'.join(list)\n",
    "s"
   ]
  },
  {
   "cell_type": "code",
   "execution_count": 139,
   "metadata": {
    "collapsed": false
   },
   "outputs": [
    {
     "data": {
      "text/plain": [
       "['a', 'b', 'c', 'd']"
      ]
     },
     "execution_count": 139,
     "metadata": {},
     "output_type": "execute_result"
    }
   ],
   "source": [
    "s.split('-')"
   ]
  },
  {
   "cell_type": "code",
   "execution_count": 140,
   "metadata": {
    "collapsed": false
   },
   "outputs": [],
   "source": [
    "fields=[('index',int),\n",
    "        ('decription',str),\n",
    "        ('low',float),\n",
    "        ('high',float)\n",
    "        ]\n",
    "Text= \"\"\"1,sunny,60.2,75\n",
    "2,cloudy,40,63.2\n",
    "3,overcast,50.3,55\n",
    "\"\"\""
   ]
  },
  {
   "cell_type": "code",
   "execution_count": 141,
   "metadata": {
    "collapsed": false
   },
   "outputs": [
    {
     "data": {
      "text/plain": [
       "['1,sunny,60.2,75', '2,cloudy,40,63.2', '3,overcast,50.3,55']"
      ]
     },
     "execution_count": 141,
     "metadata": {},
     "output_type": "execute_result"
    }
   ],
   "source": [
    "lines=Text.splitlines()\n",
    "lines"
   ]
  },
  {
   "cell_type": "code",
   "execution_count": 142,
   "metadata": {
    "collapsed": false
   },
   "outputs": [
    {
     "name": "stdout",
     "output_type": "stream",
     "text": [
      "['1', 'sunny', '60.2', '75']\n",
      "['2', 'cloudy', '40', '63.2']\n",
      "['3', 'overcast', '50.3', '55']\n",
      "{'high': [75.0, 63.2, 55.0], 'index': [1, 2, 3], 'low': [60.2, 40.0, 50.3], 'decription': ['sunny', 'cloudy', 'overcast']}\n"
     ]
    }
   ],
   "source": [
    "columns={}\n",
    "for field in fields:\n",
    "    columns[field[0]]=[]\n",
    "    \n",
    "for line in lines:\n",
    "    elements=line.split(',')\n",
    "    print elements\n",
    "    for i in range(len(fields)):\n",
    "        (name,cast)=fields[i]\n",
    "        columns[name].append(cast(elements[i]))\n",
    "\n",
    "print columns\n",
    "        "
   ]
  },
  {
   "cell_type": "markdown",
   "metadata": {},
   "source": [
    "### List comprehension\n",
    "\n",
    "Python provides a concise way to express iterations. This is particularly useful when using the python interpreter. Using list comprehension one can define a complicated computation in a single line."
   ]
  },
  {
   "cell_type": "code",
   "execution_count": 143,
   "metadata": {
    "collapsed": false
   },
   "outputs": [
    {
     "data": {
      "text/plain": [
       "[(0, 0),\n",
       " (1, 1),\n",
       " (2, 4),\n",
       " (3, 9),\n",
       " (4, 16),\n",
       " (5, 25),\n",
       " (6, 36),\n",
       " (7, 49),\n",
       " (8, 64),\n",
       " (9, 81)]"
      ]
     },
     "execution_count": 143,
     "metadata": {},
     "output_type": "execute_result"
    }
   ],
   "source": [
    "### a simple example of list comprehension\n",
    "[(i,i*i) for i in range(10)]"
   ]
  },
  {
   "cell_type": "code",
   "execution_count": 144,
   "metadata": {
    "collapsed": false
   },
   "outputs": [
    {
     "data": {
      "text/plain": [
       "'index,decription,low,high'"
      ]
     },
     "execution_count": 144,
     "metadata": {},
     "output_type": "execute_result"
    }
   ],
   "source": [
    "# A more involved example\n",
    "','.join([name for (name,cast) in fields])"
   ]
  },
  {
   "cell_type": "code",
   "execution_count": 145,
   "metadata": {
    "collapsed": false
   },
   "outputs": [
    {
     "data": {
      "text/plain": [
       "[0, 3, 6, 9, 12, 15, 18]"
      ]
     },
     "execution_count": 145,
     "metadata": {},
     "output_type": "execute_result"
    }
   ],
   "source": [
    "# comprehensions can also include \n",
    "[i for i in range(20) if i%3==0]"
   ]
  },
  {
   "cell_type": "markdown",
   "metadata": {},
   "source": [
    "### Dictionary Comprehension\n",
    "Similar to list comprehensions, there are dictionary comprehensions that defines, in a single line, a for loop\n",
    "that defines a whole table."
   ]
  },
  {
   "cell_type": "code",
   "execution_count": 146,
   "metadata": {
    "collapsed": false
   },
   "outputs": [
    {
     "data": {
      "text/plain": [
       "{0: 0, 1: 1, 2: 4, 3: 9, 4: 16, 5: 25, 6: 36, 7: 49, 8: 64, 9: 81}"
      ]
     },
     "execution_count": 146,
     "metadata": {},
     "output_type": "execute_result"
    }
   ],
   "source": [
    "{i:i*i for i in range(10)}"
   ]
  },
  {
   "cell_type": "code",
   "execution_count": 147,
   "metadata": {
    "collapsed": false
   },
   "outputs": [
    {
     "name": "stdout",
     "output_type": "stream",
     "text": [
      "{34: '\"', 35: '#', 36: '$', 37: '%', 38: '&', 39: \"'\", 40: '(', 41: ')', 42: '*', 43: '+', 44: ',', 45: '-', 46: '.', 47: '/', 48: '0', 49: '1', 50: '2', 51: '3', 52: '4', 53: '5', 54: '6', 55: '7', 56: '8', 57: '9', 58: ':', 59: ';', 60: '<', 61: '=', 62: '>', 63: '?', 64: '@', 65: 'A', 66: 'B', 67: 'C', 68: 'D', 69: 'E', 70: 'F', 71: 'G', 72: 'H', 73: 'I', 74: 'J', 75: 'K', 76: 'L', 77: 'M', 78: 'N', 79: 'O', 80: 'P', 81: 'Q', 82: 'R', 83: 'S', 84: 'T', 85: 'U', 86: 'V', 87: 'W', 88: 'X', 89: 'Y', 90: 'Z', 91: '[', 92: '\\\\', 93: ']', 94: '^', 95: '_', 96: '`', 97: 'a', 98: 'b', 99: 'c', 100: 'd', 101: 'e', 102: 'f', 103: 'g', 104: 'h', 105: 'i', 106: 'j', 107: 'k', 108: 'l', 109: 'm', 110: 'n', 111: 'o', 112: 'p', 113: 'q', 114: 'r', 115: 's', 116: 't', 117: 'u', 118: 'v', 119: 'w', 120: 'x', 121: 'y', 122: 'z', 123: '{', 124: '|', 125: '}', 126: '~'}\n",
      "{'$': 36, '(': 40, ',': 44, '0': 48, '4': 52, '8': 56, '<': 60, '@': 64, 'D': 68, 'H': 72, 'L': 76, 'P': 80, 'T': 84, 'X': 88, '\\\\': 92, '`': 96, 'd': 100, 'h': 104, 'l': 108, 'p': 112, 't': 116, 'x': 120, '|': 124, '#': 35, \"'\": 39, '+': 43, '/': 47, '3': 51, '7': 55, ';': 59, '?': 63, 'C': 67, 'G': 71, 'K': 75, 'O': 79, 'S': 83, 'W': 87, '[': 91, '_': 95, 'c': 99, 'g': 103, 'k': 107, 'o': 111, 's': 115, 'w': 119, '{': 123, '\"': 34, '&': 38, '*': 42, '.': 46, '2': 50, '6': 54, ':': 58, '>': 62, 'B': 66, 'F': 70, 'J': 74, 'N': 78, 'R': 82, 'V': 86, 'Z': 90, '^': 94, 'b': 98, 'f': 102, 'j': 106, 'n': 110, 'r': 114, 'v': 118, 'z': 122, '~': 126, '%': 37, ')': 41, '-': 45, '1': 49, '5': 53, '9': 57, '=': 61, 'A': 65, 'E': 69, 'I': 73, 'M': 77, 'Q': 81, 'U': 85, 'Y': 89, ']': 93, 'a': 97, 'e': 101, 'i': 105, 'm': 109, 'q': 113, 'u': 117, 'y': 121, '}': 125}\n"
     ]
    }
   ],
   "source": [
    "# plain text is coded in a system called ASCII. \n",
    "# Here we create a table for translating from ASCII numbers to characters and another going the other way\n",
    "\n",
    "ascii2char = {i:chr(i) for i in range(34,127)}\n",
    "char2ascii = {chr(i):i for i in range(34,127)}\n",
    "print ascii2char\n",
    "print char2ascii"
   ]
  },
  {
   "cell_type": "code",
   "execution_count": 148,
   "metadata": {
    "collapsed": false
   },
   "outputs": [
    {
     "name": "stdout",
     "output_type": "stream",
     "text": [
      "{65: 'A', 66: 'B', 67: 'C', 68: 'D', 69: 'E', 70: 'F', 71: 'G', 72: 'H', 73: 'I', 74: 'J', 75: 'K', 76: 'L', 77: 'M', 78: 'N', 79: 'O', 80: 'P', 81: 'Q', 82: 'R', 83: 'S', 84: 'T', 85: 'U', 86: 'V', 87: 'W', 88: 'X', 89: 'Y', 90: 'Z'}\n"
     ]
    }
   ],
   "source": [
    "# we can also use a condition in the dictionary comprehension. Here we use a condition to select only the\n",
    "# letters that are upper-case\n",
    "\n",
    "upper2ascii = {i:chr(i) for i in range(34,127) if chr(i).isupper()}\n",
    "print upper2ascii"
   ]
  },
  {
   "cell_type": "code",
   "execution_count": null,
   "metadata": {
    "collapsed": true
   },
   "outputs": [],
   "source": []
  },
  {
   "cell_type": "code",
   "execution_count": null,
   "metadata": {
    "collapsed": true
   },
   "outputs": [],
   "source": []
  }
 ],
 "metadata": {
  "kernelspec": {
   "display_name": "Python 2",
   "language": "python",
   "name": "python2"
  },
  "language_info": {
   "codemirror_mode": {
    "name": "ipython",
    "version": 2
   },
   "file_extension": ".py",
   "mimetype": "text/x-python",
   "name": "python",
   "nbconvert_exporter": "python",
   "pygments_lexer": "ipython2",
   "version": "2.7.10"
  }
 },
 "nbformat": 4,
 "nbformat_minor": 0
}
