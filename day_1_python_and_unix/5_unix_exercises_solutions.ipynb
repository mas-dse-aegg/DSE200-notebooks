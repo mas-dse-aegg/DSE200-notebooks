{
 "metadata": {
  "name": "",
  "signature": "sha256:9c0d4a0558ec97b176c2b5d98c1b7041fb8071602dacc4110b87792f467b1855"
 },
 "nbformat": 3,
 "nbformat_minor": 0,
 "worksheets": [
  {
   "cells": [
    {
     "cell_type": "markdown",
     "metadata": {},
     "source": [
      "### Excercise 1: reconstruct a file from segments."
     ]
    },
    {
     "cell_type": "markdown",
     "metadata": {},
     "source": [
      "Each of the files F* is a short segment of the original text file.\n",
      "\n",
      "The format of the file is `(n1: 5 char int),(n2: 5 char int),string`\n",
      "The string represents the content of the file in the range `[n1:n2]`\n",
      "\n",
      "Your task is to reconstruct the original file."
     ]
    },
    {
     "cell_type": "code",
     "collapsed": false,
     "input": [
      "%cd ~/DSE200/data/NLTK/Chopped/\n",
      "!ls -F"
     ],
     "language": "python",
     "metadata": {},
     "outputs": []
    },
    {
     "cell_type": "code",
     "collapsed": false,
     "input": [
      "!cat F11*"
     ],
     "language": "python",
     "metadata": {},
     "outputs": []
    },
    {
     "cell_type": "code",
     "collapsed": false,
     "input": [
      "!sort -n F* | cut -c 11- | tr -d '\\n' > newfile.txt\n",
      "!cat newfile.txt"
     ],
     "language": "python",
     "metadata": {},
     "outputs": []
    },
    {
     "cell_type": "markdown",
     "metadata": {},
     "source": [
      "### Excercise 2:"
     ]
    },
    {
     "cell_type": "code",
     "collapsed": false,
     "input": [
      "#Issue a UNIX command to create a file called Caesar that contains the following lines (include the mistakes!!)\n",
      "\n",
      "Text = \"\"\"Caesar, a great general, is petitioned by several citizens to show clemency to one of his enemies.\n",
      "He declines, pompously speaking of himself in the third person. The group of conspirators then proceeds to stab him.\n",
      "With his dying breath he gasps, \"Et tu, Brute? (\"And you, Brutus?\") Thus falls Caesar.\" \n",
      "The conspirators exult, and Shakespeare inserts a self-referential joke as Cassius says, \n",
      "\"How many ages hence shall this our lofty scene be acted over in states unborn and accents yet unknown!\"\n",
      "\"\"\"\n",
      "\n",
      "#Change the permissions of this file to 666\n",
      "#Issue a UNIX command to determine the file type\n",
      "#Isue a unix command to count the number of words in the above text that contains no vowels\n",
      "#Replace the word Caesar wherever it is found in the entire text to Leonidas\n",
      "#Make a copy of the above file without the first and last lines of the text and rename this file to Leonidas"
     ],
     "language": "python",
     "metadata": {},
     "outputs": []
    },
    {
     "cell_type": "code",
     "collapsed": false,
     "input": [
      "!echo \"\"\"Caesar, a great general, is petitioned by several citizens to show clemency to one of his enemies.\\nHe declines, pompously speaking of himself in the third person. The group of conspirators then proceeds to stab him.\\nWith his dying breath he gasps, \\\"Et tu, Brute? (\\\"And you, Brutus?\\\") Thus falls Caesar.\\\"\\nThe conspirators exult, and Shakespeare inserts a self-referential joke as Cassius says,\\n\\\"How many ages hence shall this our lofty scene be acted over in states unborn and accents yet unknown!\"\"\" >> Caesar.txt\n",
      "!chmod 666 Caesar.txt\n",
      "!file Caesar.txt\n",
      "!grep -io '\\b[^aeiou,.!?\"]*\\s' Caesar.txt | wc -w\n",
      "\n",
      "f = open(\"Caesar.txt\",\"r\")\n",
      "filedata = f.read()\n",
      "f.close()\n",
      "\n",
      "newdata = filedata.replace('Caesar','Leonidas')\n",
      "\n",
      "f = open(\"Caesar.txt\",\"w\")\n",
      "f.write(newdata)\n",
      "f.close()\n",
      "\n",
      "f = open(\"Caesar.txt\",\"r\")\n",
      "lines = f.readlines()\n",
      "f.close()\n",
      "\n",
      "newfile = open(\"Leonidas.txt\",\"w\")\n",
      "\n",
      "for i in range(1,len(lines)-2):\n",
      "    newfile.write(lines[i])\n",
      "    \n",
      "newfile.close()\n",
      "\n",
      "    "
     ],
     "language": "python",
     "metadata": {},
     "outputs": []
    },
    {
     "cell_type": "markdown",
     "metadata": {},
     "source": [
      "### Excercise 3:"
     ]
    },
    {
     "cell_type": "code",
     "collapsed": false,
     "input": [
      "#What is the command to count lines,words and characters in a file and how do you make this comand display only linecount?\n",
      "#Also write a single command that lists the files in the current directory that begin with upper case letters"
     ],
     "language": "python",
     "metadata": {},
     "outputs": []
    },
    {
     "cell_type": "markdown",
     "metadata": {},
     "source": [
      "the command to display lines,words and characters in a file is wc and we can display only linecount using wc -l"
     ]
    },
    {
     "cell_type": "code",
     "collapsed": false,
     "input": [
      "!ls -d [A-Z]*"
     ],
     "language": "python",
     "metadata": {},
     "outputs": []
    },
    {
     "cell_type": "markdown",
     "metadata": {},
     "source": [
      "### Excercise 4:"
     ]
    },
    {
     "cell_type": "code",
     "collapsed": false,
     "input": [
      "#Combine the files Caesar and Leonidas and save the combined file as kings\n",
      "#Display the contents of this file using more command\n",
      "#Sort this file in reverse alphabetic order and display it by piping it into more"
     ],
     "language": "python",
     "metadata": {},
     "outputs": []
    },
    {
     "cell_type": "code",
     "collapsed": false,
     "input": [
      "!ls\n",
      "!cat Caesar.txt Leonidas.txt > kings.txt\n",
      "!sort -r kings.txt | more"
     ],
     "language": "python",
     "metadata": {},
     "outputs": []
    },
    {
     "cell_type": "markdown",
     "metadata": {},
     "source": [
      "### Excercise 5:"
     ]
    },
    {
     "cell_type": "code",
     "collapsed": false,
     "input": [
      "#List all files in your current directory. Make a subDirectory and copy all these files in the subdirectory.\n",
      "#Write Unix commands to rename all the files to the format - currentDate_originalname"
     ],
     "language": "python",
     "metadata": {},
     "outputs": []
    },
    {
     "cell_type": "code",
     "collapsed": false,
     "input": [
      "!ls\n",
      "!mkdir subdir | cp * subdir\n",
      "!cd subdir\n",
      "!rm -r subdir | ls\n",
      "!now=\"$(date +'%d_%m_%Y'_)\"\n",
      "!for f in *; do mv \"$f\" \"$now$f\"; done\n"
     ],
     "language": "python",
     "metadata": {},
     "outputs": []
    },
    {
     "cell_type": "markdown",
     "metadata": {},
     "source": [
      "### Excercise 6:"
     ]
    },
    {
     "cell_type": "code",
     "collapsed": false,
     "input": [
      "#Suppose we have a script that performs numerous efficiency tests. \n",
      "#The output from the script contains lots of information, but our purpose now is to extract information\n",
      "#about the CPU time of each test and sort these CPU times. The output from the tests takes the following form:\n",
      "output = \"\"\"\n",
      "f95 -c -O0  versions/main_wIO.f F77WAVE.f\n",
      "f95 -o app  -static main_wIO.o F77WAVE.o   -lf2c\n",
      "app < input > tmp.out\n",
      "CPU-time: 255.97   f95 -O0 formatted I/O\n",
      "f95 -c -O1  versions/main_wIO.f F77WAVE.f\n",
      "f95 -o app  -static main_wIO.o F77WAVE.o   -lf2c\n",
      "app < input > tmp.out\n",
      "CPU-time: 252.47   f95 -O1 formatted I/O\n",
      "f95 -c -O2  versions/main_wIO.f F77WAVE.f\n",
      "f95 -o app  -static main_wIO.o F77WAVE.o   -lf2c\n",
      "app < input > tmp.out\n",
      "CPU-time: 252.40   f95 -O2 formatted I/O\n",
      "f95 -c -O3  versions/main_wIO.f F77WAVE.f\n",
      "f95 -o app  -static main_wIO.o F77WAVE.o   -lf2c\n",
      "app < input > tmp.out\n",
      "CPU-time: 255.28   f95 -O0 formatted I/O\n",
      "f95 -c -O4  versions/main_wIO.f F77WAVE.f\n",
      "f95 -o app  -static main_wIO.o F77WAVE.o   -lf2c\n",
      "app < input > tmp.out\n",
      "CPU-time: 251.43  f95 -O0 formatted I/O\n",
      "f95 -c -O5  versions/main_wIO.f F77WAVE.f\n",
      "f95 -o app  -static main_wIO.o F77WAVE.o   -lf2c\n",
      "app < input > tmp.out\n",
      "CPU-time: 255.90   f95 -O0 formatted I/O\n",
      "f95 -c -O6  versions/main_wIO.f F77WAVE.f\n",
      "f95 -o app  -static main_wIO.o F77WAVE.o   -lf2c\n",
      "app < input > tmp.out\n",
      "CPU-time: 252.15   f95 -O0 formatted I/O\n",
      "\"\"\"\n",
      "\n",
      "#First we need to extract the lines starting with CPU-time. \n",
      "#Then we need to sort the extracted lines with respect to the CPU time, which is the number appearing in the second column. \n",
      "#Write a script to accomplish this task. \n",
      "\n",
      "#Hint: Find the lines with CPU time results by using a string comparison of the first 7 characters \n",
      "#to detect the keyword CPU-time. Then write a tailored sort function for sorting two lines \n",
      "#(extract the CPU time from the second column in both lines and compare the CPU times as floating-point numbers). \n",
      "#A tailored sort function takes two arguments a and b, which hold two list elements. \n",
      "#The sort function returns -1 if a is less than b, 1 if a is greater than b, and 0 otherwise (a equals b)."
     ],
     "language": "python",
     "metadata": {},
     "outputs": []
    },
    {
     "cell_type": "code",
     "collapsed": false,
     "input": [
      "output = \"\"\"\n",
      "f95 -c -O0  versions/main_wIO.f F77WAVE.f\n",
      "f95 -o app  -static main_wIO.o F77WAVE.o   -lf2c\n",
      "app < input > tmp.out\n",
      "CPU-time: 255.97   f95 -O0 formatted I/O\n",
      "f95 -c -O1  versions/main_wIO.f F77WAVE.f\n",
      "f95 -o app  -static main_wIO.o F77WAVE.o   -lf2c\n",
      "app < input > tmp.out\n",
      "CPU-time: 252.47   f95 -O1 formatted I/O\n",
      "f95 -c -O2  versions/main_wIO.f F77WAVE.f\n",
      "f95 -o app  -static main_wIO.o F77WAVE.o   -lf2c\n",
      "app < input > tmp.out\n",
      "CPU-time: 252.40   f95 -O2 formatted I/O\n",
      "f95 -c -O3  versions/main_wIO.f F77WAVE.f\n",
      "f95 -o app  -static main_wIO.o F77WAVE.o   -lf2c\n",
      "app < input > tmp.out\n",
      "CPU-time: 255.28   f95 -O0 formatted I/O\n",
      "f95 -c -O4  versions/main_wIO.f F77WAVE.f\n",
      "f95 -o app  -static main_wIO.o F77WAVE.o   -lf2c\n",
      "app < input > tmp.out\n",
      "CPU-time: 251.43   f95 -O0 formatted I/O\n",
      "f95 -c -O5  versions/main_wIO.f F77WAVE.f\n",
      "f95 -o app  -static main_wIO.o F77WAVE.o   -lf2c\n",
      "app < input > tmp.out\n",
      "CPU-time: 255.90   f95 -O0 formatted I/O\n",
      "f95 -c -O6  versions/main_wIO.f F77WAVE.f\n",
      "f95 -o app  -static main_wIO.o F77WAVE.o   -lf2c\n",
      "app < input > tmp.out\n",
      "CPU-time: 252.15   f95 -O0 formatted I/O\n",
      "\"\"\""
     ],
     "language": "python",
     "metadata": {},
     "outputs": []
    },
    {
     "cell_type": "code",
     "collapsed": false,
     "input": [
      "###Python implementation\n",
      "a = [i for i in range(len(output)) if output.startswith('CPU-time', i)]\n",
      "p = []\n",
      "for k in a:\n",
      "    p.append(output[k:k+40])\n",
      "p.sort(key=lambda x:float(float(x.split()[1])))\n",
      "p"
     ],
     "language": "python",
     "metadata": {},
     "outputs": []
    },
    {
     "cell_type": "code",
     "collapsed": false,
     "input": [
      "###Unix Implementation\n",
      "!echo \"$output\" | grep \"^CPU-time:\" | sort -n -k2,2"
     ],
     "language": "python",
     "metadata": {},
     "outputs": []
    },
    {
     "cell_type": "markdown",
     "metadata": {},
     "source": [
      "### Excercise 7:"
     ]
    },
    {
     "cell_type": "code",
     "collapsed": false,
     "input": [
      "#Make a copy of your working directory along with its subdirectories and \n",
      "#write unix+python commands that traverses the copied working directory and its subdirectories (recursively) and returns a \n",
      "#list of all files that are larger than X Mb and that have not been accessed the last Y days, \n",
      "#where X and Y are passed as user inputs.\n",
      "#Include an option in this function that moves the files to a subdirectory trash under /tmp \n",
      "#(you need to create trash if it does not exist)."
     ],
     "language": "python",
     "metadata": {},
     "outputs": []
    },
    {
     "cell_type": "code",
     "collapsed": false,
     "input": [
      "X = raw_input(\"Please enter X: \")\n",
      "Y = raw_input(\"Please enter Y: \")\n",
      "!mkdir subdir2\n",
      "!cp * subdir2 \n",
      "!cd subdir2\n",
      "!find -size $X\"M\" -mtime -$Y -print\n",
      "#!find -size $X\"M\" -mtime -$Y -exec mv '{}' /tmp/trash/ \\;"
     ],
     "language": "python",
     "metadata": {},
     "outputs": []
    }
   ],
   "metadata": {}
  }
 ]
}